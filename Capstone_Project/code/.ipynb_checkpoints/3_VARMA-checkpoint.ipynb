{
 "cells": [
  {
   "cell_type": "markdown",
   "metadata": {},
   "source": [
    "## Building Time Series Models to predict the price of gold\n",
    "---\n",
    "Project notebook organisation:<br>\n",
    "**1_ARIMA_Models** (current notebook)<br>\n",
    "<a href='./2_EDA_and_Preprocessing.ipynb'>2_FaceBook_Prophet</a><br>\n",
    "<a href='./3_Models.ipynb'>3_VAR</a><br>"
   ]
  },
  {
   "cell_type": "markdown",
   "metadata": {},
   "source": [
    "---\n",
    "### This notebook's layout\n",
    "<a href='#dict'>Data dictionary</a><br>\n",
    "<a href='#import'>Data Import and Cleaning</a><br>\n",
    "<a href='#trends'>Exploring Trends</a><br>\n",
    "<a href='#adf'>Augmented Dickey–Fuller test</a><br>\n",
    "<a href='#base'>Baseline prediction with SARIMA</a><br>\n",
    "<a href='#gct'>Granger Causality Test</a><br>\n",
    "<a href='#sx1'>SARIMAX models (with single exogenous variable)</a><br>\n",
    "<a href='#sx2'>SARIMAX (with 2 exogenous variables)</a><br>\n",
    "<a href='#sx3a'>SARIMAX (with 3 exogenous variables, fitted with train data)</a><br>\n",
    "<a href='#sx3b'>SARIMAX (with 3 exogenous variables, fitted with full data)</a><br>\n",
    "<a href='#summary'>Summary of Findings</a><br>\n",
    "<a href='#export'>Export data</a><br>"
   ]
  },
  {
   "cell_type": "markdown",
   "metadata": {},
   "source": [
    "### Problem statement\n",
    "\n",
    "With the prevelant of computing, the prediction of any investment assest is a classical problem\n",
    "The factors that affect the price of any investment assest can be broadly fundatmental or technical depending on the analysis angle or approach. But other factors such as market sentiments, even macro-economics and news could also come into play, making predictions ever as challenging\n",
    "\n",
    "The basic univariate ARIMA models, in its essence is the prediction of the y target on its x-axis fixed time intervals; based on past x and y values. But its counter part, SARMAIX, enhances the model analysis in two ways: First, by adding seasonal component ; Second, the ability to add external influencing factors know as exgenous variables.\n",
    "Potentially, making the SARIMAX a better choice as a primarily prediction tool.\n",
    "\n",
    "“The best model of a cat is a cat”\n",
    "-Norbert Wiener\n",
    "\n",
    "In addition , statistician Nate Silver said: “A good model can be useful even when it fails. ‘It should be a given that whatever forecast we make on average will be wrong…So usually it’s about understanding how it’s wrong, and what to do when it’s wrong and minimizing the cost to us when it’s wrong.’ The key is remembering that a model is a tool to help us understand the complexities of the universe, and never a substitute for the universe itself.”\n",
    "\n",
    "<br> "
   ]
  },
  {
   "cell_type": "code",
   "execution_count": 240,
   "metadata": {},
   "outputs": [],
   "source": [
    "import pandas as pd\n",
    "from pandas.plotting import lag_plot\n",
    "\n",
    "import numpy as np\n",
    "import matplotlib.pyplot as plt\n",
    "import seaborn as sns\n",
    "%matplotlib inline\n",
    "import datetime as dt\n",
    "# Load specific forecasting tools\n",
    "from statsmodels.tsa.arima_model import ARMA,ARMAResults,ARIMA,ARIMAResults\n",
    "from statsmodels.tsa.statespace.sarimax import SARIMAX\n",
    "from statsmodels.tsa.statespace.varmax import VARMAX, VARMAXResults\n",
    "from statsmodels.graphics.tsaplots import plot_acf,plot_pacf # for determining (p,q) orders\n",
    "from pmdarima import auto_arima # for determining ARIMA orders\n",
    "\n",
    "from statsmodels.graphics.tsaplots import month_plot,quarter_plot\n",
    "from statsmodels.tsa.seasonal import seasonal_decompose\n",
    "from statsmodels.tsa.statespace.tools import diff\n",
    "from statsmodels.tools.eval_measures import rmse\n",
    "from statsmodels.tsa.stattools import adfuller, grangercausalitytests\n",
    "\n",
    "# Ignore harmless warnings\n",
    "import warnings\n",
    "warnings.filterwarnings(\"ignore\")"
   ]
  },
  {
   "cell_type": "code",
   "execution_count": 241,
   "metadata": {},
   "outputs": [
    {
     "data": {
      "text/html": [
       "<style>\n",
       "table {float:left}\n",
       "</style>\n"
      ],
      "text/plain": [
       "<IPython.core.display.HTML object>"
      ]
     },
     "metadata": {},
     "output_type": "display_data"
    }
   ],
   "source": [
    "%%html\n",
    "<style>\n",
    "table {float:left}\n",
    "</style>"
   ]
  },
  {
   "cell_type": "markdown",
   "metadata": {},
   "source": [
    "<a id='dict'></a>\n",
    "### Data dictionary\n",
    "\n",
    "| Feature           | Description                          | Duration | From | To   | Counts | Source                                        |\n",
    "| :----------------- | :------------------------------------ | :-------- | :---- | :---- | :------ | :-------------------------------------------- |\n",
    "| gold_price        | gold  spot price                     | Month    | 1970 | 2020 | 606    | https://www.gold.org/goldhub/data/gold-prices |\n",
    "| gld               | gold  ETF                            | Day      | 2005 | 2020 | 3880   | yahoo                                         |\n",
    "| gold_cfd          | gold  cfd                            | Hour     | 2006 | 2020 | 85k    | https://www.quantconnect.com/data/tree        |\n",
    "| usd_index         | usd relative to basket of currencies | Day      | 2010 | 2020 | 600    | ticker:DX-Y.NYB.  Download from yahoo         |\n",
    "| fed_interest_rate | interest  rate                       | Month    | 1954 | 2020 | 798    | https://fred.stlouisfed.org/series/FEDFUNDS   |\n",
    "| us_cpi_inflation  | US  inflation rate                   | Month    | 1947 | 2020 | 888    | https://fred.stlouisfed.org/series/CPIAUCSL   |"
   ]
  },
  {
   "cell_type": "markdown",
   "metadata": {},
   "source": [
    "<a id='import'></a>\n",
    "### Data Import and Cleaning"
   ]
  },
  {
   "cell_type": "code",
   "execution_count": 295,
   "metadata": {},
   "outputs": [],
   "source": [
    "gld = pd.read_csv('../data/gld.csv',parse_dates=['Date'])"
   ]
  },
  {
   "cell_type": "code",
   "execution_count": 296,
   "metadata": {},
   "outputs": [],
   "source": [
    "gld.set_index('Date', inplace=True)"
   ]
  },
  {
   "cell_type": "code",
   "execution_count": 297,
   "metadata": {},
   "outputs": [],
   "source": [
    "gld = gld[['Close','Volume']]\n",
    "gld = gld.loc['2016-01-04':]"
   ]
  },
  {
   "cell_type": "code",
   "execution_count": 298,
   "metadata": {},
   "outputs": [
    {
     "data": {
      "text/plain": [
       "(1110, 2)"
      ]
     },
     "execution_count": 298,
     "metadata": {},
     "output_type": "execute_result"
    }
   ],
   "source": [
    "gld.shape"
   ]
  },
  {
   "cell_type": "code",
   "execution_count": 299,
   "metadata": {},
   "outputs": [
    {
     "data": {
      "text/plain": [
       "Close     0\n",
       "Volume    0\n",
       "dtype: int64"
      ]
     },
     "execution_count": 299,
     "metadata": {},
     "output_type": "execute_result"
    }
   ],
   "source": [
    "gld.isna().sum()"
   ]
  },
  {
   "cell_type": "code",
   "execution_count": 247,
   "metadata": {},
   "outputs": [
    {
     "data": {
      "text/plain": [
       "18.5"
      ]
     },
     "execution_count": 247,
     "metadata": {},
     "output_type": "execute_result"
    }
   ],
   "source": [
    "avg_days_in_a_mth_over_5yrs = gld.index.month.value_counts().mean()\n",
    "no_of_yrs_in_data = len(gld.index.year.unique())\n",
    "avg_days_in_a_mth = avg_days_in_a_mth_over_5yrs / no_of_yrs_in_data\n",
    "avg_days_in_a_mth"
   ]
  },
  {
   "cell_type": "code",
   "execution_count": null,
   "metadata": {},
   "outputs": [],
   "source": []
  },
  {
   "cell_type": "code",
   "execution_count": 248,
   "metadata": {},
   "outputs": [
    {
     "data": {
      "text/plain": [
       "<matplotlib.axes._subplots.AxesSubplot at 0x2a7f7e53d48>"
      ]
     },
     "execution_count": 248,
     "metadata": {},
     "output_type": "execute_result"
    },
    {
     "data": {
      "image/png": "[encoded data removed]",
      "text/plain": [
       "<Figure size 432x288 with 1 Axes>"
      ]
     },
     "metadata": {
      "needs_background": "light"
     },
     "output_type": "display_data"
    }
   ],
   "source": [
    "gld.Volume.plot()"
   ]
  },
  {
   "cell_type": "code",
   "execution_count": 249,
   "metadata": {},
   "outputs": [
    {
     "data": {
      "text/plain": [
       "<matplotlib.axes._subplots.AxesSubplot at 0x2a7f2ea6d88>"
      ]
     },
     "execution_count": 249,
     "metadata": {},
     "output_type": "execute_result"
    },
    {
     "data": {
      "image/png": "[encoded data removed]",
      "text/plain": [
       "<Figure size 432x288 with 1 Axes>"
      ]
     },
     "metadata": {
      "needs_background": "light"
     },
     "output_type": "display_data"
    }
   ],
   "source": [
    "gld.Close.plot()"
   ]
  },
  {
   "cell_type": "code",
   "execution_count": 250,
   "metadata": {},
   "outputs": [
    {
     "data": {
      "text/plain": [
       "<matplotlib.axes._subplots.AxesSubplot at 0x2a7f7ec37c8>"
      ]
     },
     "execution_count": 250,
     "metadata": {},
     "output_type": "execute_result"
    },
    {
     "data": {
      "image/png": "[encoded data removed]",
      "text/plain": [
       "<Figure size 432x288 with 1 Axes>"
      ]
     },
     "metadata": {
      "needs_background": "light"
     },
     "output_type": "display_data"
    }
   ],
   "source": [
    "lag_plot(gld.Close)"
   ]
  },
  {
   "cell_type": "code",
   "execution_count": 251,
   "metadata": {},
   "outputs": [
    {
     "name": "stdout",
     "output_type": "stream",
     "text": [
      "<class 'pandas.core.frame.DataFrame'>\n",
      "DatetimeIndex: 1110 entries, 2016-01-04 to 2020-06-01\n",
      "Data columns (total 2 columns):\n",
      " #   Column  Non-Null Count  Dtype  \n",
      "---  ------  --------------  -----  \n",
      " 0   Close   1110 non-null   float64\n",
      " 1   Volume  1110 non-null   int64  \n",
      "dtypes: float64(1), int64(1)\n",
      "memory usage: 26.0 KB\n"
     ]
    }
   ],
   "source": [
    "gld.info()"
   ]
  },
  {
   "cell_type": "code",
   "execution_count": 252,
   "metadata": {},
   "outputs": [],
   "source": [
    "def get_best_gct(gct_output_var, exog_var_name):\n",
    "    \"\"\"Returns no. of lags where the p value is lowest\"\"\"\n",
    "    list1=[]\n",
    "    for nlag in range(1,4,1): # maxlag=3 is standard\n",
    "        temp_p_value = gct_output_var[nlag][0]['ssr_ftest'][1]\n",
    "        list1.append(temp_p_value)\n",
    "    min1 = min(list1) # gets the min value inside list\n",
    "    min_posn = list1.index(min(list1)) + 1 # Need to plus 1 due to list item length\n",
    "    print(F'{exog_var_name} minimum P value is {min1} with no.of lag at {min_posn}')"
   ]
  },
  {
   "cell_type": "code",
   "execution_count": 253,
   "metadata": {},
   "outputs": [],
   "source": [
    "gct_result = grangercausalitytests(gld[['Close','Volume']],maxlag=3,verbose=False);"
   ]
  },
  {
   "cell_type": "code",
   "execution_count": 254,
   "metadata": {},
   "outputs": [
    {
     "name": "stdout",
     "output_type": "stream",
     "text": [
      "USD minimum P value is 0.2606237060430082 with no.of lag at 1\n"
     ]
    }
   ],
   "source": [
    "get_best_gct(gct_result,'USD')"
   ]
  },
  {
   "cell_type": "code",
   "execution_count": 268,
   "metadata": {},
   "outputs": [],
   "source": [
    "def adf_test(series):\n",
    "    \"\"\"Pass in a time series and an optional title, returns an ADF report\"\"\"\n",
    "    result = adfuller(series.dropna(),autolag='AIC') # .dropna() handles differenced data\n",
    "    labels = ['ADF test statistic','p-value','# lags used','# observations']\n",
    "    out = pd.Series(result[0:4],index=labels)\n",
    "    for key,val in result[4].items():\n",
    "        out[f'critical value ({key})']=val\n",
    "    print(out.to_string())          # .to_string() removes the line \"dtype: float64\"\n",
    "    if result[1] <= 0.05:\n",
    "        print(\"Strong evidence against the null hypothesis\")\n",
    "        print(\"Reject the null hypothesis. Data has no unit root and is stationary\")\n",
    "    else:\n",
    "        print(\"Weak evidence against the null hypothesis\")\n",
    "        print(\"Fail to reject the null hypothesis. Data has a unit root and is non-stationary\")"
   ]
  },
  {
   "cell_type": "code",
   "execution_count": 269,
   "metadata": {},
   "outputs": [
    {
     "name": "stdout",
     "output_type": "stream",
     "text": [
      "ADF test statistic        -0.002259\n",
      "p-value                    0.958345\n",
      "# lags used               17.000000\n",
      "# observations          1092.000000\n",
      "critical value (1%)       -3.436353\n",
      "critical value (5%)       -2.864190\n",
      "critical value (10%)      -2.568181\n",
      "Weak evidence against the null hypothesis\n",
      "Fail to reject the null hypothesis. Data has a unit root and is non-stationary\n"
     ]
    }
   ],
   "source": [
    "adf_test(gld['Close'])"
   ]
  },
  {
   "cell_type": "code",
   "execution_count": 270,
   "metadata": {},
   "outputs": [
    {
     "name": "stdout",
     "output_type": "stream",
     "text": [
      "ADF test statistic     -5.964904e+00\n",
      "p-value                 1.998444e-07\n",
      "# lags used             7.000000e+00\n",
      "# observations          1.102000e+03\n",
      "critical value (1%)    -3.436298e+00\n",
      "critical value (5%)    -2.864166e+00\n",
      "critical value (10%)   -2.568168e+00\n",
      "Strong evidence against the null hypothesis\n",
      "Reject the null hypothesis. Data has no unit root and is stationary\n"
     ]
    }
   ],
   "source": [
    "adf_test(gld['Volume'])"
   ]
  },
  {
   "cell_type": "code",
   "execution_count": null,
   "metadata": {},
   "outputs": [],
   "source": []
  }
 ],
 "metadata": {
  "kernelspec": {
   "display_name": "Python 3",
   "language": "python",
   "name": "python3"
  },
  "language_info": {
   "codemirror_mode": {
    "name": "ipython",
    "version": 3
   },
   "file_extension": ".py",
   "mimetype": "text/x-python",
   "name": "python",
   "nbconvert_exporter": "python",
   "pygments_lexer": "ipython3",
   "version": "3.7.6"
  }
 },
 "nbformat": 4,
 "nbformat_minor": 4
}
