{
 "cells": [
  {
   "cell_type": "code",
   "execution_count": 1098,
   "metadata": {},
   "outputs": [],
   "source": [
    "import pandas as pd\n",
    "import numpy as np\n",
    "import matplotlib.pyplot as plt\n",
    "import seaborn as sns\n",
    "sns.set()\n",
    "plt.style.use('ggplot')\n",
    "%matplotlib inline\n",
    "import pandas_datareader.data as web\n",
    "import yfinance\n",
    "\n",
    "import datetime as dt\n",
    "# Load specific forecasting tools\n",
    "from statsmodels.tsa.arima_model import ARMA,ARMAResults,ARIMA,ARIMAResults\n",
    "from statsmodels.tsa.api import VAR\n",
    "from statsmodels.tsa.ar_model import AR,ARResults\n",
    "from statsmodels.tsa.statespace.sarimax import SARIMAX\n",
    "from statsmodels.tsa.statespace.varmax import VARMAX, VARMAXResults\n",
    "from statsmodels.graphics.tsaplots import plot_acf,plot_pacf # for determining (p,q) orders\n",
    "from pmdarima import auto_arima # for determining ARIMA orders\n",
    "\n",
    "from statsmodels.graphics.tsaplots import month_plot,quarter_plot\n",
    "from statsmodels.tsa.seasonal import seasonal_decompose\n",
    "from statsmodels.tsa.statespace.tools import diff\n",
    "from statsmodels.tools.eval_measures import rmse\n",
    "from statsmodels.tsa.stattools import adfuller, grangercausalitytests\n",
    "\n",
    "# Ignore harmless warnings\n",
    "import warnings\n",
    "warnings.filterwarnings(\"ignore\")"
   ]
  },
  {
   "cell_type": "code",
   "execution_count": 1099,
   "metadata": {},
   "outputs": [
    {
     "data": {
      "text/plain": [
       "'\\ndax = web.DataReader(\"^GDAXI\", \\n                       start=\\'2017-6-1\\', \\n                       end=\\'2020-6-1\\', \\n                       data_source=\\'yahoo\\')\\n\\nsp500 = web.DataReader(\"^GSPC\", \\n                       start=\\'2017-6-1\\', \\n                       end=\\'2020-6-1\\', \\n                       data_source=\\'yahoo\\')\\n\\nnikkei = web.DataReader(\"^N225\", \\n                       start=\\'2017-6-1\\', \\n                       end=\\'2020-6-1\\', \\n                       data_source=\\'yahoo\\')\\n\\nhsi = web.DataReader(\"^HSI\", \\n                       start=\\'2017-6-1\\', \\n                       end=\\'2020-6-1\\', \\n                       data_source=\\'yahoo\\')\\n\\nftse = yfinance.download (tickers = \"^FTSE\",\\nstart = \"2017-6-1\", #The starting date of our data set\\nend = \"2020-6-1\", #The ending date of our data set (at the time of \\ninterval = \"1d\", #The distance in time between two recorded observations. \\ntreads = True)\\n#\\ndax.to_csv(\\'data/dax.csv\\')\\nsp500.to_csv(\\'data/sp500.csv\\')\\nnikkei.to_csv(\\'data/nikkei.csv\\')\\nhsi.to_csv(\\'data/hsi.csv\\')\\nftse.to_csv(\\'data/ftse.csv\\')\\n'"
      ]
     },
     "execution_count": 1099,
     "metadata": {},
     "output_type": "execute_result"
    }
   ],
   "source": [
    "\"\"\"\n",
    "dax = web.DataReader(\"^GDAXI\", \n",
    "                       start='2017-6-1', \n",
    "                       end='2020-6-1', \n",
    "                       data_source='yahoo')\n",
    "\n",
    "sp500 = web.DataReader(\"^GSPC\", \n",
    "                       start='2017-6-1', \n",
    "                       end='2020-6-1', \n",
    "                       data_source='yahoo')\n",
    "\n",
    "nikkei = web.DataReader(\"^N225\", \n",
    "                       start='2017-6-1', \n",
    "                       end='2020-6-1', \n",
    "                       data_source='yahoo')\n",
    "\n",
    "hsi = web.DataReader(\"^HSI\", \n",
    "                       start='2017-6-1', \n",
    "                       end='2020-6-1', \n",
    "                       data_source='yahoo')\n",
    "\n",
    "ftse = yfinance.download (tickers = \"^FTSE\",\n",
    "start = \"2017-6-1\", #The starting date of our data set\n",
    "end = \"2020-6-1\", #The ending date of our data set (at the time of \n",
    "interval = \"1d\", #The distance in time between two recorded observations. \n",
    "treads = True)\n",
    "#\n",
    "dax.to_csv('data/dax.csv')\n",
    "sp500.to_csv('data/sp500.csv')\n",
    "nikkei.to_csv('data/nikkei.csv')\n",
    "hsi.to_csv('data/hsi.csv')\n",
    "ftse.to_csv('data/ftse.csv')\n",
    "\"\"\""
   ]
  },
  {
   "cell_type": "code",
   "execution_count": 1100,
   "metadata": {},
   "outputs": [],
   "source": [
    "dax = pd.read_csv('data/dax.csv',index_col='Date',parse_dates=True)\n",
    "sp500 = pd.read_csv('data/sp500.csv',index_col='Date',parse_dates=True)\n",
    "nikkei = pd.read_csv('data/nikkei.csv',index_col='Date',parse_dates=True)\n",
    "hsi = pd.read_csv('data/hsi.csv',index_col='Date',parse_dates=True)\n",
    "ftse = pd.read_csv('data/ftse.csv',index_col='Date',parse_dates=True)"
   ]
  },
  {
   "cell_type": "code",
   "execution_count": 1101,
   "metadata": {},
   "outputs": [
    {
     "name": "stdout",
     "output_type": "stream",
     "text": [
      "(756, 6)\n",
      "(754, 6)\n",
      "(732, 6)\n",
      "(741, 6)\n",
      "(759, 6)\n"
     ]
    }
   ],
   "source": [
    "print(sp500.shape)\n",
    "print(dax.shape)\n",
    "print(nikkei.shape)\n",
    "print(hsi.shape)\n",
    "print(ftse.shape)"
   ]
  },
  {
   "cell_type": "code",
   "execution_count": 1102,
   "metadata": {},
   "outputs": [
    {
     "name": "stdout",
     "output_type": "stream",
     "text": [
      "2020-06-01 00:00:00\n",
      "2017-05-31 00:00:00\n",
      "\n",
      "2020-05-29 00:00:00\n",
      "2017-05-31 00:00:00\n",
      "\n",
      "2020-06-01 00:00:00\n",
      "2017-06-01 00:00:00\n",
      "\n",
      "2020-05-29 00:00:00\n",
      "2017-05-31 00:00:00\n",
      "\n",
      "2020-06-01 00:00:00\n",
      "2017-06-01 00:00:00\n"
     ]
    }
   ],
   "source": [
    "print(sp500.index.max()) # to delete row\n",
    "print(sp500.index.min())\n",
    "print()\n",
    "print(dax.index.max())\n",
    "print(dax.index.min())\n",
    "print()\n",
    "print(hsi.index.max()) # to delete row\n",
    "print(hsi.index.min()) # to delete row\n",
    "print()\n",
    "print(ftse.index.max())\n",
    "print(ftse.index.min())\n",
    "print()\n",
    "print(nikkei.index.max()) # to delete row\n",
    "print(nikkei.index.min()) # to delete row"
   ]
  },
  {
   "cell_type": "code",
   "execution_count": 1103,
   "metadata": {},
   "outputs": [],
   "source": [
    "sp500.drop(pd.Timestamp('2020-06-01'),inplace=True)\n",
    "hsi.drop(pd.Timestamp('2020-06-01'),inplace=True)\n",
    "hsi.drop(pd.Timestamp('2017-06-01'),inplace=True)\n",
    "nikkei.drop(pd.Timestamp('2020-06-01'),inplace=True)\n",
    "nikkei.drop(pd.Timestamp('2017-06-01'),inplace=True)"
   ]
  },
  {
   "cell_type": "code",
   "execution_count": 1104,
   "metadata": {},
   "outputs": [
    {
     "name": "stdout",
     "output_type": "stream",
     "text": [
      "(755, 6)\n",
      "(754, 6)\n",
      "(730, 6)\n",
      "(739, 6)\n",
      "(759, 6)\n"
     ]
    }
   ],
   "source": [
    "print(sp500.shape)\n",
    "print(dax.shape)\n",
    "print(nikkei.shape)\n",
    "print(hsi.shape)\n",
    "print(ftse.shape)"
   ]
  },
  {
   "cell_type": "code",
   "execution_count": 1105,
   "metadata": {},
   "outputs": [],
   "source": [
    "dax = dax.asfreq('b')\n",
    "sp500 = sp500.asfreq('b')\n",
    "nikkei = nikkei.asfreq('b')\n",
    "hsi = hsi.asfreq('b')\n",
    "ftse = ftse.asfreq('b')"
   ]
  },
  {
   "cell_type": "code",
   "execution_count": 1106,
   "metadata": {},
   "outputs": [
    {
     "name": "stdout",
     "output_type": "stream",
     "text": [
      "(783, 6)\n",
      "(783, 6)\n",
      "(781, 6)\n",
      "(781, 6)\n",
      "(783, 6)\n"
     ]
    }
   ],
   "source": [
    "print(sp500.shape)\n",
    "print(dax.shape)\n",
    "print(nikkei.shape)\n",
    "print(hsi.shape)\n",
    "print(ftse.shape)"
   ]
  },
  {
   "cell_type": "code",
   "execution_count": 1107,
   "metadata": {},
   "outputs": [],
   "source": [
    "sp500.drop(['High', 'Low', 'Open', 'Adj Close','Volume'], axis=1, inplace = True)\n",
    "dax.drop(['High', 'Low', 'Open', 'Adj Close','Volume'], axis=1, inplace = True)\n",
    "nikkei.drop(['High', 'Low', 'Open', 'Adj Close','Volume'], axis=1, inplace = True)\n",
    "hsi.drop(['High', 'Low', 'Open', 'Adj Close','Volume'], axis=1, inplace = True)\n",
    "ftse.drop(['High', 'Low', 'Open', 'Adj Close','Volume'], axis=1, inplace = True)"
   ]
  },
  {
   "cell_type": "code",
   "execution_count": 1108,
   "metadata": {},
   "outputs": [],
   "source": [
    "sp500.columns = ['sp500_' + str(col) for col in sp500.columns]\n",
    "dax.columns = ['dax_' + str(col) for col in dax.columns]\n",
    "nikkei.columns = ['nikkei_' + str(col) for col in nikkei.columns]\n",
    "hsi.columns = ['hsi_' + str(col) for col in hsi.columns]\n",
    "ftse.columns = ['ftse_' + str(col) for col in ftse.columns]"
   ]
  },
  {
   "cell_type": "code",
   "execution_count": 1109,
   "metadata": {},
   "outputs": [],
   "source": [
    "#try3 = pd.merge(dax, nikkei, hsi, ftse, left_index=True, right_index=True)"
   ]
  },
  {
   "cell_type": "code",
   "execution_count": 1110,
   "metadata": {},
   "outputs": [],
   "source": [
    "indices = pd.concat([sp500, dax, nikkei, hsi, ftse], axis=1)"
   ]
  },
  {
   "cell_type": "code",
   "execution_count": 1111,
   "metadata": {},
   "outputs": [
    {
     "data": {
      "text/plain": [
       "sp500_Close     28\n",
       "dax_Close       29\n",
       "nikkei_Close    53\n",
       "hsi_Close       44\n",
       "ftse_Close      24\n",
       "dtype: int64"
      ]
     },
     "execution_count": 1111,
     "metadata": {},
     "output_type": "execute_result"
    }
   ],
   "source": [
    "indices.isna().sum()"
   ]
  },
  {
   "cell_type": "code",
   "execution_count": 1112,
   "metadata": {},
   "outputs": [
    {
     "data": {
      "text/plain": [
       "(783, 5)"
      ]
     },
     "execution_count": 1112,
     "metadata": {},
     "output_type": "execute_result"
    }
   ],
   "source": [
    "indices.shape"
   ]
  },
  {
   "cell_type": "code",
   "execution_count": 1113,
   "metadata": {},
   "outputs": [],
   "source": [
    "indices.dropna(inplace=True)"
   ]
  },
  {
   "cell_type": "code",
   "execution_count": 1115,
   "metadata": {},
   "outputs": [
    {
     "data": {
      "text/html": [
       "<div>\n",
       "<style scoped>\n",
       "    .dataframe tbody tr th:only-of-type {\n",
       "        vertical-align: middle;\n",
       "    }\n",
       "\n",
       "    .dataframe tbody tr th {\n",
       "        vertical-align: top;\n",
       "    }\n",
       "\n",
       "    .dataframe thead th {\n",
       "        text-align: right;\n",
       "    }\n",
       "</style>\n",
       "<table border=\"1\" class=\"dataframe\">\n",
       "  <thead>\n",
       "    <tr style=\"text-align: right;\">\n",
       "      <th></th>\n",
       "      <th>sp500_Close</th>\n",
       "      <th>dax_Close</th>\n",
       "      <th>nikkei_Close</th>\n",
       "      <th>hsi_Close</th>\n",
       "      <th>ftse_Close</th>\n",
       "    </tr>\n",
       "    <tr>\n",
       "      <th>Date</th>\n",
       "      <th></th>\n",
       "      <th></th>\n",
       "      <th></th>\n",
       "      <th></th>\n",
       "      <th></th>\n",
       "    </tr>\n",
       "  </thead>\n",
       "  <tbody>\n",
       "    <tr>\n",
       "      <th>2017-06-02</th>\n",
       "      <td>2439.070068</td>\n",
       "      <td>12822.940430</td>\n",
       "      <td>20177.279297</td>\n",
       "      <td>25924.050781</td>\n",
       "      <td>7547.600098</td>\n",
       "    </tr>\n",
       "    <tr>\n",
       "      <th>2017-06-06</th>\n",
       "      <td>2429.330078</td>\n",
       "      <td>12690.120117</td>\n",
       "      <td>19979.900391</td>\n",
       "      <td>25997.140625</td>\n",
       "      <td>7525.000000</td>\n",
       "    </tr>\n",
       "    <tr>\n",
       "      <th>2017-06-07</th>\n",
       "      <td>2433.139893</td>\n",
       "      <td>12672.490234</td>\n",
       "      <td>19984.619141</td>\n",
       "      <td>25974.160156</td>\n",
       "      <td>7478.600098</td>\n",
       "    </tr>\n",
       "    <tr>\n",
       "      <th>2017-06-08</th>\n",
       "      <td>2433.790039</td>\n",
       "      <td>12713.580078</td>\n",
       "      <td>19909.259766</td>\n",
       "      <td>26063.060547</td>\n",
       "      <td>7450.000000</td>\n",
       "    </tr>\n",
       "    <tr>\n",
       "      <th>2017-06-09</th>\n",
       "      <td>2431.770020</td>\n",
       "      <td>12815.719727</td>\n",
       "      <td>20013.259766</td>\n",
       "      <td>26030.289062</td>\n",
       "      <td>7527.299805</td>\n",
       "    </tr>\n",
       "  </tbody>\n",
       "</table>\n",
       "</div>"
      ],
      "text/plain": [
       "            sp500_Close     dax_Close  nikkei_Close     hsi_Close   ftse_Close\n",
       "Date                                                                          \n",
       "2017-06-02  2439.070068  12822.940430  20177.279297  25924.050781  7547.600098\n",
       "2017-06-06  2429.330078  12690.120117  19979.900391  25997.140625  7525.000000\n",
       "2017-06-07  2433.139893  12672.490234  19984.619141  25974.160156  7478.600098\n",
       "2017-06-08  2433.790039  12713.580078  19909.259766  26063.060547  7450.000000\n",
       "2017-06-09  2431.770020  12815.719727  20013.259766  26030.289062  7527.299805"
      ]
     },
     "execution_count": 1115,
     "metadata": {},
     "output_type": "execute_result"
    }
   ],
   "source": [
    "indices.head()"
   ]
  },
  {
   "cell_type": "code",
   "execution_count": 1116,
   "metadata": {},
   "outputs": [],
   "source": [
    "def get_best_gct(gct_output_var, exog_var_name):\n",
    "    \"\"\"Returns no. of lags where the p value is lowest\"\"\"\n",
    "    list1=[]\n",
    "    for nlag in range(1,4,1): # maxlag=3 is standard\n",
    "        temp_p_value = gct_output_var[nlag][0]['ssr_ftest'][1]\n",
    "        list1.append(temp_p_value)\n",
    "    min1 = min(list1) # gets the min value inside list\n",
    "    min_posn = list1.index(min(list1)) + 1 # Need to plus 1 due to list item length\n",
    "    print(F'{exog_var_name} minimum P value is {min1} with no.of lag at {min_posn}')"
   ]
  },
  {
   "cell_type": "code",
   "execution_count": 1117,
   "metadata": {},
   "outputs": [
    {
     "name": "stdout",
     "output_type": "stream",
     "text": [
      "sp500_hsi minimum P value is 0.025885468449831542 with no.of lag at 2\n"
     ]
    }
   ],
   "source": [
    "sp500_hsi = grangercausalitytests(indices[['sp500_Close','hsi_Close']],maxlag=3,verbose=False);\n",
    "get_best_gct(sp500_hsi,'sp500_hsi')"
   ]
  },
  {
   "cell_type": "code",
   "execution_count": 1118,
   "metadata": {},
   "outputs": [
    {
     "name": "stdout",
     "output_type": "stream",
     "text": [
      "sp500_nikkei minimum P value is 1.8496317846663147e-05 with no.of lag at 2\n"
     ]
    }
   ],
   "source": [
    "sp500_nikkei = grangercausalitytests(indices[['sp500_Close','nikkei_Close']],maxlag=3,verbose=False);\n",
    "get_best_gct(sp500_nikkei,'sp500_nikkei')"
   ]
  },
  {
   "cell_type": "code",
   "execution_count": 1119,
   "metadata": {},
   "outputs": [
    {
     "name": "stdout",
     "output_type": "stream",
     "text": [
      "sp500_ftse minimum P value is 0.0034131048573265424 with no.of lag at 3\n"
     ]
    }
   ],
   "source": [
    "sp500_ftse = grangercausalitytests(indices[['sp500_Close','ftse_Close']],maxlag=3,verbose=False);\n",
    "get_best_gct(sp500_ftse,'sp500_ftse')"
   ]
  },
  {
   "cell_type": "code",
   "execution_count": 1120,
   "metadata": {},
   "outputs": [
    {
     "name": "stdout",
     "output_type": "stream",
     "text": [
      "sp500_dax minimum P value is 8.145642020700198e-06 with no.of lag at 3\n"
     ]
    }
   ],
   "source": [
    "sp500_dax = grangercausalitytests(indices[['sp500_Close','dax_Close']],maxlag=3,verbose=False);\n",
    "get_best_gct(sp500_dax,'sp500_dax')"
   ]
  },
  {
   "cell_type": "code",
   "execution_count": 1121,
   "metadata": {},
   "outputs": [
    {
     "name": "stdout",
     "output_type": "stream",
     "text": [
      "nikkei_hsi minimum P value is 0.7366720785147063 with no.of lag at 1\n"
     ]
    }
   ],
   "source": [
    "nikkei_hsi = grangercausalitytests(indices[['nikkei_Close','hsi_Close']],maxlag=3,verbose=False);\n",
    "get_best_gct(nikkei_hsi,'nikkei_hsi')"
   ]
  },
  {
   "cell_type": "code",
   "execution_count": 1122,
   "metadata": {},
   "outputs": [],
   "source": [
    "indices.to_csv('data/indices.csv')"
   ]
  },
  {
   "cell_type": "code",
   "execution_count": 1123,
   "metadata": {},
   "outputs": [
    {
     "data": {
      "text/plain": [
       "<matplotlib.axes._subplots.AxesSubplot at 0x1fca75ceec8>"
      ]
     },
     "execution_count": 1123,
     "metadata": {},
     "output_type": "execute_result"
    },
    {
     "data": {
      "image/png": "[encoded data removed]",
      "text/plain": [
       "<Figure size 864x576 with 1 Axes>"
      ]
     },
     "metadata": {
      "needs_background": "light"
     },
     "output_type": "display_data"
    }
   ],
   "source": [
    "indices.plot(figsize=(12,8))"
   ]
  },
  {
   "cell_type": "code",
   "execution_count": 1124,
   "metadata": {},
   "outputs": [],
   "source": [
    "def adf_test(series):\n",
    "    \"\"\"Pass in a time series and an optional title, returns an ADF report\"\"\"\n",
    "    result = adfuller(series.dropna(),autolag='AIC') # .dropna() handles differenced data\n",
    "    labels = ['ADF test statistic','p-value','# lags used','# observations']\n",
    "    out = pd.Series(result[0:4],index=labels)\n",
    "    for key,val in result[4].items():\n",
    "        out[f'critical value ({key})']=val\n",
    "    print(out.to_string())          # .to_string() removes the line \"dtype: float64\"\n",
    "    if result[1] <= 0.05:\n",
    "        print(\"Strong evidence against the null hypothesis\")\n",
    "        print(\"Reject the null hypothesis. Data has no unit root and is stationary\")\n",
    "    else:\n",
    "        print(\"Weak evidence against the null hypothesis\")\n",
    "        print(\"Fail to reject the null hypothesis. Data has a unit root and is non-stationary\")"
   ]
  },
  {
   "cell_type": "code",
   "execution_count": 1125,
   "metadata": {},
   "outputs": [
    {
     "name": "stdout",
     "output_type": "stream",
     "text": [
      "ADF test statistic       -2.597335\n",
      "p-value                   0.093549\n",
      "# lags used               9.000000\n",
      "# observations          652.000000\n",
      "critical value (1%)      -3.440419\n",
      "critical value (5%)      -2.865983\n",
      "critical value (10%)     -2.569136\n",
      "Weak evidence against the null hypothesis\n",
      "Fail to reject the null hypothesis. Data has a unit root and is non-stationary\n"
     ]
    }
   ],
   "source": [
    "adf_test(indices['sp500_Close'])"
   ]
  },
  {
   "cell_type": "code",
   "execution_count": 1126,
   "metadata": {},
   "outputs": [
    {
     "name": "stdout",
     "output_type": "stream",
     "text": [
      "ADF test statistic       -2.552658\n",
      "p-value                   0.103182\n",
      "# lags used               2.000000\n",
      "# observations          659.000000\n",
      "critical value (1%)      -3.440312\n",
      "critical value (5%)      -2.865936\n",
      "critical value (10%)     -2.569111\n",
      "Weak evidence against the null hypothesis\n",
      "Fail to reject the null hypothesis. Data has a unit root and is non-stationary\n"
     ]
    }
   ],
   "source": [
    "adf_test(indices['dax_Close'])"
   ]
  },
  {
   "cell_type": "code",
   "execution_count": 1127,
   "metadata": {},
   "outputs": [
    {
     "name": "stdout",
     "output_type": "stream",
     "text": [
      "ADF test statistic       -1.503943\n",
      "p-value                   0.531560\n",
      "# lags used               0.000000\n",
      "# observations          661.000000\n",
      "critical value (1%)      -3.440282\n",
      "critical value (5%)      -2.865922\n",
      "critical value (10%)     -2.569104\n",
      "Weak evidence against the null hypothesis\n",
      "Fail to reject the null hypothesis. Data has a unit root and is non-stationary\n"
     ]
    }
   ],
   "source": [
    "adf_test(indices['hsi_Close'])"
   ]
  },
  {
   "cell_type": "code",
   "execution_count": 1128,
   "metadata": {},
   "outputs": [
    {
     "name": "stdout",
     "output_type": "stream",
     "text": [
      "ADF test statistic       -3.471854\n",
      "p-value                   0.008740\n",
      "# lags used              17.000000\n",
      "# observations          644.000000\n",
      "critical value (1%)      -3.440545\n",
      "critical value (5%)      -2.866038\n",
      "critical value (10%)     -2.569166\n",
      "Strong evidence against the null hypothesis\n",
      "Reject the null hypothesis. Data has no unit root and is stationary\n"
     ]
    }
   ],
   "source": [
    "adf_test(indices['nikkei_Close'])"
   ]
  },
  {
   "cell_type": "code",
   "execution_count": 1129,
   "metadata": {},
   "outputs": [
    {
     "name": "stdout",
     "output_type": "stream",
     "text": [
      "ADF test statistic       -1.727035\n",
      "p-value                   0.417240\n",
      "# lags used              19.000000\n",
      "# observations          642.000000\n",
      "critical value (1%)      -3.440577\n",
      "critical value (5%)      -2.866052\n",
      "critical value (10%)     -2.569173\n",
      "Weak evidence against the null hypothesis\n",
      "Fail to reject the null hypothesis. Data has a unit root and is non-stationary\n"
     ]
    }
   ],
   "source": [
    "adf_test(indices['ftse_Close'])"
   ]
  },
  {
   "cell_type": "code",
   "execution_count": 1130,
   "metadata": {},
   "outputs": [],
   "source": [
    "indices = indices[['sp500_Close','dax_Close']]"
   ]
  },
  {
   "cell_type": "code",
   "execution_count": 1131,
   "metadata": {},
   "outputs": [
    {
     "data": {
      "text/html": [
       "<div>\n",
       "<style scoped>\n",
       "    .dataframe tbody tr th:only-of-type {\n",
       "        vertical-align: middle;\n",
       "    }\n",
       "\n",
       "    .dataframe tbody tr th {\n",
       "        vertical-align: top;\n",
       "    }\n",
       "\n",
       "    .dataframe thead th {\n",
       "        text-align: right;\n",
       "    }\n",
       "</style>\n",
       "<table border=\"1\" class=\"dataframe\">\n",
       "  <thead>\n",
       "    <tr style=\"text-align: right;\">\n",
       "      <th></th>\n",
       "      <th>sp500_Close</th>\n",
       "      <th>dax_Close</th>\n",
       "    </tr>\n",
       "    <tr>\n",
       "      <th>Date</th>\n",
       "      <th></th>\n",
       "      <th></th>\n",
       "    </tr>\n",
       "  </thead>\n",
       "  <tbody>\n",
       "    <tr>\n",
       "      <th>2020-05-28</th>\n",
       "      <td>3029.729980</td>\n",
       "      <td>11781.129883</td>\n",
       "    </tr>\n",
       "    <tr>\n",
       "      <th>2020-05-29</th>\n",
       "      <td>3044.310059</td>\n",
       "      <td>11586.849609</td>\n",
       "    </tr>\n",
       "  </tbody>\n",
       "</table>\n",
       "</div>"
      ],
      "text/plain": [
       "            sp500_Close     dax_Close\n",
       "Date                                 \n",
       "2020-05-28  3029.729980  11781.129883\n",
       "2020-05-29  3044.310059  11586.849609"
      ]
     },
     "execution_count": 1131,
     "metadata": {},
     "output_type": "execute_result"
    }
   ],
   "source": [
    "indices.tail(2)"
   ]
  },
  {
   "cell_type": "code",
   "execution_count": 1132,
   "metadata": {},
   "outputs": [
    {
     "data": {
      "text/html": [
       "<div>\n",
       "<style scoped>\n",
       "    .dataframe tbody tr th:only-of-type {\n",
       "        vertical-align: middle;\n",
       "    }\n",
       "\n",
       "    .dataframe tbody tr th {\n",
       "        vertical-align: top;\n",
       "    }\n",
       "\n",
       "    .dataframe thead th {\n",
       "        text-align: right;\n",
       "    }\n",
       "</style>\n",
       "<table border=\"1\" class=\"dataframe\">\n",
       "  <thead>\n",
       "    <tr style=\"text-align: right;\">\n",
       "      <th></th>\n",
       "      <th>sp500_Close</th>\n",
       "      <th>dax_Close</th>\n",
       "    </tr>\n",
       "    <tr>\n",
       "      <th>Date</th>\n",
       "      <th></th>\n",
       "      <th></th>\n",
       "    </tr>\n",
       "  </thead>\n",
       "  <tbody>\n",
       "    <tr>\n",
       "      <th>2017-06-02</th>\n",
       "      <td>2439.070068</td>\n",
       "      <td>12822.940430</td>\n",
       "    </tr>\n",
       "    <tr>\n",
       "      <th>2017-06-06</th>\n",
       "      <td>2429.330078</td>\n",
       "      <td>12690.120117</td>\n",
       "    </tr>\n",
       "  </tbody>\n",
       "</table>\n",
       "</div>"
      ],
      "text/plain": [
       "            sp500_Close     dax_Close\n",
       "Date                                 \n",
       "2017-06-02  2439.070068  12822.940430\n",
       "2017-06-06  2429.330078  12690.120117"
      ]
     },
     "execution_count": 1132,
     "metadata": {},
     "output_type": "execute_result"
    }
   ],
   "source": [
    "indices.head(2)"
   ]
  },
  {
   "cell_type": "code",
   "execution_count": 1133,
   "metadata": {},
   "outputs": [
    {
     "data": {
      "text/plain": [
       "(662, 2)"
      ]
     },
     "execution_count": 1133,
     "metadata": {},
     "output_type": "execute_result"
    }
   ],
   "source": [
    "indices.shape"
   ]
  },
  {
   "cell_type": "code",
   "execution_count": 1134,
   "metadata": {},
   "outputs": [],
   "source": [
    "temp1 = indices[['sp500_Close','dax_Close']].to_numpy()\n",
    "idx1 = pd.date_range('2017-06-02',periods=662,freq='b')"
   ]
  },
  {
   "cell_type": "code",
   "execution_count": 1135,
   "metadata": {},
   "outputs": [],
   "source": [
    "indices1 = pd.DataFrame(data=temp1,index=idx1,columns=['sp500_Close','dax_Close'])"
   ]
  },
  {
   "cell_type": "code",
   "execution_count": 1136,
   "metadata": {},
   "outputs": [],
   "source": [
    "indices_diff1 = indices1.diff()"
   ]
  },
  {
   "cell_type": "code",
   "execution_count": 1137,
   "metadata": {},
   "outputs": [
    {
     "name": "stdout",
     "output_type": "stream",
     "text": [
      "ADF test statistic     -7.285608e+00\n",
      "p-value                 1.461617e-10\n",
      "# lags used             8.000000e+00\n",
      "# observations          6.520000e+02\n",
      "critical value (1%)    -3.440419e+00\n",
      "critical value (5%)    -2.865983e+00\n",
      "critical value (10%)   -2.569136e+00\n",
      "Strong evidence against the null hypothesis\n",
      "Reject the null hypothesis. Data has no unit root and is stationary\n"
     ]
    }
   ],
   "source": [
    "adf_test(indices_diff1['sp500_Close'])"
   ]
  },
  {
   "cell_type": "code",
   "execution_count": 1138,
   "metadata": {},
   "outputs": [
    {
     "name": "stdout",
     "output_type": "stream",
     "text": [
      "ADF test statistic     -1.612680e+01\n",
      "p-value                 4.832299e-29\n",
      "# lags used             1.000000e+00\n",
      "# observations          6.590000e+02\n",
      "critical value (1%)    -3.440312e+00\n",
      "critical value (5%)    -2.865936e+00\n",
      "critical value (10%)   -2.569111e+00\n",
      "Strong evidence against the null hypothesis\n",
      "Reject the null hypothesis. Data has no unit root and is stationary\n"
     ]
    }
   ],
   "source": [
    "adf_test(indices_diff1['dax_Close'])"
   ]
  },
  {
   "cell_type": "code",
   "execution_count": 1139,
   "metadata": {},
   "outputs": [
    {
     "data": {
      "text/plain": [
       "(662, 2)"
      ]
     },
     "execution_count": 1139,
     "metadata": {},
     "output_type": "execute_result"
    }
   ],
   "source": [
    "indices_diff1.shape"
   ]
  },
  {
   "cell_type": "code",
   "execution_count": 1140,
   "metadata": {},
   "outputs": [],
   "source": [
    "indices_diff1.dropna(inplace=True)"
   ]
  },
  {
   "cell_type": "code",
   "execution_count": 1141,
   "metadata": {},
   "outputs": [
    {
     "data": {
      "text/plain": [
       "(661, 2)"
      ]
     },
     "execution_count": 1141,
     "metadata": {},
     "output_type": "execute_result"
    }
   ],
   "source": [
    "indices_diff1.shape"
   ]
  },
  {
   "cell_type": "markdown",
   "metadata": {},
   "source": [
    "## train test split"
   ]
  },
  {
   "cell_type": "code",
   "execution_count": 1142,
   "metadata": {},
   "outputs": [],
   "source": [
    "# num of observations\n",
    "nobs = 36"
   ]
  },
  {
   "cell_type": "code",
   "execution_count": 1143,
   "metadata": {},
   "outputs": [],
   "source": [
    "train = indices_diff1[:-nobs] # Start: Begining; End: reverse 18 steps from very end and make it the end point\n",
    "test = indices_diff1[-nobs:] #  Start: reverse 18 steps from very end and make it the start point; End: The end of df"
   ]
  },
  {
   "cell_type": "code",
   "execution_count": 1144,
   "metadata": {},
   "outputs": [
    {
     "name": "stdout",
     "output_type": "stream",
     "text": [
      "(625, 2)\n",
      "(36, 2)\n"
     ]
    }
   ],
   "source": [
    "print(train.shape)\n",
    "print(test.shape)"
   ]
  },
  {
   "cell_type": "code",
   "execution_count": 1145,
   "metadata": {},
   "outputs": [
    {
     "name": "stdout",
     "output_type": "stream",
     "text": [
      "Order = 1\n",
      "AIC:  16.557482052923632\n",
      "BIC:  16.600137344927184\n",
      "\n",
      "Order = 2\n",
      "AIC:  16.467237526532994\n",
      "BIC:  16.5384180485039\n",
      "\n",
      "Order = 3\n",
      "AIC:  16.480603455780372\n",
      "BIC:  16.580380242433662\n",
      "\n",
      "Order = 4\n",
      "AIC:  16.48975973755788\n",
      "BIC:  16.618204116744355\n",
      "\n",
      "Order = 5\n",
      "AIC:  16.487133966237185\n",
      "BIC:  16.644317560619218\n",
      "\n"
     ]
    }
   ],
   "source": [
    "model = VAR(train)\n",
    "\n",
    "for p in [1,2,3,4,5]:\n",
    "    results = model.fit(p)\n",
    "    print('Order =', p)\n",
    "    print('AIC: ', results.aic)\n",
    "    print('BIC: ', results.bic)\n",
    "    print()"
   ]
  },
  {
   "cell_type": "code",
   "execution_count": 1146,
   "metadata": {},
   "outputs": [],
   "source": [
    "results = model.fit(2)"
   ]
  },
  {
   "cell_type": "code",
   "execution_count": 1147,
   "metadata": {},
   "outputs": [
    {
     "data": {
      "text/plain": [
       "  Summary of Regression Results   \n",
       "==================================\n",
       "Model:                         VAR\n",
       "Method:                        OLS\n",
       "Date:           Thu, 18, Jun, 2020\n",
       "Time:                     20:23:07\n",
       "--------------------------------------------------------------------\n",
       "No. of Equations:         2.00000    BIC:                    16.5384\n",
       "Nobs:                     623.000    HQIC:                   16.4949\n",
       "Log likelihood:          -6887.54    FPE:                1.41785e+07\n",
       "AIC:                      16.4672    Det(Omega_mle):     1.39536e+07\n",
       "--------------------------------------------------------------------\n",
       "Results for equation sp500_Close\n",
       "=================================================================================\n",
       "                    coefficient       std. error           t-stat            prob\n",
       "---------------------------------------------------------------------------------\n",
       "const                  0.792012         1.394683            0.568           0.570\n",
       "L1.sp500_Close        -0.299316         0.052480           -5.703           0.000\n",
       "L1.dax_Close           0.015686         0.013001            1.207           0.228\n",
       "L2.sp500_Close         0.002771         0.051590            0.054           0.957\n",
       "L2.dax_Close           0.076387         0.012226            6.248           0.000\n",
       "=================================================================================\n",
       "\n",
       "Results for equation dax_Close\n",
       "=================================================================================\n",
       "                    coefficient       std. error           t-stat            prob\n",
       "---------------------------------------------------------------------------------\n",
       "const                 -3.979427         5.718577           -0.696           0.487\n",
       "L1.sp500_Close         0.586951         0.215181            2.728           0.006\n",
       "L1.dax_Close          -0.043052         0.053308           -0.808           0.419\n",
       "L2.sp500_Close         0.395304         0.211534            1.869           0.062\n",
       "L2.dax_Close           0.110165         0.050130            2.198           0.028\n",
       "=================================================================================\n",
       "\n",
       "Correlation matrix of residuals\n",
       "               sp500_Close  dax_Close\n",
       "sp500_Close       1.000000   0.655806\n",
       "dax_Close         0.655806   1.000000\n",
       "\n"
      ]
     },
     "execution_count": 1147,
     "metadata": {},
     "output_type": "execute_result"
    }
   ],
   "source": [
    "results.summary()"
   ]
  },
  {
   "cell_type": "code",
   "execution_count": 1148,
   "metadata": {},
   "outputs": [],
   "source": [
    "# grab 2 lagged values right before test starts, get it from the last 2 rows of the train\n",
    "\n",
    "lagged_values = train.values[-2:] # the p value we need"
   ]
  },
  {
   "cell_type": "code",
   "execution_count": 1149,
   "metadata": {},
   "outputs": [],
   "source": [
    "# p * k\n",
    "# p = 2  (lag value)\n",
    "# k = 2 (sp500 and dax)\n",
    "\n",
    "fcast36 = results.forecast(y = lagged_values, steps= 36)"
   ]
  },
  {
   "cell_type": "code",
   "execution_count": 1150,
   "metadata": {},
   "outputs": [
    {
     "data": {
      "text/html": [
       "<div>\n",
       "<style scoped>\n",
       "    .dataframe tbody tr th:only-of-type {\n",
       "        vertical-align: middle;\n",
       "    }\n",
       "\n",
       "    .dataframe tbody tr th {\n",
       "        vertical-align: top;\n",
       "    }\n",
       "\n",
       "    .dataframe thead th {\n",
       "        text-align: right;\n",
       "    }\n",
       "</style>\n",
       "<table border=\"1\" class=\"dataframe\">\n",
       "  <thead>\n",
       "    <tr style=\"text-align: right;\">\n",
       "      <th></th>\n",
       "      <th>sp500_Close</th>\n",
       "      <th>dax_Close</th>\n",
       "    </tr>\n",
       "    <tr>\n",
       "      <th>Date</th>\n",
       "      <th></th>\n",
       "      <th></th>\n",
       "    </tr>\n",
       "  </thead>\n",
       "  <tbody>\n",
       "    <tr>\n",
       "      <th>2017-06-02</th>\n",
       "      <td>2439.070068</td>\n",
       "      <td>12822.940430</td>\n",
       "    </tr>\n",
       "    <tr>\n",
       "      <th>2017-06-06</th>\n",
       "      <td>2429.330078</td>\n",
       "      <td>12690.120117</td>\n",
       "    </tr>\n",
       "    <tr>\n",
       "      <th>2017-06-07</th>\n",
       "      <td>2433.139893</td>\n",
       "      <td>12672.490234</td>\n",
       "    </tr>\n",
       "    <tr>\n",
       "      <th>2017-06-08</th>\n",
       "      <td>2433.790039</td>\n",
       "      <td>12713.580078</td>\n",
       "    </tr>\n",
       "    <tr>\n",
       "      <th>2017-06-09</th>\n",
       "      <td>2431.770020</td>\n",
       "      <td>12815.719727</td>\n",
       "    </tr>\n",
       "  </tbody>\n",
       "</table>\n",
       "</div>"
      ],
      "text/plain": [
       "            sp500_Close     dax_Close\n",
       "Date                                 \n",
       "2017-06-02  2439.070068  12822.940430\n",
       "2017-06-06  2429.330078  12690.120117\n",
       "2017-06-07  2433.139893  12672.490234\n",
       "2017-06-08  2433.790039  12713.580078\n",
       "2017-06-09  2431.770020  12815.719727"
      ]
     },
     "execution_count": 1150,
     "metadata": {},
     "output_type": "execute_result"
    }
   ],
   "source": [
    "indices.head()"
   ]
  },
  {
   "cell_type": "code",
   "execution_count": 1151,
   "metadata": {},
   "outputs": [],
   "source": [
    "idx = pd.date_range('2020-03-27',periods=36,freq='b')"
   ]
  },
  {
   "cell_type": "code",
   "execution_count": 1152,
   "metadata": {},
   "outputs": [
    {
     "data": {
      "text/plain": [
       "DatetimeIndex(['2020-03-27', '2020-03-30', '2020-03-31', '2020-04-01',\n",
       "               '2020-04-02', '2020-04-03', '2020-04-06', '2020-04-07',\n",
       "               '2020-04-08', '2020-04-09', '2020-04-10', '2020-04-13',\n",
       "               '2020-04-14', '2020-04-15', '2020-04-16', '2020-04-17',\n",
       "               '2020-04-20', '2020-04-21', '2020-04-22', '2020-04-23',\n",
       "               '2020-04-24', '2020-04-27', '2020-04-28', '2020-04-29',\n",
       "               '2020-04-30', '2020-05-01', '2020-05-04', '2020-05-05',\n",
       "               '2020-05-06', '2020-05-07', '2020-05-08', '2020-05-11',\n",
       "               '2020-05-12', '2020-05-13', '2020-05-14', '2020-05-15'],\n",
       "              dtype='datetime64[ns]', freq='B')"
      ]
     },
     "execution_count": 1152,
     "metadata": {},
     "output_type": "execute_result"
    }
   ],
   "source": [
    "idx"
   ]
  },
  {
   "cell_type": "code",
   "execution_count": 1153,
   "metadata": {},
   "outputs": [
    {
     "data": {
      "text/html": [
       "<div>\n",
       "<style scoped>\n",
       "    .dataframe tbody tr th:only-of-type {\n",
       "        vertical-align: middle;\n",
       "    }\n",
       "\n",
       "    .dataframe tbody tr th {\n",
       "        vertical-align: top;\n",
       "    }\n",
       "\n",
       "    .dataframe thead th {\n",
       "        text-align: right;\n",
       "    }\n",
       "</style>\n",
       "<table border=\"1\" class=\"dataframe\">\n",
       "  <thead>\n",
       "    <tr style=\"text-align: right;\">\n",
       "      <th></th>\n",
       "      <th>sp500_Close</th>\n",
       "      <th>dax_Close</th>\n",
       "    </tr>\n",
       "  </thead>\n",
       "  <tbody>\n",
       "    <tr>\n",
       "      <th>2019-10-28</th>\n",
       "      <td>-88.600098</td>\n",
       "      <td>-368.440430</td>\n",
       "    </tr>\n",
       "    <tr>\n",
       "      <th>2019-10-29</th>\n",
       "      <td>85.179932</td>\n",
       "      <td>183.450195</td>\n",
       "    </tr>\n",
       "    <tr>\n",
       "      <th>2019-10-30</th>\n",
       "      <td>-42.059814</td>\n",
       "      <td>119.870117</td>\n",
       "    </tr>\n",
       "    <tr>\n",
       "      <th>2019-10-31</th>\n",
       "      <td>-114.090088</td>\n",
       "      <td>-391.089844</td>\n",
       "    </tr>\n",
       "    <tr>\n",
       "      <th>2019-11-01</th>\n",
       "      <td>56.399902</td>\n",
       "      <td>26.070312</td>\n",
       "    </tr>\n",
       "  </tbody>\n",
       "</table>\n",
       "</div>"
      ],
      "text/plain": [
       "            sp500_Close   dax_Close\n",
       "2019-10-28   -88.600098 -368.440430\n",
       "2019-10-29    85.179932  183.450195\n",
       "2019-10-30   -42.059814  119.870117\n",
       "2019-10-31  -114.090088 -391.089844\n",
       "2019-11-01    56.399902   26.070312"
      ]
     },
     "execution_count": 1153,
     "metadata": {},
     "output_type": "execute_result"
    }
   ],
   "source": [
    "test.head()"
   ]
  },
  {
   "cell_type": "code",
   "execution_count": 1154,
   "metadata": {},
   "outputs": [],
   "source": [
    "df_forecast = pd.DataFrame(data=fcast36,index=idx,columns=['sp500_Close_1d','dax_Close_1d'])"
   ]
  },
  {
   "cell_type": "code",
   "execution_count": 1155,
   "metadata": {},
   "outputs": [
    {
     "name": "stdout",
     "output_type": "stream",
     "text": [
      "2020-05-15 00:00:00\n",
      "2020-03-27 00:00:00\n"
     ]
    }
   ],
   "source": [
    "print(df_forecast .index.max())\n",
    "print(df_forecast .index.min())"
   ]
  },
  {
   "cell_type": "code",
   "execution_count": 1156,
   "metadata": {},
   "outputs": [
    {
     "data": {
      "text/html": [
       "<div>\n",
       "<style scoped>\n",
       "    .dataframe tbody tr th:only-of-type {\n",
       "        vertical-align: middle;\n",
       "    }\n",
       "\n",
       "    .dataframe tbody tr th {\n",
       "        vertical-align: top;\n",
       "    }\n",
       "\n",
       "    .dataframe thead th {\n",
       "        text-align: right;\n",
       "    }\n",
       "</style>\n",
       "<table border=\"1\" class=\"dataframe\">\n",
       "  <thead>\n",
       "    <tr style=\"text-align: right;\">\n",
       "      <th></th>\n",
       "      <th>sp500_Close_1d</th>\n",
       "      <th>dax_Close_1d</th>\n",
       "    </tr>\n",
       "  </thead>\n",
       "  <tbody>\n",
       "    <tr>\n",
       "      <th>2020-03-27</th>\n",
       "      <td>-30.122066</td>\n",
       "      <td>111.549624</td>\n",
       "    </tr>\n",
       "    <tr>\n",
       "      <th>2020-03-30</th>\n",
       "      <td>21.664181</td>\n",
       "      <td>48.574280</td>\n",
       "    </tr>\n",
       "    <tr>\n",
       "      <th>2020-03-31</th>\n",
       "      <td>3.506995</td>\n",
       "      <td>7.026668</td>\n",
       "    </tr>\n",
       "    <tr>\n",
       "      <th>2020-04-01</th>\n",
       "      <td>3.622995</td>\n",
       "      <td>11.691624</td>\n",
       "    </tr>\n",
       "    <tr>\n",
       "      <th>2020-04-02</th>\n",
       "      <td>0.437453</td>\n",
       "      <td>-0.195834</td>\n",
       "    </tr>\n",
       "  </tbody>\n",
       "</table>\n",
       "</div>"
      ],
      "text/plain": [
       "            sp500_Close_1d  dax_Close_1d\n",
       "2020-03-27      -30.122066    111.549624\n",
       "2020-03-30       21.664181     48.574280\n",
       "2020-03-31        3.506995      7.026668\n",
       "2020-04-01        3.622995     11.691624\n",
       "2020-04-02        0.437453     -0.195834"
      ]
     },
     "execution_count": 1156,
     "metadata": {},
     "output_type": "execute_result"
    }
   ],
   "source": [
    "df_forecast.head()"
   ]
  },
  {
   "cell_type": "code",
   "execution_count": 1157,
   "metadata": {},
   "outputs": [],
   "source": [
    "df_forecast['sp500_Close'] = (indices['sp500_Close'].iloc[-nobs-1]) + df_forecast['sp500_Close_1d'].cumsum()\n",
    "df_forecast['dax_Close'] = (indices['dax_Close'].iloc[-nobs-1]) + df_forecast['dax_Close_1d'].cumsum()"
   ]
  },
  {
   "cell_type": "code",
   "execution_count": 1158,
   "metadata": {},
   "outputs": [
    {
     "data": {
      "text/plain": [
       "<matplotlib.axes._subplots.AxesSubplot at 0x1fca766e908>"
      ]
     },
     "execution_count": 1158,
     "metadata": {},
     "output_type": "execute_result"
    },
    {
     "data": {
      "image/png": "[encoded data removed]",
      "text/plain": [
       "<Figure size 864x576 with 1 Axes>"
      ]
     },
     "metadata": {
      "needs_background": "light"
     },
     "output_type": "display_data"
    }
   ],
   "source": [
    "#test_range = indices[-nobs:]\n",
    "indices['sp500_Close']['2020-03-27':'2020-05-15'].plot(legend=True,figsize=(12,8))\n",
    "df_forecast['sp500_Close'].plot(legend=True)"
   ]
  },
  {
   "cell_type": "code",
   "execution_count": 1159,
   "metadata": {},
   "outputs": [
    {
     "data": {
      "text/plain": [
       "<matplotlib.axes._subplots.AxesSubplot at 0x1fca764a748>"
      ]
     },
     "execution_count": 1159,
     "metadata": {},
     "output_type": "execute_result"
    },
    {
     "data": {
      "image/png": "[encoded data removed]",
      "text/plain": [
       "<Figure size 864x576 with 1 Axes>"
      ]
     },
     "metadata": {
      "needs_background": "light"
     },
     "output_type": "display_data"
    }
   ],
   "source": [
    "indices['dax_Close']['2020-03-27':'2020-05-15'].plot(legend=True,figsize=(12,8))\n",
    "df_forecast['dax_Close'].plot(legend=True)"
   ]
  },
  {
   "cell_type": "code",
   "execution_count": 1160,
   "metadata": {},
   "outputs": [
    {
     "data": {
      "text/html": [
       "<div>\n",
       "<style scoped>\n",
       "    .dataframe tbody tr th:only-of-type {\n",
       "        vertical-align: middle;\n",
       "    }\n",
       "\n",
       "    .dataframe tbody tr th {\n",
       "        vertical-align: top;\n",
       "    }\n",
       "\n",
       "    .dataframe thead th {\n",
       "        text-align: right;\n",
       "    }\n",
       "</style>\n",
       "<table border=\"1\" class=\"dataframe\">\n",
       "  <thead>\n",
       "    <tr style=\"text-align: right;\">\n",
       "      <th></th>\n",
       "      <th>sp500_Close</th>\n",
       "      <th>dax_Close</th>\n",
       "    </tr>\n",
       "    <tr>\n",
       "      <th>Date</th>\n",
       "      <th></th>\n",
       "      <th></th>\n",
       "    </tr>\n",
       "  </thead>\n",
       "  <tbody>\n",
       "    <tr>\n",
       "      <th>2017-06-02</th>\n",
       "      <td>2439.070068</td>\n",
       "      <td>12822.940430</td>\n",
       "    </tr>\n",
       "    <tr>\n",
       "      <th>2017-06-06</th>\n",
       "      <td>2429.330078</td>\n",
       "      <td>12690.120117</td>\n",
       "    </tr>\n",
       "    <tr>\n",
       "      <th>2017-06-07</th>\n",
       "      <td>2433.139893</td>\n",
       "      <td>12672.490234</td>\n",
       "    </tr>\n",
       "    <tr>\n",
       "      <th>2017-06-08</th>\n",
       "      <td>2433.790039</td>\n",
       "      <td>12713.580078</td>\n",
       "    </tr>\n",
       "    <tr>\n",
       "      <th>2017-06-09</th>\n",
       "      <td>2431.770020</td>\n",
       "      <td>12815.719727</td>\n",
       "    </tr>\n",
       "  </tbody>\n",
       "</table>\n",
       "</div>"
      ],
      "text/plain": [
       "            sp500_Close     dax_Close\n",
       "Date                                 \n",
       "2017-06-02  2439.070068  12822.940430\n",
       "2017-06-06  2429.330078  12690.120117\n",
       "2017-06-07  2433.139893  12672.490234\n",
       "2017-06-08  2433.790039  12713.580078\n",
       "2017-06-09  2431.770020  12815.719727"
      ]
     },
     "execution_count": 1160,
     "metadata": {},
     "output_type": "execute_result"
    }
   ],
   "source": [
    "indices.head()"
   ]
  },
  {
   "cell_type": "code",
   "execution_count": 1161,
   "metadata": {},
   "outputs": [
    {
     "name": "stdout",
     "output_type": "stream",
     "text": [
      "sp500 VAR(2) RMSE: 230.782\n",
      "dax VAR(2) RMSE: 753.531\n"
     ]
    }
   ],
   "source": [
    "RMSE1 = rmse(indices['sp500_Close'][-nobs:], df_forecast['sp500_Close'])\n",
    "print(f'sp500 VAR(2) RMSE: {RMSE1:.3f}')\n",
    "\n",
    "RMSE2 = rmse(indices['dax_Close'][-nobs:], df_forecast['dax_Close'])\n",
    "print(f'dax VAR(2) RMSE: {RMSE2:.3f}')"
   ]
  },
  {
   "cell_type": "code",
   "execution_count": 1162,
   "metadata": {},
   "outputs": [
    {
     "data": {
      "text/plain": [
       "2811.463324652778"
      ]
     },
     "execution_count": 1162,
     "metadata": {},
     "output_type": "execute_result"
    }
   ],
   "source": [
    "indices['sp500_Close'][-nobs:].mean()"
   ]
  },
  {
   "cell_type": "code",
   "execution_count": 1163,
   "metadata": {},
   "outputs": [
    {
     "data": {
      "text/plain": [
       "10574.49134657118"
      ]
     },
     "execution_count": 1163,
     "metadata": {},
     "output_type": "execute_result"
    }
   ],
   "source": [
    "indices['dax_Close'][-nobs:].mean()"
   ]
  },
  {
   "cell_type": "code",
   "execution_count": null,
   "metadata": {},
   "outputs": [],
   "source": []
  },
  {
   "cell_type": "code",
   "execution_count": 1164,
   "metadata": {},
   "outputs": [],
   "source": [
    "fcast662 = results.forecast(y = lagged_values, steps= 662)"
   ]
  },
  {
   "cell_type": "code",
   "execution_count": 1165,
   "metadata": {},
   "outputs": [],
   "source": [
    "idx662 = pd.date_range('2017-06-02',periods=662,freq='D')"
   ]
  },
  {
   "cell_type": "code",
   "execution_count": 1166,
   "metadata": {},
   "outputs": [],
   "source": [
    "df_forecast662 = pd.DataFrame(data=fcast662,index=idx662,columns=['sp500_Close_1d','dax_Close_1d'])"
   ]
  },
  {
   "cell_type": "code",
   "execution_count": 1167,
   "metadata": {},
   "outputs": [
    {
     "data": {
      "text/html": [
       "<div>\n",
       "<style scoped>\n",
       "    .dataframe tbody tr th:only-of-type {\n",
       "        vertical-align: middle;\n",
       "    }\n",
       "\n",
       "    .dataframe tbody tr th {\n",
       "        vertical-align: top;\n",
       "    }\n",
       "\n",
       "    .dataframe thead th {\n",
       "        text-align: right;\n",
       "    }\n",
       "</style>\n",
       "<table border=\"1\" class=\"dataframe\">\n",
       "  <thead>\n",
       "    <tr style=\"text-align: right;\">\n",
       "      <th></th>\n",
       "      <th>sp500_Close_1d</th>\n",
       "      <th>dax_Close_1d</th>\n",
       "    </tr>\n",
       "  </thead>\n",
       "  <tbody>\n",
       "    <tr>\n",
       "      <th>2017-06-02</th>\n",
       "      <td>-30.122066</td>\n",
       "      <td>111.549624</td>\n",
       "    </tr>\n",
       "    <tr>\n",
       "      <th>2017-06-03</th>\n",
       "      <td>21.664181</td>\n",
       "      <td>48.574280</td>\n",
       "    </tr>\n",
       "    <tr>\n",
       "      <th>2017-06-04</th>\n",
       "      <td>3.506995</td>\n",
       "      <td>7.026668</td>\n",
       "    </tr>\n",
       "    <tr>\n",
       "      <th>2017-06-05</th>\n",
       "      <td>3.622995</td>\n",
       "      <td>11.691624</td>\n",
       "    </tr>\n",
       "    <tr>\n",
       "      <th>2017-06-06</th>\n",
       "      <td>0.437453</td>\n",
       "      <td>-0.195834</td>\n",
       "    </tr>\n",
       "  </tbody>\n",
       "</table>\n",
       "</div>"
      ],
      "text/plain": [
       "            sp500_Close_1d  dax_Close_1d\n",
       "2017-06-02      -30.122066    111.549624\n",
       "2017-06-03       21.664181     48.574280\n",
       "2017-06-04        3.506995      7.026668\n",
       "2017-06-05        3.622995     11.691624\n",
       "2017-06-06        0.437453     -0.195834"
      ]
     },
     "execution_count": 1167,
     "metadata": {},
     "output_type": "execute_result"
    }
   ],
   "source": [
    "df_forecast662.head()"
   ]
  },
  {
   "cell_type": "code",
   "execution_count": 1168,
   "metadata": {},
   "outputs": [],
   "source": [
    "df_forecast662['sp500_Close'] = (indices['sp500_Close'].iloc[0]) + df_forecast['sp500_Close_1d'].cumsum()\n",
    "df_forecast662['dax_Close'] = (indices['dax_Close'].iloc[0]) + df_forecast['dax_Close_1d'].cumsum()"
   ]
  },
  {
   "cell_type": "code",
   "execution_count": 1169,
   "metadata": {},
   "outputs": [
    {
     "data": {
      "text/plain": [
       "<matplotlib.axes._subplots.AxesSubplot at 0x1fca7a08808>"
      ]
     },
     "execution_count": 1169,
     "metadata": {},
     "output_type": "execute_result"
    },
    {
     "data": {
      "image/png": "[encoded data removed]",
      "text/plain": [
       "<Figure size 864x576 with 1 Axes>"
      ]
     },
     "metadata": {
      "needs_background": "light"
     },
     "output_type": "display_data"
    }
   ],
   "source": [
    "indices['sp500_Close'][:'2020-03-15'].plot(legend=True,figsize=(12,8))\n",
    "df_forecast662['sp500_Close'].plot(legend=True)"
   ]
  },
  {
   "cell_type": "code",
   "execution_count": null,
   "metadata": {},
   "outputs": [],
   "source": []
  }
 ],
 "metadata": {
  "kernelspec": {
   "display_name": "Python 3",
   "language": "python",
   "name": "python3"
  },
  "language_info": {
   "codemirror_mode": {
    "name": "ipython",
    "version": 3
   },
   "file_extension": ".py",
   "mimetype": "text/x-python",
   "name": "python",
   "nbconvert_exporter": "python",
   "pygments_lexer": "ipython3",
   "version": "3.7.6"
  }
 },
 "nbformat": 4,
 "nbformat_minor": 4
}
