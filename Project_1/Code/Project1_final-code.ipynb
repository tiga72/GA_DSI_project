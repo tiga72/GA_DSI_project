{
 "cells": [
  {
   "cell_type": "markdown",
   "metadata": {},
   "source": [
    "# Project 1: SAT & ACT Analysis"
   ]
  },
  {
   "cell_type": "markdown",
   "metadata": {},
   "source": [
    "The first markdown cell in a notebook is a great place to provide an overview of your entire project. You will likely want to at least state your\n",
    "\n",
    "## Problem Statement"
   ]
  },
  {
   "cell_type": "markdown",
   "metadata": {},
   "source": [
    "Define the problem you are finding answers for from the data given."
   ]
  },
  {
   "cell_type": "markdown",
   "metadata": {},
   "source": [
    "## Executive Summary\n",
    "\n",
    "If you want to, it's great to use relative links to direct your audience to various sections of a notebook. **HERE'S A DEMONSTRATION WITH THE CURRENT SECTION HEADERS**:\n",
    "\n",
    "### Contents:\n",
    "- [2017 Data Import & Cleaning](#Data-Import-and-Cleaning)\n",
    "- [2018 Data Import and Cleaning](#2018-Data-Import-and-Cleaning)\n",
    "- [Exploratory Data Analysis](#Exploratory-Data-Analysis)\n",
    "- [Data Visualization](#Visualize-the-data)\n",
    "- [Descriptive and Inferential Statistics](#Descriptive-and-Inferential-Statistics)\n",
    "- [Outside Research](#Outside-Research)\n",
    "- [Conclusions and Recommendations](#Conclusions-and-Recommendations)"
   ]
  },
  {
   "cell_type": "markdown",
   "metadata": {},
   "source": [
    "**If you combine your problem statement, executive summary, data dictionary, and conclusions/recommendations, you have an amazing README.md file that quickly aligns your audience to the contents of your project.** Don't forget to cite your data sources!"
   ]
  },
  {
   "cell_type": "markdown",
   "metadata": {},
   "source": [
    "*All libraries used should be added here*"
   ]
  },
  {
   "cell_type": "code",
   "execution_count": 1,
   "metadata": {},
   "outputs": [],
   "source": [
    "import numpy as np\n",
    "import pandas as pd\n",
    "import matplotlib.pyplot as plt\n",
    "import statsmodels.api as sm\n",
    "import seaborn as sns\n",
    "sns.set()\n",
    "%matplotlib inline"
   ]
  },
  {
   "cell_type": "markdown",
   "metadata": {},
   "source": [
    "## 2017 Data Import and Cleaning"
   ]
  },
  {
   "cell_type": "markdown",
   "metadata": {},
   "source": [
    "#### 1. Read In SAT & ACT  Data\n",
    "\n",
    "Read in the `sat_2017.csv` and `act_2017.csv` files and assign them to appropriately named pandas dataframes."
   ]
  },
  {
   "cell_type": "code",
   "execution_count": 2,
   "metadata": {},
   "outputs": [],
   "source": [
    "df_sat17 = pd.read_csv('../data/sat_2017.csv')\n",
    "df_act17 = pd.read_csv('../data/act_2017.csv')"
   ]
  },
  {
   "cell_type": "markdown",
   "metadata": {},
   "source": [
    "#### 2. Display Data\n",
    "\n",
    "Print the first 10 rows of each dataframe to your jupyter notebook"
   ]
  },
  {
   "cell_type": "code",
   "execution_count": 3,
   "metadata": {},
   "outputs": [
    {
     "data": {
      "text/html": [
       "<div>\n",
       "<style scoped>\n",
       "    .dataframe tbody tr th:only-of-type {\n",
       "        vertical-align: middle;\n",
       "    }\n",
       "\n",
       "    .dataframe tbody tr th {\n",
       "        vertical-align: top;\n",
       "    }\n",
       "\n",
       "    .dataframe thead th {\n",
       "        text-align: right;\n",
       "    }\n",
       "</style>\n",
       "<table border=\"1\" class=\"dataframe\">\n",
       "  <thead>\n",
       "    <tr style=\"text-align: right;\">\n",
       "      <th></th>\n",
       "      <th>State</th>\n",
       "      <th>Participation</th>\n",
       "      <th>Evidence-Based Reading and Writing</th>\n",
       "      <th>Math</th>\n",
       "      <th>Total</th>\n",
       "    </tr>\n",
       "  </thead>\n",
       "  <tbody>\n",
       "    <tr>\n",
       "      <th>0</th>\n",
       "      <td>Alabama</td>\n",
       "      <td>5%</td>\n",
       "      <td>593</td>\n",
       "      <td>572</td>\n",
       "      <td>1165</td>\n",
       "    </tr>\n",
       "    <tr>\n",
       "      <th>1</th>\n",
       "      <td>Alaska</td>\n",
       "      <td>38%</td>\n",
       "      <td>547</td>\n",
       "      <td>533</td>\n",
       "      <td>1080</td>\n",
       "    </tr>\n",
       "    <tr>\n",
       "      <th>2</th>\n",
       "      <td>Arizona</td>\n",
       "      <td>30%</td>\n",
       "      <td>563</td>\n",
       "      <td>553</td>\n",
       "      <td>1116</td>\n",
       "    </tr>\n",
       "    <tr>\n",
       "      <th>3</th>\n",
       "      <td>Arkansas</td>\n",
       "      <td>3%</td>\n",
       "      <td>614</td>\n",
       "      <td>594</td>\n",
       "      <td>1208</td>\n",
       "    </tr>\n",
       "    <tr>\n",
       "      <th>4</th>\n",
       "      <td>California</td>\n",
       "      <td>53%</td>\n",
       "      <td>531</td>\n",
       "      <td>524</td>\n",
       "      <td>1055</td>\n",
       "    </tr>\n",
       "    <tr>\n",
       "      <th>5</th>\n",
       "      <td>Colorado</td>\n",
       "      <td>11%</td>\n",
       "      <td>606</td>\n",
       "      <td>595</td>\n",
       "      <td>1201</td>\n",
       "    </tr>\n",
       "    <tr>\n",
       "      <th>6</th>\n",
       "      <td>Connecticut</td>\n",
       "      <td>100%</td>\n",
       "      <td>530</td>\n",
       "      <td>512</td>\n",
       "      <td>1041</td>\n",
       "    </tr>\n",
       "    <tr>\n",
       "      <th>7</th>\n",
       "      <td>Delaware</td>\n",
       "      <td>100%</td>\n",
       "      <td>503</td>\n",
       "      <td>492</td>\n",
       "      <td>996</td>\n",
       "    </tr>\n",
       "    <tr>\n",
       "      <th>8</th>\n",
       "      <td>District of Columbia</td>\n",
       "      <td>100%</td>\n",
       "      <td>482</td>\n",
       "      <td>468</td>\n",
       "      <td>950</td>\n",
       "    </tr>\n",
       "    <tr>\n",
       "      <th>9</th>\n",
       "      <td>Florida</td>\n",
       "      <td>83%</td>\n",
       "      <td>520</td>\n",
       "      <td>497</td>\n",
       "      <td>1017</td>\n",
       "    </tr>\n",
       "  </tbody>\n",
       "</table>\n",
       "</div>"
      ],
      "text/plain": [
       "                  State Participation  Evidence-Based Reading and Writing  \\\n",
       "0               Alabama            5%                                 593   \n",
       "1                Alaska           38%                                 547   \n",
       "2               Arizona           30%                                 563   \n",
       "3              Arkansas            3%                                 614   \n",
       "4            California           53%                                 531   \n",
       "5              Colorado           11%                                 606   \n",
       "6           Connecticut          100%                                 530   \n",
       "7              Delaware          100%                                 503   \n",
       "8  District of Columbia          100%                                 482   \n",
       "9               Florida           83%                                 520   \n",
       "\n",
       "   Math  Total  \n",
       "0   572   1165  \n",
       "1   533   1080  \n",
       "2   553   1116  \n",
       "3   594   1208  \n",
       "4   524   1055  \n",
       "5   595   1201  \n",
       "6   512   1041  \n",
       "7   492    996  \n",
       "8   468    950  \n",
       "9   497   1017  "
      ]
     },
     "execution_count": 3,
     "metadata": {},
     "output_type": "execute_result"
    }
   ],
   "source": [
    "df_sat17.head(10)"
   ]
  },
  {
   "cell_type": "code",
   "execution_count": 4,
   "metadata": {
    "scrolled": true
   },
   "outputs": [
    {
     "data": {
      "text/html": [
       "<div>\n",
       "<style scoped>\n",
       "    .dataframe tbody tr th:only-of-type {\n",
       "        vertical-align: middle;\n",
       "    }\n",
       "\n",
       "    .dataframe tbody tr th {\n",
       "        vertical-align: top;\n",
       "    }\n",
       "\n",
       "    .dataframe thead th {\n",
       "        text-align: right;\n",
       "    }\n",
       "</style>\n",
       "<table border=\"1\" class=\"dataframe\">\n",
       "  <thead>\n",
       "    <tr style=\"text-align: right;\">\n",
       "      <th></th>\n",
       "      <th>State</th>\n",
       "      <th>Participation</th>\n",
       "      <th>English</th>\n",
       "      <th>Math</th>\n",
       "      <th>Reading</th>\n",
       "      <th>Science</th>\n",
       "      <th>Composite</th>\n",
       "    </tr>\n",
       "  </thead>\n",
       "  <tbody>\n",
       "    <tr>\n",
       "      <th>0</th>\n",
       "      <td>National</td>\n",
       "      <td>60%</td>\n",
       "      <td>20.3</td>\n",
       "      <td>20.7</td>\n",
       "      <td>21.4</td>\n",
       "      <td>21.0</td>\n",
       "      <td>21.0</td>\n",
       "    </tr>\n",
       "    <tr>\n",
       "      <th>1</th>\n",
       "      <td>Alabama</td>\n",
       "      <td>100%</td>\n",
       "      <td>18.9</td>\n",
       "      <td>18.4</td>\n",
       "      <td>19.7</td>\n",
       "      <td>19.4</td>\n",
       "      <td>19.2</td>\n",
       "    </tr>\n",
       "    <tr>\n",
       "      <th>2</th>\n",
       "      <td>Alaska</td>\n",
       "      <td>65%</td>\n",
       "      <td>18.7</td>\n",
       "      <td>19.8</td>\n",
       "      <td>20.4</td>\n",
       "      <td>19.9</td>\n",
       "      <td>19.8</td>\n",
       "    </tr>\n",
       "    <tr>\n",
       "      <th>3</th>\n",
       "      <td>Arizona</td>\n",
       "      <td>62%</td>\n",
       "      <td>18.6</td>\n",
       "      <td>19.8</td>\n",
       "      <td>20.1</td>\n",
       "      <td>19.8</td>\n",
       "      <td>19.7</td>\n",
       "    </tr>\n",
       "    <tr>\n",
       "      <th>4</th>\n",
       "      <td>Arkansas</td>\n",
       "      <td>100%</td>\n",
       "      <td>18.9</td>\n",
       "      <td>19.0</td>\n",
       "      <td>19.7</td>\n",
       "      <td>19.5</td>\n",
       "      <td>19.4</td>\n",
       "    </tr>\n",
       "    <tr>\n",
       "      <th>5</th>\n",
       "      <td>California</td>\n",
       "      <td>31%</td>\n",
       "      <td>22.5</td>\n",
       "      <td>22.7</td>\n",
       "      <td>23.1</td>\n",
       "      <td>22.2</td>\n",
       "      <td>22.8</td>\n",
       "    </tr>\n",
       "    <tr>\n",
       "      <th>6</th>\n",
       "      <td>Colorado</td>\n",
       "      <td>100%</td>\n",
       "      <td>20.1</td>\n",
       "      <td>20.3</td>\n",
       "      <td>21.2</td>\n",
       "      <td>20.9</td>\n",
       "      <td>20.8</td>\n",
       "    </tr>\n",
       "    <tr>\n",
       "      <th>7</th>\n",
       "      <td>Connecticut</td>\n",
       "      <td>31%</td>\n",
       "      <td>25.5</td>\n",
       "      <td>24.6</td>\n",
       "      <td>25.6</td>\n",
       "      <td>24.6</td>\n",
       "      <td>25.2</td>\n",
       "    </tr>\n",
       "    <tr>\n",
       "      <th>8</th>\n",
       "      <td>Delaware</td>\n",
       "      <td>18%</td>\n",
       "      <td>24.1</td>\n",
       "      <td>23.4</td>\n",
       "      <td>24.8</td>\n",
       "      <td>23.6</td>\n",
       "      <td>24.1</td>\n",
       "    </tr>\n",
       "    <tr>\n",
       "      <th>9</th>\n",
       "      <td>District of Columbia</td>\n",
       "      <td>32%</td>\n",
       "      <td>24.4</td>\n",
       "      <td>23.5</td>\n",
       "      <td>24.9</td>\n",
       "      <td>23.5</td>\n",
       "      <td>24.2</td>\n",
       "    </tr>\n",
       "  </tbody>\n",
       "</table>\n",
       "</div>"
      ],
      "text/plain": [
       "                  State Participation  English  Math  Reading  Science  \\\n",
       "0              National           60%     20.3  20.7     21.4     21.0   \n",
       "1               Alabama          100%     18.9  18.4     19.7     19.4   \n",
       "2                Alaska           65%     18.7  19.8     20.4     19.9   \n",
       "3               Arizona           62%     18.6  19.8     20.1     19.8   \n",
       "4              Arkansas          100%     18.9  19.0     19.7     19.5   \n",
       "5            California           31%     22.5  22.7     23.1     22.2   \n",
       "6              Colorado          100%     20.1  20.3     21.2     20.9   \n",
       "7           Connecticut           31%     25.5  24.6     25.6     24.6   \n",
       "8              Delaware           18%     24.1  23.4     24.8     23.6   \n",
       "9  District of Columbia           32%     24.4  23.5     24.9     23.5   \n",
       "\n",
       "  Composite  \n",
       "0      21.0  \n",
       "1      19.2  \n",
       "2      19.8  \n",
       "3      19.7  \n",
       "4      19.4  \n",
       "5      22.8  \n",
       "6      20.8  \n",
       "7      25.2  \n",
       "8      24.1  \n",
       "9      24.2  "
      ]
     },
     "execution_count": 4,
     "metadata": {},
     "output_type": "execute_result"
    }
   ],
   "source": [
    "df_act17.head(10)"
   ]
  },
  {
   "cell_type": "markdown",
   "metadata": {},
   "source": [
    "#### 3. Verbally Describe Data\n",
    "\n",
    "Take your time looking through the data and thoroughly describe the data in the markdown cell below. "
   ]
  },
  {
   "cell_type": "markdown",
   "metadata": {},
   "source": [
    "**Answer:**\n",
    "\n",
    "<span style='color:Blue'>\n",
    "    \n",
    "* The files read are: sat_2017.csv and act_2017.csv\n",
    "* sat_2017.csv has 52 rows (include header)\n",
    "* act_2017.csv has 53 rows (include header)\n",
    "* Both files have the same column field of 'State'\n",
    "\n",
    "  \n",
    "</span>\n",
    "\n",
    "_NB: For consistency and ease of read. 'sat17' shall refer to sat_2017.csv; 'act17' shall refer to act_2017.csv_"
   ]
  },
  {
   "cell_type": "markdown",
   "metadata": {},
   "source": [
    "#### 4a. Does the data look complete? "
   ]
  },
  {
   "cell_type": "markdown",
   "metadata": {},
   "source": [
    "<span style='color:Red'>\n",
    "\n",
    "*No. of issues identified in the data:*\n",
    "\n",
    "1. act17's Composite score for State Wyoming is '20.2x'(type error). This singular value needs to be fixed/adjusted    \n",
    "2. act17's Composite need to change datatype to float to faciliate computation\n",
    "3. act17's 'Participation': To remove '%' otherwise, unable to proceed changing datatype\n",
    "4. act17's 'Participation' need to change datatype to int64 to faciliate computation\n",
    "\n",
    "------------------------------------------------------------------------------\n",
    "\n",
    "5. sat17's 'Participation': To remove '%' otherwise, unable to proceed changing datatype    \n",
    "6. sat17's 'Participation' need to change datatype to int64 to faciliate computation\n",
    "\n",
    "------------------------------------------------------------------------------\n",
    "\n",
    "7. No.of rows for both dataset do not match. \n",
    "<br />\n",
    "A quick visual check indicates act17 xls has an additional row named 'National' (To be verified via python based check in later code)\n",
    "\n",
    "_NB: 7 error items identified, these will be refer in later sections as 'item1_error' etc_    \n",
    "</span>\n",
    "\n",
    "------------------------------------------------------------------------------\n",
    "\n"
   ]
  },
  {
   "cell_type": "markdown",
   "metadata": {},
   "source": [
    "#### 4b. Are there any obvious issues with the observations?\n",
    "\n",
    "**What is the minimum *possible* value for each test/subtest? What is the maximum *possible* value?**\n",
    "\n",
    "\n",
    "------------------------------------------------------------------------------\n",
    "<span style='color:Blue'>\n",
    "\n",
    "\n",
    "ACT\n",
    "* Composite score from 1 to 36\n",
    "* Each individual subject(English, mathematics, reading, science) from 1 to 36\n",
    "\n",
    "------------------------------------------------------------------------------\n",
    "SAT\n",
    "\n",
    "* Total score from 400–1600\n",
    "* Evidence-Based Reading and Writing Section from 200–800\n",
    "* Math Section from 200–800\n",
    "    \n",
    "------------------------------------------------------------------------------    \n",
    "</span>\n",
    "\n",
    "\n",
    "Consider comparing any questionable values to the sources of your data:\n",
    "- [SAT](https://blog.collegevine.com/here-are-the-average-sat-scores-by-state/)\n",
    "- [ACT](https://blog.prepscholar.com/act-scores-by-state-averages-highs-and-lows)"
   ]
  },
  {
   "cell_type": "markdown",
   "metadata": {},
   "source": [
    "**Answer:**\n",
    "\n",
    "<br />\n",
    "<span style='color:Blue'>\n",
    "\n",
    "Range based data checks performed, indicated the data values are ok and fall within the range :\n",
    "    \n",
    "sat17's data all comply and fall within range:\n",
    "* Total score: 400–1600\n",
    "* Evidence-Based Reading and Writing Section: 200–800\n",
    "* Math Section: 200–800\n",
    "------------------------------------------------------------------------------    \n",
    "act17 data all comply and fall within range:\n",
    "* Composite score: 1-36\n",
    "* All individual subjects(English, mathematics, reading, science): 1-36\n",
    "    \n",
    "</span>"
   ]
  },
  {
   "cell_type": "markdown",
   "metadata": {},
   "source": [
    "#### 4c. Fix any errors you identified\n",
    "\n",
    "**The data is available** so there's no need to guess or calculate anything. If you didn't find any errors, continue to the next step."
   ]
  },
  {
   "cell_type": "markdown",
   "metadata": {},
   "source": [
    "<span style='color:Blue'>\n",
    "\n",
    "**Fix item1_error:**\n",
    "<br />act17's Composite need to change datatype to float to faciliate computation\n",
    "\n",
    "\n",
    "    \n",
    "</span>"
   ]
  },
  {
   "cell_type": "code",
   "execution_count": 5,
   "metadata": {},
   "outputs": [
    {
     "data": {
      "text/plain": [
       "20.15"
      ]
     },
     "execution_count": 5,
     "metadata": {},
     "output_type": "execute_result"
    }
   ],
   "source": [
    "# ACT composite is the average of 4 subjects\n",
    "# We can safely use this value to replace the original '20.2x'\n",
    "sum_of_4_subj = df_act17.loc[51,'English'] + df_act17.loc[51,'Math'] + df_act17.loc[51,'Reading'] + df_act17.loc[51,'Science'] \n",
    "avg_4_subj = sum_of_4_subj/4\n",
    "avg_4_subj"
   ]
  },
  {
   "cell_type": "code",
   "execution_count": 6,
   "metadata": {},
   "outputs": [
    {
     "data": {
      "text/plain": [
       "20.15"
      ]
     },
     "execution_count": 6,
     "metadata": {},
     "output_type": "execute_result"
    }
   ],
   "source": [
    "\n",
    "# Obvious fact that rounding 20.15 gives 20.2 (almost same as 20.2x)\n",
    "# Assigns newly calculated composite value. From '20.2x' to 20.15\n",
    "df_act17.loc[51,'Composite'] = avg_4_subj\n",
    "df_act17.loc[51,'Composite']"
   ]
  },
  {
   "cell_type": "markdown",
   "metadata": {},
   "source": [
    "#### 5. What are your data types? \n",
    "Display the data types of each feature. "
   ]
  },
  {
   "cell_type": "code",
   "execution_count": 7,
   "metadata": {},
   "outputs": [
    {
     "name": "stdout",
     "output_type": "stream",
     "text": [
      "State             object\n",
      "Participation     object\n",
      "English          float64\n",
      "Math             float64\n",
      "Reading          float64\n",
      "Science          float64\n",
      "Composite         object\n",
      "dtype: object\n",
      "State                                 object\n",
      "Participation                         object\n",
      "Evidence-Based Reading and Writing     int64\n",
      "Math                                   int64\n",
      "Total                                  int64\n",
      "dtype: object\n"
     ]
    }
   ],
   "source": [
    "print(df_act17.dtypes)\n",
    "print(df_sat17.dtypes)"
   ]
  },
  {
   "cell_type": "markdown",
   "metadata": {},
   "source": [
    "What did you learn?\n",
    "- Do any of them seem odd?  \n",
    "- Which ones are not as they should be?  "
   ]
  },
  {
   "cell_type": "markdown",
   "metadata": {},
   "source": [
    "\n",
    "**Answers:**<br />\n",
    "<span style='color:Blue'>\n",
    "Answers have already been addressed in the earlier sections    \n",
    "</span>"
   ]
  },
  {
   "cell_type": "markdown",
   "metadata": {},
   "source": [
    "#### 6. Fix Incorrect Data Types\n",
    "Based on what you discovered above, use appropriate methods to re-type incorrectly typed data.\n",
    "- Define a function that will allow you to convert participation rates to an appropriate numeric type. Use `map` or `apply` to change these columns in each dataframe."
   ]
  },
  {
   "cell_type": "markdown",
   "metadata": {},
   "source": [
    "<span style='color:Blue'>\n",
    "\n",
    "**Fix item2_error:**\n",
    "<br />act17's Composite need to change datatype to float to faciliate computation\n",
    "\n",
    "------------------------------------------------------------------------------\n",
    "**Remarks**<br />\n",
    "Alternative method:<br />\n",
    "df_act17['Composite'] = df_act17['Composite'].astype(float)    \n",
    "    \n",
    "</span>"
   ]
  },
  {
   "cell_type": "code",
   "execution_count": 8,
   "metadata": {},
   "outputs": [
    {
     "name": "stdout",
     "output_type": "stream",
     "text": [
      "<class 'pandas.core.frame.DataFrame'>\n",
      "RangeIndex: 52 entries, 0 to 51\n",
      "Data columns (total 1 columns):\n",
      " #   Column     Non-Null Count  Dtype \n",
      "---  ------     --------------  ----- \n",
      " 0   Composite  52 non-null     object\n",
      "dtypes: object(1)\n",
      "memory usage: 544.0+ bytes\n"
     ]
    }
   ],
   "source": [
    "df_act17[['Composite']].info()"
   ]
  },
  {
   "cell_type": "code",
   "execution_count": 9,
   "metadata": {},
   "outputs": [
    {
     "name": "stdout",
     "output_type": "stream",
     "text": [
      "<class 'pandas.core.frame.DataFrame'>\n",
      "RangeIndex: 52 entries, 0 to 51\n",
      "Data columns (total 1 columns):\n",
      " #   Column     Non-Null Count  Dtype  \n",
      "---  ------     --------------  -----  \n",
      " 0   Composite  52 non-null     float64\n",
      "dtypes: float64(1)\n",
      "memory usage: 544.0 bytes\n"
     ]
    }
   ],
   "source": [
    "df_act17['Composite'] = df_act17['Composite'].apply(pd.to_numeric)\n",
    "df_act17[['Composite']].info()"
   ]
  },
  {
   "cell_type": "markdown",
   "metadata": {},
   "source": [
    "- Fix any individual values preventing other columns from being the appropriate type."
   ]
  },
  {
   "cell_type": "markdown",
   "metadata": {},
   "source": [
    "<span style='color:Blue'>\n",
    "\n",
    "**Fix item3_error:**\n",
    "<br />act17's 'Participation': To remove '%' otherwise, unable to proceed changing datatype\n",
    "\n",
    "------------------------------------------------------------------------------\n",
    "**Remarks:**<br />\n",
    "None   \n",
    "    \n",
    "</span>"
   ]
  },
  {
   "cell_type": "code",
   "execution_count": 10,
   "metadata": {},
   "outputs": [
    {
     "data": {
      "text/html": [
       "<div>\n",
       "<style scoped>\n",
       "    .dataframe tbody tr th:only-of-type {\n",
       "        vertical-align: middle;\n",
       "    }\n",
       "\n",
       "    .dataframe tbody tr th {\n",
       "        vertical-align: top;\n",
       "    }\n",
       "\n",
       "    .dataframe thead th {\n",
       "        text-align: right;\n",
       "    }\n",
       "</style>\n",
       "<table border=\"1\" class=\"dataframe\">\n",
       "  <thead>\n",
       "    <tr style=\"text-align: right;\">\n",
       "      <th></th>\n",
       "      <th>Participation</th>\n",
       "    </tr>\n",
       "  </thead>\n",
       "  <tbody>\n",
       "    <tr>\n",
       "      <th>0</th>\n",
       "      <td>60</td>\n",
       "    </tr>\n",
       "    <tr>\n",
       "      <th>1</th>\n",
       "      <td>100</td>\n",
       "    </tr>\n",
       "  </tbody>\n",
       "</table>\n",
       "</div>"
      ],
      "text/plain": [
       "  Participation\n",
       "0            60\n",
       "1           100"
      ]
     },
     "execution_count": 10,
     "metadata": {},
     "output_type": "execute_result"
    }
   ],
   "source": [
    "df_act17['Participation'] = df_act17.Participation.str.replace('%','')\n",
    "# To confirm that '%' is removed\n",
    "df_act17[['Participation']].head(2)"
   ]
  },
  {
   "cell_type": "markdown",
   "metadata": {},
   "source": [
    "<span style='color:Blue'>\n",
    "\n",
    "**Fix item4_error:**\n",
    "<br />act17's 'Participation' need to change datatype to int64 to faciliate computation\n",
    "\n",
    "------------------------------------------------------------------------------\n",
    "**Remarks:**<br />\n",
    "None\n",
    "    \n",
    "</span>"
   ]
  },
  {
   "cell_type": "code",
   "execution_count": 11,
   "metadata": {},
   "outputs": [
    {
     "name": "stdout",
     "output_type": "stream",
     "text": [
      "object\n",
      "Changing the datatype...\n",
      "int64\n"
     ]
    }
   ],
   "source": [
    "print(df_act17.Participation.dtypes)\n",
    "#print('\\n')\n",
    "print(\"Changing the datatype...\")\n",
    "#print('\\n')\n",
    "df_act17['Participation'] = pd.to_numeric(df_act17['Participation'])\n",
    "print(df_act17.Participation.dtypes)"
   ]
  },
  {
   "cell_type": "markdown",
   "metadata": {},
   "source": [
    "<span style='color:Blue'>\n",
    "\n",
    "**Fix item5_error:**\n",
    "<br />sat17's 'Participation': To remove '%' otherwise, unable to proceed changing datatype\n",
    "\n",
    "------------------------------------------------------------------------------\n",
    "**Remarks:**<br />\n",
    "None\n",
    "    \n",
    "</span>"
   ]
  },
  {
   "cell_type": "code",
   "execution_count": 12,
   "metadata": {},
   "outputs": [
    {
     "data": {
      "text/html": [
       "<div>\n",
       "<style scoped>\n",
       "    .dataframe tbody tr th:only-of-type {\n",
       "        vertical-align: middle;\n",
       "    }\n",
       "\n",
       "    .dataframe tbody tr th {\n",
       "        vertical-align: top;\n",
       "    }\n",
       "\n",
       "    .dataframe thead th {\n",
       "        text-align: right;\n",
       "    }\n",
       "</style>\n",
       "<table border=\"1\" class=\"dataframe\">\n",
       "  <thead>\n",
       "    <tr style=\"text-align: right;\">\n",
       "      <th></th>\n",
       "      <th>Participation</th>\n",
       "    </tr>\n",
       "  </thead>\n",
       "  <tbody>\n",
       "    <tr>\n",
       "      <th>0</th>\n",
       "      <td>5%</td>\n",
       "    </tr>\n",
       "    <tr>\n",
       "      <th>1</th>\n",
       "      <td>38%</td>\n",
       "    </tr>\n",
       "  </tbody>\n",
       "</table>\n",
       "</div>"
      ],
      "text/plain": [
       "  Participation\n",
       "0            5%\n",
       "1           38%"
      ]
     },
     "execution_count": 12,
     "metadata": {},
     "output_type": "execute_result"
    }
   ],
   "source": [
    "df_sat17[['Participation']].head(2)"
   ]
  },
  {
   "cell_type": "code",
   "execution_count": 13,
   "metadata": {},
   "outputs": [
    {
     "data": {
      "text/html": [
       "<div>\n",
       "<style scoped>\n",
       "    .dataframe tbody tr th:only-of-type {\n",
       "        vertical-align: middle;\n",
       "    }\n",
       "\n",
       "    .dataframe tbody tr th {\n",
       "        vertical-align: top;\n",
       "    }\n",
       "\n",
       "    .dataframe thead th {\n",
       "        text-align: right;\n",
       "    }\n",
       "</style>\n",
       "<table border=\"1\" class=\"dataframe\">\n",
       "  <thead>\n",
       "    <tr style=\"text-align: right;\">\n",
       "      <th></th>\n",
       "      <th>Participation</th>\n",
       "    </tr>\n",
       "  </thead>\n",
       "  <tbody>\n",
       "    <tr>\n",
       "      <th>0</th>\n",
       "      <td>5</td>\n",
       "    </tr>\n",
       "    <tr>\n",
       "      <th>1</th>\n",
       "      <td>38</td>\n",
       "    </tr>\n",
       "  </tbody>\n",
       "</table>\n",
       "</div>"
      ],
      "text/plain": [
       "  Participation\n",
       "0             5\n",
       "1            38"
      ]
     },
     "execution_count": 13,
     "metadata": {},
     "output_type": "execute_result"
    }
   ],
   "source": [
    "df_sat17['Participation'] = df_sat17.Participation.str.replace('%','')\n",
    "# To confirm that '%' is removed\n",
    "df_sat17[['Participation']].head(2)"
   ]
  },
  {
   "cell_type": "markdown",
   "metadata": {},
   "source": [
    "<span style='color:Blue'>\n",
    "\n",
    "**Fix item6_error:**\n",
    "<br />sat17's 'Participation' need to change datatype to int64 to faciliate computation\n",
    "\n",
    "------------------------------------------------------------------------------\n",
    "**Remarks:**<br />\n",
    "None\n",
    "    \n",
    "</span>"
   ]
  },
  {
   "cell_type": "code",
   "execution_count": 14,
   "metadata": {},
   "outputs": [
    {
     "data": {
      "text/plain": [
       "dtype('O')"
      ]
     },
     "execution_count": 14,
     "metadata": {},
     "output_type": "execute_result"
    }
   ],
   "source": [
    "df_sat17.Participation.dtypes"
   ]
  },
  {
   "cell_type": "code",
   "execution_count": 15,
   "metadata": {},
   "outputs": [
    {
     "data": {
      "text/plain": [
       "dtype('int64')"
      ]
     },
     "execution_count": 15,
     "metadata": {},
     "output_type": "execute_result"
    }
   ],
   "source": [
    "df_sat17['Participation'] = pd.to_numeric(df_sat17['Participation'])\n",
    "df_sat17.Participation.dtypes"
   ]
  },
  {
   "cell_type": "markdown",
   "metadata": {},
   "source": [
    "- Finish your data modifications by making sure the columns are now typed appropriately."
   ]
  },
  {
   "cell_type": "code",
   "execution_count": 16,
   "metadata": {},
   "outputs": [
    {
     "data": {
      "text/html": [
       "<div>\n",
       "<style scoped>\n",
       "    .dataframe tbody tr th:only-of-type {\n",
       "        vertical-align: middle;\n",
       "    }\n",
       "\n",
       "    .dataframe tbody tr th {\n",
       "        vertical-align: top;\n",
       "    }\n",
       "\n",
       "    .dataframe thead th {\n",
       "        text-align: right;\n",
       "    }\n",
       "</style>\n",
       "<table border=\"1\" class=\"dataframe\">\n",
       "  <thead>\n",
       "    <tr style=\"text-align: right;\">\n",
       "      <th></th>\n",
       "      <th>Participation</th>\n",
       "      <th>English</th>\n",
       "      <th>Math</th>\n",
       "      <th>Reading</th>\n",
       "      <th>Science</th>\n",
       "      <th>Composite</th>\n",
       "    </tr>\n",
       "  </thead>\n",
       "  <tbody>\n",
       "    <tr>\n",
       "      <th>count</th>\n",
       "      <td>52.000000</td>\n",
       "      <td>52.000000</td>\n",
       "      <td>52.000000</td>\n",
       "      <td>52.000000</td>\n",
       "      <td>52.000000</td>\n",
       "      <td>52.000000</td>\n",
       "    </tr>\n",
       "    <tr>\n",
       "      <th>mean</th>\n",
       "      <td>65.153846</td>\n",
       "      <td>20.919231</td>\n",
       "      <td>21.173077</td>\n",
       "      <td>22.001923</td>\n",
       "      <td>21.040385</td>\n",
       "      <td>21.508654</td>\n",
       "    </tr>\n",
       "    <tr>\n",
       "      <th>std</th>\n",
       "      <td>31.832518</td>\n",
       "      <td>2.332132</td>\n",
       "      <td>1.963602</td>\n",
       "      <td>2.048672</td>\n",
       "      <td>3.151113</td>\n",
       "      <td>2.002736</td>\n",
       "    </tr>\n",
       "    <tr>\n",
       "      <th>min</th>\n",
       "      <td>8.000000</td>\n",
       "      <td>16.300000</td>\n",
       "      <td>18.000000</td>\n",
       "      <td>18.100000</td>\n",
       "      <td>2.300000</td>\n",
       "      <td>17.800000</td>\n",
       "    </tr>\n",
       "    <tr>\n",
       "      <th>25%</th>\n",
       "      <td>31.000000</td>\n",
       "      <td>19.000000</td>\n",
       "      <td>19.400000</td>\n",
       "      <td>20.475000</td>\n",
       "      <td>19.900000</td>\n",
       "      <td>19.800000</td>\n",
       "    </tr>\n",
       "    <tr>\n",
       "      <th>50%</th>\n",
       "      <td>68.000000</td>\n",
       "      <td>20.550000</td>\n",
       "      <td>20.900000</td>\n",
       "      <td>21.700000</td>\n",
       "      <td>21.150000</td>\n",
       "      <td>21.400000</td>\n",
       "    </tr>\n",
       "    <tr>\n",
       "      <th>75%</th>\n",
       "      <td>100.000000</td>\n",
       "      <td>23.300000</td>\n",
       "      <td>23.100000</td>\n",
       "      <td>24.125000</td>\n",
       "      <td>22.525000</td>\n",
       "      <td>23.600000</td>\n",
       "    </tr>\n",
       "    <tr>\n",
       "      <th>max</th>\n",
       "      <td>100.000000</td>\n",
       "      <td>25.500000</td>\n",
       "      <td>25.300000</td>\n",
       "      <td>26.000000</td>\n",
       "      <td>24.900000</td>\n",
       "      <td>25.500000</td>\n",
       "    </tr>\n",
       "  </tbody>\n",
       "</table>\n",
       "</div>"
      ],
      "text/plain": [
       "       Participation    English       Math    Reading    Science  Composite\n",
       "count      52.000000  52.000000  52.000000  52.000000  52.000000  52.000000\n",
       "mean       65.153846  20.919231  21.173077  22.001923  21.040385  21.508654\n",
       "std        31.832518   2.332132   1.963602   2.048672   3.151113   2.002736\n",
       "min         8.000000  16.300000  18.000000  18.100000   2.300000  17.800000\n",
       "25%        31.000000  19.000000  19.400000  20.475000  19.900000  19.800000\n",
       "50%        68.000000  20.550000  20.900000  21.700000  21.150000  21.400000\n",
       "75%       100.000000  23.300000  23.100000  24.125000  22.525000  23.600000\n",
       "max       100.000000  25.500000  25.300000  26.000000  24.900000  25.500000"
      ]
     },
     "execution_count": 16,
     "metadata": {},
     "output_type": "execute_result"
    }
   ],
   "source": [
    "df_act17.describe()"
   ]
  },
  {
   "cell_type": "code",
   "execution_count": 17,
   "metadata": {},
   "outputs": [
    {
     "data": {
      "text/html": [
       "<div>\n",
       "<style scoped>\n",
       "    .dataframe tbody tr th:only-of-type {\n",
       "        vertical-align: middle;\n",
       "    }\n",
       "\n",
       "    .dataframe tbody tr th {\n",
       "        vertical-align: top;\n",
       "    }\n",
       "\n",
       "    .dataframe thead th {\n",
       "        text-align: right;\n",
       "    }\n",
       "</style>\n",
       "<table border=\"1\" class=\"dataframe\">\n",
       "  <thead>\n",
       "    <tr style=\"text-align: right;\">\n",
       "      <th></th>\n",
       "      <th>Participation</th>\n",
       "      <th>Evidence-Based Reading and Writing</th>\n",
       "      <th>Math</th>\n",
       "      <th>Total</th>\n",
       "    </tr>\n",
       "  </thead>\n",
       "  <tbody>\n",
       "    <tr>\n",
       "      <th>count</th>\n",
       "      <td>51.000000</td>\n",
       "      <td>51.000000</td>\n",
       "      <td>51.000000</td>\n",
       "      <td>51.000000</td>\n",
       "    </tr>\n",
       "    <tr>\n",
       "      <th>mean</th>\n",
       "      <td>39.803922</td>\n",
       "      <td>569.117647</td>\n",
       "      <td>547.627451</td>\n",
       "      <td>1126.098039</td>\n",
       "    </tr>\n",
       "    <tr>\n",
       "      <th>std</th>\n",
       "      <td>35.276632</td>\n",
       "      <td>45.666901</td>\n",
       "      <td>84.909119</td>\n",
       "      <td>92.494812</td>\n",
       "    </tr>\n",
       "    <tr>\n",
       "      <th>min</th>\n",
       "      <td>2.000000</td>\n",
       "      <td>482.000000</td>\n",
       "      <td>52.000000</td>\n",
       "      <td>950.000000</td>\n",
       "    </tr>\n",
       "    <tr>\n",
       "      <th>25%</th>\n",
       "      <td>4.000000</td>\n",
       "      <td>533.500000</td>\n",
       "      <td>522.000000</td>\n",
       "      <td>1055.500000</td>\n",
       "    </tr>\n",
       "    <tr>\n",
       "      <th>50%</th>\n",
       "      <td>38.000000</td>\n",
       "      <td>559.000000</td>\n",
       "      <td>548.000000</td>\n",
       "      <td>1107.000000</td>\n",
       "    </tr>\n",
       "    <tr>\n",
       "      <th>75%</th>\n",
       "      <td>66.000000</td>\n",
       "      <td>613.000000</td>\n",
       "      <td>599.000000</td>\n",
       "      <td>1212.000000</td>\n",
       "    </tr>\n",
       "    <tr>\n",
       "      <th>max</th>\n",
       "      <td>100.000000</td>\n",
       "      <td>644.000000</td>\n",
       "      <td>651.000000</td>\n",
       "      <td>1295.000000</td>\n",
       "    </tr>\n",
       "  </tbody>\n",
       "</table>\n",
       "</div>"
      ],
      "text/plain": [
       "       Participation  Evidence-Based Reading and Writing        Math  \\\n",
       "count      51.000000                           51.000000   51.000000   \n",
       "mean       39.803922                          569.117647  547.627451   \n",
       "std        35.276632                           45.666901   84.909119   \n",
       "min         2.000000                          482.000000   52.000000   \n",
       "25%         4.000000                          533.500000  522.000000   \n",
       "50%        38.000000                          559.000000  548.000000   \n",
       "75%        66.000000                          613.000000  599.000000   \n",
       "max       100.000000                          644.000000  651.000000   \n",
       "\n",
       "             Total  \n",
       "count    51.000000  \n",
       "mean   1126.098039  \n",
       "std      92.494812  \n",
       "min     950.000000  \n",
       "25%    1055.500000  \n",
       "50%    1107.000000  \n",
       "75%    1212.000000  \n",
       "max    1295.000000  "
      ]
     },
     "execution_count": 17,
     "metadata": {},
     "output_type": "execute_result"
    }
   ],
   "source": [
    "df_sat17.describe()"
   ]
  },
  {
   "cell_type": "markdown",
   "metadata": {},
   "source": [
    "- Display the data types again to confirm they are correct."
   ]
  },
  {
   "cell_type": "code",
   "execution_count": 18,
   "metadata": {},
   "outputs": [
    {
     "data": {
      "text/plain": [
       "State             object\n",
       "Participation      int64\n",
       "English          float64\n",
       "Math             float64\n",
       "Reading          float64\n",
       "Science          float64\n",
       "Composite        float64\n",
       "dtype: object"
      ]
     },
     "execution_count": 18,
     "metadata": {},
     "output_type": "execute_result"
    }
   ],
   "source": [
    "df_act17.dtypes"
   ]
  },
  {
   "cell_type": "code",
   "execution_count": 19,
   "metadata": {},
   "outputs": [
    {
     "data": {
      "text/plain": [
       "State                                 object\n",
       "Participation                          int64\n",
       "Evidence-Based Reading and Writing     int64\n",
       "Math                                   int64\n",
       "Total                                  int64\n",
       "dtype: object"
      ]
     },
     "execution_count": 19,
     "metadata": {},
     "output_type": "execute_result"
    }
   ],
   "source": [
    "df_sat17.dtypes"
   ]
  },
  {
   "cell_type": "markdown",
   "metadata": {},
   "source": [
    "#### 7. Rename Columns\n",
    "Change the names of the columns to more expressive names so that you can tell the difference the SAT columns and the ACT columns. Your solution should map all column names being changed at once (no repeated singular name-changes). **We will be combining these data with some of the data from 2018, and so you should name columns in an appropriate way**.\n",
    "\n",
    "**Guidelines**:\n",
    "- Column names should be all lowercase (you will thank yourself when you start pushing data to SQL later in the course)\n",
    "- Column names should not contain spaces (underscores will suffice--this allows for using the `df.column_name` method to access columns in addition to `df['column_name']`.\n",
    "- Column names should be unique and informative (the only feature that we actually share between dataframes is the state)."
   ]
  },
  {
   "cell_type": "code",
   "execution_count": 20,
   "metadata": {},
   "outputs": [],
   "source": [
    "def rename_df_cols (df_for_update, prefix_to_add):\n",
    "    \"\"\"Updates the column names of a given dataframe\"\"\"\n",
    "    for col_name in df_for_update: # 1st: Remove unwanted symbols/spaces with underscore\n",
    "        if \" \" in col_name or \"-\" in col_name:\n",
    "            temp_col_name = col_name.replace(\" \", \"_\")\n",
    "            temp_col_name = temp_col_name.replace(\"-\", \"_\")\n",
    "            df_for_update.rename(columns={col_name: temp_col_name}, inplace='True')\n",
    "    # 2nd: Adds a prefixes across ALL column names(line 9)\n",
    "    df_for_update.columns = [prefix_to_add + str(col) for col in df_for_update.columns]\n",
    "    for col_name in df_for_update: # 3rd: Reverts column name 'state'\n",
    "        if \"State\" in col_name:\n",
    "            df_for_update.rename(columns={col_name: \"State\"}, inplace='True')\n",
    "    df_for_update.columns = map(str.lower, df_for_update.columns) # 4th: all col_names to lower case\n",
    "    return df_for_update"
   ]
  },
  {
   "cell_type": "code",
   "execution_count": 21,
   "metadata": {},
   "outputs": [
    {
     "data": {
      "text/plain": [
       "array(['state', 'sat17_participation',\n",
       "       'sat17_evidence_based_reading_and_writing', 'sat17_math',\n",
       "       'sat17_total'], dtype=object)"
      ]
     },
     "execution_count": 21,
     "metadata": {},
     "output_type": "execute_result"
    }
   ],
   "source": [
    "# Apply the change on df_sat17\n",
    "rename_df_cols(df_sat17, 'sat17_')\n",
    "# Post-change checks\n",
    "df_sat17.columns.values"
   ]
  },
  {
   "cell_type": "code",
   "execution_count": 22,
   "metadata": {},
   "outputs": [
    {
     "data": {
      "text/plain": [
       "array(['state', 'act17_participation', 'act17_english', 'act17_math',\n",
       "       'act17_reading', 'act17_science', 'act17_composite'], dtype=object)"
      ]
     },
     "execution_count": 22,
     "metadata": {},
     "output_type": "execute_result"
    }
   ],
   "source": [
    "# Apply the change on df_act17\n",
    "rename_df_cols(df_act17, 'act17_')\n",
    "# Post-change checks\n",
    "df_act17.columns.values"
   ]
  },
  {
   "cell_type": "markdown",
   "metadata": {},
   "source": [
    "#### 8. Create a data dictionary\n",
    "\n",
    "Now that we've fixed our data, and given it appropriate names, let's create a [data dictionary](http://library.ucmerced.edu/node/10249). \n",
    "\n",
    "A data dictionary provides a quick overview of features/variables/columns, alongside data types and descriptions. The more descriptive you can be, the more useful this document is.\n",
    "\n",
    "Example of a Fictional Data Dictionary Entry: \n",
    "\n",
    "|Feature|Type|Dataset|Description|\n",
    "|---|---|---|---|\n",
    "|**county_pop**|*integer*|2010 census|The population of the county (units in thousands, where 2.5 represents 2500 people).| \n",
    "|**per_poverty**|*float*|2010 census|The percent of the county over the age of 18 living below the 200% of official US poverty rate (units percent to two decimal places 98.10 means 98.1%)|\n",
    "\n",
    "[Here's a quick link to a short guide for formatting markdown in Jupyter notebooks](https://jupyter-notebook.readthedocs.io/en/stable/examples/Notebook/Working%20With%20Markdown%20Cells.html).\n",
    "\n",
    "Provided is the skeleton for formatting a markdown table, with columns headers that will help you create a data dictionary to quickly summarize your data, as well as some examples. **This would be a great thing to copy and paste into your custom README for this project.**"
   ]
  },
  {
   "cell_type": "markdown",
   "metadata": {},
   "source": [
    "<html xmlns:o=\"urn:schemas-microsoft-com:office:office\"\n",
    "xmlns:x=\"urn:schemas-microsoft-com:office:excel\"\n",
    "xmlns=\"http://www.w3.org/TR/REC-html40\">\n",
    "\n",
    "<head>\n",
    "<meta http-equiv=Content-Type content=\"text/html; charset=windows-1252\">\n",
    "<meta name=ProgId content=Excel.Sheet>\n",
    "<meta name=Generator content=\"Microsoft Excel 14\">\n",
    "<link rel=File-List href=\"d_table_files/filelist.xml\">\n",
    "<style id=\"d_table - Copy_11647_Styles\">\n",
    "<!--table\n",
    "\t{mso-displayed-decimal-separator:\"\\.\";\n",
    "\tmso-displayed-thousand-separator:\"\\,\";}\n",
    ".xl1511647\n",
    "\t{padding-top:1px;\n",
    "\tpadding-right:1px;\n",
    "\tpadding-left:1px;\n",
    "\tmso-ignore:padding;\n",
    "\tcolor:black;\n",
    "\tfont-size:11.0pt;\n",
    "\tfont-weight:400;\n",
    "\tfont-style:normal;\n",
    "\ttext-decoration:none;\n",
    "\tfont-family:Calibri, sans-serif;\n",
    "\tmso-font-charset:0;\n",
    "\tmso-number-format:General;\n",
    "\ttext-align:general;\n",
    "\tvertical-align:bottom;\n",
    "\tmso-background-source:auto;\n",
    "\tmso-pattern:auto;\n",
    "\twhite-space:nowrap;}\n",
    "-->\n",
    "</style>\n",
    "<title>Project1_Data_Dictionary</title>\n",
    "</head>\n",
    "\n",
    "<body>\n",
    "<!--[if !excel]>&nbsp;&nbsp;<![endif]-->\n",
    "<!--The following information was generated by Microsoft Excel's Publish as Web\n",
    "Page wizard.-->\n",
    "<!--If the same item is republished from Excel, all information between the DIV\n",
    "tags will be replaced.-->\n",
    "<!----------------------------->\n",
    "<!--START OF OUTPUT FROM EXCEL PUBLISH AS WEB PAGE WIZARD -->\n",
    "<!----------------------------->\n",
    "\n",
    "<div id=\"d_table - Copy_11647\" align=center x:publishsource=\"Excel\">\n",
    "\n",
    "<h1 style='color:black;font-family:Calibri;font-size:14.0pt;font-weight:800;\n",
    "font-style:normal'>Project1_Data_Dictionary</h1>\n",
    "\n",
    "<table border=0 cellpadding=0 cellspacing=0 width=815 style='border-collapse:\n",
    " collapse;table-layout:fixed;width:613pt'>\n",
    " <col width=231 style='mso-width-source:userset;mso-width-alt:8075;width:174pt'>\n",
    " <col width=49 style='mso-width-source:userset;mso-width-alt:1698;width:37pt'>\n",
    " <col width=83 style='mso-width-source:userset;mso-width-alt:2909;width:63pt'>\n",
    " <col width=452 style='mso-width-source:userset;mso-width-alt:15778;width:339pt'>\n",
    " <tr height=19 style='height:14.5pt'>\n",
    "  <td height=19 class=xl1511647 width=231 style='height:14.5pt;width:174pt'>Feature</td>\n",
    "  <td class=xl1511647 width=49 style='width:37pt'>Type</td>\n",
    "  <td class=xl1511647 width=83 style='width:63pt'>Dataset</td>\n",
    "  <td class=xl1511647 width=452 style='width:339pt'>Description</td>\n",
    " </tr>\n",
    " <tr height=19 style='height:14.5pt'>\n",
    "  <td height=19 class=xl1511647 style='height:14.5pt'>State</td>\n",
    "  <td class=xl1511647>object</td>\n",
    "  <td class=xl1511647>act_2017.csv</td>\n",
    "  <td class=xl1511647>The name of a US State</td>\n",
    " </tr>\n",
    " <tr height=19 style='height:14.5pt'>\n",
    "  <td height=19 class=xl1511647 style='height:14.5pt'>Participation</td>\n",
    "  <td class=xl1511647>integer</td>\n",
    "  <td class=xl1511647>act_2017.csv</td>\n",
    "  <td class=xl1511647>Percentage of students in the state who took the ACT\n",
    "  exam: range 0-100</td>\n",
    " </tr>\n",
    " <tr height=19 style='height:14.5pt'>\n",
    "  <td height=19 class=xl1511647 style='height:14.5pt'>English</td>\n",
    "  <td class=xl1511647>float</td>\n",
    "  <td class=xl1511647>act_2017.csv</td>\n",
    "  <td class=xl1511647>English portion of SAT. Score: range 1-36</td>\n",
    " </tr>\n",
    " <tr height=19 style='height:14.5pt'>\n",
    "  <td height=19 class=xl1511647 style='height:14.5pt'>Math</td>\n",
    "  <td class=xl1511647>float</td>\n",
    "  <td class=xl1511647>act_2017.csv</td>\n",
    "  <td class=xl1511647>Math portion of SAT. Score: range 1-36</td>\n",
    " </tr>\n",
    " <tr height=19 style='height:14.5pt'>\n",
    "  <td height=19 class=xl1511647 style='height:14.5pt'>Reading</td>\n",
    "  <td class=xl1511647>float</td>\n",
    "  <td class=xl1511647>act_2017.csv</td>\n",
    "  <td class=xl1511647>Reading portion of SAT. Score: range 1-36</td>\n",
    " </tr>\n",
    " <tr height=19 style='height:14.5pt'>\n",
    "  <td height=19 class=xl1511647 style='height:14.5pt'>Science</td>\n",
    "  <td class=xl1511647>float</td>\n",
    "  <td class=xl1511647>act_2017.csv</td>\n",
    "  <td class=xl1511647>Science portion of SAT. Score: range 1-36</td>\n",
    " </tr>\n",
    " <tr height=19 style='height:14.5pt'>\n",
    "  <td height=19 class=xl1511647 style='height:14.5pt'>Composite</td>\n",
    "  <td class=xl1511647>float</td>\n",
    "  <td class=xl1511647>act_2017.csv</td>\n",
    "  <td class=xl1511647>The average of the four test scores. Score: range 1-36</td>\n",
    " </tr>\n",
    " <tr height=19 style='height:14.5pt'>\n",
    "  <td height=19 class=xl1511647 style='height:14.5pt'>State</td>\n",
    "  <td class=xl1511647>object</td>\n",
    "  <td class=xl1511647>sat_2017.csv</td>\n",
    "  <td class=xl1511647>The name of a US State</td>\n",
    " </tr>\n",
    " <tr height=19 style='height:14.5pt'>\n",
    "  <td height=19 class=xl1511647 style='height:14.5pt'>Participation</td>\n",
    "  <td class=xl1511647>integer</td>\n",
    "  <td class=xl1511647>sat_2017.csv</td>\n",
    "  <td class=xl1511647>Percentage of students in the state who took the SAT\n",
    "  exam: range 0-100</td>\n",
    " </tr>\n",
    " <tr height=19 style='height:14.5pt'>\n",
    "  <td height=19 class=xl1511647 style='height:14.5pt'>Evidence-Based Reading\n",
    "  and Writing</td>\n",
    "  <td class=xl1511647>integer</td>\n",
    "  <td class=xl1511647>sat_2017.csv</td>\n",
    "  <td class=xl1511647>The reading and writing sections of SAT. Score: range\n",
    "  200-800</td>\n",
    " </tr>\n",
    " <tr height=19 style='height:14.5pt'>\n",
    "  <td height=19 class=xl1511647 style='height:14.5pt'>Math</td>\n",
    "  <td class=xl1511647>integer</td>\n",
    "  <td class=xl1511647>sat_2017.csv</td>\n",
    "  <td class=xl1511647>Math portion of SAT. Score: range 200-800</td>\n",
    " </tr>\n",
    " <tr height=19 style='height:14.5pt'>\n",
    "  <td height=19 class=xl1511647 style='height:14.5pt'>Total</td>\n",
    "  <td class=xl1511647>integer</td>\n",
    "  <td class=xl1511647>sat_2017.csv</td>\n",
    "  <td class=xl1511647>Total SAT scores. Score: 400–1600</td>\n",
    " </tr>\n",
    "  <tr height=0 style='display:none'>\n",
    "  <td width=231 style='width:174pt'></td>\n",
    "  <td width=49 style='width:37pt'></td>\n",
    "  <td width=83 style='width:63pt'></td>\n",
    "  <td width=452 style='width:339pt'></td>\n",
    " </tr>\n",
    " \n",
    "</table>\n",
    "\n",
    "</div>\n",
    "\n",
    "\n",
    "<!----------------------------->\n",
    "<!--END OF OUTPUT FROM EXCEL PUBLISH AS WEB PAGE WIZARD-->\n",
    "<!----------------------------->\n",
    "</body>\n",
    "\n",
    "</html>\n"
   ]
  },
  {
   "cell_type": "markdown",
   "metadata": {},
   "source": [
    "#### 9. Drop unnecessary rows\n",
    "\n",
    "One of our dataframes contains an extra row. Identify and remove this from the dataframe."
   ]
  },
  {
   "cell_type": "markdown",
   "metadata": {},
   "source": [
    "<span style='color:Blue'>\n",
    "\n",
    "**Fix item7_error:**\n",
    "<br />No.of rows for both dataset do not match\n",
    "\n",
    "------------------------------------------------------------------------------\n",
    "**Remarks:**<br />\n",
    "To drop act17's first row 'National'\n",
    "    \n",
    "</span>"
   ]
  },
  {
   "cell_type": "code",
   "execution_count": 23,
   "metadata": {},
   "outputs": [
    {
     "data": {
      "text/html": [
       "<div>\n",
       "<style scoped>\n",
       "    .dataframe tbody tr th:only-of-type {\n",
       "        vertical-align: middle;\n",
       "    }\n",
       "\n",
       "    .dataframe tbody tr th {\n",
       "        vertical-align: top;\n",
       "    }\n",
       "\n",
       "    .dataframe thead th {\n",
       "        text-align: right;\n",
       "    }\n",
       "</style>\n",
       "<table border=\"1\" class=\"dataframe\">\n",
       "  <thead>\n",
       "    <tr style=\"text-align: right;\">\n",
       "      <th></th>\n",
       "      <th>state</th>\n",
       "      <th>act17_participation</th>\n",
       "      <th>act17_english</th>\n",
       "      <th>act17_math</th>\n",
       "      <th>act17_reading</th>\n",
       "      <th>act17_science</th>\n",
       "      <th>act17_composite</th>\n",
       "    </tr>\n",
       "  </thead>\n",
       "  <tbody>\n",
       "    <tr>\n",
       "      <th>0</th>\n",
       "      <td>National</td>\n",
       "      <td>60</td>\n",
       "      <td>20.3</td>\n",
       "      <td>20.7</td>\n",
       "      <td>21.4</td>\n",
       "      <td>21.0</td>\n",
       "      <td>21.0</td>\n",
       "    </tr>\n",
       "    <tr>\n",
       "      <th>1</th>\n",
       "      <td>Alabama</td>\n",
       "      <td>100</td>\n",
       "      <td>18.9</td>\n",
       "      <td>18.4</td>\n",
       "      <td>19.7</td>\n",
       "      <td>19.4</td>\n",
       "      <td>19.2</td>\n",
       "    </tr>\n",
       "  </tbody>\n",
       "</table>\n",
       "</div>"
      ],
      "text/plain": [
       "      state  act17_participation  act17_english  act17_math  act17_reading  \\\n",
       "0  National                   60           20.3        20.7           21.4   \n",
       "1   Alabama                  100           18.9        18.4           19.7   \n",
       "\n",
       "   act17_science  act17_composite  \n",
       "0           21.0             21.0  \n",
       "1           19.4             19.2  "
      ]
     },
     "execution_count": 23,
     "metadata": {},
     "output_type": "execute_result"
    }
   ],
   "source": [
    "df_act17.head(2)"
   ]
  },
  {
   "cell_type": "code",
   "execution_count": 24,
   "metadata": {},
   "outputs": [
    {
     "data": {
      "text/plain": [
       "['National']"
      ]
     },
     "execution_count": 24,
     "metadata": {},
     "output_type": "execute_result"
    }
   ],
   "source": [
    "# Understanding both data rows's difference via python rather than visual inspection\n",
    "# Converts ACT's and SAT's pandas series data('State') into lists\n",
    "act17_list = df_act17['state'].tolist()\n",
    "sat17_list = df_sat17['state'].tolist()\n",
    "\n",
    "# The converted lists are then used here to obtain the difference between them\n",
    "diff1 = [state1 for state1 in act17_list if state1 not in sat17_list]\n",
    "diff1"
   ]
  },
  {
   "cell_type": "code",
   "execution_count": 25,
   "metadata": {},
   "outputs": [
    {
     "data": {
      "text/html": [
       "<div>\n",
       "<style scoped>\n",
       "    .dataframe tbody tr th:only-of-type {\n",
       "        vertical-align: middle;\n",
       "    }\n",
       "\n",
       "    .dataframe tbody tr th {\n",
       "        vertical-align: top;\n",
       "    }\n",
       "\n",
       "    .dataframe thead th {\n",
       "        text-align: right;\n",
       "    }\n",
       "</style>\n",
       "<table border=\"1\" class=\"dataframe\">\n",
       "  <thead>\n",
       "    <tr style=\"text-align: right;\">\n",
       "      <th></th>\n",
       "      <th>state</th>\n",
       "      <th>act17_participation</th>\n",
       "      <th>act17_english</th>\n",
       "      <th>act17_math</th>\n",
       "      <th>act17_reading</th>\n",
       "      <th>act17_science</th>\n",
       "      <th>act17_composite</th>\n",
       "    </tr>\n",
       "  </thead>\n",
       "  <tbody>\n",
       "    <tr>\n",
       "      <th>1</th>\n",
       "      <td>Alabama</td>\n",
       "      <td>100</td>\n",
       "      <td>18.9</td>\n",
       "      <td>18.4</td>\n",
       "      <td>19.7</td>\n",
       "      <td>19.4</td>\n",
       "      <td>19.2</td>\n",
       "    </tr>\n",
       "    <tr>\n",
       "      <th>2</th>\n",
       "      <td>Alaska</td>\n",
       "      <td>65</td>\n",
       "      <td>18.7</td>\n",
       "      <td>19.8</td>\n",
       "      <td>20.4</td>\n",
       "      <td>19.9</td>\n",
       "      <td>19.8</td>\n",
       "    </tr>\n",
       "  </tbody>\n",
       "</table>\n",
       "</div>"
      ],
      "text/plain": [
       "     state  act17_participation  act17_english  act17_math  act17_reading  \\\n",
       "1  Alabama                  100           18.9        18.4           19.7   \n",
       "2   Alaska                   65           18.7        19.8           20.4   \n",
       "\n",
       "   act17_science  act17_composite  \n",
       "1           19.4             19.2  \n",
       "2           19.9             19.8  "
      ]
     },
     "execution_count": 25,
     "metadata": {},
     "output_type": "execute_result"
    }
   ],
   "source": [
    "# Use dataframe's drop function to drop entire row and use 'inplace=True' to make changes permanent\n",
    "df_act17.drop(0,inplace=True)\n",
    "df_act17.head(2)"
   ]
  },
  {
   "cell_type": "code",
   "execution_count": 26,
   "metadata": {},
   "outputs": [],
   "source": [
    "# A row is removed, best practice to reset the index\n",
    "# Assigns to temp variable to prevent large output from hoarding the screen\n",
    "temp = df_act17.reset_index()"
   ]
  },
  {
   "cell_type": "markdown",
   "metadata": {},
   "source": [
    "#### 10. Merge Dataframes\n",
    "\n",
    "Join the 2017 ACT and SAT dataframes using the state in each dataframe as the key. Assign this to a new variable."
   ]
  },
  {
   "cell_type": "code",
   "execution_count": 27,
   "metadata": {},
   "outputs": [
    {
     "data": {
      "text/plain": [
       "array(['state', 'act17_participation', 'act17_english', 'act17_math',\n",
       "       'act17_reading', 'act17_science', 'act17_composite',\n",
       "       'sat17_participation', 'sat17_evidence_based_reading_and_writing',\n",
       "       'sat17_math', 'sat17_total'], dtype=object)"
      ]
     },
     "execution_count": 27,
     "metadata": {},
     "output_type": "execute_result"
    }
   ],
   "source": [
    "# pd.merge(df1, df2.rename(on='id', how='left'))\n",
    "\n",
    "df_both17 = pd.merge(df_act17, df_sat17,on='state', how='left')\n",
    "df_both17.columns.values"
   ]
  },
  {
   "cell_type": "code",
   "execution_count": 28,
   "metadata": {},
   "outputs": [
    {
     "data": {
      "text/plain": [
       "state                                        object\n",
       "act17_participation                           int64\n",
       "act17_english                               float64\n",
       "act17_math                                  float64\n",
       "act17_reading                               float64\n",
       "act17_science                               float64\n",
       "act17_composite                             float64\n",
       "sat17_participation                           int64\n",
       "sat17_evidence_based_reading_and_writing      int64\n",
       "sat17_math                                    int64\n",
       "sat17_total                                   int64\n",
       "dtype: object"
      ]
     },
     "execution_count": 28,
     "metadata": {},
     "output_type": "execute_result"
    }
   ],
   "source": [
    "df_both17.dtypes"
   ]
  },
  {
   "cell_type": "markdown",
   "metadata": {},
   "source": [
    "#### 11. Save your cleaned, merged dataframe\n",
    "\n",
    "Use a relative path to save out your data as `combined_2017.csv`."
   ]
  },
  {
   "cell_type": "code",
   "execution_count": 29,
   "metadata": {},
   "outputs": [],
   "source": [
    "df_both17.to_csv('../data/combined_2017.csv')"
   ]
  },
  {
   "cell_type": "markdown",
   "metadata": {},
   "source": [
    "## 2018 Data Import and Cleaning"
   ]
  },
  {
   "cell_type": "markdown",
   "metadata": {},
   "source": [
    "Links to the 2018 ACT and SAT data are provided in the README. These data live in PDFs, and so you'll get to enjoy practicing some *manual* data collection. Save these data as a CSV in your `data` directory, and import, explore, and clean these data in the same way you did above. **Make sure you comment on your steps so it is clear *why* you are doing each process**."
   ]
  },
  {
   "cell_type": "code",
   "execution_count": 30,
   "metadata": {},
   "outputs": [],
   "source": [
    "df_sat18 = pd.read_csv('../data/sat_2018.csv')\n",
    "df_act18 = pd.read_csv('../data/act_2018_updated.csv')"
   ]
  },
  {
   "cell_type": "code",
   "execution_count": 31,
   "metadata": {},
   "outputs": [
    {
     "data": {
      "text/plain": [
       "[]"
      ]
     },
     "execution_count": 31,
     "metadata": {},
     "output_type": "execute_result"
    }
   ],
   "source": [
    "# See comments in cell below\n",
    "act18_list = df_act18['State'].tolist()\n",
    "sat18_list = df_sat18['State'].tolist()\n",
    "\n",
    "diff2 = [state1 for state1 in act18_list if state1 not in sat18_list]\n",
    "diff2"
   ]
  },
  {
   "cell_type": "markdown",
   "metadata": {},
   "source": [
    "<span style='color:Red'>\n",
    "\n",
    "**No. of issues identified in the data:**\n",
    "\n",
    "1. sat18 have a row position issue. Need to flip rows 37 and rows 38 **\n",
    "2. sat18's 'Participation': To remove '%' otherwise, unable to proceed changing datatype\n",
    "3. sat18's 'Participation' need to change datatype to int64 to faciliate computation\n",
    "<br />\n",
    "\n",
    "------------------------------------------------------------------------------\n",
    "_NB: <br />\n",
    "**\n",
    "Both sat and act 2018 data have identical values for 'State' based on python comparison<br /> \n",
    "But using a dedicated file difference software(DiffMerge), a positioning difference is spotted<br />\n",
    "The rest of the data: act17/18 and sat17 shows 'Ohio at row37' and 'Oklahoma at row38'<br />\n",
    "Only sat18 is having the above 2 states flipped in sequence<br />\n",
    "The wrong row positioning on file sat18 at rows37 and rows38 needs to be addressed_\n",
    "<br />    \n",
    "\n",
    "_The row numbers could differ based upon checks done on different platforms(DiffMerge vs python etc)_    \n",
    "\n",
    "</span>"
   ]
  },
  {
   "cell_type": "markdown",
   "metadata": {},
   "source": [
    "<span style='color:Blue'>\n",
    "\n",
    "**Fix item1_error:**\n",
    "<br />sat18 have a row position issue. Need to flip rows 37 and rows 38(35 and 36 as in python)\n",
    "\n",
    "------------------------------------------------------------------------------\n",
    "**Remarks:**<br />\n",
    "None\n",
    "    \n",
    "</span>"
   ]
  },
  {
   "cell_type": "code",
   "execution_count": 32,
   "metadata": {},
   "outputs": [
    {
     "data": {
      "text/html": [
       "<div>\n",
       "<style scoped>\n",
       "    .dataframe tbody tr th:only-of-type {\n",
       "        vertical-align: middle;\n",
       "    }\n",
       "\n",
       "    .dataframe tbody tr th {\n",
       "        vertical-align: top;\n",
       "    }\n",
       "\n",
       "    .dataframe thead th {\n",
       "        text-align: right;\n",
       "    }\n",
       "</style>\n",
       "<table border=\"1\" class=\"dataframe\">\n",
       "  <thead>\n",
       "    <tr style=\"text-align: right;\">\n",
       "      <th></th>\n",
       "      <th>State</th>\n",
       "      <th>Percentage of Students Tested</th>\n",
       "      <th>Average Composite Score</th>\n",
       "      <th>Average English Score</th>\n",
       "      <th>Average Math Score</th>\n",
       "      <th>Average Reading Score</th>\n",
       "      <th>Average Science Score</th>\n",
       "    </tr>\n",
       "  </thead>\n",
       "  <tbody>\n",
       "    <tr>\n",
       "      <th>35</th>\n",
       "      <td>Ohio</td>\n",
       "      <td>100</td>\n",
       "      <td>20.3</td>\n",
       "      <td>19.3</td>\n",
       "      <td>20.3</td>\n",
       "      <td>20.8</td>\n",
       "      <td>20.4</td>\n",
       "    </tr>\n",
       "    <tr>\n",
       "      <th>36</th>\n",
       "      <td>Oklahoma</td>\n",
       "      <td>100</td>\n",
       "      <td>19.3</td>\n",
       "      <td>18.4</td>\n",
       "      <td>18.8</td>\n",
       "      <td>20.1</td>\n",
       "      <td>19.4</td>\n",
       "    </tr>\n",
       "  </tbody>\n",
       "</table>\n",
       "</div>"
      ],
      "text/plain": [
       "       State  Percentage of Students Tested  Average Composite Score  \\\n",
       "35      Ohio                            100                     20.3   \n",
       "36  Oklahoma                            100                     19.3   \n",
       "\n",
       "    Average English Score  Average Math Score  Average Reading Score  \\\n",
       "35                   19.3                20.3                   20.8   \n",
       "36                   18.4                18.8                   20.1   \n",
       "\n",
       "    Average Science Score  \n",
       "35                   20.4  \n",
       "36                   19.4  "
      ]
     },
     "execution_count": 32,
     "metadata": {},
     "output_type": "execute_result"
    }
   ],
   "source": [
    "# Pre-change checks\n",
    "df_act18.loc[[35,36]]"
   ]
  },
  {
   "cell_type": "code",
   "execution_count": 33,
   "metadata": {},
   "outputs": [
    {
     "data": {
      "text/html": [
       "<div>\n",
       "<style scoped>\n",
       "    .dataframe tbody tr th:only-of-type {\n",
       "        vertical-align: middle;\n",
       "    }\n",
       "\n",
       "    .dataframe tbody tr th {\n",
       "        vertical-align: top;\n",
       "    }\n",
       "\n",
       "    .dataframe thead th {\n",
       "        text-align: right;\n",
       "    }\n",
       "</style>\n",
       "<table border=\"1\" class=\"dataframe\">\n",
       "  <thead>\n",
       "    <tr style=\"text-align: right;\">\n",
       "      <th></th>\n",
       "      <th>State</th>\n",
       "      <th>Participation</th>\n",
       "      <th>Evidence-Based Reading and Writing</th>\n",
       "      <th>Math</th>\n",
       "      <th>Total</th>\n",
       "    </tr>\n",
       "  </thead>\n",
       "  <tbody>\n",
       "    <tr>\n",
       "      <th>35</th>\n",
       "      <td>Oklahoma</td>\n",
       "      <td>8%</td>\n",
       "      <td>541</td>\n",
       "      <td>521</td>\n",
       "      <td>1062</td>\n",
       "    </tr>\n",
       "    <tr>\n",
       "      <th>36</th>\n",
       "      <td>Ohio</td>\n",
       "      <td>18%</td>\n",
       "      <td>552</td>\n",
       "      <td>547</td>\n",
       "      <td>1099</td>\n",
       "    </tr>\n",
       "  </tbody>\n",
       "</table>\n",
       "</div>"
      ],
      "text/plain": [
       "       State Participation  Evidence-Based Reading and Writing  Math  Total\n",
       "35  Oklahoma            8%                                 541   521   1062\n",
       "36      Ohio           18%                                 552   547   1099"
      ]
     },
     "execution_count": 33,
     "metadata": {},
     "output_type": "execute_result"
    }
   ],
   "source": [
    "# Pre-change checks\n",
    "df_sat18.loc[[35,36]]"
   ]
  },
  {
   "cell_type": "code",
   "execution_count": 34,
   "metadata": {},
   "outputs": [
    {
     "data": {
      "text/html": [
       "<div>\n",
       "<style scoped>\n",
       "    .dataframe tbody tr th:only-of-type {\n",
       "        vertical-align: middle;\n",
       "    }\n",
       "\n",
       "    .dataframe tbody tr th {\n",
       "        vertical-align: top;\n",
       "    }\n",
       "\n",
       "    .dataframe thead th {\n",
       "        text-align: right;\n",
       "    }\n",
       "</style>\n",
       "<table border=\"1\" class=\"dataframe\">\n",
       "  <thead>\n",
       "    <tr style=\"text-align: right;\">\n",
       "      <th></th>\n",
       "      <th>State</th>\n",
       "      <th>Participation</th>\n",
       "      <th>Evidence-Based Reading and Writing</th>\n",
       "      <th>Math</th>\n",
       "      <th>Total</th>\n",
       "    </tr>\n",
       "  </thead>\n",
       "  <tbody>\n",
       "    <tr>\n",
       "      <th>35</th>\n",
       "      <td>Ohio</td>\n",
       "      <td>18%</td>\n",
       "      <td>552</td>\n",
       "      <td>547</td>\n",
       "      <td>1099</td>\n",
       "    </tr>\n",
       "    <tr>\n",
       "      <th>36</th>\n",
       "      <td>Oklahoma</td>\n",
       "      <td>8%</td>\n",
       "      <td>541</td>\n",
       "      <td>521</td>\n",
       "      <td>1062</td>\n",
       "    </tr>\n",
       "  </tbody>\n",
       "</table>\n",
       "</div>"
      ],
      "text/plain": [
       "       State Participation  Evidence-Based Reading and Writing  Math  Total\n",
       "35      Ohio           18%                                 552   547   1099\n",
       "36  Oklahoma            8%                                 541   521   1062"
      ]
     },
     "execution_count": 34,
     "metadata": {},
     "output_type": "execute_result"
    }
   ],
   "source": [
    "# Create temporary backups\n",
    "df_backup35 = df_sat18.loc[35]\n",
    "df_backup36 = df_sat18.loc[36]\n",
    "# Re-assign variables to the approriate rows\n",
    "df_sat18.loc[35] = df_backup36\n",
    "df_sat18.loc[36] = df_backup35\n",
    "# Post-change checks\n",
    "df_sat18.loc[[35,36]]"
   ]
  },
  {
   "cell_type": "markdown",
   "metadata": {},
   "source": [
    "<span style='color:Blue'>\n",
    "\n",
    "**Fix item2_error:**\n",
    "<br />sat18's 'Participation': To remove '%' otherwise, unable to proceed changing datatype\n",
    "\n",
    "------------------------------------------------------------------------------\n",
    "**Remarks:**<br />\n",
    "None\n",
    "    \n",
    "</span>"
   ]
  },
  {
   "cell_type": "code",
   "execution_count": 35,
   "metadata": {},
   "outputs": [
    {
     "data": {
      "text/html": [
       "<div>\n",
       "<style scoped>\n",
       "    .dataframe tbody tr th:only-of-type {\n",
       "        vertical-align: middle;\n",
       "    }\n",
       "\n",
       "    .dataframe tbody tr th {\n",
       "        vertical-align: top;\n",
       "    }\n",
       "\n",
       "    .dataframe thead th {\n",
       "        text-align: right;\n",
       "    }\n",
       "</style>\n",
       "<table border=\"1\" class=\"dataframe\">\n",
       "  <thead>\n",
       "    <tr style=\"text-align: right;\">\n",
       "      <th></th>\n",
       "      <th>Participation</th>\n",
       "    </tr>\n",
       "  </thead>\n",
       "  <tbody>\n",
       "    <tr>\n",
       "      <th>0</th>\n",
       "      <td>6%</td>\n",
       "    </tr>\n",
       "    <tr>\n",
       "      <th>1</th>\n",
       "      <td>43%</td>\n",
       "    </tr>\n",
       "  </tbody>\n",
       "</table>\n",
       "</div>"
      ],
      "text/plain": [
       "  Participation\n",
       "0            6%\n",
       "1           43%"
      ]
     },
     "execution_count": 35,
     "metadata": {},
     "output_type": "execute_result"
    }
   ],
   "source": [
    "# Pre-change checks\n",
    "df_sat18[['Participation']].head(2)"
   ]
  },
  {
   "cell_type": "code",
   "execution_count": 36,
   "metadata": {},
   "outputs": [
    {
     "data": {
      "text/html": [
       "<div>\n",
       "<style scoped>\n",
       "    .dataframe tbody tr th:only-of-type {\n",
       "        vertical-align: middle;\n",
       "    }\n",
       "\n",
       "    .dataframe tbody tr th {\n",
       "        vertical-align: top;\n",
       "    }\n",
       "\n",
       "    .dataframe thead th {\n",
       "        text-align: right;\n",
       "    }\n",
       "</style>\n",
       "<table border=\"1\" class=\"dataframe\">\n",
       "  <thead>\n",
       "    <tr style=\"text-align: right;\">\n",
       "      <th></th>\n",
       "      <th>Participation</th>\n",
       "    </tr>\n",
       "  </thead>\n",
       "  <tbody>\n",
       "    <tr>\n",
       "      <th>0</th>\n",
       "      <td>6</td>\n",
       "    </tr>\n",
       "    <tr>\n",
       "      <th>1</th>\n",
       "      <td>43</td>\n",
       "    </tr>\n",
       "  </tbody>\n",
       "</table>\n",
       "</div>"
      ],
      "text/plain": [
       "  Participation\n",
       "0             6\n",
       "1            43"
      ]
     },
     "execution_count": 36,
     "metadata": {},
     "output_type": "execute_result"
    }
   ],
   "source": [
    "df_sat18['Participation'] = df_sat18.Participation.str.replace('%','')\n",
    "# To confirm that '%' is removed\n",
    "df_sat18[['Participation']].head(2)"
   ]
  },
  {
   "cell_type": "markdown",
   "metadata": {},
   "source": [
    "<span style='color:Blue'>\n",
    "\n",
    "**Fix item3_error:**\n",
    "<br />sat18's 'Participation' need to change datatype to int64 to faciliate computation\n",
    "\n",
    "------------------------------------------------------------------------------\n",
    "**Remarks:**<br />\n",
    "None\n",
    "    \n",
    "</span>"
   ]
  },
  {
   "cell_type": "code",
   "execution_count": 37,
   "metadata": {},
   "outputs": [
    {
     "data": {
      "text/plain": [
       "dtype('O')"
      ]
     },
     "execution_count": 37,
     "metadata": {},
     "output_type": "execute_result"
    }
   ],
   "source": [
    "# Pre-change checks\n",
    "df_sat18.Participation.dtypes"
   ]
  },
  {
   "cell_type": "code",
   "execution_count": 38,
   "metadata": {},
   "outputs": [
    {
     "data": {
      "text/plain": [
       "dtype('int32')"
      ]
     },
     "execution_count": 38,
     "metadata": {},
     "output_type": "execute_result"
    }
   ],
   "source": [
    "df_sat18['Participation'] = df_sat18['Participation'].astype(int)\n",
    "# Post-change checks\n",
    "df_sat18.Participation.dtypes"
   ]
  },
  {
   "cell_type": "markdown",
   "metadata": {},
   "source": [
    "#### Combine your 2017 and 2018 data into a single dataframe\n",
    "Joining on state names should work, assuming you formatted all your state names identically. Make sure none of your columns (other than state) have identical names. Do yourself a favor and decide if you're encoding participation rates as floats or integers and standardize this across your datasets.\n",
    "\n",
    "Save the contents of this merged dataframe as `final.csv`.\n",
    "\n",
    "**Use this combined dataframe for the remainder of the project**."
   ]
  },
  {
   "cell_type": "markdown",
   "metadata": {},
   "source": [
    "<span style='color:Blue'>\n",
    "\n",
    "**The approach:**\n",
    "<br />\n",
    "1. Rename both 2018 files in a similar fashion as before for 2017 files\n",
    "2. Combine both 2018 files as 'df_both18'\n",
    "3. Combine df_both17 and df_both18 as 'final'\n",
    "4. Export final to excel as 'final.csv'\n",
    "    \n",
    "</span>"
   ]
  },
  {
   "cell_type": "markdown",
   "metadata": {},
   "source": [
    "<span style='color:Blue'>\n",
    "Step1. Rename both 2018 files in a similar fashion as before for 2017 files  \n",
    "</span>"
   ]
  },
  {
   "cell_type": "code",
   "execution_count": 39,
   "metadata": {},
   "outputs": [
    {
     "name": "stdout",
     "output_type": "stream",
     "text": [
      "['State' 'Percentage of Students Tested' 'Average Composite Score'\n",
      " 'Average English Score' 'Average Math Score' 'Average Reading Score'\n",
      " 'Average Science Score']\n",
      "['State' 'Participation' 'Evidence-Based Reading and Writing' 'Math'\n",
      " 'Total']\n"
     ]
    }
   ],
   "source": [
    "# Pre-change checks\n",
    "print(df_act18.columns.values)\n",
    "print(df_sat18.columns.values)"
   ]
  },
  {
   "cell_type": "code",
   "execution_count": 40,
   "metadata": {},
   "outputs": [
    {
     "data": {
      "text/plain": [
       "array(['state', 'act18_percentage_of_students_tested',\n",
       "       'act18_average_composite_score', 'act18_average_english_score',\n",
       "       'act18_average_math_score', 'act18_average_reading_score',\n",
       "       'act18_average_science_score'], dtype=object)"
      ]
     },
     "execution_count": 40,
     "metadata": {},
     "output_type": "execute_result"
    }
   ],
   "source": [
    "# Apply the change on df_act18\n",
    "rename_df_cols(df_act18, 'act18_')\n",
    "# Post-change checks\n",
    "df_act18.columns.values"
   ]
  },
  {
   "cell_type": "code",
   "execution_count": 41,
   "metadata": {},
   "outputs": [
    {
     "data": {
      "text/plain": [
       "array(['state', 'sat18_participation',\n",
       "       'sat18_evidence_based_reading_and_writing', 'sat18_math',\n",
       "       'sat18_total'], dtype=object)"
      ]
     },
     "execution_count": 41,
     "metadata": {},
     "output_type": "execute_result"
    }
   ],
   "source": [
    "# Apply the change on df_sat18\n",
    "rename_df_cols(df_sat18, 'sat18_')\n",
    "# Post-change checks\n",
    "df_sat18.columns.values"
   ]
  },
  {
   "cell_type": "markdown",
   "metadata": {},
   "source": [
    "<span style='color:Blue'>\n",
    "Step 2. Combine both 2018 files as 'df_both18'\n",
    "</span>"
   ]
  },
  {
   "cell_type": "code",
   "execution_count": 42,
   "metadata": {},
   "outputs": [
    {
     "data": {
      "text/html": [
       "<div>\n",
       "<style scoped>\n",
       "    .dataframe tbody tr th:only-of-type {\n",
       "        vertical-align: middle;\n",
       "    }\n",
       "\n",
       "    .dataframe tbody tr th {\n",
       "        vertical-align: top;\n",
       "    }\n",
       "\n",
       "    .dataframe thead th {\n",
       "        text-align: right;\n",
       "    }\n",
       "</style>\n",
       "<table border=\"1\" class=\"dataframe\">\n",
       "  <thead>\n",
       "    <tr style=\"text-align: right;\">\n",
       "      <th></th>\n",
       "      <th>state</th>\n",
       "      <th>act18_percentage_of_students_tested</th>\n",
       "      <th>act18_average_composite_score</th>\n",
       "      <th>act18_average_english_score</th>\n",
       "      <th>act18_average_math_score</th>\n",
       "      <th>act18_average_reading_score</th>\n",
       "      <th>act18_average_science_score</th>\n",
       "      <th>sat18_participation</th>\n",
       "      <th>sat18_evidence_based_reading_and_writing</th>\n",
       "      <th>sat18_math</th>\n",
       "      <th>sat18_total</th>\n",
       "    </tr>\n",
       "  </thead>\n",
       "  <tbody>\n",
       "    <tr>\n",
       "      <th>0</th>\n",
       "      <td>Alabama</td>\n",
       "      <td>100</td>\n",
       "      <td>19.1</td>\n",
       "      <td>18.9</td>\n",
       "      <td>18.3</td>\n",
       "      <td>19.6</td>\n",
       "      <td>19.0</td>\n",
       "      <td>6</td>\n",
       "      <td>595</td>\n",
       "      <td>571</td>\n",
       "      <td>1166</td>\n",
       "    </tr>\n",
       "    <tr>\n",
       "      <th>1</th>\n",
       "      <td>Alaska</td>\n",
       "      <td>33</td>\n",
       "      <td>20.8</td>\n",
       "      <td>19.8</td>\n",
       "      <td>20.6</td>\n",
       "      <td>21.6</td>\n",
       "      <td>20.7</td>\n",
       "      <td>43</td>\n",
       "      <td>562</td>\n",
       "      <td>544</td>\n",
       "      <td>1106</td>\n",
       "    </tr>\n",
       "  </tbody>\n",
       "</table>\n",
       "</div>"
      ],
      "text/plain": [
       "     state  act18_percentage_of_students_tested  \\\n",
       "0  Alabama                                  100   \n",
       "1   Alaska                                   33   \n",
       "\n",
       "   act18_average_composite_score  act18_average_english_score  \\\n",
       "0                           19.1                         18.9   \n",
       "1                           20.8                         19.8   \n",
       "\n",
       "   act18_average_math_score  act18_average_reading_score  \\\n",
       "0                      18.3                         19.6   \n",
       "1                      20.6                         21.6   \n",
       "\n",
       "   act18_average_science_score  sat18_participation  \\\n",
       "0                         19.0                    6   \n",
       "1                         20.7                   43   \n",
       "\n",
       "   sat18_evidence_based_reading_and_writing  sat18_math  sat18_total  \n",
       "0                                       595         571         1166  \n",
       "1                                       562         544         1106  "
      ]
     },
     "execution_count": 42,
     "metadata": {},
     "output_type": "execute_result"
    }
   ],
   "source": [
    "# Apply the change\n",
    "df_both18 = pd.merge(df_act18, df_sat18,on='state', how='left')\n",
    "# Post-change checks\n",
    "df_both18.head(2)"
   ]
  },
  {
   "cell_type": "markdown",
   "metadata": {},
   "source": [
    "<span style='color:Blue'>\n",
    "Step 3. Combine df_both17 and df_both18 as 'final.csv'\n",
    "</span>"
   ]
  },
  {
   "cell_type": "code",
   "execution_count": 43,
   "metadata": {},
   "outputs": [
    {
     "data": {
      "text/html": [
       "<div>\n",
       "<style scoped>\n",
       "    .dataframe tbody tr th:only-of-type {\n",
       "        vertical-align: middle;\n",
       "    }\n",
       "\n",
       "    .dataframe tbody tr th {\n",
       "        vertical-align: top;\n",
       "    }\n",
       "\n",
       "    .dataframe thead th {\n",
       "        text-align: right;\n",
       "    }\n",
       "</style>\n",
       "<table border=\"1\" class=\"dataframe\">\n",
       "  <thead>\n",
       "    <tr style=\"text-align: right;\">\n",
       "      <th></th>\n",
       "      <th>state</th>\n",
       "      <th>act17_participation</th>\n",
       "      <th>act17_english</th>\n",
       "      <th>act17_math</th>\n",
       "      <th>act17_reading</th>\n",
       "      <th>act17_science</th>\n",
       "      <th>act17_composite</th>\n",
       "      <th>sat17_participation</th>\n",
       "      <th>sat17_evidence_based_reading_and_writing</th>\n",
       "      <th>sat17_math</th>\n",
       "      <th>...</th>\n",
       "      <th>act18_percentage_of_students_tested</th>\n",
       "      <th>act18_average_composite_score</th>\n",
       "      <th>act18_average_english_score</th>\n",
       "      <th>act18_average_math_score</th>\n",
       "      <th>act18_average_reading_score</th>\n",
       "      <th>act18_average_science_score</th>\n",
       "      <th>sat18_participation</th>\n",
       "      <th>sat18_evidence_based_reading_and_writing</th>\n",
       "      <th>sat18_math</th>\n",
       "      <th>sat18_total</th>\n",
       "    </tr>\n",
       "  </thead>\n",
       "  <tbody>\n",
       "    <tr>\n",
       "      <th>0</th>\n",
       "      <td>Alabama</td>\n",
       "      <td>100</td>\n",
       "      <td>18.9</td>\n",
       "      <td>18.4</td>\n",
       "      <td>19.7</td>\n",
       "      <td>19.4</td>\n",
       "      <td>19.2</td>\n",
       "      <td>5</td>\n",
       "      <td>593</td>\n",
       "      <td>572</td>\n",
       "      <td>...</td>\n",
       "      <td>100</td>\n",
       "      <td>19.1</td>\n",
       "      <td>18.9</td>\n",
       "      <td>18.3</td>\n",
       "      <td>19.6</td>\n",
       "      <td>19.0</td>\n",
       "      <td>6</td>\n",
       "      <td>595</td>\n",
       "      <td>571</td>\n",
       "      <td>1166</td>\n",
       "    </tr>\n",
       "    <tr>\n",
       "      <th>1</th>\n",
       "      <td>Alaska</td>\n",
       "      <td>65</td>\n",
       "      <td>18.7</td>\n",
       "      <td>19.8</td>\n",
       "      <td>20.4</td>\n",
       "      <td>19.9</td>\n",
       "      <td>19.8</td>\n",
       "      <td>38</td>\n",
       "      <td>547</td>\n",
       "      <td>533</td>\n",
       "      <td>...</td>\n",
       "      <td>33</td>\n",
       "      <td>20.8</td>\n",
       "      <td>19.8</td>\n",
       "      <td>20.6</td>\n",
       "      <td>21.6</td>\n",
       "      <td>20.7</td>\n",
       "      <td>43</td>\n",
       "      <td>562</td>\n",
       "      <td>544</td>\n",
       "      <td>1106</td>\n",
       "    </tr>\n",
       "  </tbody>\n",
       "</table>\n",
       "<p>2 rows × 21 columns</p>\n",
       "</div>"
      ],
      "text/plain": [
       "     state  act17_participation  act17_english  act17_math  act17_reading  \\\n",
       "0  Alabama                  100           18.9        18.4           19.7   \n",
       "1   Alaska                   65           18.7        19.8           20.4   \n",
       "\n",
       "   act17_science  act17_composite  sat17_participation  \\\n",
       "0           19.4             19.2                    5   \n",
       "1           19.9             19.8                   38   \n",
       "\n",
       "   sat17_evidence_based_reading_and_writing  sat17_math  ...  \\\n",
       "0                                       593         572  ...   \n",
       "1                                       547         533  ...   \n",
       "\n",
       "   act18_percentage_of_students_tested  act18_average_composite_score  \\\n",
       "0                                  100                           19.1   \n",
       "1                                   33                           20.8   \n",
       "\n",
       "   act18_average_english_score  act18_average_math_score  \\\n",
       "0                         18.9                      18.3   \n",
       "1                         19.8                      20.6   \n",
       "\n",
       "   act18_average_reading_score  act18_average_science_score  \\\n",
       "0                         19.6                         19.0   \n",
       "1                         21.6                         20.7   \n",
       "\n",
       "   sat18_participation  sat18_evidence_based_reading_and_writing  sat18_math  \\\n",
       "0                    6                                       595         571   \n",
       "1                   43                                       562         544   \n",
       "\n",
       "   sat18_total  \n",
       "0         1166  \n",
       "1         1106  \n",
       "\n",
       "[2 rows x 21 columns]"
      ]
     },
     "execution_count": 43,
     "metadata": {},
     "output_type": "execute_result"
    }
   ],
   "source": [
    "# Apply the change\n",
    "final = pd.merge(df_both17, df_both18,on='state', how='left')\n",
    "# Post-change checks\n",
    "final.head(2)"
   ]
  },
  {
   "cell_type": "markdown",
   "metadata": {},
   "source": [
    "<span style='color:Blue'>\n",
    "Step 4. Export final to excel as 'final.csv'\n",
    "</span>"
   ]
  },
  {
   "cell_type": "code",
   "execution_count": 44,
   "metadata": {},
   "outputs": [],
   "source": [
    "final.to_csv('../data/final.csv')"
   ]
  },
  {
   "cell_type": "markdown",
   "metadata": {},
   "source": [
    "## Exploratory Data Analysis\n",
    "\n",
    "\n",
    "### Summary Statistics\n",
    "Transpose the output of pandas `describe` method to create a quick overview of each numeric feature."
   ]
  },
  {
   "cell_type": "code",
   "execution_count": 45,
   "metadata": {},
   "outputs": [
    {
     "data": {
      "text/html": [
       "<div>\n",
       "<style scoped>\n",
       "    .dataframe tbody tr th:only-of-type {\n",
       "        vertical-align: middle;\n",
       "    }\n",
       "\n",
       "    .dataframe tbody tr th {\n",
       "        vertical-align: top;\n",
       "    }\n",
       "\n",
       "    .dataframe thead th {\n",
       "        text-align: right;\n",
       "    }\n",
       "</style>\n",
       "<table border=\"1\" class=\"dataframe\">\n",
       "  <thead>\n",
       "    <tr style=\"text-align: right;\">\n",
       "      <th></th>\n",
       "      <th>count</th>\n",
       "      <th>mean</th>\n",
       "      <th>std</th>\n",
       "      <th>min</th>\n",
       "      <th>25%</th>\n",
       "      <th>50%</th>\n",
       "      <th>75%</th>\n",
       "      <th>max</th>\n",
       "    </tr>\n",
       "  </thead>\n",
       "  <tbody>\n",
       "    <tr>\n",
       "      <th>act17_participation</th>\n",
       "      <td>51.0</td>\n",
       "      <td>65.254902</td>\n",
       "      <td>32.140842</td>\n",
       "      <td>8.0</td>\n",
       "      <td>31.00</td>\n",
       "      <td>69.0</td>\n",
       "      <td>100.00</td>\n",
       "      <td>100.0</td>\n",
       "    </tr>\n",
       "    <tr>\n",
       "      <th>act17_english</th>\n",
       "      <td>51.0</td>\n",
       "      <td>20.931373</td>\n",
       "      <td>2.353677</td>\n",
       "      <td>16.3</td>\n",
       "      <td>19.00</td>\n",
       "      <td>20.7</td>\n",
       "      <td>23.30</td>\n",
       "      <td>25.5</td>\n",
       "    </tr>\n",
       "    <tr>\n",
       "      <th>act17_math</th>\n",
       "      <td>51.0</td>\n",
       "      <td>21.182353</td>\n",
       "      <td>1.981989</td>\n",
       "      <td>18.0</td>\n",
       "      <td>19.40</td>\n",
       "      <td>20.9</td>\n",
       "      <td>23.10</td>\n",
       "      <td>25.3</td>\n",
       "    </tr>\n",
       "    <tr>\n",
       "      <th>act17_reading</th>\n",
       "      <td>51.0</td>\n",
       "      <td>22.013725</td>\n",
       "      <td>2.067271</td>\n",
       "      <td>18.1</td>\n",
       "      <td>20.45</td>\n",
       "      <td>21.8</td>\n",
       "      <td>24.15</td>\n",
       "      <td>26.0</td>\n",
       "    </tr>\n",
       "    <tr>\n",
       "      <th>act17_science</th>\n",
       "      <td>51.0</td>\n",
       "      <td>21.041176</td>\n",
       "      <td>3.182463</td>\n",
       "      <td>2.3</td>\n",
       "      <td>19.90</td>\n",
       "      <td>21.3</td>\n",
       "      <td>22.75</td>\n",
       "      <td>24.9</td>\n",
       "    </tr>\n",
       "    <tr>\n",
       "      <th>act17_composite</th>\n",
       "      <td>51.0</td>\n",
       "      <td>21.518627</td>\n",
       "      <td>2.021360</td>\n",
       "      <td>17.8</td>\n",
       "      <td>19.80</td>\n",
       "      <td>21.4</td>\n",
       "      <td>23.60</td>\n",
       "      <td>25.5</td>\n",
       "    </tr>\n",
       "  </tbody>\n",
       "</table>\n",
       "</div>"
      ],
      "text/plain": [
       "                     count       mean        std   min    25%   50%     75%  \\\n",
       "act17_participation   51.0  65.254902  32.140842   8.0  31.00  69.0  100.00   \n",
       "act17_english         51.0  20.931373   2.353677  16.3  19.00  20.7   23.30   \n",
       "act17_math            51.0  21.182353   1.981989  18.0  19.40  20.9   23.10   \n",
       "act17_reading         51.0  22.013725   2.067271  18.1  20.45  21.8   24.15   \n",
       "act17_science         51.0  21.041176   3.182463   2.3  19.90  21.3   22.75   \n",
       "act17_composite       51.0  21.518627   2.021360  17.8  19.80  21.4   23.60   \n",
       "\n",
       "                       max  \n",
       "act17_participation  100.0  \n",
       "act17_english         25.5  \n",
       "act17_math            25.3  \n",
       "act17_reading         26.0  \n",
       "act17_science         24.9  \n",
       "act17_composite       25.5  "
      ]
     },
     "execution_count": 45,
     "metadata": {},
     "output_type": "execute_result"
    }
   ],
   "source": [
    "# Transpose is one of dataframe's function.\n",
    "# The output of dataframe.describe() is a dataframe\n",
    "# We just take the output from function describe and we add '.transpose()'\n",
    "\n",
    "(df_act17.describe()).transpose()"
   ]
  },
  {
   "cell_type": "markdown",
   "metadata": {},
   "source": [
    "#### Manually calculate standard deviation\n",
    "\n",
    "$$\\sigma = \\sqrt{\\frac{1}{n}\\sum_{i=1}^n(x_i - \\mu)^2}$$\n",
    "\n",
    "- Write a function to calculate standard deviation using the formula above"
   ]
  },
  {
   "cell_type": "markdown",
   "metadata": {},
   "source": [
    "<span style='color:Blue'>\n",
    "The above formula is for population rather than sample. Denominator is n and NOT 'n-1'\n",
    "</span>"
   ]
  },
  {
   "cell_type": "code",
   "execution_count": 46,
   "metadata": {},
   "outputs": [],
   "source": [
    "import statistics\n",
    "from math import sqrt\n",
    "\n",
    "def p_stdev(input_list):\n",
    "    \"\"\"Returns the population standard deviation value based on an input list\"\"\"\n",
    "    avg1 = statistics.mean(input_list) # Gets mean as 'avg1'\n",
    "    numerator_items = [(numb1-avg1)**2 for numb1 in input_list] # Computes each item at the numerator\n",
    "    sum_numerator_item = sum(numerator_items ) # Sums all items at numerator\n",
    "    n = len(input_list) # Calculates population size, this becomes denominator\n",
    "    temp_st_dev = sqrt(sum_numerator_item/n) # St_dev is square-root of variance\n",
    "    return temp_st_dev"
   ]
  },
  {
   "cell_type": "markdown",
   "metadata": {},
   "source": [
    "- Use a **dictionary comprehension** to apply your standard deviation function to each numeric column in the dataframe.  **No loops**  \n",
    "- Assign the output to variable `sd` as a dictionary where: \n",
    "    - Each column name is now a key \n",
    "    - That standard deviation of the column is the value \n",
    "     \n",
    "*Example Output :* `{'ACT_Math': 120, 'ACT_Reading': 120, ...}`"
   ]
  },
  {
   "cell_type": "code",
   "execution_count": 47,
   "metadata": {},
   "outputs": [
    {
     "data": {
      "text/plain": [
       "{'act17_participation': 31.824175751231806,\n",
       " 'act17_english': 2.3304876369363363,\n",
       " 'act17_math': 1.9624620273436784,\n",
       " 'act17_reading': 2.0469029314842646,\n",
       " 'act17_science': 3.151107895464408,\n",
       " 'act17_composite': 2.001444595548517}"
      ]
     },
     "execution_count": 47,
     "metadata": {},
     "output_type": "execute_result"
    }
   ],
   "source": [
    "# I randomnly selects the act17 dataset for this question as an input and caculations\n",
    "\n",
    "# Approach: step1:Creates 2 required lists; step2: Runs the 2 list and the function inside a list comprehension\n",
    "\n",
    "# Gets all the names of each columns and converts them into a single list\n",
    "key_col_names = df_act17.columns.values.tolist()\n",
    "# 'State' is an object. Remove it from standard deviation caculation\n",
    "key_col_names.remove('state')\n",
    "# Gets all the values/scores of each columns and converts them into a single list\n",
    "value_col_names = [df_act17[n].tolist() for n in df_act17.columns.values if n != 'state']\n",
    "\n",
    "# Runs the 'column-names' against respective values/scores, applying the customsied function 'p_stdev' at each iteration\n",
    "stdev_act_subjects = {key_col_names[i]: p_stdev(value_col_names[i]) for i in range(len(key_col_names))}\n",
    "stdev_act_subjects"
   ]
  },
  {
   "cell_type": "code",
   "execution_count": 48,
   "metadata": {},
   "outputs": [
    {
     "data": {
      "text/html": [
       "<div>\n",
       "<style scoped>\n",
       "    .dataframe tbody tr th:only-of-type {\n",
       "        vertical-align: middle;\n",
       "    }\n",
       "\n",
       "    .dataframe tbody tr th {\n",
       "        vertical-align: top;\n",
       "    }\n",
       "\n",
       "    .dataframe thead th {\n",
       "        text-align: right;\n",
       "    }\n",
       "</style>\n",
       "<table border=\"1\" class=\"dataframe\">\n",
       "  <thead>\n",
       "    <tr style=\"text-align: right;\">\n",
       "      <th></th>\n",
       "      <th>act17_participation</th>\n",
       "      <th>act17_english</th>\n",
       "      <th>act17_math</th>\n",
       "      <th>act17_reading</th>\n",
       "      <th>act17_science</th>\n",
       "      <th>act17_composite</th>\n",
       "    </tr>\n",
       "  </thead>\n",
       "  <tbody>\n",
       "    <tr>\n",
       "      <th>count</th>\n",
       "      <td>51.000000</td>\n",
       "      <td>51.000000</td>\n",
       "      <td>51.000000</td>\n",
       "      <td>51.000000</td>\n",
       "      <td>51.000000</td>\n",
       "      <td>51.000000</td>\n",
       "    </tr>\n",
       "    <tr>\n",
       "      <th>mean</th>\n",
       "      <td>65.254902</td>\n",
       "      <td>20.931373</td>\n",
       "      <td>21.182353</td>\n",
       "      <td>22.013725</td>\n",
       "      <td>21.041176</td>\n",
       "      <td>21.518627</td>\n",
       "    </tr>\n",
       "    <tr>\n",
       "      <th>std</th>\n",
       "      <td>32.140842</td>\n",
       "      <td>2.353677</td>\n",
       "      <td>1.981989</td>\n",
       "      <td>2.067271</td>\n",
       "      <td>3.182463</td>\n",
       "      <td>2.021360</td>\n",
       "    </tr>\n",
       "    <tr>\n",
       "      <th>min</th>\n",
       "      <td>8.000000</td>\n",
       "      <td>16.300000</td>\n",
       "      <td>18.000000</td>\n",
       "      <td>18.100000</td>\n",
       "      <td>2.300000</td>\n",
       "      <td>17.800000</td>\n",
       "    </tr>\n",
       "    <tr>\n",
       "      <th>25%</th>\n",
       "      <td>31.000000</td>\n",
       "      <td>19.000000</td>\n",
       "      <td>19.400000</td>\n",
       "      <td>20.450000</td>\n",
       "      <td>19.900000</td>\n",
       "      <td>19.800000</td>\n",
       "    </tr>\n",
       "    <tr>\n",
       "      <th>50%</th>\n",
       "      <td>69.000000</td>\n",
       "      <td>20.700000</td>\n",
       "      <td>20.900000</td>\n",
       "      <td>21.800000</td>\n",
       "      <td>21.300000</td>\n",
       "      <td>21.400000</td>\n",
       "    </tr>\n",
       "    <tr>\n",
       "      <th>75%</th>\n",
       "      <td>100.000000</td>\n",
       "      <td>23.300000</td>\n",
       "      <td>23.100000</td>\n",
       "      <td>24.150000</td>\n",
       "      <td>22.750000</td>\n",
       "      <td>23.600000</td>\n",
       "    </tr>\n",
       "    <tr>\n",
       "      <th>max</th>\n",
       "      <td>100.000000</td>\n",
       "      <td>25.500000</td>\n",
       "      <td>25.300000</td>\n",
       "      <td>26.000000</td>\n",
       "      <td>24.900000</td>\n",
       "      <td>25.500000</td>\n",
       "    </tr>\n",
       "  </tbody>\n",
       "</table>\n",
       "</div>"
      ],
      "text/plain": [
       "       act17_participation  act17_english  act17_math  act17_reading  \\\n",
       "count            51.000000      51.000000   51.000000      51.000000   \n",
       "mean             65.254902      20.931373   21.182353      22.013725   \n",
       "std              32.140842       2.353677    1.981989       2.067271   \n",
       "min               8.000000      16.300000   18.000000      18.100000   \n",
       "25%              31.000000      19.000000   19.400000      20.450000   \n",
       "50%              69.000000      20.700000   20.900000      21.800000   \n",
       "75%             100.000000      23.300000   23.100000      24.150000   \n",
       "max             100.000000      25.500000   25.300000      26.000000   \n",
       "\n",
       "       act17_science  act17_composite  \n",
       "count      51.000000        51.000000  \n",
       "mean       21.041176        21.518627  \n",
       "std         3.182463         2.021360  \n",
       "min         2.300000        17.800000  \n",
       "25%        19.900000        19.800000  \n",
       "50%        21.300000        21.400000  \n",
       "75%        22.750000        23.600000  \n",
       "max        24.900000        25.500000  "
      ]
     },
     "execution_count": 48,
     "metadata": {},
     "output_type": "execute_result"
    }
   ],
   "source": [
    "df_act17.describe()"
   ]
  },
  {
   "cell_type": "code",
   "execution_count": 49,
   "metadata": {},
   "outputs": [
    {
     "name": "stdout",
     "output_type": "stream",
     "text": [
      "2.3304876369363363\n",
      "1.9624620273436781\n"
     ]
    }
   ],
   "source": [
    "# Random picked the standard devaition caculation(using numpy) for act17 English and Math\n",
    "# These values are used for comparison against generic pandas's output and my function's output\n",
    "eng_sd = np.std((df_act17.values[:,2]))\n",
    "print(eng_sd)\n",
    "\n",
    "math_sd = np.std((df_act17.values[:,3]))\n",
    "print(math_sd)"
   ]
  },
  {
   "cell_type": "markdown",
   "metadata": {},
   "source": [
    "Do your manually calculated standard deviations match up with the output from pandas `describe`? What about numpy's `std` method?"
   ]
  },
  {
   "cell_type": "markdown",
   "metadata": {},
   "source": [
    "**Answers:**<br />\n",
    "\n",
    "<span style='color:Blue'>\n",
    "\n",
    "Do your manually calculated standard deviations match up with the output from pandas describe?<br />\n",
    "No\n",
    "\n",
    "What about numpy's std method?    \n",
    "Yes \n",
    "    \n",
    "Pandas use sample based standard deviations and obtained a slightly higher value<br />\n",
    "(smaller denominator results in overall larger output value)<br />    \n",
    "My manual standard deviations functions produce outputs that are the same as numpy's.<br />\n",
    "which means numpy apply population based standard deviations caculations\n",
    "\n",
    "</span>"
   ]
  },
  {
   "cell_type": "markdown",
   "metadata": {},
   "source": [
    "#### Investigate trends in the data\n",
    "Using sorting and/or masking (along with the `.head` method to not print our entire dataframe), consider the following questions:\n",
    "\n",
    "- Which states have the highest and lowest **participation rates** for the:\n",
    "    - 2017 SAT? <br /><span style='color:Blue'> Ans: Highest: Connecticut,Delaware,District of Columbia,Michigan; \n",
    "    <br />Lowest: Iowa,Mississippi,North Dakota </span> \n",
    "    - 2018 SAT? <br /><span style='color:Blue'> Ans: Highest: Colorado,Connecticut,Delaware,Idaho,Michigan;  Lowest: North Dakota </span>\n",
    "    - 2017 ACT? \n",
    "    <br /><span style='color:Blue'> \n",
    "        Ans: Highest: Alabama,\tArkansas,\tColorado,\tKentucky,\tLouisiana,\tMinnesota,\tMississippi,\tMissouri,\tMontana,\tNevada,\tNorth Carolina,\tOklahoma,\tSouth Carolina,\tTennessee,\tUtah,\tWisconsin,\tWyoming <br />\n",
    "    Lowest: Maine</span>\n",
    "    \n",
    "    - 2018 ACT? <br /><span style='color:Blue'> \n",
    "    Ans: Highest: Alabama,\tArkansas,\tKentucky,\tLouisiana,\tMississippi,\tMissouri,\tMontana,\tNebraska,\tNevada,\tNorth Carolina,\tOhio,\tOklahoma,\tSouth Carolina,\tTennessee,\tUtah,\tWisconsin,\tWyoming; \n",
    "    <br />Lowest: Maine </span>\n",
    "- Which states have the highest and lowest **mean total/composite scores** for the:\n",
    "    - 2017 SAT? <br /><span style='color:Blue'> Ans: Highest: Minnesota; Lowest: District of Columbia </span>\n",
    "    - 2018 SAT? <br /><span style='color:Blue'> Ans: Highest: Minnesota; Lowest: District of Columbia </span>\n",
    "    - 2017 ACT? <br /><span style='color:Blue'> Ans: Highest: New Hampshire; Lowest: Nevada </span>\n",
    "    - 2018 ACT? <br /><span style='color:Blue'> Ans: Highest: Connecticut; Lowest: Nevada </span>\n",
    "\n",
    "\n",
    "- Do any states with 100% participation on a given test have a rate change year-to-year?<br />\n",
    " \n",
    "    Ans:<br /> \n",
    "<span style='color:Blue'>\n",
    " Colorado and Minnesota had 100% ACT participation for 2017, both did not manage mantain 100% for 2018\n",
    "<br /> District of Columbia had 100% SAT participation for 2017, it did not manage mantain 100% for 2018\n",
    "</span>   \n",
    "<br />\n",
    "\n",
    "\n",
    "<span style='color:Red'>\n",
    "NB:Clarifications for this question from sg-dsi-14 tutors:\n",
    "\"if there are states with 100% participation in 2017.. you want to identify those that did not maintain 100% participation in 2018\"\n",
    "</span>\n",
    "\n",
    "\n",
    "<br />\n",
    "\n"
   ]
  },
  {
   "cell_type": "markdown",
   "metadata": {},
   "source": [
    "- Do any states show have >50% participation on *both* tests either year?<br />\n",
    "\n",
    "<span style='color:Blue'> \n",
    " Ans:<br /> \n",
    "States with >50% participation on both tests for year 2017: Florida, Georgia, Hawaii<br />\n",
    "States with >50% participation on both tests for year 2018: Florida, Georgia, Hawaii,North Carolina, South Carolina<br />\n",
    "<br />\n",
    "_Also see code below_\n",
    "</span>"
   ]
  },
  {
   "cell_type": "code",
   "execution_count": 50,
   "metadata": {},
   "outputs": [
    {
     "name": "stdout",
     "output_type": "stream",
     "text": [
      "3\n",
      "['Florida', 'Georgia', 'Hawaii']\n",
      "5\n",
      "['Florida', 'Georgia', 'Hawaii', 'North Carolina', 'South Carolina']\n"
     ]
    }
   ],
   "source": [
    "sat17_part = df_sat17[df_sat17['sat17_participation']>50].state.tolist() #1\n",
    "sat18_part = df_sat18[df_sat18['sat18_participation']>50].state.tolist() #2\n",
    "\n",
    "act17_part = df_act17[df_act17['act17_participation']>50].state.tolist() #3\n",
    "act18_part = df_act18[df_act18['act18_percentage_of_students_tested']>50].state.tolist()#4\n",
    "\n",
    "# Compare #1 and #3, (sat17 and act17)\n",
    "\n",
    "both_sat17_and_act17_more_50 = [state1 for state1 in sat17_part if state1 in act17_part]\n",
    "both_sat17_and_act17_more_50_qty = len(both_sat17_and_act17_more_50)\n",
    "\n",
    "# Compare #2 and #4, (sat18 and act18)\n",
    "\n",
    "both_sat18_and_act18_more_50 = [state1 for state1 in sat18_part if state1 in act18_part]\n",
    "both_sat18_and_act18_more_50_qty = len(both_sat18_and_act18_more_50)\n",
    "\n",
    "# States with >50% participation on both tests for year 2017\n",
    "print(both_sat17_and_act17_more_50_qty)\n",
    "print(both_sat17_and_act17_more_50)\n",
    "# States with >50% participation on both tests for year 2018\n",
    "print(both_sat18_and_act18_more_50_qty)\n",
    "print(both_sat18_and_act18_more_50)"
   ]
  },
  {
   "cell_type": "markdown",
   "metadata": {},
   "source": [
    "\n",
    "Based on what you've just observed, have you identified any states that you're especially interested in?<br /> **Make a note of these and state *why* you think they're interesting**.<br />\n",
    "\n",
    "<span style='color:Blue'> Ans: \n",
    "**This section is answered under 'Outside Research'**\n",
    "</span><br />\n",
    "\n",
    "\n",
    "**You should comment on your findings at each step in a markdown cell below your code block**. Make sure you include at least one example of sorting your dataframe by a column, and one example of using boolean filtering (i.e., masking) to select a subset of the dataframe."
   ]
  },
  {
   "cell_type": "markdown",
   "metadata": {},
   "source": [
    "## Visualize the data\n",
    "\n",
    "There's not a magic bullet recommendation for the right number of plots to understand a given dataset, but visualizing your data is *always* a good idea. Not only does it allow you to quickly convey your findings (even if you have a non-technical audience), it will often reveal trends in your data that escaped you when you were looking only at numbers.\n",
    "\n",
    "Some recommendations on plotting:\n",
    "- Plots have titles\n",
    "- Plots have axis labels\n",
    "- Plots have appropriate tick labels\n",
    "- All text is legible in a plot\n",
    "- Plots demonstrate meaningful and valid relationships\n",
    "- Plots are interpreted to aid understanding\n",
    "\n",
    "There is such a thing as too many plots, and there are a *lot* of bad plots. You might make some! (But hopefully not with the guided prompts below)."
   ]
  },
  {
   "cell_type": "markdown",
   "metadata": {},
   "source": [
    "#### Use Seaborn's heatmap with pandas `.corr()` to visualize correlations between all numeric features\n",
    "\n",
    "Heatmaps are generally not appropriate for presentations, and should often be excluded from reports as they can be visually overwhelming. **However**, they can be extremely useful in identify relationships of potential interest (as well as identifying potential collinearity before modeling).\n",
    "\n",
    "*example*:\n",
    "```python\n",
    "sns.heatmap(df.corr())\n",
    "```\n",
    "\n",
    "Please take time to format your output, adding a title. Look through some of the additional arguments and options. (Axis labels aren't really necessary, as long as the title is informative)."
   ]
  },
  {
   "cell_type": "markdown",
   "metadata": {},
   "source": [
    "**A description of the optional settings for the sns heatmap code:**<br />\n",
    "\n",
    "<span style='color:Blue'>\n",
    "\n",
    "* Annot:Annotate on/off for correlation coefficent on the heatmap\n",
    "* fmt refers to decimal places\n",
    "* limits of the colormap: vmin,vmax,center\n",
    " (base on the values, the '0' might not be always in the center)\n",
    "* linewidths: Adding a thin white line separator between the cells(easier viewing)\n",
    "* Adjusting personal preference for heatmap via cmap= 'coolwarm'\n",
    "* Heatmap was too small, adjusted it using 'figsize=(20,15)'\n",
    "* Use the option 'mask' to view heatmap as 'rectangle-half'. Reason:To omit repeated values and avoid chart overclutter\n",
    "</span>"
   ]
  },
  {
   "cell_type": "code",
   "execution_count": 51,
   "metadata": {},
   "outputs": [
    {
     "data": {
      "text/plain": [
       "<matplotlib.axes._subplots.AxesSubplot at 0x22f26523188>"
      ]
     },
     "execution_count": 51,
     "metadata": {},
     "output_type": "execute_result"
    },
    {
     "data": {
      "image/png": "[encoded data removed]",
      "text/plain": [
       "<Figure size 1440x1080 with 2 Axes>"
      ]
     },
     "metadata": {
      "needs_background": "light"
     },
     "output_type": "display_data"
    }
   ],
   "source": [
    "matrix = np.triu(final.corr()) \n",
    "plt.figure(figsize=(20,15))\n",
    "plt.title('final.csv-heatmap', fontsize=25)\n",
    "sns.heatmap(final.corr(), annot=True, fmt='.2g',center= 0,linewidths=.5,cmap= 'coolwarm',mask=matrix)"
   ]
  },
  {
   "cell_type": "markdown",
   "metadata": {},
   "source": [
    "**Comments and understanding on the above heatmap**<br />\n",
    "\n",
    "<span style='color:Blue'>\n",
    "\n",
    "* The correlation coefficient has a value ranging from -1 to 1\n",
    "* Example of positive correlation:<br />\n",
    "sat18_math has a correlation coefficient of 0.99 to sat18_total, which means those who score well in sat math is also very likely to have a high sat total score. Vice-versa\n",
    "    \n",
    "* Example of negative correlation:<br />\n",
    "act17_participation has a correlation coefficient of -0.86 to act17_composite, which means when the act participation is low in the state, the act composite score tends to be low as well. Vice-versa"
   ]
  },
  {
   "cell_type": "markdown",
   "metadata": {},
   "source": [
    "#### Define a custom function to subplot histograms\n",
    "\n",
    "We have data for two tests for two years. We only have composite (and not subtest scores) for the 2018 ACT. We should write a function that will take the names of 2+ columns and subplot histograms. While you can use pandas plotting or Seaborn here, matplotlib gives you greater control over all aspects of your plots.\n",
    "\n",
    "[Helpful Link for Plotting Multiple Figures](https://matplotlib.org/users/pyplot_tutorial.html#working-with-multiple-figures-and-axes)\n",
    "\n",
    "Here's some starter code:"
   ]
  },
  {
   "cell_type": "markdown",
   "metadata": {},
   "source": [
    "** Not Used **\n",
    "def subplot_histograms1(dataframe, list_of_columns, list_of_titles, list_of_xlabels):\n",
    "    nrows = int(np.ceil(len(list_of_columns)/2)) # Makes sure you have enough rows\n",
    "    fig, ax = plt.subplots(nrows=nrows, ncols=2) # You'll want to specify your figsize\n",
    "    ax = ax.ravel() # Ravel turns a matrix into a vector, which is easier to iterate\n",
    "    for i, column in enumerate(list_of_columns): # Gives us an index value to get into all our lists\n",
    "        ax[i].hist(dataframe[column]) # feel free to add more settings\n",
    "        # Set titles, labels, etc here for each subplot"
   ]
  },
  {
   "cell_type": "markdown",
   "metadata": {},
   "source": [
    "#### Plot and interpret histograms \n",
    "For each of the following:\n",
    "- Participation rates for SAT & ACT\n",
    "- Math scores for SAT & ACT\n",
    "- Reading/verbal scores for SAT & ACT"
   ]
  },
  {
   "cell_type": "code",
   "execution_count": 52,
   "metadata": {},
   "outputs": [],
   "source": [
    "def subplot_histograms(df, list_of_columns, list_of_titles):\n",
    "    \"\"\"Creates 2 subplots. Each subplot has 2 histograms side by side\"\"\"\n",
    "    fig,axes = plt.subplots(nrows=1,ncols=2,figsize=(12,4)) # Histogram layout and size is fixed\n",
    "    count = 1\n",
    "    for col_val in range(len(list_of_columns)):\n",
    "        if col_val == 2:\n",
    "            break\n",
    "        # first loop, list args: list_of_columns[0] and list_of_columns[1]\n",
    "        # 2nd loop, list args: list_of_columns[2] and list_of_columns[3]\n",
    "        # 3rd loop, col_val = 2 and breaks\n",
    "        axes[col_val].hist([df[list_of_columns[col_val + col_val]], df[list_of_columns[col_val + count]]],label=['2017','2018'])\n",
    "        axes[col_val].legend(loc='upper right') # fixed\n",
    "        axes[col_val].set_ylabel('Frequency') # fixed\n",
    "        axes[col_val].set_title(list_of_titles[col_val])# expects a list with 2 items\n",
    "        plt.tight_layout()\n",
    "        count += 1"
   ]
  },
  {
   "cell_type": "code",
   "execution_count": 53,
   "metadata": {},
   "outputs": [
    {
     "data": {
      "image/png": "[encoded data removed]",
      "text/plain": [
       "<Figure size 864x288 with 2 Axes>"
      ]
     },
     "metadata": {
      "needs_background": "light"
     },
     "output_type": "display_data"
    }
   ],
   "source": [
    "# Participation rates for SAT & ACT\n",
    "\n",
    "list_part = ['sat17_participation','sat18_participation','act17_participation','act18_percentage_of_students_tested']\n",
    "list_part_title = ['SAT Participation','ACT Participation']\n",
    "\n",
    "subplot_histograms(final, list_part, list_part_title)"
   ]
  },
  {
   "cell_type": "markdown",
   "metadata": {},
   "source": [
    "**Histogram Analysis(Participation rates for SAT & ACT)**\n",
    "\n",
    "SAT has a right-skewed<br />\n",
    "ACT has a left-skewed<br />\n",
    "ACT has appears to a higher participation rate compared to SAT"
   ]
  },
  {
   "cell_type": "code",
   "execution_count": 54,
   "metadata": {},
   "outputs": [
    {
     "data": {
      "image/png": "[encoded data removed]",
      "text/plain": [
       "<Figure size 864x288 with 2 Axes>"
      ]
     },
     "metadata": {
      "needs_background": "light"
     },
     "output_type": "display_data"
    }
   ],
   "source": [
    "# Math scores for SAT & ACT\n",
    "\n",
    "list_math = ['sat17_math','sat18_math','act17_math','act18_average_math_score']\n",
    "list_math_title = ['Math scores for SAT','Math scores for ACT']\n",
    "\n",
    "subplot_histograms(final, list_math, list_math_title)"
   ]
  },
  {
   "cell_type": "markdown",
   "metadata": {},
   "source": [
    "**Histogram Analysis(Math scores for SAT & ACT)**\n",
    "\n",
    "SAT has a left-skewed. Most States have higher SAT math score range(500 to 600)<br />\n",
    "While ACT has similarities to a bimodal distribution(2 high frequency scores: 19.5 and 23.5)"
   ]
  },
  {
   "cell_type": "code",
   "execution_count": 55,
   "metadata": {},
   "outputs": [
    {
     "data": {
      "image/png": "[encoded data removed]",
      "text/plain": [
       "<Figure size 864x288 with 2 Axes>"
      ]
     },
     "metadata": {
      "needs_background": "light"
     },
     "output_type": "display_data"
    }
   ],
   "source": [
    "# Reading/verbal scores for SAT & ACT\n",
    "\n",
    "list_read = ['sat17_evidence_based_reading_and_writing','sat18_evidence_based_reading_and_writing','act17_reading','act18_average_reading_score']\n",
    "list_read_title = ['Reading/verbal scores for SAT','Reading/verbal scores for ACT']\n",
    "\n",
    "subplot_histograms(final, list_read, list_read_title)"
   ]
  },
  {
   "cell_type": "markdown",
   "metadata": {},
   "source": [
    "**Histogram Analysis(Reading/verbal scores for SAT & ACT)**\n",
    "\n",
    "SAT has similarities to a bimodal distribution(2 high frequency scores: 540 and 640)<br />\n",
    "High frequency of ACT Reading/verbal scores at around 21."
   ]
  },
  {
   "cell_type": "markdown",
   "metadata": {},
   "source": [
    "#### Plot and interpret scatter plots\n",
    "\n",
    "For each of the following:\n",
    "- SAT vs. ACT math scores for 2017\n",
    "- SAT vs. ACT verbal/reading scores for 2017\n",
    "- SAT vs. ACT total/composite scores for 2017\n",
    "- Total scores for SAT 2017 vs. 2018\n",
    "- Composite scores for ACT 2017 vs. 2018\n",
    "\n",
    "Plot the two variables against each other using matplotlib or Seaborn\n",
    "\n",
    "Your plots should show:\n",
    "- Two clearly labeled axes\n",
    "- A proper title\n",
    "- Using colors and symbols that are clear and unmistakable\n",
    "\n",
    "**Feel free to write a custom function, and subplot if you'd like.** Functions save both time and space.\n"
   ]
  },
  {
   "cell_type": "markdown",
   "metadata": {},
   "source": [
    "**SAT vs. ACT math scores for 2017**"
   ]
  },
  {
   "cell_type": "code",
   "execution_count": 56,
   "metadata": {},
   "outputs": [
    {
     "data": {
      "image/png": "[encoded data removed]",
      "text/plain": [
       "<Figure size 864x288 with 2 Axes>"
      ]
     },
     "metadata": {
      "needs_background": "light"
     },
     "output_type": "display_data"
    }
   ],
   "source": [
    "sat_math_range = np.linspace(200,800,51)\n",
    "act_math_range = np.linspace(1,36,51)\n",
    "\n",
    "fig,axes = plt.subplots(nrows=1,ncols=2,figsize=(12,4))\n",
    "\n",
    "axes[0].scatter(sat_math_range,df_sat17['sat17_math'], color='r', label='ACT Math 2017')\n",
    "axes[0].legend(loc='lower right') # fixed\n",
    "axes[0].set_ylabel('SAT Math Scores') # fixed\n",
    "axes[0].set_title('SAT Math scores 2017')\n",
    "\n",
    "axes[1].scatter(act_math_range, df_act17['act17_math'], color='g', label='ACT Math 2017')\n",
    "axes[1].legend(loc='lower right') # fixed\n",
    "axes[1].set_ylabel('ACT Math Scores') # fixed\n",
    "axes[1].set_title('ACT Math scores 2017')\n",
    "plt.show()"
   ]
  },
  {
   "cell_type": "markdown",
   "metadata": {},
   "source": [
    "**Scatterplot analysis(SAT vs. ACT math scores for 2017) - See above**\n",
    "\n",
    "SAT 2017 Math score have an average score of around 500 to 600 based on a range of 200 to 800\n",
    "with an outlier at score 52\n",
    "\n",
    "ACT 2017 Math score has a slight visible cluster around the score of 19 to 22"
   ]
  },
  {
   "cell_type": "markdown",
   "metadata": {},
   "source": [
    "**SAT vs. ACT verbal/reading scores for 2017**"
   ]
  },
  {
   "cell_type": "code",
   "execution_count": 57,
   "metadata": {},
   "outputs": [
    {
     "data": {
      "image/png": "[encoded data removed]",
      "text/plain": [
       "<Figure size 864x288 with 2 Axes>"
      ]
     },
     "metadata": {
      "needs_background": "light"
     },
     "output_type": "display_data"
    }
   ],
   "source": [
    "sat_math_range = np.linspace(200,800,51)\n",
    "act_math_range = np.linspace(1,36,51)\n",
    "\n",
    "fig,axes = plt.subplots(nrows=1,ncols=2,figsize=(12,4))\n",
    "\n",
    "axes[0].scatter(sat_math_range,df_sat17['sat17_evidence_based_reading_and_writing'], color='r', label='SAT Reading 2017')\n",
    "axes[0].legend(loc='lower right') # fixed\n",
    "axes[0].set_ylabel('SAT Reading Scores') # fixed\n",
    "axes[0].set_title('SAT Reading scores 2017')\n",
    "axes[1].scatter(act_math_range, df_act17['act17_reading'], color='g', label='ACT Reading 2017')\n",
    "axes[1].legend(loc='lower right') # fixed\n",
    "axes[1].set_ylabel('ACT Reading Scores') # fixed\n",
    "axes[1].set_title('ACT Reading scores 2017')\n",
    "plt.show()"
   ]
  },
  {
   "cell_type": "markdown",
   "metadata": {},
   "source": [
    "**Scatterplot analysis(SAT vs. ACT verbal/reading scores for 2017) - See above**\n",
    "\n",
    "SAT 2017 Reading score has a slight visible cluster around the 540 scoreline\n",
    "\n",
    "ACT 2017 Reading score has a vast dispersion of scores but there is a slight visible cluster around the scoreline of 20 to 23"
   ]
  },
  {
   "cell_type": "markdown",
   "metadata": {},
   "source": [
    "**SAT vs. ACT total/composite scores for 2017**"
   ]
  },
  {
   "cell_type": "code",
   "execution_count": 58,
   "metadata": {},
   "outputs": [
    {
     "data": {
      "image/png": "[encoded data removed]",
      "text/plain": [
       "<Figure size 864x288 with 2 Axes>"
      ]
     },
     "metadata": {
      "needs_background": "light"
     },
     "output_type": "display_data"
    }
   ],
   "source": [
    "sat_score_range = np.linspace(400,1600,51)\n",
    "act_score_range = np.linspace(1,36,51)\n",
    "\n",
    "fig,axes = plt.subplots(nrows=1,ncols=2,figsize=(12,4))\n",
    "\n",
    "axes[0].scatter(sat_score_range,df_sat17['sat17_total'], color='r', label='SAT Total 2017')\n",
    "axes[0].legend(loc='lower right') # fixed\n",
    "axes[0].set_ylabel('SAT Total Scores') # fixed\n",
    "axes[0].set_title('SAT Total scores 2017')\n",
    "\n",
    "axes[1].scatter(act_score_range, df_act17['act17_composite'], color='g', label='ACT Composite 2017')\n",
    "axes[1].legend(loc='lower right') # fixed\n",
    "axes[1].set_ylabel('ACT Composite Scores') # fixed\n",
    "axes[1].set_title('ACT Composite scores 2017')\n",
    "plt.show()"
   ]
  },
  {
   "cell_type": "markdown",
   "metadata": {},
   "source": [
    "**Scatterplot analysis(SAT vs. ACT verbal/reading scores for 2017) - See above**\n",
    "\n",
    "SAT 2017 total score has a slight visible cluster around 1050 to 1100\n",
    "\n",
    "ACT 2017 total score has a slight visible cluster around 19 to 22"
   ]
  },
  {
   "cell_type": "markdown",
   "metadata": {},
   "source": [
    "**Total scores for SAT 2017 vs. 2018**"
   ]
  },
  {
   "cell_type": "code",
   "execution_count": 59,
   "metadata": {},
   "outputs": [
    {
     "data": {
      "image/png": "[encoded data removed]",
      "text/plain": [
       "<Figure size 432x288 with 1 Axes>"
      ]
     },
     "metadata": {
      "needs_background": "light"
     },
     "output_type": "display_data"
    }
   ],
   "source": [
    "sat_score_range = np.linspace(400,1600,51)\n",
    "\n",
    "plt.scatter(sat_score_range, df_sat17['sat17_total'], color='r', label='SAT17 Total')\n",
    "plt.scatter(sat_score_range, df_sat18['sat18_total'], color='g', label='SAT18 Total')\n",
    "plt.rcParams[\"figure.figsize\"] = [8,6]\n",
    "plt.title('SAT17 vs SAT18 Total Scores')\n",
    "plt.xlabel('Grades Range')\n",
    "plt.ylabel('Grades Scored')\n",
    "plt.legend()\n",
    "plt.show()"
   ]
  },
  {
   "cell_type": "markdown",
   "metadata": {},
   "source": [
    "**Scatterplot analysis (Total scores for SAT 2017 vs. 2018) See above**\n",
    "\n",
    "There is pros and cons putting both scatterplots together(a matter of choice and how to present the data).\n",
    "If both data sets have a distinct pattern difference, will would be visibly very easy to tell the differences\n",
    "\n",
    "In this case, we can also use '#' to activate/de-activate the code , so as to view/analyse it as an individual scatterplot\n",
    "Overall, Both SAT 2017 and 2018 total score has a modest visible cluster around 1050 to 1100"
   ]
  },
  {
   "cell_type": "markdown",
   "metadata": {},
   "source": [
    "**Composite scores for ACT 2017 vs. 2018**"
   ]
  },
  {
   "cell_type": "code",
   "execution_count": 60,
   "metadata": {},
   "outputs": [
    {
     "data": {
      "image/png": "[encoded data removed]",
      "text/plain": [
       "<Figure size 864x288 with 2 Axes>"
      ]
     },
     "metadata": {
      "needs_background": "light"
     },
     "output_type": "display_data"
    }
   ],
   "source": [
    "act_score_range = np.linspace(1,36,51)\n",
    "\n",
    "fig,axes = plt.subplots(nrows=1,ncols=2,figsize=(12,4))\n",
    "\n",
    "axes[0].scatter(act_score_range,df_act17['act17_composite'], color='r', label='ACT17 Composite')\n",
    "axes[0].legend(loc='lower right') # fixed\n",
    "axes[0].set_ylabel('ACT Composite') # fixed\n",
    "axes[0].set_title('ACT17 Composite 2017')\n",
    "\n",
    "axes[1].scatter(act_score_range, df_act18['act18_average_composite_score'], color='g', label='ACT18 Composite')\n",
    "axes[1].legend(loc='lower right') # fixed\n",
    "axes[1].set_ylabel('ACT Composite Scores') # fixed\n",
    "axes[1].set_title('ACT17 Composite 2018')\n",
    "plt.show()"
   ]
  },
  {
   "cell_type": "markdown",
   "metadata": {},
   "source": [
    "**Scatterplot analysis for Total scores for ACT 2017 vs. 2018**\n",
    "\n",
    "Both datasets have a rather wide dispersion of data points\n",
    "and a mildly visible cluster around 19 to 22"
   ]
  },
  {
   "cell_type": "markdown",
   "metadata": {},
   "source": [
    "#### Plot and interpret boxplots\n",
    "\n",
    "For each numeric variable in the dataframe create a boxplot using Seaborn. Boxplots demonstrate central tendency and spread in variables. In a certain sense, these are somewhat redundant with histograms, but you may be better able to identify clear outliers or differences in IQR, etc.\n",
    "\n",
    "Multiple values can be plotted to a single boxplot as long as they are of the same relative scale (meaning they have similar min/max values).\n",
    "\n",
    "Each boxplot should:\n",
    "- Only include variables of a similar scale\n",
    "- Have clear labels for each variable\n",
    "- Have appropriate titles and labels"
   ]
  },
  {
   "cell_type": "code",
   "execution_count": 61,
   "metadata": {},
   "outputs": [
    {
     "data": {
      "image/png": "[encoded data removed]",
      "text/plain": [
       "<Figure size 576x432 with 1 Axes>"
      ]
     },
     "metadata": {
      "needs_background": "light"
     },
     "output_type": "display_data"
    }
   ],
   "source": [
    "box_plot_data = [\n",
    "df_act17['act17_english'], \n",
    "df_act17['act17_math'] , \n",
    "df_act17['act17_reading'], \n",
    "df_act17['act17_science'],\n",
    "df_act17['act17_composite']\n",
    "]\n",
    "\n",
    "box = plt.boxplot(box_plot_data,patch_artist=True,labels=['English','Math','Reading','Science', 'Composite'])\n",
    "plt.rcParams[\"figure.figsize\"] = [12,6]\n",
    "plt.title('SAT17 Scores')\n",
    "plt.xlabel('Grades Range')\n",
    "plt.ylabel('Grades Scored')\n",
    "#plt.legend()\n",
    "colors = ['cyan', 'blue', 'lightgreen', 'tan', 'red']\n",
    "for patch, color in zip(box['boxes'], colors):\n",
    "    patch.set_facecolor(color)\n",
    "plt.show()"
   ]
  },
  {
   "cell_type": "markdown",
   "metadata": {},
   "source": [
    "**Boxplot analysis (Total scores for ACT 2017 vs. 2018)**\n",
    "\n",
    "Interesting observation:<br />\n",
    "ACT17 Science's interquantiles of 25,median and 75% are at 19.9,21.3,22.75 respectively.<br />\n",
    "The range of values are packed quite close and has a 'shorter body' as compared to the rest.<br />\n",
    "ACT17 Science score has an outlier at 2.3"
   ]
  },
  {
   "cell_type": "markdown",
   "metadata": {},
   "source": [
    "#### Feel free to do additional plots below\n",
    "*(do research and choose your own chart types & variables)*\n",
    "\n",
    "Are there any additional trends or relationships you haven't explored? Was there something interesting you saw that you'd like to dive further into? It's likely that there are a few more plots you might want to generate to support your narrative and recommendations that you are building toward. **As always, make sure you're interpreting your plots as you go**."
   ]
  },
  {
   "cell_type": "markdown",
   "metadata": {},
   "source": [
    "**Not exploring this**"
   ]
  },
  {
   "cell_type": "markdown",
   "metadata": {},
   "source": [
    "#### (Optional): Using Tableau, create a choropleth map for each variable using a map of the US. \n",
    "\n",
    "Save this plot as an image file in an images directory, provide a relative path, and insert the image into notebook in markdown."
   ]
  },
  {
   "cell_type": "markdown",
   "metadata": {},
   "source": [
    "**A geological description of 2017 ACT test in America:**<br />\n",
    "\n",
    "<span style='color:Blue'>\n",
    "\n",
    "* Using Tableau to provide a visual representation of the 2017 ACT test in 48 States<br />\n",
    "(Alaska and Hawaii was left out so that the map can stay focus on the most of the US states)<br />\n",
    "* The field 'participation' was been expressed in Tableau in the form of colors (also see legend at the bottom-left)<br />\n",
    "With dark-green showing the highest participation and dark-red showing lowest(Maine etc)<br />\n",
    "The use of colors for 'participation' was also in consideration of not over cluttering the map with too much information\n",
    "* Lastly, alongside the State names, are the corresponging ACT composite scores\n",
    "    \n",
    "</span>"
   ]
  },
  {
   "cell_type": "markdown",
   "metadata": {},
   "source": [
    "![title](../misc/2017_act.png)"
   ]
  },
  {
   "cell_type": "markdown",
   "metadata": {},
   "source": [
    "## Descriptive and Inferential Statistics"
   ]
  },
  {
   "cell_type": "markdown",
   "metadata": {},
   "source": [
    "#### Summarizing Distributions\n",
    "\n",
    "Above, we used pandas `describe` to provide quick summary statistics of our numeric columns.<br /> \n",
    "We also demonstrated many visual relationships.\n",
    "\n",
    "As data scientists, having a complete understanding of data is imperative prior to modeling.<br />\n",
    "\n",
    "While we will continue to build our analytic tools, we know that measures of *central tendency*, <br />*spread*, and *shape/skewness* provide a quick summary of distributions.\n",
    "\n",
    "For each variable in your data, summarize the underlying distributions (in words & statistics)\n",
    " - Be thorough in your verbal description of these distributions.\n",
    " - Be sure to back up these summaries with statistics."
   ]
  },
  {
   "cell_type": "code",
   "execution_count": 62,
   "metadata": {},
   "outputs": [
    {
     "data": {
      "image/png": "[encoded data removed]",
      "text/plain": [
       "<Figure size 864x288 with 2 Axes>"
      ]
     },
     "metadata": {
      "needs_background": "light"
     },
     "output_type": "display_data"
    }
   ],
   "source": [
    "# Explaining left-skewed/right-skewed distribution\n",
    "# Participation rates for SAT & ACT\n",
    "\n",
    "list_part = ['sat17_participation','sat18_participation','act17_participation','act18_percentage_of_students_tested']\n",
    "list_part_title = ['SAT Participation','ACT Participation']\n",
    "\n",
    "subplot_histograms(final, list_part, list_part_title)"
   ]
  },
  {
   "cell_type": "markdown",
   "metadata": {},
   "source": [
    "SAT participation has a right-skewed<br />\n",
    "ACT participation has a left-skewed<br />\n",
    "_Please note that choosing 2017 or 2018 dataset would not make a difference in explaining distribution skewness here_"
   ]
  },
  {
   "cell_type": "code",
   "execution_count": 63,
   "metadata": {},
   "outputs": [
    {
     "data": {
      "text/plain": [
       "True"
      ]
     },
     "execution_count": 63,
     "metadata": {},
     "output_type": "execute_result"
    }
   ],
   "source": [
    "# SAT participation has a right-skewed, if true: then the mean is greater than median\n",
    "# Results: SAT participation mean is greater than median\n",
    "\n",
    "df_sat17['sat17_participation'].mean() > df_sat17['sat17_participation'].median()"
   ]
  },
  {
   "cell_type": "code",
   "execution_count": 64,
   "metadata": {},
   "outputs": [
    {
     "data": {
      "text/plain": [
       "True"
      ]
     },
     "execution_count": 64,
     "metadata": {},
     "output_type": "execute_result"
    }
   ],
   "source": [
    "# ACT participation has a left-skewed, if true: then the mean is less than median\n",
    "# Results: ACT participation mean is less than median\n",
    "\n",
    "df_act17['act17_participation'].mean() < df_act17['act17_participation'].median()"
   ]
  },
  {
   "cell_type": "code",
   "execution_count": 65,
   "metadata": {},
   "outputs": [
    {
     "data": {
      "image/png": "[encoded data removed]",
      "text/plain": [
       "<Figure size 864x432 with 1 Axes>"
      ]
     },
     "metadata": {
      "needs_background": "light"
     },
     "output_type": "display_data"
    }
   ],
   "source": [
    "# Looking at spread(IQR), median in distributions\n",
    "\n",
    "box_plot_data = [\n",
    "df_sat17['sat17_participation'], \n",
    "df_sat18['sat18_participation'] , \n",
    "df_act17['act17_participation'], \n",
    "df_act18['act18_percentage_of_students_tested'],\n",
    "]\n",
    "\n",
    "box = plt.boxplot(box_plot_data,patch_artist=True,labels=['sat17_part','sat18_part','act17_part','act18_part'])\n",
    "plt.rcParams[\"figure.figsize\"] = [12,6]\n",
    "plt.title('SAT particpation vs ACT particpation')\n",
    "colors = ['cyan', 'blue', 'lightgreen', 'tan', 'red']\n",
    "for patch, color in zip(box['boxes'], colors):\n",
    "    patch.set_facecolor(color)\n",
    "plt.show()"
   ]
  },
  {
   "cell_type": "markdown",
   "metadata": {},
   "source": [
    "<span style='color:Blue'>\n",
    "    \n",
    "**ACT test is more popluar(2017 to 2018)**\n",
    "1. ACT IQR in 25%,75%, median values are all greater than SAT's (both 2017 and 2018)\n",
    "2. boxplot has 'body' and/or 'tail(line)'<br />\n",
    "sat's participation on the high side is represented by tails (fewer counts)<br />\n",
    "whereas act's participation on the high side is represented by body (more counts)<br />\n",
    "(both 2017 and 2018)    \n",
    "<br />    \n",
    "  \n",
    "</span>"
   ]
  },
  {
   "cell_type": "markdown",
   "metadata": {},
   "source": [
    "\n",
    "#### Distributions in the data\n",
    "\n",
    "In this dataset, each data represents a sample from a population.                        \n",
    "For example, for ACT math test:\n",
    "- Population: the test results of all the students who take this test, nation-wide.\n",
    "- Population mean: is the national average of ACT math test (total scores/total no. of test takers) \n",
    "- Sample: the state means of ACT math test. We have 51 samples (51 states)\n",
    "\n",
    "***According to CLT, we generally assuming that data we sample from a population will be normally distributed. Do we observe this trend?***"
   ]
  },
  {
   "cell_type": "markdown",
   "metadata": {},
   "source": [
    "<span style='color:Blue'>\n",
    "    \n",
    "The act17 math distribution:\n",
    "- is slightly right-skewed.(see histogram below)\n",
    "- Even as the mean, median and mode are relatively close, this does not look like a normal distribution\n",
    "<br />    \n",
    "  \n",
    "</span>"
   ]
  },
  {
   "cell_type": "code",
   "execution_count": 66,
   "metadata": {},
   "outputs": [
    {
     "name": "stdout",
     "output_type": "stream",
     "text": [
      "The act17 math mean is: 21.182352941176468\n",
      "The act17 math median is: 20.9\n",
      "The act17 math mode is: 19.4\n"
     ]
    }
   ],
   "source": [
    "act17_math_mode = df_act17['act17_math'].mode().values[0]\n",
    "act17_math_median = df_act17['act17_math'].median()\n",
    "act17_math_mean = df_act17['act17_math'].mean()\n",
    "# Printing the central tendencies: mean , median and mode:\n",
    "print('The act17 math mean is: ' + str(act17_math_mean))\n",
    "print('The act17 math median is: ' + str(act17_math_median))\n",
    "print('The act17 math mode is: ' + str(act17_math_mode))"
   ]
  },
  {
   "cell_type": "code",
   "execution_count": 67,
   "metadata": {},
   "outputs": [
    {
     "data": {
      "image/png": "[encoded data removed]",
      "text/plain": [
       "<Figure size 864x432 with 1 Axes>"
      ]
     },
     "metadata": {
      "needs_background": "light"
     },
     "output_type": "display_data"
    },
    {
     "data": {
      "text/plain": [
       "<Figure size 576x432 with 0 Axes>"
      ]
     },
     "metadata": {},
     "output_type": "display_data"
    }
   ],
   "source": [
    "plt.hist([df_act17['act17_math']],label=['act17_math'])\n",
    "plt.rcParams[\"figure.figsize\"] = [8,6]\n",
    "plt.title('act17_math')\n",
    "plt.xlabel('Scores')\n",
    "plt.ylabel('Frequency')\n",
    "plt.legend()\n",
    "plt.show()\n",
    "plt.tight_layout()"
   ]
  },
  {
   "cell_type": "markdown",
   "metadata": {},
   "source": [
    "Does This Assumption Hold for:\n",
    "    - Math\n",
    "    - Reading\n",
    "    - Rates\n",
    "Explain your answers for each distribution and how you think this will affect estimates made from these data."
   ]
  },
  {
   "cell_type": "markdown",
   "metadata": {},
   "source": [
    "<span style='color:Blue'>\n",
    "    \n",
    "The act17 reading distribution:\n",
    "- is slightly right-skewed.(see histogram below)\n",
    "- some resemblance to normal distribution as the mean, median and mode are relatively close(see code below)\n",
    "<br />    \n",
    "\n",
    "The act17 participation rate distribution:\n",
    "- is left-skewed.(see histogram below)\n",
    "- The mean, median and mode spread far apart(see code below)\n",
    "\n",
    "</span>"
   ]
  },
  {
   "cell_type": "code",
   "execution_count": 68,
   "metadata": {},
   "outputs": [
    {
     "data": {
      "image/png": "[encoded data removed]",
      "text/plain": [
       "<Figure size 864x288 with 2 Axes>"
      ]
     },
     "metadata": {
      "needs_background": "light"
     },
     "output_type": "display_data"
    }
   ],
   "source": [
    "fig,axes = plt.subplots(nrows=1,ncols=2,figsize=(12,4))\n",
    "axes[0].hist([df_act17['act17_reading']],label=['act17_reading'])\n",
    "axes[0].legend(loc='upper right')\n",
    "axes[0].set_ylabel('Frequency')\n",
    "axes[0].set_xlabel('scores')\n",
    "axes[1].hist([df_act17['act17_participation']],label=['act17_participation'])\n",
    "axes[1].legend(loc='upper right')\n",
    "axes[1].set_ylabel('Frequency')\n",
    "axes[1].set_xlabel('participation rates')\n",
    "plt.tight_layout()"
   ]
  },
  {
   "cell_type": "code",
   "execution_count": 69,
   "metadata": {},
   "outputs": [
    {
     "name": "stdout",
     "output_type": "stream",
     "text": [
      "The act17 reading mean is: 22.013725490196077\n",
      "The act17 reading median is: 21.8\n",
      "The act17 reading mode is: 20.1\n"
     ]
    }
   ],
   "source": [
    "act17_reading_mode = df_act17['act17_reading'].mode().values[0]\n",
    "act17_reading_median = df_act17['act17_reading'].median()\n",
    "act17_reading_mean = df_act17['act17_reading'].mean()\n",
    "# Printing the central tendencies: mean , median and mode:\n",
    "print('The act17 reading mean is: ' + str(act17_reading_mean))\n",
    "print('The act17 reading median is: ' + str(act17_reading_median))\n",
    "print('The act17 reading mode is: ' + str(act17_reading_mode))"
   ]
  },
  {
   "cell_type": "code",
   "execution_count": 70,
   "metadata": {},
   "outputs": [
    {
     "name": "stdout",
     "output_type": "stream",
     "text": [
      "The act17 participation mean is: 65.25490196078431\n",
      "The act17 participation median is: 69.0\n",
      "The act17 participation mode is: 100\n"
     ]
    }
   ],
   "source": [
    "act17_participation_mode = df_act17['act17_participation'].mode().values[0]\n",
    "act17_participation_median = df_act17['act17_participation'].median()\n",
    "act17_participation_mean = df_act17['act17_participation'].mean()\n",
    "# Printing the central tendencies: mean , median and mode:\n",
    "print('The act17 participation mean is: ' + str(act17_participation_mean))\n",
    "print('The act17 participation median is: ' + str(act17_participation_median))\n",
    "print('The act17 participation mode is: ' + str(act17_participation_mode))"
   ]
  },
  {
   "cell_type": "markdown",
   "metadata": {},
   "source": [
    "#### Estimate Limits of Data\n",
    "\n",
    "Suppose we only seek to understand the relationship between SAT and ACT participation rates in 2017. \n",
    "\n",
    "##### Does it make sense to conduct statistical inference given these data specifically? \n",
    "\n",
    "Why or why not?\n",
    "\n",
    "*(think about granularity, aggregation, the relationships between populations size & rates...<br />\n",
    "consider the actually populations these data describe in answering this question)*"
   ]
  },
  {
   "cell_type": "markdown",
   "metadata": {},
   "source": [
    "**Answers:**<br />\n",
    "\n",
    "<span style='color:Blue'>\n",
    "\n",
    "This is explained in later part. See 'Conclusion and recommendations'<br />\n",
    "\n",
    "\n",
    "</span>"
   ]
  },
  {
   "cell_type": "markdown",
   "metadata": {},
   "source": [
    "##### Is it appropriate to compare *these* specific SAT and ACT math scores <br />\n",
    "- Can we say students with higher SAT math score is better than those with lower ACT math score, or vice versa?\n",
    "\n",
    "Why or why not?"
   ]
  },
  {
   "cell_type": "markdown",
   "metadata": {},
   "source": [
    "**Answers:**<br />\n",
    "\n",
    "<span style='color:Blue'>\n",
    "\n",
    "1. For a start, the test score ranges are different:\n",
    "    - sat math score range is 200 to 800\n",
    "    - act math score range is 1 to 36<br />\n",
    "As such, the scores would not be directly compared\n",
    "2. Possible ways to compare sat and act math scores:\n",
    "    - By calculating the percentage of the score<br />\n",
    "(ACT percentage scores could lose granularity due the smaller score range and this method is not official)\n",
    "    - Use act/sat conversion tables from official website:\n",
    "    \n",
    "https://www.act.org/content/dam/act/unsecured/documents/ACT-SAT-Concordance-Tables.pdf\n",
    "\n",
    "\n",
    "</span>"
   ]
  },
  {
   "cell_type": "markdown",
   "metadata": {},
   "source": [
    "#### Statistical Evaluation of Distributions \n",
    "\n",
    "**If you feel it's appropriate**, using methods we discussed in class, run hypothesis tests to compare variables of interest in our dataset. "
   ]
  },
  {
   "cell_type": "markdown",
   "metadata": {},
   "source": [
    "\n",
    "<span style='color:Green'>\n",
    "\n",
    "Not exploring this for now.<br />\n",
    "\n",
    "\n",
    "</span>"
   ]
  },
  {
   "cell_type": "markdown",
   "metadata": {},
   "source": [
    "## Outside Research"
   ]
  },
  {
   "cell_type": "markdown",
   "metadata": {},
   "source": [
    "<span style='color:Blue'>\n",
    "\n",
    "**The other way of looking at the data:**\n",
    "<br />\n",
    "1. Originally, data were 'merged horizonatlly' due to act and sat having different column names\n",
    "2. Merging the datasets in a top-down(vertical) manner could offer for more data insights but in the expense of dropping some columns\n",
    "3. If you look at it, most of the data analysis here mainly focuses on: state, participation and score(total/composite)\n",
    "(Maybe not alot into individual subjects)\n",
    "4. Therefore , merging data in top-down(vertical) manner has many merits\n",
    "5. To merged the data in a top-down manner and using it for the last part of analysis \n",
    "(Looking at the 3 interesting states)\n",
    "6. Lastly, this has more data and they can be sorted by the test_type(ACT/SAT) and year\n",
    "</span>\n",
    "\n"
   ]
  },
  {
   "cell_type": "markdown",
   "metadata": {},
   "source": [
    "<html xmlns:o=\"urn:schemas-microsoft-com:office:office\"\n",
    "xmlns:x=\"urn:schemas-microsoft-com:office:excel\"\n",
    "xmlns=\"http://www.w3.org/TR/REC-html40\">\n",
    "\n",
    "<head>\n",
    "<meta http-equiv=Content-Type content=\"text/html; charset=windows-1252\">\n",
    "<meta name=ProgId content=Excel.Sheet>\n",
    "<meta name=Generator content=\"Microsoft Excel 14\">\n",
    "<link rel=File-List href=\"Fin1l1-DS_files/filelist.xml\">\n",
    "<style id=\"friends at GA_3803_Styles\">\n",
    "<!--table\n",
    "\t{mso-displayed-decimal-separator:\"\\.\";\n",
    "\tmso-displayed-thousand-separator:\"\\,\";}\n",
    ".xl153803\n",
    "\t{padding-top:1px;\n",
    "\tpadding-right:1px;\n",
    "\tpadding-left:1px;\n",
    "\tmso-ignore:padding;\n",
    "\tcolor:black;\n",
    "\tfont-size:11.0pt;\n",
    "\tfont-weight:400;\n",
    "\tfont-style:normal;\n",
    "\ttext-decoration:none;\n",
    "\tfont-family:Calibri, sans-serif;\n",
    "\tmso-font-charset:0;\n",
    "\tmso-number-format:General;\n",
    "\ttext-align:general;\n",
    "\tvertical-align:bottom;\n",
    "\tmso-background-source:auto;\n",
    "\tmso-pattern:auto;\n",
    "\twhite-space:nowrap;}\n",
    ".xl633803\n",
    "\t{padding-top:1px;\n",
    "\tpadding-right:1px;\n",
    "\tpadding-left:1px;\n",
    "\tmso-ignore:padding;\n",
    "\tcolor:black;\n",
    "\tfont-size:11.0pt;\n",
    "\tfont-weight:700;\n",
    "\tfont-style:normal;\n",
    "\ttext-decoration:none;\n",
    "\tfont-family:Calibri, sans-serif;\n",
    "\tmso-font-charset:0;\n",
    "\tmso-number-format:General;\n",
    "\ttext-align:center;\n",
    "\tvertical-align:bottom;\n",
    "\tborder:.5pt solid windowtext;\n",
    "\tbackground:#D9D9D9;\n",
    "\tmso-pattern:black none;\n",
    "\twhite-space:nowrap;}\n",
    ".xl643803\n",
    "\t{padding-top:1px;\n",
    "\tpadding-right:1px;\n",
    "\tpadding-left:1px;\n",
    "\tmso-ignore:padding;\n",
    "\tcolor:black;\n",
    "\tfont-size:11.0pt;\n",
    "\tfont-weight:400;\n",
    "\tfont-style:normal;\n",
    "\ttext-decoration:none;\n",
    "\tfont-family:Calibri, sans-serif;\n",
    "\tmso-font-charset:0;\n",
    "\tmso-number-format:General;\n",
    "\ttext-align:general;\n",
    "\tvertical-align:bottom;\n",
    "\tborder:.5pt solid windowtext;\n",
    "\tmso-background-source:auto;\n",
    "\tmso-pattern:auto;\n",
    "\twhite-space:nowrap;}\n",
    ".xl653803\n",
    "\t{padding-top:1px;\n",
    "\tpadding-right:1px;\n",
    "\tpadding-left:1px;\n",
    "\tmso-ignore:padding;\n",
    "\tcolor:black;\n",
    "\tfont-size:11.0pt;\n",
    "\tfont-weight:400;\n",
    "\tfont-style:normal;\n",
    "\ttext-decoration:none;\n",
    "\tfont-family:Calibri, sans-serif;\n",
    "\tmso-font-charset:0;\n",
    "\tmso-number-format:General;\n",
    "\ttext-align:general;\n",
    "\tvertical-align:bottom;\n",
    "\tborder:.5pt solid windowtext;\n",
    "\tmso-background-source:auto;\n",
    "\tmso-pattern:auto;\n",
    "\twhite-space:normal;}\n",
    "-->\n",
    "</style>\n",
    "<title>Final1 - data Dictionary</title>\n",
    "</head>\n",
    "\n",
    "<body>\n",
    "<!--[if !excel]>&nbsp;&nbsp;<![endif]-->\n",
    "<!--The following information was generated by Microsoft Excel's Publish as Web\n",
    "Page wizard.-->\n",
    "<!--If the same item is republished from Excel, all information between the DIV\n",
    "tags will be replaced.-->\n",
    "<!----------------------------->\n",
    "<!--START OF OUTPUT FROM EXCEL PUBLISH AS WEB PAGE WIZARD -->\n",
    "<!----------------------------->\n",
    "\n",
    "<div id=\"friends at GA_3803\" align=center x:publishsource=\"Excel\">\n",
    "\n",
    "<h1 style='color:black;font-family:Calibri;font-size:14.0pt;font-weight:800;\n",
    "font-style:normal'>Final1 - data Dictionary</h1>\n",
    "\n",
    "<table border=0 cellpadding=0 cellspacing=0 width=480 style='border-collapse:\n",
    " collapse;table-layout:fixed;width:361pt'>\n",
    " <col width=83 style='mso-width-source:userset;mso-width-alt:2909;width:63pt'>\n",
    " <col width=64 style='width:48pt'>\n",
    " <col width=333 style='mso-width-source:userset;mso-width-alt:11636;width:250pt'>\n",
    " <tr height=19 style='height:14.5pt'>\n",
    "  <td height=19 class=xl633803 width=83 style='height:14.5pt;width:63pt'>state</td>\n",
    "  <td class=xl633803 width=64 style='border-left:none;width:48pt'>object</td>\n",
    "  <td class=xl633803 width=333 style='border-left:none;width:250pt'>state</td>\n",
    " </tr>\n",
    " <tr height=58 style='height:43.5pt'>\n",
    "  <td height=58 class=xl643803 style='height:43.5pt;border-top:none'>math</td>\n",
    "  <td class=xl643803 style='border-top:none;border-left:none'>float</td>\n",
    "  <td class=xl653803 width=333 style='border-top:none;border-left:none;\n",
    "  width:250pt'>Math portion of test<br>\n",
    "    For ACT, score: 1-36 <br>\n",
    "    For SAT, score: 400–1600</td>\n",
    " </tr>\n",
    " <tr height=19 style='height:14.5pt'>\n",
    "  <td height=19 class=xl643803 style='height:14.5pt;border-top:none'>participation</td>\n",
    "  <td class=xl643803 style='border-top:none;border-left:none'>float</td>\n",
    "  <td class=xl643803 style='border-top:none;border-left:none'>Participation\n",
    "  level in the test in precentages</td>\n",
    " </tr>\n",
    " <tr height=39 style='height:29.0pt'>\n",
    "  <td height=39 class=xl643803 style='height:29.0pt;border-top:none'>test_score</td>\n",
    "  <td class=xl643803 style='border-top:none;border-left:none'>float</td>\n",
    "  <td class=xl653803 width=333 style='border-top:none;border-left:none;\n",
    "  width:250pt'>For ACT, it refers to composite. Score: 1-36; <br>\n",
    "    For SAT it refers to Total score .Score: 400–1600</td>\n",
    " </tr>\n",
    " <tr height=19 style='height:14.5pt'>\n",
    "  <td height=19 class=xl643803 style='height:14.5pt;border-top:none'>year</td>\n",
    "  <td class=xl643803 style='border-top:none;border-left:none'>integer</td>\n",
    "  <td class=xl643803 style='border-top:none;border-left:none'>The year the test\n",
    "  was conducted. Either 2017 or 2018</td>\n",
    " </tr>\n",
    " <tr height=19 style='height:14.5pt'>\n",
    "  <td height=19 class=xl643803 style='height:14.5pt;border-top:none'>test_type</td>\n",
    "  <td class=xl643803 style='border-top:none;border-left:none'>object</td>\n",
    "  <td class=xl643803 style='border-top:none;border-left:none'>The type of test.\n",
    "  ACT or SAT</td>\n",
    " </tr>\n",
    "\n",
    " <tr height=0 style='display:none'>\n",
    "  <td width=83 style='width:63pt'></td>\n",
    "  <td width=64 style='width:48pt'></td>\n",
    "  <td width=333 style='width:250pt'></td>\n",
    " </tr>\n",
    "\n",
    "</table>\n",
    "\n",
    "</div>\n",
    "\n",
    "\n",
    "<!----------------------------->\n",
    "<!--END OF OUTPUT FROM EXCEL PUBLISH AS WEB PAGE WIZARD-->\n",
    "<!----------------------------->\n",
    "</body>\n",
    "\n",
    "</html>\n"
   ]
  },
  {
   "cell_type": "code",
   "execution_count": 71,
   "metadata": {},
   "outputs": [],
   "source": [
    "# Create copies of the original datasets\n",
    "df_act17a = df_act17\n",
    "df_act18a = df_act18\n",
    "df_sat17a = df_sat17\n",
    "df_sat18a = df_sat18"
   ]
  },
  {
   "cell_type": "markdown",
   "metadata": {},
   "source": [
    "Task:\n",
    "1. rename to math\n",
    "2. rename to test_score\n",
    "3. rename to particiption\n",
    "4. add year column\n",
    "5. add test_type column\n",
    "6. drop columns"
   ]
  },
  {
   "cell_type": "code",
   "execution_count": 72,
   "metadata": {},
   "outputs": [],
   "source": [
    "df_act17a.rename(columns = {'act17_math':'math'}, inplace = True)\n",
    "df_act17a.rename(columns = {'act17_composite':'test_score'}, inplace = True)\n",
    "df_act17a.rename(columns = {'act17_participation':'participation'}, inplace = True)\n",
    "\n",
    "df_act17a['year'] = 2017\n",
    "df_act17a['test_type'] = 'ACT'\n",
    "\n",
    "df_act17a.drop(['act17_english', 'act17_reading', 'act17_science'], axis=1, inplace = True)\n",
    "\n",
    "df_act18a.rename(columns = {'act18_average_math_score':'math'}, inplace = True)\n",
    "df_act18a.rename(columns = {'act18_average_composite_score':'test_score'}, inplace = True)\n",
    "df_act18a.rename(columns = {'act18_percentage_of_students_tested':'participation'}, inplace = True)\n",
    "\n",
    "df_act18a['year'] = 2018\n",
    "df_act18a['test_type'] = 'ACT'\n",
    "\n",
    "df_act18a.drop(['act18_average_english_score', 'act18_average_reading_score', 'act18_average_science_score'], axis=1, inplace = True)\n",
    "\n",
    "df_sat17a.rename(columns = {'sat17_math':'math'}, inplace = True)\n",
    "df_sat17a.rename(columns = {'sat17_total':'test_score'}, inplace = True)\n",
    "df_sat17a.rename(columns = {'sat17_participation':'participation'}, inplace = True)\n",
    "\n",
    "df_sat17a['year'] = 2017\n",
    "df_sat17a['test_type'] = 'SAT'\n",
    "\n",
    "df_sat17a.drop(['sat17_evidence_based_reading_and_writing'], axis=1, inplace = True)\n",
    "\n",
    "\n",
    "df_sat18a.rename(columns = {'sat18_math':'math'}, inplace = True)\n",
    "df_sat18a.rename(columns = {'sat18_total':'test_score'}, inplace = True)\n",
    "df_sat18a.rename(columns = {'sat18_participation':'participation'}, inplace = True)\n",
    "\n",
    "df_sat18a['year'] = 2018\n",
    "df_sat18a['test_type'] = 'SAT'\n",
    "\n",
    "df_sat18a.drop(['sat18_evidence_based_reading_and_writing'], axis=1, inplace = True)"
   ]
  },
  {
   "cell_type": "code",
   "execution_count": 73,
   "metadata": {},
   "outputs": [
    {
     "name": "stdout",
     "output_type": "stream",
     "text": [
      "     state  participation  math  test_score  year test_type\n",
      "1  Alabama            100  18.4        19.2  2017       ACT\n",
      "     state  participation  test_score  math  year test_type\n",
      "0  Alabama            100        19.1  18.3  2018       ACT\n",
      "     state  participation  math  test_score  year test_type\n",
      "0  Alabama              5   572        1165  2017       SAT\n",
      "     state  participation  math  test_score  year test_type\n",
      "0  Alabama              6   571        1166  2018       SAT\n"
     ]
    }
   ],
   "source": [
    "# Verify columns names are same and that front rows values correct\n",
    "print(df_act17a.head(1))\n",
    "print(df_act18a.head(1))\n",
    "print(df_sat17a.head(1))\n",
    "print(df_sat18a.head(1))"
   ]
  },
  {
   "cell_type": "code",
   "execution_count": 74,
   "metadata": {},
   "outputs": [],
   "source": [
    "final1 = pd.concat([df_act17a,df_act18a,df_sat17a,df_sat18a])"
   ]
  },
  {
   "cell_type": "markdown",
   "metadata": {},
   "source": [
    "Based upon your observations, choose **three** states that demonstrate interesting trends in their SAT and/or ACT participation rates.<br /> \n",
    "Spend some time doing outside research on state policies that might influence these rates, and summarize your findings below.\n",
    "\n",
    "**Feel free to go back and create new plots that highlight these states of interest**.<br /> \n",
    "If you bring in any outside tables or charts, make sure you are explicit about having borrowed them.<br /> \n",
    "If you quote any text, make sure that it renders as being quoted.<br /> \n",
    "(Make sure that you cite your sources -- check with you local instructor for citation preferences)."
   ]
  },
  {
   "cell_type": "markdown",
   "metadata": {},
   "source": [
    "<span style='color:Blue'>\n",
    "The states of interest are: Florida, Georgia, Hawaii and they have more than 50% participation rate in both tests\n",
    "   \n",
    "</span>\n",
    "\n"
   ]
  },
  {
   "cell_type": "code",
   "execution_count": 75,
   "metadata": {},
   "outputs": [
    {
     "name": "stdout",
     "output_type": "stream",
     "text": [
      "Total act mean score for 2 yrs 21.502450980392158\n",
      "Total sat mean score for 2 yrs 1123.0588235294117\n"
     ]
    }
   ],
   "source": [
    "act_mean_both_yr = final1[final1['test_type']=='ACT']['test_score'].mean()\n",
    "sat_mean_both_yr = final1[final1['test_type']=='SAT']['test_score'].mean()\n",
    "\n",
    "print('Total act mean score for 2 yrs '+str(act_mean_both_yr))\n",
    "print('Total sat mean score for 2 yrs '+str(sat_mean_both_yr))"
   ]
  },
  {
   "cell_type": "code",
   "execution_count": 76,
   "metadata": {},
   "outputs": [
    {
     "name": "stdout",
     "output_type": "stream",
     "text": [
      "18.95\n",
      "1047.5\n"
     ]
    }
   ],
   "source": [
    "# Hawaii act and sat mean scores\n",
    "hawaii_mean_act = final1[(final1['test_type']=='ACT')&(final1['state']=='Hawaii')]['test_score'].mean()\n",
    "hawaii_mean_sat = final1[(final1['test_type']=='SAT')&(final1['state']=='Hawaii')]['test_score'].mean()\n",
    "\n",
    "print(hawaii_mean_act)\n",
    "print(hawaii_mean_sat)"
   ]
  },
  {
   "cell_type": "code",
   "execution_count": 77,
   "metadata": {},
   "outputs": [
    {
     "name": "stdout",
     "output_type": "stream",
     "text": [
      "19.85\n",
      "1058.0\n"
     ]
    }
   ],
   "source": [
    "# Florida act and sat mean scores\n",
    "florida_mean_act = final1[(final1['test_type']=='ACT')&(final1['state']=='Florida')]['test_score'].mean()\n",
    "florida_mean_sat = final1[(final1['test_type']=='SAT')&(final1['state']=='Florida')]['test_score'].mean()\n",
    "\n",
    "print(florida_mean_act)\n",
    "print(florida_mean_sat)"
   ]
  },
  {
   "cell_type": "code",
   "execution_count": 78,
   "metadata": {},
   "outputs": [
    {
     "name": "stdout",
     "output_type": "stream",
     "text": [
      "21.4\n",
      "1057.0\n"
     ]
    }
   ],
   "source": [
    "# Georgia act and sat mean scores\n",
    "georgia_mean_act = final1[(final1['test_type']=='ACT')&(final1['state']=='Georgia')]['test_score'].mean()\n",
    "georgia_mean_sat = final1[(final1['test_type']=='SAT')&(final1['state']=='Georgia')]['test_score'].mean()\n",
    "\n",
    "print(georgia_mean_act)\n",
    "print(georgia_mean_sat)"
   ]
  },
  {
   "cell_type": "markdown",
   "metadata": {},
   "source": [
    "<span style='color:Blue'>\n",
    "Most of the time, the participation rate of both test is inversely proportional to sat for any state<br />\n",
    "    \n",
    "Yet, Florida, Georgia, Hawaii and they have more than 50% participation rate in both tests<br />\n",
    "Also worth noting that Florida, Georgia and Hawaii does not have these mandatory requirements by the state for any of the 2 test <br />\n",
    "\n",
    "\n",
    "The most common reason students take both the ACT and the SAT is in case they can score much better on one than the other.\n",
    "With that, they can gain admission to college<br />\n",
    "Alongside, i was also thinking if the students are smarter since they are taking 2 test.<br />\n",
    "I wanted to compare the 3 states mean act and sat scores with the national ones<br />\n",
    "Apparently all 3 states fall short with only Georgia's act score(21.4) falling really close to the national mean score(21.5)   \n",
    "</span>"
   ]
  },
  {
   "cell_type": "markdown",
   "metadata": {},
   "source": [
    "## Conclusions and Recommendations"
   ]
  },
  {
   "cell_type": "markdown",
   "metadata": {},
   "source": [
    "Based on your exploration of the data, what are you key takeaways and recommendations?<br />"
   ]
  },
  {
   "cell_type": "markdown",
   "metadata": {},
   "source": [
    "<span style='color:Blue'>\n",
    "One noticeable trend in the data:\n",
    "The state with high participation in one test often result in a lower participation in another\n",
    "This should be an inversely correlated relationship , almost like a line with negative gradient. \n",
    "</span>"
   ]
  },
  {
   "cell_type": "code",
   "execution_count": 79,
   "metadata": {},
   "outputs": [],
   "source": [
    "act_participation = final1[final1['test_type']=='ACT']['participation']\n",
    "sat_participation = final1[final1['test_type']=='SAT']['participation']"
   ]
  },
  {
   "cell_type": "code",
   "execution_count": 80,
   "metadata": {},
   "outputs": [
    {
     "data": {
      "image/png": "[encoded data removed]",
      "text/plain": [
       "<Figure size 576x432 with 1 Axes>"
      ]
     },
     "metadata": {
      "needs_background": "light"
     },
     "output_type": "display_data"
    }
   ],
   "source": [
    "plt.scatter(act_participation,sat_participation, color='r', label='ACT17 Composite')\n",
    "plt.rcParams[\"figure.figsize\"] = [8,6]\n",
    "plt.title('ACT an SAT test perticipation inversely related')\n",
    "plt.xlabel('act_participation')\n",
    "plt.ylabel('sat_participation')\n",
    "plt.show()"
   ]
  },
  {
   "cell_type": "markdown",
   "metadata": {},
   "source": [
    "\n",
    "Choose one state with a lower participation rate and provide a suggestion for how the College Board might increase participation amongst graduating seniors in this state. <br />"
   ]
  },
  {
   "cell_type": "markdown",
   "metadata": {},
   "source": [
    "The SAT or ACT are test that high school students have to take before college\n",
    "\n",
    "The choice of taking either test is usually stem from which  states the students are from\n",
    "<br />\n",
    "\n",
    "<span style='color:Green'>\n",
    "- States that require ACT: 18\n",
    "- States that require SAT: 11 \n",
    "Data source:\n",
    "https://www.testive.com/state-sat-act/\n",
    "</SPAN>\n",
    "\n",
    "<br />\n",
    "We see that out of the 51 states in US, mandatory requirements for the ACT and SAT stands at 18 and 11 respectively\n",
    "\n",
    "On the other hand, students from family with a higher income should generally do better. \n",
    "For a start, a higher income family usually means that the parents have a higher level of education. \n",
    "The student also do not need to worry about the daily needs in life\n",
    "(Does he/she needs to take on part time job while studying to provide for family?). \n",
    "\n",
    "<br />\n",
    "\n",
    "<span style='color:Green'>\n",
    "\n",
    "Students from famalies earning more than 200,000 dollars a year average a combined score of 1714 while \n",
    "students from famalies earning under 20,000 dollars a year average a combined score of 1326\n",
    "\n",
    "Data source:\n",
    "https://www.washingtonpost.com/news/wonk/wp/2014/03/05/these-four-charts-show-how-the-sat-favors-the-rich-educated-families/\n",
    "\n",
    "\"Lower-income students are more likley to have lower ACT scores than higher-income students\"\n",
    "Data source:\n",
    "https://www.act.org/content/dam/act/unsecured/documents/5688-data-byte-2016-5-adjusted-differences-in-act-scores-by-family-income.pdf\n",
    "\n",
    "   \n",
    "From a case example, we see how Illinois switch from ACT to SAT\n",
    "\"Illinois recently began offering the SAT to all juniors in public high schools. \n",
    "As a result, SAT usage in that state spiked from 12,402 in the Class of 2017 to 145,919 in the Class of 2018\"\n",
    "\"Students are able to take a practice version, called the PSAT, in 10th grade. Then, they can get help through free online tutoring\"\n",
    "Data source:\n",
    "https://www.washingtonpost.com/education/2018/10/23/sat-reclaims-title-most-widely-used-college-admission-test/\n",
    "\n",
    "</SPAN>\n",
    "<br />      \n",
    "    \n",
    "    \n",
    "    \n",
    "Beyond the perks as mentioned in the case of Illinois, ultimate aim is provding quality education in preparation for college\n",
    "A family's education or income gap ideally should not be a deterrent factor.\n",
    "As such, more states should consider making SAT/ACT test a requirement. State-administered SATs are usually free\n",
    "\n",
    "NB: Words in green, cited from internet"
   ]
  },
  {
   "cell_type": "markdown",
   "metadata": {},
   "source": [
    "Are there additional data you desire that would better inform your investigations?"
   ]
  },
  {
   "cell_type": "markdown",
   "metadata": {},
   "source": [
    "<span style='color:Blue'>\n",
    "\n",
    "**The other way of looking at the merging of data:**\n",
    "<br />\n",
    "1. I did the merging of 4 datasets in the top-down way as an alternative way to look and analyse the data\n",
    "Alternatively, there is a more elegant way:\n",
    "    - add a 'year' field to all 4 datasets (act17/18, sat17/18).\n",
    "(act17's year has '2017' etc)\n",
    "    - Merge act17 to act18 to give act_2017_2018\n",
    "    - Merge sat17 to sat18 to give sat_2017_2018\n",
    "    - This way have more data for act and sat just by adding a 'year' field without the need to dropping any columns\n",
    "\n",
    "    \n",
    "</span>"
   ]
  }
 ],
 "metadata": {
  "anaconda-cloud": {},
  "kernelspec": {
   "display_name": "Python 3",
   "language": "python",
   "name": "python3"
  },
  "language_info": {
   "codemirror_mode": {
    "name": "ipython",
    "version": 3
   },
   "file_extension": ".py",
   "mimetype": "text/x-python",
   "name": "python",
   "nbconvert_exporter": "python",
   "pygments_lexer": "ipython3",
   "version": "3.7.6"
  },
  "varInspector": {
   "cols": {
    "lenName": 16,
    "lenType": 16,
    "lenVar": 40
   },
   "kernels_config": {
    "python": {
     "delete_cmd_postfix": "",
     "delete_cmd_prefix": "del ",
     "library": "var_list.py",
     "varRefreshCmd": "print(var_dic_list())"
    },
    "r": {
     "delete_cmd_postfix": ") ",
     "delete_cmd_prefix": "rm(",
     "library": "var_list.r",
     "varRefreshCmd": "cat(var_dic_list()) "
    }
   },
   "types_to_exclude": [
    "module",
    "function",
    "builtin_function_or_method",
    "instance",
    "_Feature"
   ],
   "window_display": false
  }
 },
 "nbformat": 4,
 "nbformat_minor": 2
}
