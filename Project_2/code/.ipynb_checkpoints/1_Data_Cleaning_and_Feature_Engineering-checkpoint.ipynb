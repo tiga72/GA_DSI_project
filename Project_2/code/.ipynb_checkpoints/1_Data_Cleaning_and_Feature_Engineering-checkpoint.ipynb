{
 "cells": [
  {
   "cell_type": "markdown",
   "metadata": {},
   "source": [
    "## Project 2: Ames housing price prediction\n",
    "---\n",
    "Project notebook organisation:<br>\n",
    "**1_DataCleaning and FeatureEngineering** (current notebook)<br>\n",
    "<a href='./2_Regression_Models.ipynb'>2 Regression Models</a><br>\n",
    "<a href='./3_Visualisation_and_Insights.ipynb'>3 Visualisation and Insights</a><br>"
   ]
  },
  {
   "cell_type": "markdown",
   "metadata": {},
   "source": [
    "---\n",
    "### This notebook's layout\n",
    "<a href='#init'>Initial checks</a><br>\n",
    "<a href='#clean'>Handling and cleaning of nan(missing/NA) values</a><br>\n",
    "<a href='#impute'>Impute values for LotFrontage with Regression</a><br>\n",
    "<a href='#remove'>Removing outliers and redundant columns</a><br>\n",
    "<a href='#dtype'>Changing some feature's datatype</a><br>\n",
    "<a href='#test_data'>Cleaning test data</a><br>\n",
    "<a href='#feature'>Feature Engineering</a><br>\n",
    "<a href='#encode'>Encode categorical features</a><br>\n",
    "<a href='#export'>Export cleaned datasets as xls</a><br>"
   ]
  },
  {
   "cell_type": "code",
   "execution_count": 1,
   "metadata": {},
   "outputs": [],
   "source": [
    "import numpy as np\n",
    "import pandas as pd\n",
    "import matplotlib.pyplot as plt\n",
    "import statsmodels.api as sm\n",
    "import seaborn as sns\n",
    "\n",
    "import math\n",
    "\n",
    "sns.set()\n",
    "%matplotlib inline"
   ]
  },
  {
   "cell_type": "code",
   "execution_count": 2,
   "metadata": {},
   "outputs": [],
   "source": [
    "train = pd.read_csv('../data/train.csv')\n",
    "test = pd.read_csv('../data/test.csv')"
   ]
  },
  {
   "cell_type": "markdown",
   "metadata": {},
   "source": [
    "<a id='init'></a>\n",
    "### Initial Checks"
   ]
  },
  {
   "cell_type": "code",
   "execution_count": 3,
   "metadata": {},
   "outputs": [
    {
     "data": {
      "text/html": [
       "<div>\n",
       "<style scoped>\n",
       "    .dataframe tbody tr th:only-of-type {\n",
       "        vertical-align: middle;\n",
       "    }\n",
       "\n",
       "    .dataframe tbody tr th {\n",
       "        vertical-align: top;\n",
       "    }\n",
       "\n",
       "    .dataframe thead th {\n",
       "        text-align: right;\n",
       "    }\n",
       "</style>\n",
       "<table border=\"1\" class=\"dataframe\">\n",
       "  <thead>\n",
       "    <tr style=\"text-align: right;\">\n",
       "      <th></th>\n",
       "      <th>Id</th>\n",
       "      <th>PID</th>\n",
       "      <th>MS SubClass</th>\n",
       "      <th>MS Zoning</th>\n",
       "      <th>Lot Frontage</th>\n",
       "      <th>Lot Area</th>\n",
       "      <th>Street</th>\n",
       "      <th>Alley</th>\n",
       "      <th>Lot Shape</th>\n",
       "      <th>Land Contour</th>\n",
       "      <th>...</th>\n",
       "      <th>Screen Porch</th>\n",
       "      <th>Pool Area</th>\n",
       "      <th>Pool QC</th>\n",
       "      <th>Fence</th>\n",
       "      <th>Misc Feature</th>\n",
       "      <th>Misc Val</th>\n",
       "      <th>Mo Sold</th>\n",
       "      <th>Yr Sold</th>\n",
       "      <th>Sale Type</th>\n",
       "      <th>SalePrice</th>\n",
       "    </tr>\n",
       "  </thead>\n",
       "  <tbody>\n",
       "    <tr>\n",
       "      <th>0</th>\n",
       "      <td>109</td>\n",
       "      <td>533352170</td>\n",
       "      <td>60</td>\n",
       "      <td>RL</td>\n",
       "      <td>NaN</td>\n",
       "      <td>13517</td>\n",
       "      <td>Pave</td>\n",
       "      <td>NaN</td>\n",
       "      <td>IR1</td>\n",
       "      <td>Lvl</td>\n",
       "      <td>...</td>\n",
       "      <td>0</td>\n",
       "      <td>0</td>\n",
       "      <td>NaN</td>\n",
       "      <td>NaN</td>\n",
       "      <td>NaN</td>\n",
       "      <td>0</td>\n",
       "      <td>3</td>\n",
       "      <td>2010</td>\n",
       "      <td>WD</td>\n",
       "      <td>130500</td>\n",
       "    </tr>\n",
       "    <tr>\n",
       "      <th>1</th>\n",
       "      <td>544</td>\n",
       "      <td>531379050</td>\n",
       "      <td>60</td>\n",
       "      <td>RL</td>\n",
       "      <td>43.0</td>\n",
       "      <td>11492</td>\n",
       "      <td>Pave</td>\n",
       "      <td>NaN</td>\n",
       "      <td>IR1</td>\n",
       "      <td>Lvl</td>\n",
       "      <td>...</td>\n",
       "      <td>0</td>\n",
       "      <td>0</td>\n",
       "      <td>NaN</td>\n",
       "      <td>NaN</td>\n",
       "      <td>NaN</td>\n",
       "      <td>0</td>\n",
       "      <td>4</td>\n",
       "      <td>2009</td>\n",
       "      <td>WD</td>\n",
       "      <td>220000</td>\n",
       "    </tr>\n",
       "  </tbody>\n",
       "</table>\n",
       "<p>2 rows × 81 columns</p>\n",
       "</div>"
      ],
      "text/plain": [
       "    Id        PID  MS SubClass MS Zoning  Lot Frontage  Lot Area Street Alley  \\\n",
       "0  109  533352170           60        RL           NaN     13517   Pave   NaN   \n",
       "1  544  531379050           60        RL          43.0     11492   Pave   NaN   \n",
       "\n",
       "  Lot Shape Land Contour  ... Screen Porch Pool Area Pool QC Fence  \\\n",
       "0       IR1          Lvl  ...            0         0     NaN   NaN   \n",
       "1       IR1          Lvl  ...            0         0     NaN   NaN   \n",
       "\n",
       "  Misc Feature Misc Val Mo Sold Yr Sold  Sale Type  SalePrice  \n",
       "0          NaN        0       3    2010        WD      130500  \n",
       "1          NaN        0       4    2009        WD      220000  \n",
       "\n",
       "[2 rows x 81 columns]"
      ]
     },
     "execution_count": 3,
     "metadata": {},
     "output_type": "execute_result"
    }
   ],
   "source": [
    "train.head(2)"
   ]
  },
  {
   "cell_type": "markdown",
   "metadata": {},
   "source": [
    "There are 2051 observations and 81 variables.\n",
    "\n",
    "One of the 80 variables is the sale price, and is target variable."
   ]
  },
  {
   "cell_type": "code",
   "execution_count": 4,
   "metadata": {},
   "outputs": [
    {
     "name": "stdout",
     "output_type": "stream",
     "text": [
      "(2051, 81)\n",
      "(879, 80)\n"
     ]
    }
   ],
   "source": [
    "print(train.shape)\n",
    "print(test.shape)"
   ]
  },
  {
   "cell_type": "code",
   "execution_count": 5,
   "metadata": {},
   "outputs": [
    {
     "data": {
      "text/plain": [
       "['SalePrice']"
      ]
     },
     "execution_count": 5,
     "metadata": {},
     "output_type": "execute_result"
    }
   ],
   "source": [
    "# Notice the difference between the train and test dataset\n",
    "list1 = train.columns.tolist()\n",
    "list2 = test.columns.tolist()\n",
    "list_difference = []\n",
    "\n",
    "[list_difference.append(item) for item in list1 if item not in list2]\n",
    "list_difference"
   ]
  },
  {
   "cell_type": "code",
   "execution_count": 6,
   "metadata": {},
   "outputs": [],
   "source": [
    "# Function to rename all columns by removing the spacing within the column name\n",
    "def rename_col_name(df):\n",
    "    for col_name in df:\n",
    "        if \" \" in col_name:\n",
    "            temp_col_name = col_name.replace(\" \", \"\")\n",
    "            df.rename(columns={col_name: temp_col_name}, inplace='True')"
   ]
  },
  {
   "cell_type": "code",
   "execution_count": 7,
   "metadata": {},
   "outputs": [],
   "source": [
    "# Renaming both train and test data\n",
    "rename_col_name(train)\n",
    "rename_col_name(test)"
   ]
  },
  {
   "cell_type": "code",
   "execution_count": 8,
   "metadata": {},
   "outputs": [
    {
     "name": "stdout",
     "output_type": "stream",
     "text": [
      "PoolQC          2042\n",
      "MiscFeature     1986\n",
      "Alley           1911\n",
      "Fence           1651\n",
      "FireplaceQu     1000\n",
      "LotFrontage      330\n",
      "GarageFinish     114\n",
      "GarageCond       114\n",
      "GarageQual       114\n",
      "GarageYrBlt      114\n",
      "GarageType       113\n",
      "BsmtExposure      58\n",
      "BsmtFinType2      56\n",
      "BsmtFinType1      55\n",
      "BsmtCond          55\n",
      "BsmtQual          55\n",
      "MasVnrType        22\n",
      "MasVnrArea        22\n",
      "BsmtHalfBath       2\n",
      "BsmtFullBath       2\n",
      "GarageCars         1\n",
      "GarageArea         1\n",
      "BsmtUnfSF          1\n",
      "BsmtFinSF2         1\n",
      "TotalBsmtSF        1\n",
      "BsmtFinSF1         1\n",
      "dtype: int64\n",
      "                      0\n",
      "PoolQC        99.561190\n",
      "MiscFeature   96.830814\n",
      "Alley         93.174061\n",
      "Fence         80.497318\n",
      "FireplaceQu   48.756704\n",
      "LotFrontage   16.089712\n",
      "GarageFinish   5.558264\n",
      "GarageCond     5.558264\n",
      "GarageQual     5.558264\n",
      "GarageYrBlt    5.558264\n",
      "GarageType     5.509508\n",
      "BsmtExposure   2.827889\n",
      "BsmtFinType2   2.730375\n",
      "BsmtFinType1   2.681619\n",
      "BsmtCond       2.681619\n",
      "BsmtQual       2.681619\n",
      "MasVnrType     1.072647\n",
      "MasVnrArea     1.072647\n",
      "BsmtHalfBath   0.097513\n",
      "BsmtFullBath   0.097513\n",
      "GarageCars     0.048757\n",
      "GarageArea     0.048757\n",
      "BsmtUnfSF      0.048757\n",
      "BsmtFinSF2     0.048757\n",
      "TotalBsmtSF    0.048757\n",
      "BsmtFinSF1     0.048757\n"
     ]
    }
   ],
   "source": [
    "# Check null values and percentages\n",
    "# I also did a isna() and it returns exactly the same\n",
    "train_isnull_val = train.isnull().sum().sort_values(ascending = False)\n",
    "train_isnull_pct = pd.DataFrame(train_isnull_val*100/len(train))\n",
    "print(train_isnull_val.head(26))\n",
    "print(train_isnull_pct.head(26))"
   ]
  },
  {
   "cell_type": "markdown",
   "metadata": {},
   "source": [
    "<a id='clean'></a>\n",
    "\n",
    "###  Handling and cleaning of nan(missing/NA) values \n",
    "\n",
    "|      | Feature      | type    | data value      | counts | Remarks                                                      |\n",
    "| ---- | ------------ | ------- | --------------- | ------ | :----------------------------------------------------------- |\n",
    "| 1    | PoolQC       | object  | nan(missing/NA) | 2042   | PoolArea  has 2042 values of Zero     SO ok to replace all values with NA |\n",
    "| 2    | MiscFeature  | object  | nan(missing/NA) | 1986   | Replace all values  with NA                                  |\n",
    "| 3    | Alley        | object  | nan(missing/NA) | 1911   | Replace all values  with NA                                  |\n",
    "| 4    | Fence        | object  | nan(missing/NA) | 1651   | Replace all values  with NA                                  |\n",
    "| 5    | FiReplaceQu  | object  | nan(missing/NA) | 1000   | Replace all values  with NA                                  |\n",
    "| 6    | LotFrontage  | float64 | nan(missing/NA) | 330    | 330  missing values(16%)     These values obtained via linear regression     with 'LotArea' and '1stFlrSF' as predictors |\n",
    "| 7    | GarageFinish | object  | nan(missing/NA) | 114    | Replace all values  with NA                                  |\n",
    "| 8    | GarageCond   | object  | nan(missing/NA) | 114    | Replace all values  with NA                                  |\n",
    "| 9    | GarageQual   | object  | nan(missing/NA) | 114    | Replace all values  with NA                                  |\n",
    "| 10   | GarageYrBlt  | float64 | nan(missing/NA) | 114    | All  5 x114 rows indicate there is no garage     Replaces with zero since no garage |\n",
    "| 11   | GarageType   | object  | nan(missing/NA) | 113    | Replace all values  with NA since no garage                  |\n",
    "| 12   | BsmtExposure | object  | nan(missing/NA) | 58     | Replace all values  with NA                                  |\n",
    "| 13   | BsmtFinType2 | object  | nan(missing/NA) | 56     | Replace all values  with NA                                  |\n",
    "| 14   | BsmtFinType1 | object  | nan(missing/NA) | 55     | Replace all values  with NA                                  |\n",
    "| 15   | BsmtCond     | object  | nan(missing/NA) | 55     | Replace all values  with NA                                  |\n",
    "| 16   | BsmtQual     | object  | nan(missing/NA) | 55     | Replace all values  with NA                                  |\n",
    "| 17   | MasVnrType   | object  | nan(missing/NA) | 22     | 22  missing values of 'MasVnrType' coincide with 22 missing values for  'MasVnrArea'As such, it is safe to assume None for 'MasVnrType' and zero for 'MasVnrArea'. |\n",
    "| 18   | MasVnrArea   | float64 | nan(missing/NA) | 22     | see above, Replace  values with zero                         |\n",
    "| 19   | BsmtHalfBath | float64 | nan(missing/NA) | 2      | Insignificant,  Replace values with zero                     |\n",
    "| 20   | BsmtFullBath | float64 | nan(missing/NA) | 2      | Insignificant,  Replace values with zero                     |\n",
    "| 21   | GarageCars   | float64 | nan(missing/NA) | 1      | Insignificant,  Replace values with zero                     |\n",
    "| 22   | GarageArea   | float64 | nan(missing/NA) | 1      | Insignificant,  Replace values with zero                     |\n",
    "| 23   | BsmtUnfSF    | float64 | nan(missing/NA) | 1      | Insignificant,  Replace values with zero                     |\n",
    "| 24   | BsmtFinSF2   | float64 | nan(missing/NA) | 1      | Insignificant,  Replace values with zero                     |\n",
    "| 25   | TotalBsmtSF  | float64 | nan(missing/NA) | 1      | Insignificant,  Replace values with zero                     |\n"
   ]
  },
  {
   "cell_type": "code",
   "execution_count": 9,
   "metadata": {
    "scrolled": true
   },
   "outputs": [
    {
     "name": "stdout",
     "output_type": "stream",
     "text": [
      "14\n",
      "10\n"
     ]
    }
   ],
   "source": [
    "# Creates 2 lists\n",
    "# na_list: list of column names where value is null, replace with 'NA'\n",
    "# zero_list: list of column names where value is null, replace with 0\n",
    "# 'BsmtFinSF1' was manually added based on post-checks into 'zero_list'\n",
    "\n",
    "na_list = [\n",
    "'PoolQC','MiscFeature','Alley','Fence','FireplaceQu','GarageFinish','GarageCond','GarageQual',\n",
    "    'GarageType','BsmtExposure','BsmtFinType2','BsmtFinType1','BsmtCond','BsmtQual',\n",
    "]\n",
    "zero_list = [\n",
    "    'GarageYrBlt','MasVnrArea','BsmtHalfBath','BsmtFullBath','GarageCars','GarageArea','BsmtUnfSF',\n",
    "    'BsmtFinSF2','TotalBsmtSF','BsmtFinSF1'\n",
    "]\n",
    "print(len(na_list)) # print the item list to check \n",
    "print(len(zero_list)) # print the item list to check "
   ]
  },
  {
   "cell_type": "code",
   "execution_count": 10,
   "metadata": {},
   "outputs": [],
   "source": [
    "for col in zero_list:\n",
    "    train.loc[train[col].isnull(), col] = 0        "
   ]
  },
  {
   "cell_type": "code",
   "execution_count": 11,
   "metadata": {},
   "outputs": [],
   "source": [
    "for col in na_list:\n",
    "    train.loc[train[col].isnull(), col] = 'NA' "
   ]
  },
  {
   "cell_type": "code",
   "execution_count": 12,
   "metadata": {},
   "outputs": [],
   "source": [
    "# 'MasVnrType' is the only exceptional where its missing values will be set to 'None'\n",
    "train.loc[train['MasVnrType'].isnull(), 'MasVnrType'] = 'None'"
   ]
  },
  {
   "cell_type": "markdown",
   "metadata": {},
   "source": [
    "<a id='impute'></a>\n",
    "### Impute values for LotFrontage with Regression \n",
    "\n",
    "Quick multiple linear regression using Gretl"
   ]
  },
  {
   "cell_type": "markdown",
   "metadata": {},
   "source": [
    "![Gretl_screen_capture](../misc/Gretl_screen_cap.JPG)"
   ]
  },
  {
   "cell_type": "code",
   "execution_count": 13,
   "metadata": {},
   "outputs": [
    {
     "data": {
      "text/html": [
       "<div>\n",
       "<style scoped>\n",
       "    .dataframe tbody tr th:only-of-type {\n",
       "        vertical-align: middle;\n",
       "    }\n",
       "\n",
       "    .dataframe tbody tr th {\n",
       "        vertical-align: top;\n",
       "    }\n",
       "\n",
       "    .dataframe thead th {\n",
       "        text-align: right;\n",
       "    }\n",
       "</style>\n",
       "<table border=\"1\" class=\"dataframe\">\n",
       "  <thead>\n",
       "    <tr style=\"text-align: right;\">\n",
       "      <th></th>\n",
       "      <th>LotFrontage</th>\n",
       "    </tr>\n",
       "  </thead>\n",
       "  <tbody>\n",
       "    <tr>\n",
       "      <th>LotFrontage</th>\n",
       "      <td>1.000000</td>\n",
       "    </tr>\n",
       "    <tr>\n",
       "      <th>LotArea</th>\n",
       "      <td>0.574024</td>\n",
       "    </tr>\n",
       "    <tr>\n",
       "      <th>1stFlrSF</th>\n",
       "      <td>0.463900</td>\n",
       "    </tr>\n",
       "    <tr>\n",
       "      <th>GrLivArea</th>\n",
       "      <td>0.383856</td>\n",
       "    </tr>\n",
       "  </tbody>\n",
       "</table>\n",
       "</div>"
      ],
      "text/plain": [
       "             LotFrontage\n",
       "LotFrontage     1.000000\n",
       "LotArea         0.574024\n",
       "1stFlrSF        0.463900\n",
       "GrLivArea       0.383856"
      ]
     },
     "execution_count": 13,
     "metadata": {},
     "output_type": "execute_result"
    }
   ],
   "source": [
    "# Which features have the highest correlation to 'LotFrontage'\n",
    "# This information is subsequent fed to Gretl, whereby i selected 2 interdependent variables\n",
    "pd.DataFrame(train.corr()['LotFrontage'].sort_values(ascending = False)).head(4)"
   ]
  },
  {
   "cell_type": "code",
   "execution_count": 14,
   "metadata": {},
   "outputs": [
    {
     "data": {
      "text/plain": [
       "0      NaN\n",
       "1     43.0\n",
       "2     68.0\n",
       "3     73.0\n",
       "4     82.0\n",
       "5    137.0\n",
       "6     35.0\n",
       "7      NaN\n",
       "8      NaN\n",
       "9     70.0\n",
       "Name: LotFrontage, dtype: float64"
      ]
     },
     "execution_count": 14,
     "metadata": {},
     "output_type": "execute_result"
    }
   ],
   "source": [
    "train['LotFrontage'].head(10)"
   ]
  },
  {
   "cell_type": "code",
   "execution_count": 15,
   "metadata": {},
   "outputs": [],
   "source": [
    "# Using variables to make equation easier for understanding\n",
    "LotArea = train['LotArea']\n",
    "stFlrSF = train['1stFlrSF']\n",
    "# Multiple linear equation obtain from Gretl\n",
    "LotFrontage_eqn = 32.1 + 0.00213*LotArea + 0.0143*stFlrSF\n",
    "# Conditional(when is null) updating the LotFrontage column \n",
    "train.loc[train['LotFrontage'].isnull(), 'LotFrontage'] = LotFrontage_eqn"
   ]
  },
  {
   "cell_type": "code",
   "execution_count": 16,
   "metadata": {},
   "outputs": [
    {
     "name": "stdout",
     "output_type": "stream",
     "text": [
      "SalePrice      0\n",
      "TotalBsmtSF    0\n",
      "dtype: int64\n",
      "               0\n",
      "SalePrice    0.0\n",
      "TotalBsmtSF  0.0\n"
     ]
    }
   ],
   "source": [
    "# Post-checks to make sure data cleaning done properly\n",
    "train_isnull_val = train.isnull().sum().sort_values(ascending = False)\n",
    "train_isnull_pct = pd.DataFrame(train_isnull_val*100/len(train))\n",
    "print(train_isnull_val.head(2))\n",
    "print(train_isnull_pct.head(2))"
   ]
  },
  {
   "cell_type": "code",
   "execution_count": 17,
   "metadata": {},
   "outputs": [
    {
     "data": {
      "text/html": [
       "<div>\n",
       "<style scoped>\n",
       "    .dataframe tbody tr th:only-of-type {\n",
       "        vertical-align: middle;\n",
       "    }\n",
       "\n",
       "    .dataframe tbody tr th {\n",
       "        vertical-align: top;\n",
       "    }\n",
       "\n",
       "    .dataframe thead th {\n",
       "        text-align: right;\n",
       "    }\n",
       "</style>\n",
       "<table border=\"1\" class=\"dataframe\">\n",
       "  <thead>\n",
       "    <tr style=\"text-align: right;\">\n",
       "      <th></th>\n",
       "      <th>SalePrice</th>\n",
       "    </tr>\n",
       "  </thead>\n",
       "  <tbody>\n",
       "    <tr>\n",
       "      <th>SalePrice</th>\n",
       "      <td>1.000000</td>\n",
       "    </tr>\n",
       "    <tr>\n",
       "      <th>OverallQual</th>\n",
       "      <td>0.800207</td>\n",
       "    </tr>\n",
       "    <tr>\n",
       "      <th>GrLivArea</th>\n",
       "      <td>0.697038</td>\n",
       "    </tr>\n",
       "    <tr>\n",
       "      <th>GarageArea</th>\n",
       "      <td>0.649897</td>\n",
       "    </tr>\n",
       "    <tr>\n",
       "      <th>GarageCars</th>\n",
       "      <td>0.647781</td>\n",
       "    </tr>\n",
       "  </tbody>\n",
       "</table>\n",
       "</div>"
      ],
      "text/plain": [
       "             SalePrice\n",
       "SalePrice     1.000000\n",
       "OverallQual   0.800207\n",
       "GrLivArea     0.697038\n",
       "GarageArea    0.649897\n",
       "GarageCars    0.647781"
      ]
     },
     "execution_count": 17,
     "metadata": {},
     "output_type": "execute_result"
    }
   ],
   "source": [
    "# Quick look at which would be a good predictor of SalePrice\n",
    "\n",
    "a = pd.DataFrame(train.corr()['SalePrice'].sort_values(ascending = False))\n",
    "a.head()"
   ]
  },
  {
   "cell_type": "code",
   "execution_count": 18,
   "metadata": {
    "scrolled": true
   },
   "outputs": [
    {
     "data": {
      "image/png": "[encoded data removed]",
      "text/plain": [
       "<Figure size 864x288 with 2 Axes>"
      ]
     },
     "metadata": {
      "needs_background": "light"
     },
     "output_type": "display_data"
    }
   ],
   "source": [
    "# These are the 2 interdependent variables that were highly correlated to Saleprice\n",
    "# PLotting them side-by-side, shows the 2 extreme outliers\n",
    "fig,axes = plt.subplots(nrows=1,ncols=2,figsize=(12,4))\n",
    "axes[0].scatter(train['GrLivArea'],train['SalePrice'], color='g')\n",
    "axes[0].set_title('GrLivArea and SalePrice')\n",
    "axes[1].scatter(train['TotalBsmtSF'],train['SalePrice'], color='b')\n",
    "axes[1].set_title('TotalBsmtSF and SalePrice')\n",
    "plt.show()"
   ]
  },
  {
   "cell_type": "code",
   "execution_count": 19,
   "metadata": {},
   "outputs": [
    {
     "data": {
      "text/html": [
       "<div>\n",
       "<style scoped>\n",
       "    .dataframe tbody tr th:only-of-type {\n",
       "        vertical-align: middle;\n",
       "    }\n",
       "\n",
       "    .dataframe tbody tr th {\n",
       "        vertical-align: top;\n",
       "    }\n",
       "\n",
       "    .dataframe thead th {\n",
       "        text-align: right;\n",
       "    }\n",
       "</style>\n",
       "<table border=\"1\" class=\"dataframe\">\n",
       "  <thead>\n",
       "    <tr style=\"text-align: right;\">\n",
       "      <th></th>\n",
       "      <th>SalePrice</th>\n",
       "      <th>GrLivArea</th>\n",
       "      <th>TotalBsmtSF</th>\n",
       "    </tr>\n",
       "  </thead>\n",
       "  <tbody>\n",
       "    <tr>\n",
       "      <th>960</th>\n",
       "      <td>160000</td>\n",
       "      <td>5642</td>\n",
       "      <td>6110.0</td>\n",
       "    </tr>\n",
       "    <tr>\n",
       "      <th>1885</th>\n",
       "      <td>183850</td>\n",
       "      <td>5095</td>\n",
       "      <td>5095.0</td>\n",
       "    </tr>\n",
       "  </tbody>\n",
       "</table>\n",
       "</div>"
      ],
      "text/plain": [
       "      SalePrice  GrLivArea  TotalBsmtSF\n",
       "960      160000       5642       6110.0\n",
       "1885     183850       5095       5095.0"
      ]
     },
     "execution_count": 19,
     "metadata": {},
     "output_type": "execute_result"
    }
   ],
   "source": [
    "# The 2 outliers are in fact the same.\n",
    "train[(train['GrLivArea']>5000)|(train['TotalBsmtSF']>5000)][['SalePrice','GrLivArea','TotalBsmtSF']]"
   ]
  },
  {
   "cell_type": "markdown",
   "metadata": {},
   "source": [
    "<a id='remove'></a>\n",
    "### Removing outliers and redundant columns\n",
    "<p>Remove the 2 extreme outliers.<br/>Although not generally recommended, it is safe to remove them in this case.<br>\n",
    "These 2 outliers will cause major disprutions to the linear regression.<br>\n",
    "They are also in stark contrast with the rest, whereby they are largest in area and very low prices at the same time.</p>\n",
    "\n",
    "The PID (Parcel identification number) does not influence sales price <br>\n",
    "The column can be safely deleted.<br>"
   ]
  },
  {
   "cell_type": "code",
   "execution_count": 20,
   "metadata": {},
   "outputs": [],
   "source": [
    "train = train.drop([train.index[960] , train.index[1885]])"
   ]
  },
  {
   "cell_type": "code",
   "execution_count": 21,
   "metadata": {},
   "outputs": [],
   "source": [
    "train = train.drop(['PID'], axis=1)"
   ]
  },
  {
   "cell_type": "markdown",
   "metadata": {},
   "source": [
    "<a id='dtype'></a>\n",
    "### Changing some feature's datatype\n",
    "\n",
    "\n",
    "\n",
    "| Feature  name | Type    | Range        | Possible      values | description                                         | Sample values  of feature                                    | Change      to | Explanation                                                  |\n",
    "| ------------- | ------- | ------------ | -------------------- | --------------------------------------------------- | ------------------------------------------------------------ | ---------------- | :----------------------------------------------------------- |\n",
    "| MSSubClass    | integer | 20 to 190    | 16                   | identifies  the type of dwelling                    | 20  1-STORY 1946 & NEWER ALL STYLES     190 2 FAMILY CONVERSION - ALL STYLES AND AGES | String           | The  magnitude of the number here is not representative of the dwelling type's  coefficient     ('190' does not mean high sales price; similarly,      '20' does not mean low sales price)     Classifying this feature as a string would be more appropriate |\n",
    "| YrSold        | integer | 2006 to 2010 | 5                    | Year  Sold                                          | 2006,2007…2010                                               | String           | Same explanation as  MSSubClass                              |\n",
    "| MoSold        | integer | 1 to 12      | 12                   | Month  Sold                                         | 1,2…12                                                       | String           | Same explanation as  MSSubClass                              |\n",
    "| OverallQual   | integer | 1 to 10      | 10                   | Rates  the overall material and finish of the house | 1:Very  Poor     10:Very Excellent                           | string           | When  integer values are assigned to ordinal categories,      we are imposing the assumption that they are equally spaced.      Use dummy variables to allow the data to make the inference |\n",
    "| OverallCond   | integer | 1 to 10      | 10                   | Rates  the overall condition of the house           | 1:Very  Poor     10:Very Excellent                           | string           | Same explanation as  OverallQual                             |"
   ]
  },
  {
   "cell_type": "code",
   "execution_count": 22,
   "metadata": {},
   "outputs": [],
   "source": [
    "# Changing some feature's datatype (see above)\n",
    "train['MSSubClass'] = train['MSSubClass'].astype(str)\n",
    "train['OverallQual'] = train['OverallQual'].astype(str)\n",
    "train['OverallCond'] = train['OverallCond'].astype(str)\n",
    "train['YrSold'] = train['YrSold'].astype(str)\n",
    "train['MoSold'] = train['MoSold'].astype(str)"
   ]
  },
  {
   "cell_type": "code",
   "execution_count": 23,
   "metadata": {},
   "outputs": [],
   "source": [
    "# Exporting as csv for visalisation part (before encoding)\n",
    "train.to_csv('../data/train_tableau.csv',index=False)"
   ]
  },
  {
   "cell_type": "markdown",
   "metadata": {},
   "source": [
    "<a id='test_data'></a>\n",
    "### Cleaning test data"
   ]
  },
  {
   "cell_type": "code",
   "execution_count": 24,
   "metadata": {
    "scrolled": true
   },
   "outputs": [
    {
     "name": "stdout",
     "output_type": "stream",
     "text": [
      "PoolQC          875\n",
      "MiscFeature     838\n",
      "Alley           821\n",
      "Fence           707\n",
      "FireplaceQu     422\n",
      "LotFrontage     160\n",
      "GarageCond       45\n",
      "GarageQual       45\n",
      "GarageYrBlt      45\n",
      "GarageFinish     45\n",
      "GarageType       44\n",
      "BsmtExposure     25\n",
      "BsmtFinType1     25\n",
      "BsmtQual         25\n",
      "BsmtFinType2     25\n",
      "BsmtCond         25\n",
      "MasVnrArea        1\n",
      "MasVnrType        1\n",
      "Electrical        1\n",
      "dtype: int64\n",
      "                      0\n",
      "PoolQC        99.544937\n",
      "MiscFeature   95.335609\n",
      "Alley         93.401593\n",
      "Fence         80.432309\n",
      "FireplaceQu   48.009101\n",
      "LotFrontage   18.202503\n",
      "GarageCond     5.119454\n",
      "GarageQual     5.119454\n",
      "GarageYrBlt    5.119454\n",
      "GarageFinish   5.119454\n",
      "GarageType     5.005688\n",
      "BsmtExposure   2.844141\n",
      "BsmtFinType1   2.844141\n",
      "BsmtQual       2.844141\n",
      "BsmtFinType2   2.844141\n",
      "BsmtCond       2.844141\n",
      "MasVnrArea     0.113766\n",
      "MasVnrType     0.113766\n",
      "Electrical     0.113766\n"
     ]
    }
   ],
   "source": [
    "test_isnull_val = test.isnull().sum().sort_values(ascending = False)\n",
    "test_isnull_pct = pd.DataFrame(test_isnull_val*100/len(test))\n",
    "print(test_isnull_val.head(19))\n",
    "print(test_isnull_pct.head(19))"
   ]
  },
  {
   "cell_type": "code",
   "execution_count": 25,
   "metadata": {},
   "outputs": [
    {
     "data": {
      "text/plain": [
       "19"
      ]
     },
     "execution_count": 25,
     "metadata": {},
     "output_type": "execute_result"
    }
   ],
   "source": [
    "# Creates overall list of 19 items of all columns with nan(missing/NA)\n",
    "test_clean_list = [\n",
    "    'PoolQC','MiscFeature','Alley','Fence','FireplaceQu','LotFrontage','GarageCond','GarageQual','GarageYrBlt',\n",
    "    'GarageFinish','GarageType','BsmtExposure','BsmtFinType1','BsmtQual','BsmtFinType2','BsmtCond','MasVnrArea','MasVnrType',\n",
    "    'Electrical'\n",
    "]\n",
    "len(test_clean_list)"
   ]
  },
  {
   "cell_type": "code",
   "execution_count": 26,
   "metadata": {},
   "outputs": [
    {
     "data": {
      "text/plain": [
       "14"
      ]
     },
     "execution_count": 26,
     "metadata": {},
     "output_type": "execute_result"
    }
   ],
   "source": [
    "# builts test_na_list after checking the columns dtype: test[test_clean_list].dtypes\n",
    "# All columns with null values in this list will be replaced with 'NA', similar to the train dataset\n",
    "# Only 'Electrical' is different\n",
    " \n",
    "test_na_list = [\n",
    "    'PoolQC','MiscFeature','Alley','Fence','FireplaceQu','GarageCond','GarageQual','GarageFinish',\n",
    "    'GarageType','BsmtExposure','BsmtFinType1','BsmtQual','BsmtFinType2','BsmtCond'\n",
    "]\n",
    "len(test_na_list)"
   ]
  },
  {
   "cell_type": "code",
   "execution_count": 27,
   "metadata": {},
   "outputs": [
    {
     "data": {
      "text/plain": [
       "0    69.0\n",
       "1     NaN\n",
       "2    58.0\n",
       "3    60.0\n",
       "4     NaN\n",
       "5    21.0\n",
       "6    52.0\n",
       "7     NaN\n",
       "8    39.0\n",
       "9    75.0\n",
       "Name: LotFrontage, dtype: float64"
      ]
     },
     "execution_count": 27,
     "metadata": {},
     "output_type": "execute_result"
    }
   ],
   "source": [
    "test['LotFrontage'].head(10)"
   ]
  },
  {
   "cell_type": "code",
   "execution_count": 28,
   "metadata": {},
   "outputs": [],
   "source": [
    "# columns(inside test_na_list) with null are replaced with 'NA'\n",
    "for col in test_na_list:\n",
    "    test.loc[test[col].isnull(), col] = 'NA' \n",
    "    \n",
    "# MasVnrArea coincide MasVnrType\n",
    "test.loc[test['MasVnrType'].isnull(), 'MasVnrType'] = 'None'\n",
    "\n",
    "# MasVnrArea coincide MasVnrType\n",
    "test.loc[test['MasVnrArea'].isnull(), 'MasVnrArea'] = 0\n",
    "\n",
    "# Select the most common value 'SBrkr' since its just single value\n",
    "test.loc[test['Electrical'].isnull(), 'Electrical'] = 'SBrkr'\n",
    "\n",
    "# All 5 x 45 rows indicate there is no garage Replaces with zero since no garage\n",
    "test.loc[test['GarageYrBlt'].isnull(), 'GarageYrBlt'] = 0"
   ]
  },
  {
   "cell_type": "code",
   "execution_count": 29,
   "metadata": {},
   "outputs": [],
   "source": [
    "# Multiple linear equation obtain from Gretl\n",
    "LotFrontage_test_eqn = 32.1 + 0.00213*test['LotArea'] + 0.0143*test['1stFlrSF']\n",
    "\n",
    "test.loc[test['LotFrontage'].isnull(), 'LotFrontage'] = LotFrontage_test_eqn"
   ]
  },
  {
   "cell_type": "code",
   "execution_count": 30,
   "metadata": {},
   "outputs": [
    {
     "data": {
      "text/plain": [
       "0    69.00000\n",
       "1    80.80816\n",
       "2    58.00000\n",
       "3    60.00000\n",
       "4    72.26920\n",
       "5    21.00000\n",
       "6    52.00000\n",
       "7    70.01158\n",
       "8    39.00000\n",
       "9    75.00000\n",
       "Name: LotFrontage, dtype: float64"
      ]
     },
     "execution_count": 30,
     "metadata": {},
     "output_type": "execute_result"
    }
   ],
   "source": [
    "test['LotFrontage'].head(10)"
   ]
  },
  {
   "cell_type": "code",
   "execution_count": 31,
   "metadata": {},
   "outputs": [],
   "source": [
    "# The PID (Parcel identification number) does not influence sales price \n",
    "# The column can be safely deleted.\n",
    "test = test.drop(['PID'], axis=1)"
   ]
  },
  {
   "cell_type": "code",
   "execution_count": 32,
   "metadata": {},
   "outputs": [
    {
     "name": "stdout",
     "output_type": "stream",
     "text": [
      "SaleType     0\n",
      "ExterCond    0\n",
      "RoofStyle    0\n",
      "dtype: int64\n",
      "             0\n",
      "SaleType   0.0\n",
      "ExterCond  0.0\n",
      "RoofStyle  0.0\n"
     ]
    }
   ],
   "source": [
    "test_isnull_val = test.isnull().sum().sort_values(ascending = False)\n",
    "test_isnull_pct = pd.DataFrame(test_isnull_val*100/len(test))\n",
    "print(test_isnull_val.head(3))\n",
    "print(test_isnull_pct.head(3))"
   ]
  },
  {
   "cell_type": "markdown",
   "metadata": {},
   "source": [
    "### Changing some feature's datatype(same as train)"
   ]
  },
  {
   "cell_type": "code",
   "execution_count": 33,
   "metadata": {},
   "outputs": [],
   "source": [
    "test['MSSubClass'] = test['MSSubClass'].astype(str)\n",
    "test['OverallQual'] = test['OverallQual'].astype(str)\n",
    "test['OverallCond'] = test['OverallCond'].astype(str)\n",
    "test['YrSold'] = test['YrSold'].astype(str)\n",
    "test['MoSold'] = test['MoSold'].astype(str)"
   ]
  },
  {
   "cell_type": "code",
   "execution_count": 34,
   "metadata": {},
   "outputs": [],
   "source": [
    "# Maintains same colums before concat\n",
    "# backup SalePrice from train before concat\n",
    "y_train = train[['Id', 'SalePrice']]\n",
    "train= train.drop(['SalePrice'], axis=1)"
   ]
  },
  {
   "cell_type": "code",
   "execution_count": 35,
   "metadata": {},
   "outputs": [
    {
     "name": "stdout",
     "output_type": "stream",
     "text": [
      "(2049, 79)\n",
      "(879, 79)\n"
     ]
    }
   ],
   "source": [
    "# Checks both shape before concat\n",
    "train_shape = train.shape\n",
    "test_shape = test.shape\n",
    "print(train_shape)\n",
    "print(test_shape)"
   ]
  },
  {
   "cell_type": "code",
   "execution_count": 36,
   "metadata": {},
   "outputs": [
    {
     "data": {
      "text/plain": [
       "(2928, 79)"
      ]
     },
     "execution_count": 36,
     "metadata": {},
     "output_type": "execute_result"
    }
   ],
   "source": [
    "# Combining both data files before 'get_dummies' to make sure i get the same columns before and after\n",
    "combined = pd.concat([train,test])\n",
    "combined.shape"
   ]
  },
  {
   "cell_type": "markdown",
   "metadata": {},
   "source": [
    "<a id='feature'></a>\n",
    "### Feature Engineering\n",
    "Total square foot = Total Basement SF + ABove Ground Living Area<br>"
   ]
  },
  {
   "cell_type": "code",
   "execution_count": 37,
   "metadata": {},
   "outputs": [],
   "source": [
    "combined['totalSF'] = combined['TotalBsmtSF'] + combined['GrLivArea']"
   ]
  },
  {
   "cell_type": "markdown",
   "metadata": {},
   "source": [
    "<a id='encode'></a>\n",
    "### Encode categorical features"
   ]
  },
  {
   "cell_type": "code",
   "execution_count": 38,
   "metadata": {},
   "outputs": [],
   "source": [
    "# Encoding\n",
    "combined = pd.get_dummies(combined, drop_first=True)"
   ]
  },
  {
   "cell_type": "code",
   "execution_count": 39,
   "metadata": {},
   "outputs": [
    {
     "name": "stdout",
     "output_type": "stream",
     "text": [
      "train is:  (2049, 312)\n",
      "test is:  (879, 312)\n"
     ]
    }
   ],
   "source": [
    "# Gets back train and test data after encoding\n",
    "train = combined.head(2049)\n",
    "test = combined.tail(879)\n",
    "print(\"train is: \", train.shape)\n",
    "print(\"test is: \",test.shape)"
   ]
  },
  {
   "cell_type": "markdown",
   "metadata": {},
   "source": [
    "<a id='export'></a>\n",
    "### Export cleaned datasets as xls"
   ]
  },
  {
   "cell_type": "code",
   "execution_count": 40,
   "metadata": {},
   "outputs": [],
   "source": [
    "y_train.to_csv('../data/y_train.csv',index=False)\n",
    "train.to_csv('../data/train_cleaned.csv',index=False)\n",
    "test.to_csv('../data/test_cleaned.csv',index=False)"
   ]
  }
 ],
 "metadata": {
  "kernelspec": {
   "display_name": "Python 3",
   "language": "python",
   "name": "python3"
  },
  "language_info": {
   "codemirror_mode": {
    "name": "ipython",
    "version": 3
   },
   "file_extension": ".py",
   "mimetype": "text/x-python",
   "name": "python",
   "nbconvert_exporter": "python",
   "pygments_lexer": "ipython3",
   "version": "3.7.6"
  }
 },
 "nbformat": 4,
 "nbformat_minor": 4
}
