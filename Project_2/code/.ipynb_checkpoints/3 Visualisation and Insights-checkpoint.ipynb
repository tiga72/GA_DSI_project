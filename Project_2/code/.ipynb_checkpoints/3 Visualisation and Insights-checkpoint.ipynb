{
 "cells": [
  {
   "cell_type": "markdown",
   "metadata": {},
   "source": [
    "## Project 2: Ames housing price prediction\n",
    "---\n",
    "Project notebook organisation:<br>\n",
    "<a href='./1 Data Cleaning and Feature Engineering.ipynb'>1 Data Cleaning and Feature Engineering</a><br>\n",
    "<a href='./2 Regression Models.ipynb'>2 Regression Models</a><br>\n",
    "**3 Visualisation and Insights** (current notebook)<br>\n"
   ]
  },
  {
   "cell_type": "markdown",
   "metadata": {},
   "source": [
    "---\n",
    "### This notebook's layout\n",
    "<a href='#age'>How does house age affects salesprice?</a>\t\n",
    "<a href='#new'>Trends on new houses(2 years and below)</a><br>\n",
    "<a href='#trend'>House prices trend investigation</a><br>\n",
    "<a href='#qual'>Overall house quality and sale price</a><br>\n",
    "<a href='#nei'>Neighborhood price trends and popularity</a><br>\n",
    "<a href='#zone'>Building type and housing zones</a><br>\n",
    "<a href='#season'>Seasonality and house sale price</a><br>\n",
    "\n",
    "---"
   ]
  },
  {
   "cell_type": "code",
   "execution_count": 24,
   "metadata": {},
   "outputs": [],
   "source": [
    "import numpy as np\n",
    "import pandas as pd\n",
    "import matplotlib.pyplot as plt\n",
    "import seaborn as sns\n",
    "sns.set()\n",
    "%matplotlib inline\n",
    "# 3 Visualisation and Insights.txt"
   ]
  },
  {
   "cell_type": "markdown",
   "metadata": {},
   "source": [
    "### This notebook Intro\n",
    "\n",
    "The original train data file was modified and ouput to another file name for ease of work when performing visualization. The following was performed:\n",
    "\n",
    "1. Some features are abbreviated, changed the columns to be more descriptive so it is more intiutive when doing visualization. Features to changed: MSZoning, BldgType and Neighbourhood\n",
    "\n",
    "2. Based on best fit regression model, we know which the the stronger predictors/features. I went ahead to drop all those columns that I do not need for visaulisation.\n",
    "\n",
    "Since this part is visualization, I wanted to unclunter and just concentrate on visualization aspect, all python modifications thus was not included in this workbook. "
   ]
  },
  {
   "cell_type": "code",
   "execution_count": 25,
   "metadata": {},
   "outputs": [],
   "source": [
    "tableau = pd.read_csv('../data/train_tableau_cleaned.csv')"
   ]
  },
  {
   "cell_type": "code",
   "execution_count": 26,
   "metadata": {},
   "outputs": [
    {
     "name": "stdout",
     "output_type": "stream",
     "text": [
      "181479.01805758907\n",
      "162500.0\n"
     ]
    }
   ],
   "source": [
    "# EXploring average and median house prices\n",
    "print(tableau['SalePrice'].mean())\n",
    "print(tableau['SalePrice'].median())"
   ]
  },
  {
   "cell_type": "markdown",
   "metadata": {},
   "source": [
    "<a id='age'></a>\n",
    "### How does house age affects salesprice?\n",
    "\n",
    "In general , lower house age translates to higher prices but there are 2 groups of houses that are above 100 years of age was still able to get above average prices"
   ]
  },
  {
   "cell_type": "markdown",
   "metadata": {},
   "source": [
    "![title](../misc/age_price.jpg)"
   ]
  },
  {
   "cell_type": "markdown",
   "metadata": {},
   "source": [
    "<a id='new'></a>\n",
    "### Trends on new houses(2 years and below)\n",
    "\n",
    "New houses are not really popular.<br> \n",
    "For houses that are 2 years of age or under, they are just 295 counts or about 7% of the total. <br>\n",
    "The average price for new house are almost 100k above the average house prices which could explain the unpopularity"
   ]
  },
  {
   "cell_type": "markdown",
   "metadata": {},
   "source": [
    "![title](../misc/hse_2yrs.jpg)"
   ]
  },
  {
   "cell_type": "code",
   "execution_count": 27,
   "metadata": {},
   "outputs": [],
   "source": [
    "tableau['age'] = tableau['YrSold']-tableau['YearBuilt']"
   ]
  },
  {
   "cell_type": "code",
   "execution_count": 28,
   "metadata": {
    "scrolled": true
   },
   "outputs": [
    {
     "data": {
      "text/html": [
       "<div>\n",
       "<style scoped>\n",
       "    .dataframe tbody tr th:only-of-type {\n",
       "        vertical-align: middle;\n",
       "    }\n",
       "\n",
       "    .dataframe tbody tr th {\n",
       "        vertical-align: top;\n",
       "    }\n",
       "\n",
       "    .dataframe thead th {\n",
       "        text-align: right;\n",
       "    }\n",
       "</style>\n",
       "<table border=\"1\" class=\"dataframe\">\n",
       "  <thead>\n",
       "    <tr style=\"text-align: right;\">\n",
       "      <th></th>\n",
       "      <th>Id</th>\n",
       "      <th>MSSubClass</th>\n",
       "      <th>LotFrontage</th>\n",
       "      <th>LotArea</th>\n",
       "      <th>OverallQual</th>\n",
       "      <th>OverallCond</th>\n",
       "      <th>YearBuilt</th>\n",
       "      <th>YearRemod/Add</th>\n",
       "      <th>TotalBsmtSF</th>\n",
       "      <th>1stFlrSF</th>\n",
       "      <th>2ndFlrSF</th>\n",
       "      <th>GrLivArea</th>\n",
       "      <th>BedroomAbvGr</th>\n",
       "      <th>TotRmsAbvGrd</th>\n",
       "      <th>MoSold</th>\n",
       "      <th>YrSold</th>\n",
       "      <th>SalePrice</th>\n",
       "      <th>totalSF</th>\n",
       "      <th>psf</th>\n",
       "      <th>age</th>\n",
       "    </tr>\n",
       "  </thead>\n",
       "  <tbody>\n",
       "    <tr>\n",
       "      <th>count</th>\n",
       "      <td>295.000000</td>\n",
       "      <td>295.000000</td>\n",
       "      <td>295.000000</td>\n",
       "      <td>295.000000</td>\n",
       "      <td>295.000000</td>\n",
       "      <td>295.000000</td>\n",
       "      <td>295.000000</td>\n",
       "      <td>295.000000</td>\n",
       "      <td>295.000000</td>\n",
       "      <td>295.000000</td>\n",
       "      <td>295.000000</td>\n",
       "      <td>295.000000</td>\n",
       "      <td>295.000000</td>\n",
       "      <td>295.000000</td>\n",
       "      <td>295.000000</td>\n",
       "      <td>295.000000</td>\n",
       "      <td>295.000000</td>\n",
       "      <td>295.000000</td>\n",
       "      <td>295.000000</td>\n",
       "      <td>295.000000</td>\n",
       "    </tr>\n",
       "    <tr>\n",
       "      <th>mean</th>\n",
       "      <td>1727.705085</td>\n",
       "      <td>52.203390</td>\n",
       "      <td>73.803390</td>\n",
       "      <td>10033.135593</td>\n",
       "      <td>7.657627</td>\n",
       "      <td>5.020339</td>\n",
       "      <td>2006.298305</td>\n",
       "      <td>2006.650847</td>\n",
       "      <td>1374.166102</td>\n",
       "      <td>1388.820339</td>\n",
       "      <td>304.444068</td>\n",
       "      <td>1694.077966</td>\n",
       "      <td>2.701695</td>\n",
       "      <td>6.949153</td>\n",
       "      <td>6.227119</td>\n",
       "      <td>2007.240678</td>\n",
       "      <td>263902.379661</td>\n",
       "      <td>3068.244068</td>\n",
       "      <td>83.898305</td>\n",
       "      <td>0.942373</td>\n",
       "    </tr>\n",
       "    <tr>\n",
       "      <th>std</th>\n",
       "      <td>747.834328</td>\n",
       "      <td>42.091082</td>\n",
       "      <td>21.987365</td>\n",
       "      <td>4357.523052</td>\n",
       "      <td>1.101051</td>\n",
       "      <td>0.141397</td>\n",
       "      <td>1.261342</td>\n",
       "      <td>1.276471</td>\n",
       "      <td>426.672040</td>\n",
       "      <td>403.793750</td>\n",
       "      <td>453.405004</td>\n",
       "      <td>419.773575</td>\n",
       "      <td>0.704092</td>\n",
       "      <td>1.545497</td>\n",
       "      <td>2.908925</td>\n",
       "      <td>1.160448</td>\n",
       "      <td>97637.473902</td>\n",
       "      <td>710.559984</td>\n",
       "      <td>14.989900</td>\n",
       "      <td>0.690116</td>\n",
       "    </tr>\n",
       "    <tr>\n",
       "      <th>min</th>\n",
       "      <td>37.000000</td>\n",
       "      <td>20.000000</td>\n",
       "      <td>24.000000</td>\n",
       "      <td>2522.000000</td>\n",
       "      <td>5.000000</td>\n",
       "      <td>5.000000</td>\n",
       "      <td>2004.000000</td>\n",
       "      <td>2004.000000</td>\n",
       "      <td>192.000000</td>\n",
       "      <td>520.000000</td>\n",
       "      <td>0.000000</td>\n",
       "      <td>848.000000</td>\n",
       "      <td>1.000000</td>\n",
       "      <td>3.000000</td>\n",
       "      <td>1.000000</td>\n",
       "      <td>2006.000000</td>\n",
       "      <td>130000.000000</td>\n",
       "      <td>1325.000000</td>\n",
       "      <td>40.000000</td>\n",
       "      <td>0.000000</td>\n",
       "    </tr>\n",
       "    <tr>\n",
       "      <th>25%</th>\n",
       "      <td>1121.500000</td>\n",
       "      <td>20.000000</td>\n",
       "      <td>61.000000</td>\n",
       "      <td>7998.500000</td>\n",
       "      <td>7.000000</td>\n",
       "      <td>5.000000</td>\n",
       "      <td>2005.000000</td>\n",
       "      <td>2006.000000</td>\n",
       "      <td>1097.500000</td>\n",
       "      <td>1118.500000</td>\n",
       "      <td>0.000000</td>\n",
       "      <td>1407.000000</td>\n",
       "      <td>2.000000</td>\n",
       "      <td>6.000000</td>\n",
       "      <td>4.000000</td>\n",
       "      <td>2006.000000</td>\n",
       "      <td>191570.000000</td>\n",
       "      <td>2571.000000</td>\n",
       "      <td>73.000000</td>\n",
       "      <td>0.000000</td>\n",
       "    </tr>\n",
       "    <tr>\n",
       "      <th>50%</th>\n",
       "      <td>1780.000000</td>\n",
       "      <td>20.000000</td>\n",
       "      <td>74.000000</td>\n",
       "      <td>9965.000000</td>\n",
       "      <td>8.000000</td>\n",
       "      <td>5.000000</td>\n",
       "      <td>2006.000000</td>\n",
       "      <td>2007.000000</td>\n",
       "      <td>1392.000000</td>\n",
       "      <td>1418.000000</td>\n",
       "      <td>0.000000</td>\n",
       "      <td>1612.000000</td>\n",
       "      <td>3.000000</td>\n",
       "      <td>7.000000</td>\n",
       "      <td>6.000000</td>\n",
       "      <td>2007.000000</td>\n",
       "      <td>239799.000000</td>\n",
       "      <td>3036.000000</td>\n",
       "      <td>82.000000</td>\n",
       "      <td>1.000000</td>\n",
       "    </tr>\n",
       "    <tr>\n",
       "      <th>75%</th>\n",
       "      <td>2388.500000</td>\n",
       "      <td>60.000000</td>\n",
       "      <td>86.500000</td>\n",
       "      <td>12339.000000</td>\n",
       "      <td>8.000000</td>\n",
       "      <td>5.000000</td>\n",
       "      <td>2007.000000</td>\n",
       "      <td>2007.000000</td>\n",
       "      <td>1641.500000</td>\n",
       "      <td>1659.000000</td>\n",
       "      <td>728.000000</td>\n",
       "      <td>1864.500000</td>\n",
       "      <td>3.000000</td>\n",
       "      <td>8.000000</td>\n",
       "      <td>8.000000</td>\n",
       "      <td>2008.000000</td>\n",
       "      <td>319700.000000</td>\n",
       "      <td>3461.500000</td>\n",
       "      <td>94.000000</td>\n",
       "      <td>1.000000</td>\n",
       "    </tr>\n",
       "    <tr>\n",
       "      <th>max</th>\n",
       "      <td>2903.000000</td>\n",
       "      <td>180.000000</td>\n",
       "      <td>134.000000</td>\n",
       "      <td>51974.000000</td>\n",
       "      <td>10.000000</td>\n",
       "      <td>6.000000</td>\n",
       "      <td>2010.000000</td>\n",
       "      <td>2010.000000</td>\n",
       "      <td>3094.000000</td>\n",
       "      <td>2464.000000</td>\n",
       "      <td>1862.000000</td>\n",
       "      <td>3390.000000</td>\n",
       "      <td>5.000000</td>\n",
       "      <td>12.000000</td>\n",
       "      <td>12.000000</td>\n",
       "      <td>2010.000000</td>\n",
       "      <td>611657.000000</td>\n",
       "      <td>5496.000000</td>\n",
       "      <td>138.000000</td>\n",
       "      <td>2.000000</td>\n",
       "    </tr>\n",
       "  </tbody>\n",
       "</table>\n",
       "</div>"
      ],
      "text/plain": [
       "                Id  MSSubClass  LotFrontage       LotArea  OverallQual  \\\n",
       "count   295.000000  295.000000   295.000000    295.000000   295.000000   \n",
       "mean   1727.705085   52.203390    73.803390  10033.135593     7.657627   \n",
       "std     747.834328   42.091082    21.987365   4357.523052     1.101051   \n",
       "min      37.000000   20.000000    24.000000   2522.000000     5.000000   \n",
       "25%    1121.500000   20.000000    61.000000   7998.500000     7.000000   \n",
       "50%    1780.000000   20.000000    74.000000   9965.000000     8.000000   \n",
       "75%    2388.500000   60.000000    86.500000  12339.000000     8.000000   \n",
       "max    2903.000000  180.000000   134.000000  51974.000000    10.000000   \n",
       "\n",
       "       OverallCond    YearBuilt  YearRemod/Add  TotalBsmtSF     1stFlrSF  \\\n",
       "count   295.000000   295.000000     295.000000   295.000000   295.000000   \n",
       "mean      5.020339  2006.298305    2006.650847  1374.166102  1388.820339   \n",
       "std       0.141397     1.261342       1.276471   426.672040   403.793750   \n",
       "min       5.000000  2004.000000    2004.000000   192.000000   520.000000   \n",
       "25%       5.000000  2005.000000    2006.000000  1097.500000  1118.500000   \n",
       "50%       5.000000  2006.000000    2007.000000  1392.000000  1418.000000   \n",
       "75%       5.000000  2007.000000    2007.000000  1641.500000  1659.000000   \n",
       "max       6.000000  2010.000000    2010.000000  3094.000000  2464.000000   \n",
       "\n",
       "          2ndFlrSF    GrLivArea  BedroomAbvGr  TotRmsAbvGrd      MoSold  \\\n",
       "count   295.000000   295.000000    295.000000    295.000000  295.000000   \n",
       "mean    304.444068  1694.077966      2.701695      6.949153    6.227119   \n",
       "std     453.405004   419.773575      0.704092      1.545497    2.908925   \n",
       "min       0.000000   848.000000      1.000000      3.000000    1.000000   \n",
       "25%       0.000000  1407.000000      2.000000      6.000000    4.000000   \n",
       "50%       0.000000  1612.000000      3.000000      7.000000    6.000000   \n",
       "75%     728.000000  1864.500000      3.000000      8.000000    8.000000   \n",
       "max    1862.000000  3390.000000      5.000000     12.000000   12.000000   \n",
       "\n",
       "            YrSold      SalePrice      totalSF         psf         age  \n",
       "count   295.000000     295.000000   295.000000  295.000000  295.000000  \n",
       "mean   2007.240678  263902.379661  3068.244068   83.898305    0.942373  \n",
       "std       1.160448   97637.473902   710.559984   14.989900    0.690116  \n",
       "min    2006.000000  130000.000000  1325.000000   40.000000    0.000000  \n",
       "25%    2006.000000  191570.000000  2571.000000   73.000000    0.000000  \n",
       "50%    2007.000000  239799.000000  3036.000000   82.000000    1.000000  \n",
       "75%    2008.000000  319700.000000  3461.500000   94.000000    1.000000  \n",
       "max    2010.000000  611657.000000  5496.000000  138.000000    2.000000  "
      ]
     },
     "execution_count": 28,
     "metadata": {},
     "output_type": "execute_result"
    }
   ],
   "source": [
    "# Houses that were sold with 1-2 year of being built is less than 300.\n",
    "tableau[(tableau['age']<=2)].describe()"
   ]
  },
  {
   "cell_type": "markdown",
   "metadata": {},
   "source": [
    "<a id='trend'></a>\n",
    "### House prices trend investigation\n",
    "\n",
    "Ames house prices peaked at 2007 and as the US housing market crash in 2008,<br>\n",
    "the following years was on a downward trend. If economy recovers, housing price tend to appreciate. <br>\n",
    "The period around year 2010 could be a good opportunity for buyers to buy house at bargain price "
   ]
  },
  {
   "cell_type": "markdown",
   "metadata": {},
   "source": [
    "![title](../misc/price_trend.jpg)"
   ]
  },
  {
   "cell_type": "markdown",
   "metadata": {},
   "source": [
    "<a id='qual'></a>\n",
    "### Overall house quality and sale price\n",
    "\n",
    "Houses with higher overall quality has a constant upward trend of being more expensive. On the other hand, it is observed that not every house buyer is willing to pay top dollar for top end quality, most buyers usually settles for a house at a mid-high level (5-7), in essence finding a balance between the house an a house of reasonable quality. Low quality houses are definitely frowned upon.\n",
    "\n",
    "House sellers should definitely look towards re-modelling their house , but it might not be worthwhile to over-spend as not many buyers are looking at the top quality range"
   ]
  },
  {
   "cell_type": "markdown",
   "metadata": {},
   "source": [
    "![title](../misc/overallqual2.jpg)"
   ]
  },
  {
   "cell_type": "code",
   "execution_count": 29,
   "metadata": {},
   "outputs": [
    {
     "data": {
      "text/html": [
       "<div>\n",
       "<style scoped>\n",
       "    .dataframe tbody tr th:only-of-type {\n",
       "        vertical-align: middle;\n",
       "    }\n",
       "\n",
       "    .dataframe tbody tr th {\n",
       "        vertical-align: top;\n",
       "    }\n",
       "\n",
       "    .dataframe thead th {\n",
       "        text-align: right;\n",
       "    }\n",
       "</style>\n",
       "<table border=\"1\" class=\"dataframe\">\n",
       "  <thead>\n",
       "    <tr style=\"text-align: right;\">\n",
       "      <th></th>\n",
       "      <th>count</th>\n",
       "      <th>mean</th>\n",
       "    </tr>\n",
       "    <tr>\n",
       "      <th>OverallQual</th>\n",
       "      <th></th>\n",
       "      <th></th>\n",
       "    </tr>\n",
       "  </thead>\n",
       "  <tbody>\n",
       "    <tr>\n",
       "      <th>1</th>\n",
       "      <td>4</td>\n",
       "      <td>48725.000000</td>\n",
       "    </tr>\n",
       "    <tr>\n",
       "      <th>2</th>\n",
       "      <td>9</td>\n",
       "      <td>51081.000000</td>\n",
       "    </tr>\n",
       "    <tr>\n",
       "      <th>3</th>\n",
       "      <td>29</td>\n",
       "      <td>81309.103448</td>\n",
       "    </tr>\n",
       "    <tr>\n",
       "      <th>4</th>\n",
       "      <td>159</td>\n",
       "      <td>107744.037736</td>\n",
       "    </tr>\n",
       "    <tr>\n",
       "      <th>5</th>\n",
       "      <td>563</td>\n",
       "      <td>134963.644760</td>\n",
       "    </tr>\n",
       "    <tr>\n",
       "      <th>6</th>\n",
       "      <td>506</td>\n",
       "      <td>162891.102767</td>\n",
       "    </tr>\n",
       "    <tr>\n",
       "      <th>7</th>\n",
       "      <td>431</td>\n",
       "      <td>203430.285383</td>\n",
       "    </tr>\n",
       "    <tr>\n",
       "      <th>8</th>\n",
       "      <td>250</td>\n",
       "      <td>271437.044000</td>\n",
       "    </tr>\n",
       "    <tr>\n",
       "      <th>9</th>\n",
       "      <td>77</td>\n",
       "      <td>370197.376623</td>\n",
       "    </tr>\n",
       "    <tr>\n",
       "      <th>10</th>\n",
       "      <td>21</td>\n",
       "      <td>440774.809524</td>\n",
       "    </tr>\n",
       "  </tbody>\n",
       "</table>\n",
       "</div>"
      ],
      "text/plain": [
       "             count           mean\n",
       "OverallQual                      \n",
       "1                4   48725.000000\n",
       "2                9   51081.000000\n",
       "3               29   81309.103448\n",
       "4              159  107744.037736\n",
       "5              563  134963.644760\n",
       "6              506  162891.102767\n",
       "7              431  203430.285383\n",
       "8              250  271437.044000\n",
       "9               77  370197.376623\n",
       "10              21  440774.809524"
      ]
     },
     "execution_count": 29,
     "metadata": {},
     "output_type": "execute_result"
    }
   ],
   "source": [
    "tableau.groupby('OverallQual')['SalePrice'].agg(['count','mean'])"
   ]
  },
  {
   "cell_type": "markdown",
   "metadata": {},
   "source": [
    "<a id='nei'></a>\n",
    "### Neighborhood price trends and popularity\n",
    "\n",
    "In terms of neighborhood popularity, North Ames, College Creek and Old Town stand out. Out of these 3, 2 of them are below average sales price, only with College Creek a slight bit above the average price. \n",
    "The most pricey neighborhoods are: Stone Brook, Northridge Heights and Northridge. All 3 have average sale price above 300k which significantly higher than the 185k average. At said, they are not popular. \n",
    "The above 2 observations looking at neighborhood popularity and most pricey neighborhoods draw a conclusion that house price is most important determinant factor for house sales."
   ]
  },
  {
   "cell_type": "markdown",
   "metadata": {},
   "source": [
    "![title](../misc/neighbourhood.jpg)"
   ]
  },
  {
   "cell_type": "markdown",
   "metadata": {},
   "source": [
    "<a id='zone'></a>\n",
    "### Building type and housing zones\n",
    "\n",
    "House buyers favor single-family detached which stands out among the rest at 70%. \n",
    "Personal privacy is important to house buyers. We see that houses in lower density residential area are preferred even though they command a slightly higher average price as compare to medium and high density ones. \n",
    "Townhouses are the most expensive. Again, it is no surprise that they are not as popular"
   ]
  },
  {
   "cell_type": "markdown",
   "metadata": {},
   "source": [
    "![title](../misc/bldg_zones_pop1.jpg)"
   ]
  },
  {
   "cell_type": "markdown",
   "metadata": {},
   "source": [
    "![title](../misc/bldg_zones_price1.jpg)"
   ]
  },
  {
   "cell_type": "code",
   "execution_count": 30,
   "metadata": {},
   "outputs": [
    {
     "data": {
      "text/plain": [
       "North Ames       310\n",
       "College Creek    180\n",
       "Old Town         163\n",
       "Edwards          141\n",
       "Somerset         130\n",
       "Name: Neighborhood, dtype: int64"
      ]
     },
     "execution_count": 30,
     "metadata": {},
     "output_type": "execute_result"
    }
   ],
   "source": [
    "# Exploring the most popular neighborhood in Ames\n",
    "tableau['Neighborhood'].value_counts().sort_values(ascending=False).head()"
   ]
  },
  {
   "cell_type": "code",
   "execution_count": 31,
   "metadata": {},
   "outputs": [
    {
     "data": {
      "text/plain": [
       "Single-family Detached    1698\n",
       "Townhouse End Unit         161\n",
       "Duplex                      75\n",
       "Townhouse Inside Unit       69\n",
       "Two-family_Conversion       46\n",
       "Name: BldgType, dtype: int64"
      ]
     },
     "execution_count": 31,
     "metadata": {},
     "output_type": "execute_result"
    }
   ],
   "source": [
    "# Most popular house type in Ames is Single-family Detached\n",
    "tableau['BldgType'].value_counts()"
   ]
  },
  {
   "cell_type": "markdown",
   "metadata": {},
   "source": [
    "<a id='season'></a>\n",
    "### Seasonality and house sale price\n",
    "\n",
    "House sales peak during summer months (May to July). Sellers should try to sell their property during this period"
   ]
  },
  {
   "cell_type": "markdown",
   "metadata": {},
   "source": [
    "![title](../misc/season.jpg)"
   ]
  },
  {
   "cell_type": "code",
   "execution_count": 32,
   "metadata": {},
   "outputs": [
    {
     "data": {
      "text/plain": [
       "6    352\n",
       "7    303\n",
       "5    257\n",
       "4    208\n",
       "3    168\n",
       "Name: MoSold, dtype: int64"
      ]
     },
     "execution_count": 32,
     "metadata": {},
     "output_type": "execute_result"
    }
   ],
   "source": [
    "# Most houses are sold during the summer months\n",
    "tableau['MoSold'].value_counts().head()"
   ]
  }
 ],
 "metadata": {
  "kernelspec": {
   "display_name": "Python 3",
   "language": "python",
   "name": "python3"
  },
  "language_info": {
   "codemirror_mode": {
    "name": "ipython",
    "version": 3
   },
   "file_extension": ".py",
   "mimetype": "text/x-python",
   "name": "python",
   "nbconvert_exporter": "python",
   "pygments_lexer": "ipython3",
   "version": "3.7.6"
  }
 },
 "nbformat": 4,
 "nbformat_minor": 4
}
