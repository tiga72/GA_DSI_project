{
 "cells": [
  {
   "cell_type": "markdown",
   "metadata": {},
   "source": [
    "## Project 2 - Ames Housing Data\n",
    "\n",
    "Project notebook organisation:<br>\n",
    "<a href='./1_Data_Cleaning_and_Feature_Engineering.ipynb'>1 Data Cleaning and Feature Engineering</a><br>\n",
    "**2 Regression Models** (current notebook)<br>\n",
    "<a href='./3_Visualisation_and_Insights.ipynb'>3 Visualisation and Insights</a><br>\n",
    "<br>"
   ]
  },
  {
   "cell_type": "markdown",
   "metadata": {},
   "source": [
    "### This notebook's layout\n",
    "<a href='#create'>Model Prep: Create our features matrix x and target vector y</a>\t\n",
    "<a href='#split'>Model Prep: Train/test split</a><br>\n",
    "<a href='#scaling'>Model Prep: Scaling</a><br>\n",
    "<a href='#Instantiate'>Model Prep: Instantiate our models</a><br>\n",
    "<a href='#x_valid'>Cross validation</a><br>\n",
    "<a href='#model_fit'>Model Fitting and Evaluation</a><br>\n",
    "<a href='#take_away'>Technical take-aways</a><br>"
   ]
  },
  {
   "cell_type": "code",
   "execution_count": 1,
   "metadata": {},
   "outputs": [],
   "source": [
    "import pandas as pd\n",
    "import numpy as np\n",
    "import seaborn as sns\n",
    "import matplotlib.pyplot as plt\n",
    "import sklearn.metrics as metrics\n",
    "import warnings\n",
    "warnings.filterwarnings('ignore')\n",
    "from sklearn.linear_model import Ridge, Lasso, ElasticNet, LinearRegression, RidgeCV, LassoCV, ElasticNetCV\n",
    "from sklearn.preprocessing import PolynomialFeatures, StandardScaler, RobustScaler\n",
    "from sklearn.model_selection import train_test_split, cross_val_score, cross_val_predict\n",
    "from sklearn.metrics import r2_score, mean_squared_error\n",
    "from sklearn.model_selection import GridSearchCV\n",
    "\n",
    "%matplotlib inline"
   ]
  },
  {
   "cell_type": "markdown",
   "metadata": {},
   "source": [
    "### Load the Data\n"
   ]
  },
  {
   "cell_type": "code",
   "execution_count": 2,
   "metadata": {},
   "outputs": [],
   "source": [
    "y_train_original = pd.read_csv('../data/y_train.csv')\n",
    "train = pd.read_csv('../data/train_cleaned.csv')\n",
    "test = pd.read_csv('../data/test_cleaned.csv')"
   ]
  },
  {
   "cell_type": "markdown",
   "metadata": {},
   "source": [
    "<a id='create'></a>\n",
    "### Model Prep: Create our features matrix (`X`) and target vector (`y`)"
   ]
  },
  {
   "cell_type": "code",
   "execution_count": 3,
   "metadata": {},
   "outputs": [],
   "source": [
    "features = [col for col in train._get_numeric_data().columns if col != 'SalePrice']\n",
    "X = train[features]\n",
    "y = y_train_original['SalePrice']"
   ]
  },
  {
   "cell_type": "code",
   "execution_count": 4,
   "metadata": {},
   "outputs": [
    {
     "data": {
      "text/plain": [
       "(879, 312)"
      ]
     },
     "execution_count": 4,
     "metadata": {},
     "output_type": "execute_result"
    }
   ],
   "source": [
    "test.shape"
   ]
  },
  {
   "cell_type": "markdown",
   "metadata": {},
   "source": [
    "<a id='split'></a>\n",
    "### Model Prep: Train/test split\n",
    "---\n",
    "\n",
    "We always want to have a holdout set to test our model. Use the `train_test_split` function to split our `X` and `y` variables into a training set and a holdout set."
   ]
  },
  {
   "cell_type": "code",
   "execution_count": 5,
   "metadata": {},
   "outputs": [],
   "source": [
    "X_train, X_test, y_train, y_test = train_test_split(X, y, random_state=42)"
   ]
  },
  {
   "cell_type": "markdown",
   "metadata": {},
   "source": [
    "<a id='scaling'></a>\n",
    "### Model Prep: Scaling\n",
    "---\n",
    "Two methods for scaling were tried: \n",
    "1. `StandardScaler` - the standard way to scale data\n",
    "2. `RobustScaler` - is robust to outliers\n",
    "\n",
    "To try iterations robuster scaler vs Standscaler"
   ]
  },
  {
   "cell_type": "code",
   "execution_count": 6,
   "metadata": {},
   "outputs": [],
   "source": [
    "ss = StandardScaler()\n",
    "ss.fit(X_train)\n",
    "X_train = ss.transform(X_train)\n",
    "X_test = ss.transform(X_test)"
   ]
  },
  {
   "cell_type": "code",
   "execution_count": 7,
   "metadata": {},
   "outputs": [],
   "source": [
    "# Standard Scaler got better metrics as compared to Robust scaler in all tried iterations\n",
    "#rs = RobustScaler()\n",
    "#rs.fit(X_train)\n",
    "#X_train = rs.transform(X_train)\n",
    "#X_test = rs.transform(X_test)"
   ]
  },
  {
   "cell_type": "markdown",
   "metadata": {},
   "source": [
    "<a id='Instantiate'></a>\n",
    "### Model Prep: Instantiate our models\n",
    "---\n",
    "\n",
    "We'll be evaluating `LinearRegression`, `LassoCV` and `RidgeCV`, so we'll need to create instances of all three models."
   ]
  },
  {
   "cell_type": "code",
   "execution_count": 8,
   "metadata": {},
   "outputs": [
    {
     "name": "stdout",
     "output_type": "stream",
     "text": [
      "172.25859653987874\n"
     ]
    }
   ],
   "source": [
    "# Find an optimal value for Ridge regression alpha using RidgeCV\n",
    "\n",
    "ridge_alphas = np.logspace(0, 5, 200)\n",
    "\n",
    "optimal_ridge = RidgeCV(alphas=ridge_alphas, cv=10)\n",
    "optimal_ridge.fit(X_train, y_train)\n",
    "\n",
    "print(optimal_ridge.alpha_)"
   ]
  },
  {
   "cell_type": "code",
   "execution_count": 9,
   "metadata": {},
   "outputs": [
    {
     "name": "stdout",
     "output_type": "stream",
     "text": [
      "303.17552295886327\n"
     ]
    }
   ],
   "source": [
    "# Find an optimal value for Lasso regression alpha using RidgeCV\n",
    "\n",
    "optimal_lasso = LassoCV(n_alphas=500, cv=10)\n",
    "optimal_lasso.fit(X_train, y_train)\n",
    "\n",
    "print(optimal_lasso.alpha_)"
   ]
  },
  {
   "cell_type": "code",
   "execution_count": 10,
   "metadata": {},
   "outputs": [
    {
     "name": "stdout",
     "output_type": "stream",
     "text": [
      "302.7095571344011\n",
      "[0.01    0.05125 0.0925  0.13375 0.175   0.21625 0.2575  0.29875 0.34\n",
      " 0.38125 0.4225  0.46375 0.505   0.54625 0.5875  0.62875 0.67    0.71125\n",
      " 0.7525  0.79375 0.835   0.87625 0.9175  0.95875 1.     ]\n"
     ]
    }
   ],
   "source": [
    "# Find an optimal value for ElasticNet regression alpha using RidgeCV\n",
    "l1_ratios = np.linspace(0.01, 1.0, 25)\n",
    "\n",
    "optimal_enet = ElasticNetCV(l1_ratio=l1_ratios, n_alphas=100, cv=10)\n",
    "                            \n",
    "optimal_enet.fit(X_train, y_train)\n",
    "\n",
    "print(optimal_enet.alpha_)\n",
    "print(optimal_enet.l1_ratio)"
   ]
  },
  {
   "cell_type": "markdown",
   "metadata": {},
   "source": [
    "<a id='x_valid'></a>\n",
    "### Cross validation\n",
    "---\n",
    "\n",
    "Use `cross_val_score` to evaluate all three models."
   ]
  },
  {
   "cell_type": "code",
   "execution_count": 11,
   "metadata": {},
   "outputs": [
    {
     "name": "stdout",
     "output_type": "stream",
     "text": [
      "[0.90741707 0.93130567 0.89711498 0.94357015 0.86663223 0.93279554\n",
      " 0.92078291 0.91262548 0.91765451 0.90025287]\n",
      "0.9130151413071653\n"
     ]
    }
   ],
   "source": [
    "# Cross-validate the Ridge regression 𝑅2 with the optimal alpha\n",
    "\n",
    "ridge = Ridge(alpha=optimal_ridge.alpha_)\n",
    "\n",
    "ridge_scores = cross_val_score(ridge, X_train, y_train, cv=10)\n",
    "\n",
    "print(ridge_scores)\n",
    "print(np.mean(ridge_scores))"
   ]
  },
  {
   "cell_type": "code",
   "execution_count": 12,
   "metadata": {},
   "outputs": [
    {
     "name": "stdout",
     "output_type": "stream",
     "text": [
      "[0.909062   0.93776398 0.89405332 0.94727969 0.86630817 0.93585468\n",
      " 0.9198433  0.91758519 0.92083205 0.90572733]\n",
      "0.9154309710612637\n"
     ]
    }
   ],
   "source": [
    "# Cross-validate the Lasso 𝑅2 with the optimal alpha\n",
    "lasso = Lasso(alpha=optimal_lasso.alpha_)\n",
    "\n",
    "lasso_scores = cross_val_score(lasso, X_train, y_train, cv=10)\n",
    "\n",
    "print(lasso_scores)\n",
    "print(np.mean(lasso_scores))"
   ]
  },
  {
   "cell_type": "code",
   "execution_count": 13,
   "metadata": {},
   "outputs": [
    {
     "name": "stdout",
     "output_type": "stream",
     "text": [
      "[0.90905097 0.93776095 0.89405271 0.94728599 0.86632294 0.93585496\n",
      " 0.91985039 0.9175791  0.92082645 0.90572743]\n",
      "0.9154311898834478\n"
     ]
    }
   ],
   "source": [
    "# Cross-validate the ElasticNet regression R^2 with the optimal alpha\n",
    "\n",
    "enet = ElasticNet(alpha=optimal_enet.alpha_, l1_ratio=optimal_enet.l1_ratio_)\n",
    "\n",
    "enet_scores = cross_val_score(enet, X_train, y_train, cv=10)\n",
    "\n",
    "print(enet_scores)\n",
    "print(np.mean(enet_scores))\n"
   ]
  },
  {
   "cell_type": "code",
   "execution_count": 14,
   "metadata": {},
   "outputs": [],
   "source": [
    "def r2_adj(y_true, y_preds, p):\n",
    "    \"\"\"Returns adjusted R-squared\"\"\"\n",
    "    n = len(y_true)\n",
    "    y_mean = np.mean(y_true)\n",
    "    numerator = np.sum(np.square(y_true - y_preds)) / (n - p - 1)\n",
    "    denominator = np.sum(np.square(y_true - y_mean)) / (n - 1)\n",
    "    return 1 - numerator / denominator\n",
    "\n",
    "def get_metrics(y_true, y_pred,p):\n",
    "    \"\"\"Returns regression metrics\"\"\"\n",
    "    mse = metrics.mean_squared_error(y_true, y_pred)\n",
    "    rmse = np.sqrt(mse)\n",
    "    r2 = metrics.r2_score(y_true, y_pred)\n",
    "    r2a = r2_adj(y_true, y_pred, p)\n",
    "    print('Root mean squared error = ', rmse)\n",
    "    print('R^2                     = ', r2)\n",
    "    print('Adjusted R^2            = ', r2a)"
   ]
  },
  {
   "cell_type": "markdown",
   "metadata": {},
   "source": [
    "<a id='model_fit'></a>\n",
    "### Best Model Fitting\n",
    "---\n",
    "\n",
    "`ElasticNet` seems to be doing the best, so let's move forward with that model. Fit the model to the training data, and evaluate the training and test scores below."
   ]
  },
  {
   "cell_type": "code",
   "execution_count": 15,
   "metadata": {},
   "outputs": [
    {
     "data": {
      "text/plain": [
       "ElasticNet(alpha=302.7095571344011, copy_X=True, fit_intercept=True,\n",
       "           l1_ratio=1.0, max_iter=1000, normalize=False, positive=False,\n",
       "           precompute=False, random_state=None, selection='cyclic', tol=0.0001,\n",
       "           warm_start=False)"
      ]
     },
     "execution_count": 15,
     "metadata": {},
     "output_type": "execute_result"
    }
   ],
   "source": [
    "enet.fit(X_train, y_train)"
   ]
  },
  {
   "cell_type": "code",
   "execution_count": 16,
   "metadata": {},
   "outputs": [],
   "source": [
    "pred = enet.predict(X_test)"
   ]
  },
  {
   "cell_type": "code",
   "execution_count": 17,
   "metadata": {},
   "outputs": [
    {
     "name": "stdout",
     "output_type": "stream",
     "text": [
      "Root mean squared error =  20034.428037799484\n",
      "R^2                     =  0.9365120162123617\n",
      "Adjusted R^2            =  0.8374707615036457\n"
     ]
    }
   ],
   "source": [
    "# This ran with reference to the above defined function\n",
    "get_metrics(y_test,pred,X_train.shape[1])"
   ]
  },
  {
   "cell_type": "code",
   "execution_count": 18,
   "metadata": {},
   "outputs": [
    {
     "data": {
      "text/html": [
       "<div>\n",
       "<style scoped>\n",
       "    .dataframe tbody tr th:only-of-type {\n",
       "        vertical-align: middle;\n",
       "    }\n",
       "\n",
       "    .dataframe tbody tr th {\n",
       "        vertical-align: top;\n",
       "    }\n",
       "\n",
       "    .dataframe thead th {\n",
       "        text-align: right;\n",
       "    }\n",
       "</style>\n",
       "<table border=\"1\" class=\"dataframe\">\n",
       "  <thead>\n",
       "    <tr style=\"text-align: right;\">\n",
       "      <th></th>\n",
       "      <th>variable</th>\n",
       "      <th>coef</th>\n",
       "      <th>abs_coef</th>\n",
       "    </tr>\n",
       "  </thead>\n",
       "  <tbody>\n",
       "    <tr>\n",
       "      <th>32</th>\n",
       "      <td>totalSF</td>\n",
       "      <td>15711.717053</td>\n",
       "      <td>15711.717053</td>\n",
       "    </tr>\n",
       "    <tr>\n",
       "      <th>13</th>\n",
       "      <td>GrLivArea</td>\n",
       "      <td>14765.432188</td>\n",
       "      <td>14765.432188</td>\n",
       "    </tr>\n",
       "    <tr>\n",
       "      <th>132</th>\n",
       "      <td>OverallQual_9</td>\n",
       "      <td>11595.334243</td>\n",
       "      <td>11595.334243</td>\n",
       "    </tr>\n",
       "    <tr>\n",
       "      <th>124</th>\n",
       "      <td>OverallQual_10</td>\n",
       "      <td>9755.128067</td>\n",
       "      <td>9755.128067</td>\n",
       "    </tr>\n",
       "    <tr>\n",
       "      <th>3</th>\n",
       "      <td>YearBuilt</td>\n",
       "      <td>9577.068902</td>\n",
       "      <td>9577.068902</td>\n",
       "    </tr>\n",
       "  </tbody>\n",
       "</table>\n",
       "</div>"
      ],
      "text/plain": [
       "           variable          coef      abs_coef\n",
       "32          totalSF  15711.717053  15711.717053\n",
       "13        GrLivArea  14765.432188  14765.432188\n",
       "132   OverallQual_9  11595.334243  11595.334243\n",
       "124  OverallQual_10   9755.128067   9755.128067\n",
       "3         YearBuilt   9577.068902   9577.068902"
      ]
     },
     "execution_count": 18,
     "metadata": {},
     "output_type": "execute_result"
    }
   ],
   "source": [
    "#lasso.fit(X_train, y_train)\n",
    "\n",
    "enet_coefs = pd.DataFrame({'variable':X.columns,\n",
    "                            'coef':enet.coef_,\n",
    "                            'abs_coef':np.abs(enet.coef_)})\n",
    "enet_coefs.sort_values('abs_coef', inplace=True, ascending=False)\n",
    "enet_coefs.head()"
   ]
  },
  {
   "cell_type": "code",
   "execution_count": 19,
   "metadata": {},
   "outputs": [
    {
     "name": "stdout",
     "output_type": "stream",
     "text": [
      "Percent features zeroed out: 0.06832601268911664\n"
     ]
    }
   ],
   "source": [
    "# Not alot of features 'zeroed-out'\n",
    "print('Percent features zeroed out:', np.sum((enet.coef_ == 0))/float(X.shape[0]))"
   ]
  },
  {
   "cell_type": "code",
   "execution_count": 20,
   "metadata": {},
   "outputs": [
    {
     "data": {
      "image/png": "[encoded data removed]",
      "text/plain": [
       "<Figure size 432x288 with 1 Axes>"
      ]
     },
     "metadata": {
      "needs_background": "light"
     },
     "output_type": "display_data"
    }
   ],
   "source": [
    "# PLotting a bar to show the magnitude of Top n coefficients\n",
    "var = enet_coefs['variable'].head(20).tolist()\n",
    "var_coef = enet_coefs['coef'].head(20).tolist()\n",
    "y_pos = np.arange(len(var))\n",
    "\n",
    "plt.barh(y_pos, var_coef, align='center', alpha=0.5)\n",
    "plt.yticks(y_pos, var)\n",
    "plt.rcParams[\"figure.figsize\"] = [20,15]\n",
    "plt.xlabel('Feature Coefficient')\n",
    "plt.title('Magnitude of Top n coefficients')\n",
    "plt.show()"
   ]
  },
  {
   "cell_type": "code",
   "execution_count": 21,
   "metadata": {},
   "outputs": [
    {
     "data": {
      "text/plain": [
       "<matplotlib.axes._subplots.AxesSubplot at 0x1b66197cb88>"
      ]
     },
     "execution_count": 21,
     "metadata": {},
     "output_type": "execute_result"
    },
    {
     "data": {
      "image/png": "[encoded data removed]",
      "text/plain": [
       "<Figure size 720x360 with 1 Axes>"
      ]
     },
     "metadata": {
      "needs_background": "light"
     },
     "output_type": "display_data"
    }
   ],
   "source": [
    "# Normality Check:Do the Residual Errors follow a normal distribution?\n",
    "# The resultant plot mimics a normal distribution\n",
    "\n",
    "residuals = y_test - pred\n",
    "plt.figure(figsize=(10,5))\n",
    "sns.distplot(residuals)"
   ]
  },
  {
   "cell_type": "code",
   "execution_count": 22,
   "metadata": {},
   "outputs": [],
   "source": [
    "# Would be nice to check homoscedascitity"
   ]
  },
  {
   "cell_type": "code",
   "execution_count": 23,
   "metadata": {},
   "outputs": [
    {
     "data": {
      "text/plain": [
       "<matplotlib.lines.Line2D at 0x1b661ad7a08>"
      ]
     },
     "execution_count": 23,
     "metadata": {},
     "output_type": "execute_result"
    },
    {
     "data": {
      "image/png": "[encoded data removed]",
      "text/plain": [
       "<Figure size 720x360 with 1 Axes>"
      ]
     },
     "metadata": {
      "needs_background": "light"
     },
     "output_type": "display_data"
    }
   ],
   "source": [
    "# Healthy residual plots\n",
    "# Consistent variance between our low predictions and our high predictions (homoscedasticity)\n",
    "# Pretty symmetrically distributed, clustering towards the middle of the plot\n",
    "\n",
    "plt.figure(figsize=(10,5))\n",
    "plt.scatter(pred, residuals)\n",
    "plt.axhline(0, color='r')"
   ]
  },
  {
   "cell_type": "code",
   "execution_count": 24,
   "metadata": {},
   "outputs": [],
   "source": [
    "ss = StandardScaler()\n",
    "X = ss.fit_transform(test)"
   ]
  },
  {
   "cell_type": "code",
   "execution_count": 25,
   "metadata": {},
   "outputs": [],
   "source": [
    "prediction = enet.predict(X)"
   ]
  },
  {
   "cell_type": "code",
   "execution_count": 26,
   "metadata": {},
   "outputs": [
    {
     "data": {
      "text/html": [
       "<div>\n",
       "<style scoped>\n",
       "    .dataframe tbody tr th:only-of-type {\n",
       "        vertical-align: middle;\n",
       "    }\n",
       "\n",
       "    .dataframe tbody tr th {\n",
       "        vertical-align: top;\n",
       "    }\n",
       "\n",
       "    .dataframe thead th {\n",
       "        text-align: right;\n",
       "    }\n",
       "</style>\n",
       "<table border=\"1\" class=\"dataframe\">\n",
       "  <thead>\n",
       "    <tr style=\"text-align: right;\">\n",
       "      <th></th>\n",
       "      <th>Id</th>\n",
       "      <th>SalePrice</th>\n",
       "    </tr>\n",
       "  </thead>\n",
       "  <tbody>\n",
       "    <tr>\n",
       "      <th>0</th>\n",
       "      <td>2658</td>\n",
       "      <td>136797.321510</td>\n",
       "    </tr>\n",
       "    <tr>\n",
       "      <th>1</th>\n",
       "      <td>2718</td>\n",
       "      <td>155749.236132</td>\n",
       "    </tr>\n",
       "    <tr>\n",
       "      <th>2</th>\n",
       "      <td>2414</td>\n",
       "      <td>216243.797623</td>\n",
       "    </tr>\n",
       "    <tr>\n",
       "      <th>3</th>\n",
       "      <td>1989</td>\n",
       "      <td>110559.537467</td>\n",
       "    </tr>\n",
       "    <tr>\n",
       "      <th>4</th>\n",
       "      <td>625</td>\n",
       "      <td>174704.220036</td>\n",
       "    </tr>\n",
       "  </tbody>\n",
       "</table>\n",
       "</div>"
      ],
      "text/plain": [
       "     Id      SalePrice\n",
       "0  2658  136797.321510\n",
       "1  2718  155749.236132\n",
       "2  2414  216243.797623\n",
       "3  1989  110559.537467\n",
       "4   625  174704.220036"
      ]
     },
     "execution_count": 26,
     "metadata": {},
     "output_type": "execute_result"
    }
   ],
   "source": [
    "submission = pd.DataFrame()\n",
    "submission['Id'] = test['Id']\n",
    "submission['SalePrice'] = prediction\n",
    "submission.head()"
   ]
  },
  {
   "cell_type": "code",
   "execution_count": 27,
   "metadata": {},
   "outputs": [],
   "source": [
    "# export file\n",
    "submission.to_csv('../data/submission_enet.csv',index=False)"
   ]
  },
  {
   "cell_type": "markdown",
   "metadata": {},
   "source": [
    "![title](../misc/kaggle.jpg)"
   ]
  }
 ],
 "metadata": {
  "kernelspec": {
   "display_name": "Python 3",
   "language": "python",
   "name": "python3"
  },
  "language_info": {
   "codemirror_mode": {
    "name": "ipython",
    "version": 3
   },
   "file_extension": ".py",
   "mimetype": "text/x-python",
   "name": "python",
   "nbconvert_exporter": "python",
   "pygments_lexer": "ipython3",
   "version": "3.7.6"
  }
 },
 "nbformat": 4,
 "nbformat_minor": 2
}
