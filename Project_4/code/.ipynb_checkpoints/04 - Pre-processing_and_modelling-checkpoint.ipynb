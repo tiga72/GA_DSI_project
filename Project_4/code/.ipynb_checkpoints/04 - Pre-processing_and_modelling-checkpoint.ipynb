{
 "cells": [
  {
   "cell_type": "markdown",
   "metadata": {},
   "source": [
    "# Project 4 West-Nile Virus\n",
    "\n",
    "Members: Eng Seng, Jin, Qi Wen, Song Yuan"
   ]
  },
  {
   "cell_type": "markdown",
   "metadata": {},
   "source": [
    "<div style=\"border: 1px solid thistle; padding: 5px 20px 10px 20px;\">\n",
    "    <h2><font color = \"77658f\" style=\";\">Feedback</font></h2><br>\n",
    "    <font color = \"77658f\">\n",
    "        • Good organization. Perhaps lesser notebook \n",
    "        • Approach is very important and different, as long as you can justify it would be ok. Even if you do 3 models vs someone who did 10 but doesn't offer any explanation\n",
    "        • For modelling, please see my comments. Good use of functions for running multiple models <br> <br><br>\n",
    "        • Organization: <b>3</b> <br>\n",
    "        • Data Structures: <b>3</b> <br>\n",
    "        • Python Syntax and Control Flow: <b>2</b> <br>\n",
    "        • Probability and Statistics: <b>2</b><br>\n",
    "        • Modelling: <b>2</b><br>\n",
    "        • Presentation: <b>3</b><br>\n",
    "    </font>\n",
    "</div>"
   ]
  },
  {
   "cell_type": "markdown",
   "metadata": {},
   "source": [
    "## Table of Contents\n",
    "\n",
    "- [1.PreProcessing](#1.-PreProcessing)<br>\n",
    "    - [1.1 Dropping Unwanted Columns](#1.1-Dropping-Unwanted-Columns)<br>\n",
    "    - [1.2 One Hot Encoding](#1.2-One-Hot-Rncoding)<br>\n",
    "    - [1.3 Setting Interdependent and Dependent Variables](#1.3-Setting-Interdependent-and-Dependent-Variables)<br>\n",
    "    - [1.4 Split Training and Testing Data](#1.4-Split-Training-and-Testing-Data)<br>\n",
    "    - [1.5 Resampling the Train Data](#1.5-Resampling-the-Train-Data)<br>\n",
    "- [2. Modeling with Default Parameters](#2.-Modeling-with-Default-Parameters)<br>\n",
    "    - [2.1 Logistic Regression](#2.1-Logistic-Regression)<br>\n",
    "    - [2.2 Decision Tree Classifier](#2.2-Decision-Tree-Classifier)<br>\n",
    "    - [2.3 Random Forest Classifier](#2.3-Random-Forest-Classifier)<br>\n",
    "    - [2.4 AdaBoost](#2.4-AdaBoost)<br>\n",
    "    - [2.5 XGBoost](#2.5-XGBoost)<br>\n",
    "- [3. Modeling with Parameters Tuning](#3.-Modeling-with-Parameters-Tuning)<br>\n",
    "    - [3.1 Logistic Regression](#3.1-Logistic-Regression)<br>\n",
    "    - [3.2 Decision Tree Classifier](#3.2-Decision-Tree-Classifier)<br>\n",
    "    - [3.3 Random Forest Classifier](#3.3-Random-Forest-Classifier)<br>\n",
    "    - [3.4 AdaBoost](#3.4-AdaBoost)<br>\n",
    "    - [3.5 XGBoost](#3.5-XGBoost)<br>\n",
    "- [4. Model Evaluation](#4.-Model-Evaluation)<br>\n",
    "- [5. Cost Benefit Analysis](#5.-Cost-Benefit-Analysis)<br>\n",
    "- [6. Conclusions & Recommendations](#6.-Conclusions-&-Recommendations)<br>"
   ]
  },
  {
   "cell_type": "markdown",
   "metadata": {},
   "source": [
    "### Import Libraries"
   ]
  },
  {
   "cell_type": "code",
   "execution_count": 1,
   "metadata": {
    "scrolled": true
   },
   "outputs": [
    {
     "name": "stderr",
     "output_type": "stream",
     "text": [
      "\n",
      "Bad key \"text.kerning_factor\" on line 4 in\n",
      "/anaconda3/lib/python3.7/site-packages/matplotlib/mpl-data/stylelib/_classic_test_patch.mplstyle.\n",
      "You probably need to get an updated matplotlibrc file from\n",
      "https://github.com/matplotlib/matplotlib/blob/v3.1.3/matplotlibrc.template\n",
      "or from the matplotlib source distribution\n"
     ]
    }
   ],
   "source": [
    "import pandas as pd\n",
    "import numpy as np\n",
    "import datetime as dt\n",
    "import math\n",
    "import matplotlib.pyplot as plt\n",
    "import seaborn as sns\n",
    "\n",
    "%matplotlib inline\n",
    "\n",
    "#see all columns / rows\n",
    "pd.set_option('display.max_columns',None)\n",
    "pd.set_option('display.max_rows',None)\n",
    "\n",
    "from sklearn.model_selection import train_test_split\n",
    "\n",
    "from sklearn.preprocessing import StandardScaler\n",
    "from sklearn.decomposition import PCA\n",
    "from sklearn.pipeline import Pipeline\n",
    "from sklearn.linear_model import LogisticRegression\n",
    "from sklearn.tree import DecisionTreeClassifier\n",
    "from sklearn.ensemble import RandomForestClassifier, AdaBoostClassifier\n",
    "from sklearn.model_selection import GridSearchCV\n",
    "\n",
    "from xgboost import XGBClassifier\n",
    "\n",
    "\n",
    "\n",
    "#from imblearn.pipeline import Pipeline\n",
    "from sklearn.pipeline import make_pipeline\n",
    "from sklearn.compose import make_column_transformer\n",
    "from sklearn.preprocessing import OneHotEncoder\n",
    "from sklearn.model_selection import cross_val_score\n",
    "\n",
    "from collections import Counter\n",
    "from imblearn.over_sampling import RandomOverSampler\n",
    "from sklearn.datasets import make_classification\n",
    "from imblearn.over_sampling import SMOTE # doctest: +NORMALIZE_WHITESPACE\n",
    "\n",
    "from sklearn.metrics import confusion_matrix, roc_auc_score, classification_report\n",
    "\n",
    "import warnings\n",
    "warnings.simplefilter(action='ignore', category=FutureWarning)"
   ]
  },
  {
   "cell_type": "markdown",
   "metadata": {},
   "source": [
    "### 1. PreProcessing"
   ]
  },
  {
   "cell_type": "code",
   "execution_count": 2,
   "metadata": {},
   "outputs": [],
   "source": [
    "#import merged data\n",
    "train_weather = pd.read_csv('../datasets/train_weather.csv')\n",
    "test_weather = pd.read_csv('../datasets/test_weather.csv')"
   ]
  },
  {
   "cell_type": "code",
   "execution_count": 3,
   "metadata": {},
   "outputs": [
    {
     "data": {
      "text/html": [
       "<div>\n",
       "<style scoped>\n",
       "    .dataframe tbody tr th:only-of-type {\n",
       "        vertical-align: middle;\n",
       "    }\n",
       "\n",
       "    .dataframe tbody tr th {\n",
       "        vertical-align: top;\n",
       "    }\n",
       "\n",
       "    .dataframe thead th {\n",
       "        text-align: right;\n",
       "    }\n",
       "</style>\n",
       "<table border=\"1\" class=\"dataframe\">\n",
       "  <thead>\n",
       "    <tr style=\"text-align: right;\">\n",
       "      <th></th>\n",
       "      <th>Id</th>\n",
       "      <th>WnvPresent</th>\n",
       "    </tr>\n",
       "  </thead>\n",
       "  <tbody>\n",
       "    <tr>\n",
       "      <th>0</th>\n",
       "      <td>1</td>\n",
       "      <td>0</td>\n",
       "    </tr>\n",
       "    <tr>\n",
       "      <th>1</th>\n",
       "      <td>2</td>\n",
       "      <td>0</td>\n",
       "    </tr>\n",
       "    <tr>\n",
       "      <th>2</th>\n",
       "      <td>3</td>\n",
       "      <td>0</td>\n",
       "    </tr>\n",
       "    <tr>\n",
       "      <th>3</th>\n",
       "      <td>4</td>\n",
       "      <td>0</td>\n",
       "    </tr>\n",
       "    <tr>\n",
       "      <th>4</th>\n",
       "      <td>5</td>\n",
       "      <td>0</td>\n",
       "    </tr>\n",
       "  </tbody>\n",
       "</table>\n",
       "</div>"
      ],
      "text/plain": [
       "   Id  WnvPresent\n",
       "0   1           0\n",
       "1   2           0\n",
       "2   3           0\n",
       "3   4           0\n",
       "4   5           0"
      ]
     },
     "execution_count": 3,
     "metadata": {},
     "output_type": "execute_result"
    }
   ],
   "source": [
    "# Placeholder commands for use in the last part of notebook\n",
    "submission = pd.DataFrame()\n",
    "submission['Id'] = test_weather['Id']\n",
    "submission['WnvPresent'] = 0\n",
    "submission.head()"
   ]
  },
  {
   "cell_type": "code",
   "execution_count": 1,
   "metadata": {},
   "outputs": [
    {
     "ename": "NameError",
     "evalue": "name 'train_weather' is not defined",
     "output_type": "error",
     "traceback": [
      "\u001b[1;31m---------------------------------------------------------------------------\u001b[0m",
      "\u001b[1;31mNameError\u001b[0m                                 Traceback (most recent call last)",
      "\u001b[1;32m<ipython-input-1-23e2b1b9b0f1>\u001b[0m in \u001b[0;36m<module>\u001b[1;34m\u001b[0m\n\u001b[0;32m      1\u001b[0m \u001b[1;31m# Some sklearn modelling algorithm cannot handle datetime variables\u001b[0m\u001b[1;33m\u001b[0m\u001b[1;33m\u001b[0m\u001b[1;33m\u001b[0m\u001b[0m\n\u001b[0;32m      2\u001b[0m \u001b[1;31m# So its better to convert the datetime to int\u001b[0m\u001b[1;33m\u001b[0m\u001b[1;33m\u001b[0m\u001b[1;33m\u001b[0m\u001b[0m\n\u001b[1;32m----> 3\u001b[1;33m \u001b[0mtrain_weather\u001b[0m\u001b[1;33m[\u001b[0m\u001b[1;34m'Date'\u001b[0m\u001b[1;33m]\u001b[0m \u001b[1;33m=\u001b[0m \u001b[0mtrain_weather\u001b[0m\u001b[1;33m[\u001b[0m\u001b[1;34m'Date'\u001b[0m\u001b[1;33m]\u001b[0m\u001b[1;33m.\u001b[0m\u001b[0mstr\u001b[0m\u001b[1;33m.\u001b[0m\u001b[0mreplace\u001b[0m\u001b[1;33m(\u001b[0m\u001b[1;34m'-'\u001b[0m\u001b[1;33m,\u001b[0m\u001b[1;34m''\u001b[0m\u001b[1;33m)\u001b[0m\u001b[1;33m.\u001b[0m\u001b[0mastype\u001b[0m\u001b[1;33m(\u001b[0m\u001b[0mint\u001b[0m\u001b[1;33m)\u001b[0m\u001b[1;33m\u001b[0m\u001b[1;33m\u001b[0m\u001b[0m\n\u001b[0m\u001b[0;32m      4\u001b[0m \u001b[0mtest_weather\u001b[0m\u001b[1;33m[\u001b[0m\u001b[1;34m'Date'\u001b[0m\u001b[1;33m]\u001b[0m \u001b[1;33m=\u001b[0m \u001b[0mtest_weather\u001b[0m\u001b[1;33m[\u001b[0m\u001b[1;34m'Date'\u001b[0m\u001b[1;33m]\u001b[0m\u001b[1;33m.\u001b[0m\u001b[0mstr\u001b[0m\u001b[1;33m.\u001b[0m\u001b[0mreplace\u001b[0m\u001b[1;33m(\u001b[0m\u001b[1;34m'-'\u001b[0m\u001b[1;33m,\u001b[0m\u001b[1;34m''\u001b[0m\u001b[1;33m)\u001b[0m\u001b[1;33m.\u001b[0m\u001b[0mastype\u001b[0m\u001b[1;33m(\u001b[0m\u001b[0mint\u001b[0m\u001b[1;33m)\u001b[0m\u001b[1;33m\u001b[0m\u001b[1;33m\u001b[0m\u001b[0m\n",
      "\u001b[1;31mNameError\u001b[0m: name 'train_weather' is not defined"
     ]
    }
   ],
   "source": [
    "# Some sklearn modelling algorithm cannot handle datetime variables\n",
    "# So its better to convert the datetime to int\n",
    "train_weather['Date'] = train_weather['Date'].str.replace('-','').astype(int)\n",
    "test_weather['Date'] = test_weather['Date'].str.replace('-','').astype(int)"
   ]
  },
  {
   "cell_type": "markdown",
   "metadata": {},
   "source": [
    "#### 1.1 Dropping Unwanted Columns"
   ]
  },
  {
   "cell_type": "markdown",
   "metadata": {},
   "source": [
    "| Columns to drop | Remarks                                         |\n",
    "| --------------- | ----------------------------------------------- |\n",
    "| Station         | Irrelevant                                      |\n",
    "| Tmax            | Correlate to Tavg                               |\n",
    "| Tmin            | Correlate to Tavg                               |\n",
    "| Depart          | Irrelevant and 50% null/missing values          |\n",
    "| WetBulb         | check corr with DewPoint                        |\n",
    "| Cool            | correlate to heat                               |\n",
    "| Sunrise         | Irrelevant                                      |\n",
    "| Sunset          | Irrelevant                                      |\n",
    "| CodeSum         | 55% null/missing values                         |\n",
    "| Depth           | 50% null/missing values and irrelevant          |\n",
    "| Water1          | Irrelevant                                      |\n",
    "| SnowFall        | 50% null/missing values and irrelevant, to drop |\n",
    "| SeaLevel        | Pressure and sea level have linear relation     |\n",
    "| ResultSpeed     | correlate to AvgSpeed                           |\n",
    "| ResultDir       | correlate to AvgSpeed                           |"
   ]
  },
  {
   "cell_type": "code",
   "execution_count": 5,
   "metadata": {},
   "outputs": [
    {
     "data": {
      "text/html": [
       "<div>\n",
       "<style scoped>\n",
       "    .dataframe tbody tr th:only-of-type {\n",
       "        vertical-align: middle;\n",
       "    }\n",
       "\n",
       "    .dataframe tbody tr th {\n",
       "        vertical-align: top;\n",
       "    }\n",
       "\n",
       "    .dataframe thead th {\n",
       "        text-align: right;\n",
       "    }\n",
       "</style>\n",
       "<table border=\"1\" class=\"dataframe\">\n",
       "  <thead>\n",
       "    <tr style=\"text-align: right;\">\n",
       "      <th></th>\n",
       "      <th>Date</th>\n",
       "      <th>Species</th>\n",
       "      <th>Block</th>\n",
       "      <th>Street</th>\n",
       "      <th>Trap</th>\n",
       "      <th>Latitude</th>\n",
       "      <th>Longitude</th>\n",
       "      <th>WnvPresent</th>\n",
       "      <th>total_mos</th>\n",
       "      <th>Station</th>\n",
       "      <th>Tmax</th>\n",
       "      <th>Tmin</th>\n",
       "      <th>Tavg</th>\n",
       "      <th>Depart</th>\n",
       "      <th>DewPoint</th>\n",
       "      <th>WetBulb</th>\n",
       "      <th>Heat</th>\n",
       "      <th>Cool</th>\n",
       "      <th>Sunrise</th>\n",
       "      <th>Sunset</th>\n",
       "      <th>CodeSum</th>\n",
       "      <th>PrecipTotal</th>\n",
       "      <th>StnPressure</th>\n",
       "      <th>SeaLevel</th>\n",
       "      <th>ResultSpeed</th>\n",
       "      <th>ResultDir</th>\n",
       "      <th>AvgSpeed</th>\n",
       "      <th>Year</th>\n",
       "      <th>Month</th>\n",
       "    </tr>\n",
       "  </thead>\n",
       "  <tbody>\n",
       "    <tr>\n",
       "      <th>0</th>\n",
       "      <td>20070529</td>\n",
       "      <td>CULEX PIPIENS/RESTUANS</td>\n",
       "      <td>41</td>\n",
       "      <td>N OAK PARK AVE</td>\n",
       "      <td>T002</td>\n",
       "      <td>41.954690</td>\n",
       "      <td>-87.800991</td>\n",
       "      <td>0</td>\n",
       "      <td>1</td>\n",
       "      <td>1</td>\n",
       "      <td>88.0</td>\n",
       "      <td>60.0</td>\n",
       "      <td>74.0</td>\n",
       "      <td>10</td>\n",
       "      <td>58</td>\n",
       "      <td>65.0</td>\n",
       "      <td>0.0</td>\n",
       "      <td>9.0</td>\n",
       "      <td>421</td>\n",
       "      <td>1917</td>\n",
       "      <td>BR HZ</td>\n",
       "      <td>0.0</td>\n",
       "      <td>29.39</td>\n",
       "      <td>30.11</td>\n",
       "      <td>5.8</td>\n",
       "      <td>18</td>\n",
       "      <td>6.5</td>\n",
       "      <td>2007</td>\n",
       "      <td>5</td>\n",
       "    </tr>\n",
       "    <tr>\n",
       "      <th>1</th>\n",
       "      <td>20070529</td>\n",
       "      <td>CULEX RESTUANS</td>\n",
       "      <td>41</td>\n",
       "      <td>N OAK PARK AVE</td>\n",
       "      <td>T002</td>\n",
       "      <td>41.954690</td>\n",
       "      <td>-87.800991</td>\n",
       "      <td>0</td>\n",
       "      <td>1</td>\n",
       "      <td>1</td>\n",
       "      <td>88.0</td>\n",
       "      <td>60.0</td>\n",
       "      <td>74.0</td>\n",
       "      <td>10</td>\n",
       "      <td>58</td>\n",
       "      <td>65.0</td>\n",
       "      <td>0.0</td>\n",
       "      <td>9.0</td>\n",
       "      <td>421</td>\n",
       "      <td>1917</td>\n",
       "      <td>BR HZ</td>\n",
       "      <td>0.0</td>\n",
       "      <td>29.39</td>\n",
       "      <td>30.11</td>\n",
       "      <td>5.8</td>\n",
       "      <td>18</td>\n",
       "      <td>6.5</td>\n",
       "      <td>2007</td>\n",
       "      <td>5</td>\n",
       "    </tr>\n",
       "    <tr>\n",
       "      <th>2</th>\n",
       "      <td>20070529</td>\n",
       "      <td>CULEX RESTUANS</td>\n",
       "      <td>62</td>\n",
       "      <td>N MANDELL AVE</td>\n",
       "      <td>T007</td>\n",
       "      <td>41.994991</td>\n",
       "      <td>-87.769279</td>\n",
       "      <td>0</td>\n",
       "      <td>1</td>\n",
       "      <td>1</td>\n",
       "      <td>88.0</td>\n",
       "      <td>60.0</td>\n",
       "      <td>74.0</td>\n",
       "      <td>10</td>\n",
       "      <td>58</td>\n",
       "      <td>65.0</td>\n",
       "      <td>0.0</td>\n",
       "      <td>9.0</td>\n",
       "      <td>421</td>\n",
       "      <td>1917</td>\n",
       "      <td>BR HZ</td>\n",
       "      <td>0.0</td>\n",
       "      <td>29.39</td>\n",
       "      <td>30.11</td>\n",
       "      <td>5.8</td>\n",
       "      <td>18</td>\n",
       "      <td>6.5</td>\n",
       "      <td>2007</td>\n",
       "      <td>5</td>\n",
       "    </tr>\n",
       "    <tr>\n",
       "      <th>3</th>\n",
       "      <td>20070529</td>\n",
       "      <td>CULEX PIPIENS/RESTUANS</td>\n",
       "      <td>79</td>\n",
       "      <td>W FOSTER AVE</td>\n",
       "      <td>T015</td>\n",
       "      <td>41.974089</td>\n",
       "      <td>-87.824812</td>\n",
       "      <td>0</td>\n",
       "      <td>1</td>\n",
       "      <td>1</td>\n",
       "      <td>88.0</td>\n",
       "      <td>60.0</td>\n",
       "      <td>74.0</td>\n",
       "      <td>10</td>\n",
       "      <td>58</td>\n",
       "      <td>65.0</td>\n",
       "      <td>0.0</td>\n",
       "      <td>9.0</td>\n",
       "      <td>421</td>\n",
       "      <td>1917</td>\n",
       "      <td>BR HZ</td>\n",
       "      <td>0.0</td>\n",
       "      <td>29.39</td>\n",
       "      <td>30.11</td>\n",
       "      <td>5.8</td>\n",
       "      <td>18</td>\n",
       "      <td>6.5</td>\n",
       "      <td>2007</td>\n",
       "      <td>5</td>\n",
       "    </tr>\n",
       "    <tr>\n",
       "      <th>4</th>\n",
       "      <td>20070529</td>\n",
       "      <td>CULEX RESTUANS</td>\n",
       "      <td>79</td>\n",
       "      <td>W FOSTER AVE</td>\n",
       "      <td>T015</td>\n",
       "      <td>41.974089</td>\n",
       "      <td>-87.824812</td>\n",
       "      <td>0</td>\n",
       "      <td>4</td>\n",
       "      <td>1</td>\n",
       "      <td>88.0</td>\n",
       "      <td>60.0</td>\n",
       "      <td>74.0</td>\n",
       "      <td>10</td>\n",
       "      <td>58</td>\n",
       "      <td>65.0</td>\n",
       "      <td>0.0</td>\n",
       "      <td>9.0</td>\n",
       "      <td>421</td>\n",
       "      <td>1917</td>\n",
       "      <td>BR HZ</td>\n",
       "      <td>0.0</td>\n",
       "      <td>29.39</td>\n",
       "      <td>30.11</td>\n",
       "      <td>5.8</td>\n",
       "      <td>18</td>\n",
       "      <td>6.5</td>\n",
       "      <td>2007</td>\n",
       "      <td>5</td>\n",
       "    </tr>\n",
       "  </tbody>\n",
       "</table>\n",
       "</div>"
      ],
      "text/plain": [
       "       Date                 Species  Block           Street  Trap   Latitude  \\\n",
       "0  20070529  CULEX PIPIENS/RESTUANS     41   N OAK PARK AVE  T002  41.954690   \n",
       "1  20070529          CULEX RESTUANS     41   N OAK PARK AVE  T002  41.954690   \n",
       "2  20070529          CULEX RESTUANS     62    N MANDELL AVE  T007  41.994991   \n",
       "3  20070529  CULEX PIPIENS/RESTUANS     79     W FOSTER AVE  T015  41.974089   \n",
       "4  20070529          CULEX RESTUANS     79     W FOSTER AVE  T015  41.974089   \n",
       "\n",
       "   Longitude  WnvPresent  total_mos  Station  Tmax  Tmin  Tavg  Depart  \\\n",
       "0 -87.800991           0          1        1  88.0  60.0  74.0      10   \n",
       "1 -87.800991           0          1        1  88.0  60.0  74.0      10   \n",
       "2 -87.769279           0          1        1  88.0  60.0  74.0      10   \n",
       "3 -87.824812           0          1        1  88.0  60.0  74.0      10   \n",
       "4 -87.824812           0          4        1  88.0  60.0  74.0      10   \n",
       "\n",
       "   DewPoint  WetBulb  Heat  Cool  Sunrise  Sunset CodeSum  PrecipTotal  \\\n",
       "0        58     65.0   0.0   9.0      421    1917   BR HZ          0.0   \n",
       "1        58     65.0   0.0   9.0      421    1917   BR HZ          0.0   \n",
       "2        58     65.0   0.0   9.0      421    1917   BR HZ          0.0   \n",
       "3        58     65.0   0.0   9.0      421    1917   BR HZ          0.0   \n",
       "4        58     65.0   0.0   9.0      421    1917   BR HZ          0.0   \n",
       "\n",
       "   StnPressure  SeaLevel  ResultSpeed  ResultDir  AvgSpeed  Year  Month  \n",
       "0        29.39     30.11          5.8         18       6.5  2007      5  \n",
       "1        29.39     30.11          5.8         18       6.5  2007      5  \n",
       "2        29.39     30.11          5.8         18       6.5  2007      5  \n",
       "3        29.39     30.11          5.8         18       6.5  2007      5  \n",
       "4        29.39     30.11          5.8         18       6.5  2007      5  "
      ]
     },
     "execution_count": 5,
     "metadata": {},
     "output_type": "execute_result"
    }
   ],
   "source": [
    "train_weather.head()"
   ]
  },
  {
   "cell_type": "code",
   "execution_count": 6,
   "metadata": {},
   "outputs": [
    {
     "data": {
      "text/html": [
       "<div>\n",
       "<style scoped>\n",
       "    .dataframe tbody tr th:only-of-type {\n",
       "        vertical-align: middle;\n",
       "    }\n",
       "\n",
       "    .dataframe tbody tr th {\n",
       "        vertical-align: top;\n",
       "    }\n",
       "\n",
       "    .dataframe thead th {\n",
       "        text-align: right;\n",
       "    }\n",
       "</style>\n",
       "<table border=\"1\" class=\"dataframe\">\n",
       "  <thead>\n",
       "    <tr style=\"text-align: right;\">\n",
       "      <th></th>\n",
       "      <th>Id</th>\n",
       "      <th>Date</th>\n",
       "      <th>Species</th>\n",
       "      <th>Block</th>\n",
       "      <th>Street</th>\n",
       "      <th>Trap</th>\n",
       "      <th>Latitude</th>\n",
       "      <th>Longitude</th>\n",
       "      <th>Station</th>\n",
       "      <th>Tmax</th>\n",
       "      <th>Tmin</th>\n",
       "      <th>Tavg</th>\n",
       "      <th>Depart</th>\n",
       "      <th>DewPoint</th>\n",
       "      <th>WetBulb</th>\n",
       "      <th>Heat</th>\n",
       "      <th>Cool</th>\n",
       "      <th>Sunrise</th>\n",
       "      <th>Sunset</th>\n",
       "      <th>CodeSum</th>\n",
       "      <th>PrecipTotal</th>\n",
       "      <th>StnPressure</th>\n",
       "      <th>SeaLevel</th>\n",
       "      <th>ResultSpeed</th>\n",
       "      <th>ResultDir</th>\n",
       "      <th>AvgSpeed</th>\n",
       "      <th>Year</th>\n",
       "      <th>Month</th>\n",
       "    </tr>\n",
       "  </thead>\n",
       "  <tbody>\n",
       "    <tr>\n",
       "      <th>0</th>\n",
       "      <td>1</td>\n",
       "      <td>20080611</td>\n",
       "      <td>CULEX PIPIENS/RESTUANS</td>\n",
       "      <td>41</td>\n",
       "      <td>N OAK PARK AVE</td>\n",
       "      <td>T002</td>\n",
       "      <td>41.95469</td>\n",
       "      <td>-87.800991</td>\n",
       "      <td>1</td>\n",
       "      <td>86.0</td>\n",
       "      <td>61.0</td>\n",
       "      <td>74.0</td>\n",
       "      <td>7</td>\n",
       "      <td>56</td>\n",
       "      <td>64.0</td>\n",
       "      <td>0.0</td>\n",
       "      <td>9.0</td>\n",
       "      <td>416</td>\n",
       "      <td>1926</td>\n",
       "      <td>Moderate</td>\n",
       "      <td>0.0</td>\n",
       "      <td>29.28</td>\n",
       "      <td>29.99</td>\n",
       "      <td>8.9</td>\n",
       "      <td>18</td>\n",
       "      <td>10.0</td>\n",
       "      <td>2008</td>\n",
       "      <td>6</td>\n",
       "    </tr>\n",
       "    <tr>\n",
       "      <th>1</th>\n",
       "      <td>2</td>\n",
       "      <td>20080611</td>\n",
       "      <td>CULEX RESTUANS</td>\n",
       "      <td>41</td>\n",
       "      <td>N OAK PARK AVE</td>\n",
       "      <td>T002</td>\n",
       "      <td>41.95469</td>\n",
       "      <td>-87.800991</td>\n",
       "      <td>1</td>\n",
       "      <td>86.0</td>\n",
       "      <td>61.0</td>\n",
       "      <td>74.0</td>\n",
       "      <td>7</td>\n",
       "      <td>56</td>\n",
       "      <td>64.0</td>\n",
       "      <td>0.0</td>\n",
       "      <td>9.0</td>\n",
       "      <td>416</td>\n",
       "      <td>1926</td>\n",
       "      <td>Moderate</td>\n",
       "      <td>0.0</td>\n",
       "      <td>29.28</td>\n",
       "      <td>29.99</td>\n",
       "      <td>8.9</td>\n",
       "      <td>18</td>\n",
       "      <td>10.0</td>\n",
       "      <td>2008</td>\n",
       "      <td>6</td>\n",
       "    </tr>\n",
       "    <tr>\n",
       "      <th>2</th>\n",
       "      <td>3</td>\n",
       "      <td>20080611</td>\n",
       "      <td>CULEX PIPIENS</td>\n",
       "      <td>41</td>\n",
       "      <td>N OAK PARK AVE</td>\n",
       "      <td>T002</td>\n",
       "      <td>41.95469</td>\n",
       "      <td>-87.800991</td>\n",
       "      <td>1</td>\n",
       "      <td>86.0</td>\n",
       "      <td>61.0</td>\n",
       "      <td>74.0</td>\n",
       "      <td>7</td>\n",
       "      <td>56</td>\n",
       "      <td>64.0</td>\n",
       "      <td>0.0</td>\n",
       "      <td>9.0</td>\n",
       "      <td>416</td>\n",
       "      <td>1926</td>\n",
       "      <td>Moderate</td>\n",
       "      <td>0.0</td>\n",
       "      <td>29.28</td>\n",
       "      <td>29.99</td>\n",
       "      <td>8.9</td>\n",
       "      <td>18</td>\n",
       "      <td>10.0</td>\n",
       "      <td>2008</td>\n",
       "      <td>6</td>\n",
       "    </tr>\n",
       "    <tr>\n",
       "      <th>3</th>\n",
       "      <td>4</td>\n",
       "      <td>20080611</td>\n",
       "      <td>CULEX SALINARIUS</td>\n",
       "      <td>41</td>\n",
       "      <td>N OAK PARK AVE</td>\n",
       "      <td>T002</td>\n",
       "      <td>41.95469</td>\n",
       "      <td>-87.800991</td>\n",
       "      <td>1</td>\n",
       "      <td>86.0</td>\n",
       "      <td>61.0</td>\n",
       "      <td>74.0</td>\n",
       "      <td>7</td>\n",
       "      <td>56</td>\n",
       "      <td>64.0</td>\n",
       "      <td>0.0</td>\n",
       "      <td>9.0</td>\n",
       "      <td>416</td>\n",
       "      <td>1926</td>\n",
       "      <td>Moderate</td>\n",
       "      <td>0.0</td>\n",
       "      <td>29.28</td>\n",
       "      <td>29.99</td>\n",
       "      <td>8.9</td>\n",
       "      <td>18</td>\n",
       "      <td>10.0</td>\n",
       "      <td>2008</td>\n",
       "      <td>6</td>\n",
       "    </tr>\n",
       "    <tr>\n",
       "      <th>4</th>\n",
       "      <td>5</td>\n",
       "      <td>20080611</td>\n",
       "      <td>CULEX TERRITANS</td>\n",
       "      <td>41</td>\n",
       "      <td>N OAK PARK AVE</td>\n",
       "      <td>T002</td>\n",
       "      <td>41.95469</td>\n",
       "      <td>-87.800991</td>\n",
       "      <td>1</td>\n",
       "      <td>86.0</td>\n",
       "      <td>61.0</td>\n",
       "      <td>74.0</td>\n",
       "      <td>7</td>\n",
       "      <td>56</td>\n",
       "      <td>64.0</td>\n",
       "      <td>0.0</td>\n",
       "      <td>9.0</td>\n",
       "      <td>416</td>\n",
       "      <td>1926</td>\n",
       "      <td>Moderate</td>\n",
       "      <td>0.0</td>\n",
       "      <td>29.28</td>\n",
       "      <td>29.99</td>\n",
       "      <td>8.9</td>\n",
       "      <td>18</td>\n",
       "      <td>10.0</td>\n",
       "      <td>2008</td>\n",
       "      <td>6</td>\n",
       "    </tr>\n",
       "  </tbody>\n",
       "</table>\n",
       "</div>"
      ],
      "text/plain": [
       "   Id      Date                 Species  Block           Street  Trap  \\\n",
       "0   1  20080611  CULEX PIPIENS/RESTUANS     41   N OAK PARK AVE  T002   \n",
       "1   2  20080611          CULEX RESTUANS     41   N OAK PARK AVE  T002   \n",
       "2   3  20080611           CULEX PIPIENS     41   N OAK PARK AVE  T002   \n",
       "3   4  20080611        CULEX SALINARIUS     41   N OAK PARK AVE  T002   \n",
       "4   5  20080611         CULEX TERRITANS     41   N OAK PARK AVE  T002   \n",
       "\n",
       "   Latitude  Longitude  Station  Tmax  Tmin  Tavg  Depart  DewPoint  WetBulb  \\\n",
       "0  41.95469 -87.800991        1  86.0  61.0  74.0       7        56     64.0   \n",
       "1  41.95469 -87.800991        1  86.0  61.0  74.0       7        56     64.0   \n",
       "2  41.95469 -87.800991        1  86.0  61.0  74.0       7        56     64.0   \n",
       "3  41.95469 -87.800991        1  86.0  61.0  74.0       7        56     64.0   \n",
       "4  41.95469 -87.800991        1  86.0  61.0  74.0       7        56     64.0   \n",
       "\n",
       "   Heat  Cool  Sunrise  Sunset   CodeSum  PrecipTotal  StnPressure  SeaLevel  \\\n",
       "0   0.0   9.0      416    1926  Moderate          0.0        29.28     29.99   \n",
       "1   0.0   9.0      416    1926  Moderate          0.0        29.28     29.99   \n",
       "2   0.0   9.0      416    1926  Moderate          0.0        29.28     29.99   \n",
       "3   0.0   9.0      416    1926  Moderate          0.0        29.28     29.99   \n",
       "4   0.0   9.0      416    1926  Moderate          0.0        29.28     29.99   \n",
       "\n",
       "   ResultSpeed  ResultDir  AvgSpeed  Year  Month  \n",
       "0          8.9         18      10.0  2008      6  \n",
       "1          8.9         18      10.0  2008      6  \n",
       "2          8.9         18      10.0  2008      6  \n",
       "3          8.9         18      10.0  2008      6  \n",
       "4          8.9         18      10.0  2008      6  "
      ]
     },
     "execution_count": 6,
     "metadata": {},
     "output_type": "execute_result"
    }
   ],
   "source": [
    "test_weather.head()"
   ]
  },
  {
   "cell_type": "markdown",
   "metadata": {},
   "source": [
    "<font size = 3 color = \"crimson\"> Can use function/for-loop  </font>"
   ]
  },
  {
   "cell_type": "code",
   "execution_count": 7,
   "metadata": {},
   "outputs": [],
   "source": [
    "# Dropping train_weather columns as part of pre-processing\n",
    "train_weather = train_weather.drop(['Street'], axis=1)\n",
    "train_weather = train_weather.drop(['Block'], axis=1)\n",
    "train_weather = train_weather.drop(['Station'], axis=1)\n",
    "train_weather = train_weather.drop(['Cool'], axis=1)\n",
    "train_weather = train_weather.drop(['Tmax'], axis=1)\n",
    "train_weather = train_weather.drop(['Tmin'], axis=1)\n",
    "train_weather = train_weather.drop(['Depart'], axis=1)\n",
    "train_weather = train_weather.drop(['CodeSum'], axis=1)\n",
    "train_weather = train_weather.drop(['ResultDir'], axis=1)\n",
    "train_weather = train_weather.drop(['SeaLevel'], axis=1)\n",
    "train_weather = train_weather.drop(['Sunrise'], axis=1)\n",
    "train_weather = train_weather.drop(['Sunset'], axis=1)\n",
    "train_weather = train_weather.drop(['total_mos'], axis=1)"
   ]
  },
  {
   "cell_type": "code",
   "execution_count": 8,
   "metadata": {},
   "outputs": [],
   "source": [
    "# Dropping test_weather columns as part of pre-processing\n",
    "test_weather = test_weather.drop(['Street'], axis=1)\n",
    "test_weather = test_weather.drop(['Id'], axis=1)\n",
    "test_weather = test_weather.drop(['Block'], axis=1)\n",
    "test_weather = test_weather.drop(['Station'], axis=1)\n",
    "test_weather = test_weather.drop(['Cool'], axis=1)\n",
    "test_weather = test_weather.drop(['Tmax'], axis=1)\n",
    "test_weather = test_weather.drop(['Tmin'], axis=1)\n",
    "test_weather = test_weather.drop(['Depart'], axis=1)\n",
    "test_weather = test_weather.drop(['CodeSum'], axis=1)\n",
    "test_weather = test_weather.drop(['ResultDir'], axis=1)\n",
    "test_weather = test_weather.drop(['SeaLevel'], axis=1)\n",
    "test_weather = test_weather.drop(['Sunrise'], axis=1)\n",
    "test_weather = test_weather.drop(['Sunset'], axis=1)"
   ]
  },
  {
   "cell_type": "code",
   "execution_count": 9,
   "metadata": {},
   "outputs": [
    {
     "name": "stdout",
     "output_type": "stream",
     "text": [
      "(8610, 16)\n",
      "(116293, 15)\n"
     ]
    }
   ],
   "source": [
    "print(train_weather.shape)\n",
    "print(test_weather.shape)"
   ]
  },
  {
   "cell_type": "code",
   "execution_count": 10,
   "metadata": {},
   "outputs": [
    {
     "data": {
      "text/plain": [
       "Index(['Date', 'Species', 'Trap', 'Latitude', 'Longitude', 'WnvPresent',\n",
       "       'Tavg', 'DewPoint', 'WetBulb', 'Heat', 'PrecipTotal', 'StnPressure',\n",
       "       'ResultSpeed', 'AvgSpeed', 'Year', 'Month'],\n",
       "      dtype='object')"
      ]
     },
     "execution_count": 10,
     "metadata": {},
     "output_type": "execute_result"
    }
   ],
   "source": [
    "train_weather.columns"
   ]
  },
  {
   "cell_type": "markdown",
   "metadata": {},
   "source": [
    "#### 1.2 One Hot Encoding"
   ]
  },
  {
   "cell_type": "code",
   "execution_count": 11,
   "metadata": {},
   "outputs": [],
   "source": [
    "# concat train and test then get_dummies to fix missing values that may be present in train but not in the other / vice versa\n",
    "len_train_weather = len(train_weather)\n",
    "train_test_weather_combined = pd.concat([train_weather, test_weather])\n",
    "train_test_weather_combined_dummies = pd.get_dummies(train_test_weather_combined, drop_first=True)\n",
    "\n",
    "# Separate them back into train and test\n",
    "train_weather_dummies = train_test_weather_combined_dummies.iloc[:len_train_weather, :]\n",
    "test_weather_dummies = train_test_weather_combined_dummies.iloc[len_train_weather:, :]"
   ]
  },
  {
   "cell_type": "code",
   "execution_count": 12,
   "metadata": {},
   "outputs": [
    {
     "data": {
      "text/plain": [
       "(8610, 169)"
      ]
     },
     "execution_count": 12,
     "metadata": {},
     "output_type": "execute_result"
    }
   ],
   "source": [
    "train_weather_dummies.shape"
   ]
  },
  {
   "cell_type": "code",
   "execution_count": 13,
   "metadata": {},
   "outputs": [
    {
     "data": {
      "text/plain": [
       "(116293, 169)"
      ]
     },
     "execution_count": 13,
     "metadata": {},
     "output_type": "execute_result"
    }
   ],
   "source": [
    "test_weather_dummies.shape"
   ]
  },
  {
   "cell_type": "code",
   "execution_count": 14,
   "metadata": {},
   "outputs": [
    {
     "name": "stderr",
     "output_type": "stream",
     "text": [
      "/Users/johnsmith/opt/anaconda3/lib/python3.7/site-packages/pandas/core/frame.py:3997: SettingWithCopyWarning: \n",
      "A value is trying to be set on a copy of a slice from a DataFrame\n",
      "\n",
      "See the caveats in the documentation: https://pandas.pydata.org/pandas-docs/stable/user_guide/indexing.html#returning-a-view-versus-a-copy\n",
      "  errors=errors,\n"
     ]
    }
   ],
   "source": [
    "#drop wnvpresent column from kaggle test\n",
    "test_weather_dummies.drop(columns='WnvPresent',inplace=True)"
   ]
  },
  {
   "cell_type": "code",
   "execution_count": 15,
   "metadata": {},
   "outputs": [
    {
     "data": {
      "text/plain": [
       "(116293, 168)"
      ]
     },
     "execution_count": 15,
     "metadata": {},
     "output_type": "execute_result"
    }
   ],
   "source": [
    "test_weather_dummies.shape"
   ]
  },
  {
   "cell_type": "code",
   "execution_count": 16,
   "metadata": {},
   "outputs": [],
   "source": [
    "# OneHotEncoder in skearn needs to run inside a column transformer\n",
    "# Features to encode to be specified and the rest are 'ignored' (via passthrough command)\n",
    "#column_trans_train = make_column_transformer(\n",
    "#    (OneHotEncoder(handle_unknown='ignore'), ['Species', 'Trap']),\n",
    "#    remainder='passthrough')\n",
    "#column_trans_train.fit_transform(train_weather)"
   ]
  },
  {
   "cell_type": "code",
   "execution_count": 17,
   "metadata": {},
   "outputs": [],
   "source": [
    "# Performing OneHotEncoder on original test data, test_weather\n",
    "#column_trans_test = make_column_transformer(\n",
    "#    (OneHotEncoder(), ['Species', 'Trap']),\n",
    "#    remainder='passthrough')\n",
    "#column_trans_test.fit_transform(test_weather)"
   ]
  },
  {
   "cell_type": "markdown",
   "metadata": {},
   "source": [
    "#### 1.3 Setting Interdependent and Dependent Variables"
   ]
  },
  {
   "cell_type": "code",
   "execution_count": 18,
   "metadata": {},
   "outputs": [],
   "source": [
    "y = train_weather_dummies['WnvPresent']\n",
    "X = train_weather_dummies.drop('WnvPresent',axis='columns')"
   ]
  },
  {
   "cell_type": "code",
   "execution_count": 19,
   "metadata": {},
   "outputs": [
    {
     "data": {
      "text/plain": [
       "0.0    0.946922\n",
       "1.0    0.053078\n",
       "Name: WnvPresent, dtype: float64"
      ]
     },
     "execution_count": 19,
     "metadata": {},
     "output_type": "execute_result"
    }
   ],
   "source": [
    "#baseline proportion\n",
    "y.value_counts(normalize=True)"
   ]
  },
  {
   "cell_type": "markdown",
   "metadata": {},
   "source": [
    "#### 1.4 Split Training and Testing Data"
   ]
  },
  {
   "cell_type": "code",
   "execution_count": 20,
   "metadata": {},
   "outputs": [],
   "source": [
    "X_train,X_test,y_train,y_test=train_test_split(X,y,test_size=0.3,random_state=42,\n",
    "                                              shuffle = True, stratify = y)"
   ]
  },
  {
   "cell_type": "code",
   "execution_count": 21,
   "metadata": {},
   "outputs": [
    {
     "data": {
      "text/plain": [
       "((6027, 168), (6027,), (2583, 168), (2583,))"
      ]
     },
     "execution_count": 21,
     "metadata": {},
     "output_type": "execute_result"
    }
   ],
   "source": [
    "X_train.shape, y_train.shape, X_test.shape, y_test.shape"
   ]
  },
  {
   "cell_type": "markdown",
   "metadata": {},
   "source": [
    "#### 1.5 Resampling the Train Data"
   ]
  },
  {
   "cell_type": "markdown",
   "metadata": {},
   "source": [
    "Apply over-sampling to train data only<br>\n",
    "Sampling technique are specifically synthetic<br>\n",
    "So, we need to apply sampling after 'train-test-split'<br>\n",
    "We do not want synthetic samples(from original) in the testing\n",
    "\n",
    "Based on the sample ratios, it is better to do oversampling than undersampling\n"
   ]
  },
  {
   "cell_type": "markdown",
   "metadata": {},
   "source": [
    "<font size = 3 color = \"crimson\"> \n",
    "* Consider using PCA for dimention reduction </font>"
   ]
  },
  {
   "cell_type": "code",
   "execution_count": 22,
   "metadata": {},
   "outputs": [
    {
     "data": {
      "text/plain": [
       "Counter({0.0: 5707, 1.0: 320})"
      ]
     },
     "execution_count": 22,
     "metadata": {},
     "output_type": "execute_result"
    }
   ],
   "source": [
    "# Counter method is similar to y_train.value_counts()\n",
    "# Returns y_train value counts\n",
    "Counter(y_train)"
   ]
  },
  {
   "cell_type": "code",
   "execution_count": 23,
   "metadata": {},
   "outputs": [],
   "source": [
    "# Instantiate SMOTE.  \n",
    "sm = SMOTE(random_state=42)\n",
    "\n",
    "# Resample the dataset, re-assign to X_train, y_train\n",
    "X_train, y_train = sm.fit_sample(X_train,y_train)"
   ]
  },
  {
   "cell_type": "code",
   "execution_count": 24,
   "metadata": {},
   "outputs": [
    {
     "data": {
      "text/plain": [
       "((11414, 168), (11414,), (2583, 168), (2583,))"
      ]
     },
     "execution_count": 24,
     "metadata": {},
     "output_type": "execute_result"
    }
   ],
   "source": [
    "X_train.shape, y_train.shape, X_test.shape, y_test.shape"
   ]
  },
  {
   "cell_type": "code",
   "execution_count": 25,
   "metadata": {},
   "outputs": [
    {
     "data": {
      "text/plain": [
       "Counter({0.0: 5707, 1.0: 5707})"
      ]
     },
     "execution_count": 25,
     "metadata": {},
     "output_type": "execute_result"
    }
   ],
   "source": [
    "Counter(y_train)"
   ]
  },
  {
   "cell_type": "code",
   "execution_count": 26,
   "metadata": {},
   "outputs": [
    {
     "data": {
      "text/plain": [
       "Counter({0.0: 2446, 1.0: 137})"
      ]
     },
     "execution_count": 26,
     "metadata": {},
     "output_type": "execute_result"
    }
   ],
   "source": [
    "Counter(y_test)"
   ]
  },
  {
   "cell_type": "code",
   "execution_count": 27,
   "metadata": {},
   "outputs": [],
   "source": [
    "# Instantiate oversampler\n",
    "# based on the sample ratios, it is better to do oversampling than undersampling\n",
    "#sm = RandomOverSampler(random_state=42)"
   ]
  },
  {
   "cell_type": "code",
   "execution_count": 28,
   "metadata": {},
   "outputs": [],
   "source": [
    "# Perform over-sampling\n",
    "# Resample the dataset, re-assigns back to X_train, y_train\n",
    "#X_train, y_train = sm.fit_resample(X_train, y_train)"
   ]
  },
  {
   "cell_type": "code",
   "execution_count": 29,
   "metadata": {},
   "outputs": [],
   "source": [
    "# Checks the resampled dataset\n",
    "#print('Resampled dataset shape %s' % Counter(y_train))"
   ]
  },
  {
   "cell_type": "markdown",
   "metadata": {},
   "source": [
    "### 2. Modelling with default parameters"
   ]
  },
  {
   "cell_type": "markdown",
   "metadata": {},
   "source": [
    "<font size = 3 color = \"crimson\">\n",
    "* Consider using Column Transformer </font>"
   ]
  },
  {
   "cell_type": "code",
   "execution_count": 30,
   "metadata": {},
   "outputs": [],
   "source": [
    "def evaluate_model(pipe,param):\n",
    "    '''This function takes in a Pipeline and its parameters. It prints the best auc-roc score, best parameters,\n",
    "    score on training data, score on validation data, precision score of model, sensitivity score of model,\n",
    "    and confusion matrix. '''\n",
    "    gs = GridSearchCV(pipe,param, cv=5, scoring = 'roc_auc')\n",
    "    gs.fit(X_train,y_train)\n",
    "    \n",
    "    #Best score from GridSearchCV\n",
    "    best_score = gs.best_score_\n",
    "    print(f'Best Score: {best_score}')\n",
    "      \n",
    "    #Best Parameters from GridSearchCV\n",
    "    best_params = gs.best_params_\n",
    "    print(f'Best Params: {best_params}')\n",
    "    \n",
    "    #Best model from GridSearchCV\n",
    "    best_model = gs.best_estimator_ \n",
    "    \n",
    "    #Best model score on train data\n",
    "    train_score = best_model.score(X_train, y_train)\n",
    "    print(f'Score of training data: {train_score}')\n",
    "    \n",
    "    #Best model score on validation data\n",
    "    val_score = best_model.score(X_test,y_test)\n",
    "    print(f'Score of validation data: {val_score}')\n",
    "    \n",
    "    #Make predictions using best model on validation data\n",
    "    predictions = best_model.predict(X_test)\n",
    "    \n",
    "    #Create confusion matrix\n",
    "    cm = confusion_matrix(y_test,predictions)\n",
    "    tn, fp, fn, tp = cm.ravel()\n",
    "    \n",
    "    #Precision score\n",
    "    precision = tp/(tp+fp)\n",
    "    print(f'Precision score of the model: {precision}')\n",
    "    \n",
    "    #Sensitivity / Recall\n",
    "    sensitivity = tp/(tp+fn)\n",
    "    print(f'Sensitivity score of the model: {sensitivity}')\n",
    "    \n",
    "    # confusion matrix to dataframe\n",
    "    cm_df = pd.DataFrame(cm, columns= ['Predict No WNV', 'Predict WNV'], \n",
    "                         index=['Actual No WNV', 'Actual WNV'])    \n",
    "    \n",
    "    print(classification_report(y_test,predictions))\n",
    "     \n",
    "    return cm_df"
   ]
  },
  {
   "cell_type": "markdown",
   "metadata": {},
   "source": [
    "* <font size = 3 color = \"crimson\"> There's no need to do all the based for each model, perhaps on one would be good or even a baseline naive prediction is good enough </font>"
   ]
  },
  {
   "cell_type": "markdown",
   "metadata": {},
   "source": [
    "#####  2.1 Logistic Regression"
   ]
  },
  {
   "cell_type": "code",
   "execution_count": 31,
   "metadata": {},
   "outputs": [],
   "source": [
    "# Instantiate a logistic regression pipeline\n",
    "pipe_lr_default = Pipeline([('ss', StandardScaler()),\n",
    "                    ('lr', LogisticRegression(random_state = 42))])\n",
    "\n",
    "param_default = {}"
   ]
  },
  {
   "cell_type": "code",
   "execution_count": 32,
   "metadata": {
    "scrolled": false
   },
   "outputs": [
    {
     "name": "stderr",
     "output_type": "stream",
     "text": [
      "/Users/johnsmith/opt/anaconda3/lib/python3.7/site-packages/sklearn/linear_model/_logistic.py:940: ConvergenceWarning: lbfgs failed to converge (status=1):\n",
      "STOP: TOTAL NO. of ITERATIONS REACHED LIMIT.\n",
      "\n",
      "Increase the number of iterations (max_iter) or scale the data as shown in:\n",
      "    https://scikit-learn.org/stable/modules/preprocessing.html\n",
      "Please also refer to the documentation for alternative solver options:\n",
      "    https://scikit-learn.org/stable/modules/linear_model.html#logistic-regression\n",
      "  extra_warning_msg=_LOGISTIC_SOLVER_CONVERGENCE_MSG)\n",
      "/Users/johnsmith/opt/anaconda3/lib/python3.7/site-packages/sklearn/linear_model/_logistic.py:940: ConvergenceWarning: lbfgs failed to converge (status=1):\n",
      "STOP: TOTAL NO. of ITERATIONS REACHED LIMIT.\n",
      "\n",
      "Increase the number of iterations (max_iter) or scale the data as shown in:\n",
      "    https://scikit-learn.org/stable/modules/preprocessing.html\n",
      "Please also refer to the documentation for alternative solver options:\n",
      "    https://scikit-learn.org/stable/modules/linear_model.html#logistic-regression\n",
      "  extra_warning_msg=_LOGISTIC_SOLVER_CONVERGENCE_MSG)\n",
      "/Users/johnsmith/opt/anaconda3/lib/python3.7/site-packages/sklearn/linear_model/_logistic.py:940: ConvergenceWarning: lbfgs failed to converge (status=1):\n",
      "STOP: TOTAL NO. of ITERATIONS REACHED LIMIT.\n",
      "\n",
      "Increase the number of iterations (max_iter) or scale the data as shown in:\n",
      "    https://scikit-learn.org/stable/modules/preprocessing.html\n",
      "Please also refer to the documentation for alternative solver options:\n",
      "    https://scikit-learn.org/stable/modules/linear_model.html#logistic-regression\n",
      "  extra_warning_msg=_LOGISTIC_SOLVER_CONVERGENCE_MSG)\n",
      "/Users/johnsmith/opt/anaconda3/lib/python3.7/site-packages/sklearn/linear_model/_logistic.py:940: ConvergenceWarning: lbfgs failed to converge (status=1):\n",
      "STOP: TOTAL NO. of ITERATIONS REACHED LIMIT.\n",
      "\n",
      "Increase the number of iterations (max_iter) or scale the data as shown in:\n",
      "    https://scikit-learn.org/stable/modules/preprocessing.html\n",
      "Please also refer to the documentation for alternative solver options:\n",
      "    https://scikit-learn.org/stable/modules/linear_model.html#logistic-regression\n",
      "  extra_warning_msg=_LOGISTIC_SOLVER_CONVERGENCE_MSG)\n",
      "/Users/johnsmith/opt/anaconda3/lib/python3.7/site-packages/sklearn/linear_model/_logistic.py:940: ConvergenceWarning: lbfgs failed to converge (status=1):\n",
      "STOP: TOTAL NO. of ITERATIONS REACHED LIMIT.\n",
      "\n",
      "Increase the number of iterations (max_iter) or scale the data as shown in:\n",
      "    https://scikit-learn.org/stable/modules/preprocessing.html\n",
      "Please also refer to the documentation for alternative solver options:\n",
      "    https://scikit-learn.org/stable/modules/linear_model.html#logistic-regression\n",
      "  extra_warning_msg=_LOGISTIC_SOLVER_CONVERGENCE_MSG)\n"
     ]
    },
    {
     "name": "stdout",
     "output_type": "stream",
     "text": [
      "Best Score: 0.8354070830352404\n",
      "Best Params: {}\n",
      "Score of training data: 0.7805326791659366\n",
      "Score of validation data: 0.7131242740998839\n",
      "Precision score of the model: 0.11381074168797954\n",
      "Sensitivity score of the model: 0.6496350364963503\n",
      "              precision    recall  f1-score   support\n",
      "\n",
      "         0.0       0.97      0.72      0.83      2446\n",
      "         1.0       0.11      0.65      0.19       137\n",
      "\n",
      "    accuracy                           0.71      2583\n",
      "   macro avg       0.54      0.68      0.51      2583\n",
      "weighted avg       0.93      0.71      0.79      2583\n",
      "\n"
     ]
    },
    {
     "name": "stderr",
     "output_type": "stream",
     "text": [
      "/Users/johnsmith/opt/anaconda3/lib/python3.7/site-packages/sklearn/linear_model/_logistic.py:940: ConvergenceWarning: lbfgs failed to converge (status=1):\n",
      "STOP: TOTAL NO. of ITERATIONS REACHED LIMIT.\n",
      "\n",
      "Increase the number of iterations (max_iter) or scale the data as shown in:\n",
      "    https://scikit-learn.org/stable/modules/preprocessing.html\n",
      "Please also refer to the documentation for alternative solver options:\n",
      "    https://scikit-learn.org/stable/modules/linear_model.html#logistic-regression\n",
      "  extra_warning_msg=_LOGISTIC_SOLVER_CONVERGENCE_MSG)\n"
     ]
    },
    {
     "data": {
      "text/html": [
       "<div>\n",
       "<style scoped>\n",
       "    .dataframe tbody tr th:only-of-type {\n",
       "        vertical-align: middle;\n",
       "    }\n",
       "\n",
       "    .dataframe tbody tr th {\n",
       "        vertical-align: top;\n",
       "    }\n",
       "\n",
       "    .dataframe thead th {\n",
       "        text-align: right;\n",
       "    }\n",
       "</style>\n",
       "<table border=\"1\" class=\"dataframe\">\n",
       "  <thead>\n",
       "    <tr style=\"text-align: right;\">\n",
       "      <th></th>\n",
       "      <th>Predict No WNV</th>\n",
       "      <th>Predict WNV</th>\n",
       "    </tr>\n",
       "  </thead>\n",
       "  <tbody>\n",
       "    <tr>\n",
       "      <th>Actual No WNV</th>\n",
       "      <td>1753</td>\n",
       "      <td>693</td>\n",
       "    </tr>\n",
       "    <tr>\n",
       "      <th>Actual WNV</th>\n",
       "      <td>48</td>\n",
       "      <td>89</td>\n",
       "    </tr>\n",
       "  </tbody>\n",
       "</table>\n",
       "</div>"
      ],
      "text/plain": [
       "               Predict No WNV  Predict WNV\n",
       "Actual No WNV            1753          693\n",
       "Actual WNV                 48           89"
      ]
     },
     "execution_count": 32,
     "metadata": {},
     "output_type": "execute_result"
    }
   ],
   "source": [
    "#run gridsearchCV\n",
    "evaluate_model(pipe_lr_default,param_default)"
   ]
  },
  {
   "cell_type": "markdown",
   "metadata": {},
   "source": [
    "##### 2.2 Decision Tree Classifier"
   ]
  },
  {
   "cell_type": "code",
   "execution_count": 33,
   "metadata": {},
   "outputs": [],
   "source": [
    "# Instantiate a decision tree pipeline\n",
    "pipe_dt_default = Pipeline([('ss', StandardScaler()),\n",
    "                    ('dt', DecisionTreeClassifier(random_state=42))])\n",
    "\n",
    "param_default = {}"
   ]
  },
  {
   "cell_type": "code",
   "execution_count": 34,
   "metadata": {},
   "outputs": [
    {
     "name": "stdout",
     "output_type": "stream",
     "text": [
      "Best Score: 0.9457235960876982\n",
      "Best Params: {}\n",
      "Score of training data: 0.9939547923602593\n",
      "Score of validation data: 0.9090205187766164\n",
      "Precision score of the model: 0.17333333333333334\n",
      "Sensitivity score of the model: 0.1897810218978102\n",
      "              precision    recall  f1-score   support\n",
      "\n",
      "         0.0       0.95      0.95      0.95      2446\n",
      "         1.0       0.17      0.19      0.18       137\n",
      "\n",
      "    accuracy                           0.91      2583\n",
      "   macro avg       0.56      0.57      0.57      2583\n",
      "weighted avg       0.91      0.91      0.91      2583\n",
      "\n"
     ]
    },
    {
     "data": {
      "text/html": [
       "<div>\n",
       "<style scoped>\n",
       "    .dataframe tbody tr th:only-of-type {\n",
       "        vertical-align: middle;\n",
       "    }\n",
       "\n",
       "    .dataframe tbody tr th {\n",
       "        vertical-align: top;\n",
       "    }\n",
       "\n",
       "    .dataframe thead th {\n",
       "        text-align: right;\n",
       "    }\n",
       "</style>\n",
       "<table border=\"1\" class=\"dataframe\">\n",
       "  <thead>\n",
       "    <tr style=\"text-align: right;\">\n",
       "      <th></th>\n",
       "      <th>Predict No WNV</th>\n",
       "      <th>Predict WNV</th>\n",
       "    </tr>\n",
       "  </thead>\n",
       "  <tbody>\n",
       "    <tr>\n",
       "      <th>Actual No WNV</th>\n",
       "      <td>2322</td>\n",
       "      <td>124</td>\n",
       "    </tr>\n",
       "    <tr>\n",
       "      <th>Actual WNV</th>\n",
       "      <td>111</td>\n",
       "      <td>26</td>\n",
       "    </tr>\n",
       "  </tbody>\n",
       "</table>\n",
       "</div>"
      ],
      "text/plain": [
       "               Predict No WNV  Predict WNV\n",
       "Actual No WNV            2322          124\n",
       "Actual WNV                111           26"
      ]
     },
     "execution_count": 34,
     "metadata": {},
     "output_type": "execute_result"
    }
   ],
   "source": [
    "evaluate_model(pipe_dt_default,param_default)"
   ]
  },
  {
   "cell_type": "markdown",
   "metadata": {},
   "source": [
    "##### 2.3 Random Forest Classifier"
   ]
  },
  {
   "cell_type": "code",
   "execution_count": 35,
   "metadata": {},
   "outputs": [],
   "source": [
    "# Instantiate a random forest pipeline\n",
    "pipe_rf_default = Pipeline([('ss', StandardScaler()),\n",
    "                    ('dt', RandomForestClassifier(random_state=42))])\n",
    "\n",
    "param_default = {}"
   ]
  },
  {
   "cell_type": "code",
   "execution_count": 36,
   "metadata": {},
   "outputs": [
    {
     "name": "stdout",
     "output_type": "stream",
     "text": [
      "Best Score: 0.9965255253441716\n",
      "Best Params: {}\n",
      "Score of training data: 0.9939547923602593\n",
      "Score of validation data: 0.9314750290360047\n",
      "Precision score of the model: 0.12962962962962962\n",
      "Sensitivity score of the model: 0.051094890510948905\n",
      "              precision    recall  f1-score   support\n",
      "\n",
      "         0.0       0.95      0.98      0.96      2446\n",
      "         1.0       0.13      0.05      0.07       137\n",
      "\n",
      "    accuracy                           0.93      2583\n",
      "   macro avg       0.54      0.52      0.52      2583\n",
      "weighted avg       0.91      0.93      0.92      2583\n",
      "\n"
     ]
    },
    {
     "data": {
      "text/html": [
       "<div>\n",
       "<style scoped>\n",
       "    .dataframe tbody tr th:only-of-type {\n",
       "        vertical-align: middle;\n",
       "    }\n",
       "\n",
       "    .dataframe tbody tr th {\n",
       "        vertical-align: top;\n",
       "    }\n",
       "\n",
       "    .dataframe thead th {\n",
       "        text-align: right;\n",
       "    }\n",
       "</style>\n",
       "<table border=\"1\" class=\"dataframe\">\n",
       "  <thead>\n",
       "    <tr style=\"text-align: right;\">\n",
       "      <th></th>\n",
       "      <th>Predict No WNV</th>\n",
       "      <th>Predict WNV</th>\n",
       "    </tr>\n",
       "  </thead>\n",
       "  <tbody>\n",
       "    <tr>\n",
       "      <th>Actual No WNV</th>\n",
       "      <td>2399</td>\n",
       "      <td>47</td>\n",
       "    </tr>\n",
       "    <tr>\n",
       "      <th>Actual WNV</th>\n",
       "      <td>130</td>\n",
       "      <td>7</td>\n",
       "    </tr>\n",
       "  </tbody>\n",
       "</table>\n",
       "</div>"
      ],
      "text/plain": [
       "               Predict No WNV  Predict WNV\n",
       "Actual No WNV            2399           47\n",
       "Actual WNV                130            7"
      ]
     },
     "execution_count": 36,
     "metadata": {},
     "output_type": "execute_result"
    }
   ],
   "source": [
    "evaluate_model(pipe_rf_default,param_default)"
   ]
  },
  {
   "cell_type": "markdown",
   "metadata": {},
   "source": [
    "##### 2.4 AdaBoost"
   ]
  },
  {
   "cell_type": "code",
   "execution_count": 37,
   "metadata": {},
   "outputs": [],
   "source": [
    "#adaboost pipeline\n",
    "pipe_ab_default = Pipeline([('ss', StandardScaler()),\n",
    "                    ('ab', AdaBoostClassifier(random_state=42))])\n",
    "\n",
    "param_default = {}"
   ]
  },
  {
   "cell_type": "code",
   "execution_count": 38,
   "metadata": {},
   "outputs": [
    {
     "name": "stdout",
     "output_type": "stream",
     "text": [
      "Best Score: 0.9965255253441716\n",
      "Best Params: {}\n",
      "Score of training data: 0.9939547923602593\n",
      "Score of validation data: 0.9314750290360047\n",
      "Precision score of the model: 0.12962962962962962\n",
      "Sensitivity score of the model: 0.051094890510948905\n",
      "              precision    recall  f1-score   support\n",
      "\n",
      "         0.0       0.95      0.98      0.96      2446\n",
      "         1.0       0.13      0.05      0.07       137\n",
      "\n",
      "    accuracy                           0.93      2583\n",
      "   macro avg       0.54      0.52      0.52      2583\n",
      "weighted avg       0.91      0.93      0.92      2583\n",
      "\n"
     ]
    },
    {
     "data": {
      "text/html": [
       "<div>\n",
       "<style scoped>\n",
       "    .dataframe tbody tr th:only-of-type {\n",
       "        vertical-align: middle;\n",
       "    }\n",
       "\n",
       "    .dataframe tbody tr th {\n",
       "        vertical-align: top;\n",
       "    }\n",
       "\n",
       "    .dataframe thead th {\n",
       "        text-align: right;\n",
       "    }\n",
       "</style>\n",
       "<table border=\"1\" class=\"dataframe\">\n",
       "  <thead>\n",
       "    <tr style=\"text-align: right;\">\n",
       "      <th></th>\n",
       "      <th>Predict No WNV</th>\n",
       "      <th>Predict WNV</th>\n",
       "    </tr>\n",
       "  </thead>\n",
       "  <tbody>\n",
       "    <tr>\n",
       "      <th>Actual No WNV</th>\n",
       "      <td>2399</td>\n",
       "      <td>47</td>\n",
       "    </tr>\n",
       "    <tr>\n",
       "      <th>Actual WNV</th>\n",
       "      <td>130</td>\n",
       "      <td>7</td>\n",
       "    </tr>\n",
       "  </tbody>\n",
       "</table>\n",
       "</div>"
      ],
      "text/plain": [
       "               Predict No WNV  Predict WNV\n",
       "Actual No WNV            2399           47\n",
       "Actual WNV                130            7"
      ]
     },
     "execution_count": 38,
     "metadata": {},
     "output_type": "execute_result"
    }
   ],
   "source": [
    "evaluate_model(pipe_rf_default,param_default)"
   ]
  },
  {
   "cell_type": "markdown",
   "metadata": {},
   "source": [
    "##### 2.5 XGBoost"
   ]
  },
  {
   "cell_type": "code",
   "execution_count": 39,
   "metadata": {},
   "outputs": [],
   "source": [
    "#xgboost pipeline\n",
    "pipe_xg_default = Pipeline([('ss', StandardScaler()),\n",
    "                    ('xg', XGBClassifier(random_state=42))])\n",
    "\n",
    "param_default = {}"
   ]
  },
  {
   "cell_type": "code",
   "execution_count": 40,
   "metadata": {},
   "outputs": [
    {
     "name": "stdout",
     "output_type": "stream",
     "text": [
      "Best Score: 0.9908075837583951\n",
      "Best Params: {}\n",
      "Score of training data: 0.9781846854739793\n",
      "Score of validation data: 0.9372822299651568\n",
      "Precision score of the model: 0.23404255319148937\n",
      "Sensitivity score of the model: 0.08029197080291971\n",
      "              precision    recall  f1-score   support\n",
      "\n",
      "         0.0       0.95      0.99      0.97      2446\n",
      "         1.0       0.23      0.08      0.12       137\n",
      "\n",
      "    accuracy                           0.94      2583\n",
      "   macro avg       0.59      0.53      0.54      2583\n",
      "weighted avg       0.91      0.94      0.92      2583\n",
      "\n"
     ]
    },
    {
     "data": {
      "text/html": [
       "<div>\n",
       "<style scoped>\n",
       "    .dataframe tbody tr th:only-of-type {\n",
       "        vertical-align: middle;\n",
       "    }\n",
       "\n",
       "    .dataframe tbody tr th {\n",
       "        vertical-align: top;\n",
       "    }\n",
       "\n",
       "    .dataframe thead th {\n",
       "        text-align: right;\n",
       "    }\n",
       "</style>\n",
       "<table border=\"1\" class=\"dataframe\">\n",
       "  <thead>\n",
       "    <tr style=\"text-align: right;\">\n",
       "      <th></th>\n",
       "      <th>Predict No WNV</th>\n",
       "      <th>Predict WNV</th>\n",
       "    </tr>\n",
       "  </thead>\n",
       "  <tbody>\n",
       "    <tr>\n",
       "      <th>Actual No WNV</th>\n",
       "      <td>2410</td>\n",
       "      <td>36</td>\n",
       "    </tr>\n",
       "    <tr>\n",
       "      <th>Actual WNV</th>\n",
       "      <td>126</td>\n",
       "      <td>11</td>\n",
       "    </tr>\n",
       "  </tbody>\n",
       "</table>\n",
       "</div>"
      ],
      "text/plain": [
       "               Predict No WNV  Predict WNV\n",
       "Actual No WNV            2410           36\n",
       "Actual WNV                126           11"
      ]
     },
     "execution_count": 40,
     "metadata": {},
     "output_type": "execute_result"
    }
   ],
   "source": [
    "evaluate_model(pipe_xg_default,param_default)"
   ]
  },
  {
   "cell_type": "markdown",
   "metadata": {},
   "source": [
    "### 3. Models with Parameter Tuning"
   ]
  },
  {
   "cell_type": "markdown",
   "metadata": {},
   "source": [
    "##### 3.1 Logistic Regression"
   ]
  },
  {
   "cell_type": "markdown",
   "metadata": {},
   "source": [
    "**lbfgs solver**"
   ]
  },
  {
   "cell_type": "code",
   "execution_count": 41,
   "metadata": {},
   "outputs": [],
   "source": [
    "# Instantiate a logistic regression pipeline\n",
    "pipe_lr = Pipeline([('ss', StandardScaler(with_mean=True)),\n",
    "                    ('lr', LogisticRegression(random_state = 42))])\n",
    "\n",
    "param_lr = {'lr__penalty' : ['l2'],\n",
    "            'lr__C' : [1,2],\n",
    "            'lr__max_iter' : [1000,1500,2000]\n",
    "            }   "
   ]
  },
  {
   "cell_type": "code",
   "execution_count": 42,
   "metadata": {
    "scrolled": true
   },
   "outputs": [
    {
     "name": "stdout",
     "output_type": "stream",
     "text": [
      "Best Score: 0.8354101442128492\n",
      "Best Params: {'lr__C': 1, 'lr__max_iter': 1000, 'lr__penalty': 'l2'}\n",
      "Score of training data: 0.7806202908708604\n",
      "Score of validation data: 0.713511420828494\n",
      "Precision score of the model: 0.11395646606914213\n",
      "Sensitivity score of the model: 0.6496350364963503\n",
      "              precision    recall  f1-score   support\n",
      "\n",
      "         0.0       0.97      0.72      0.83      2446\n",
      "         1.0       0.11      0.65      0.19       137\n",
      "\n",
      "    accuracy                           0.71      2583\n",
      "   macro avg       0.54      0.68      0.51      2583\n",
      "weighted avg       0.93      0.71      0.79      2583\n",
      "\n"
     ]
    },
    {
     "data": {
      "text/html": [
       "<div>\n",
       "<style scoped>\n",
       "    .dataframe tbody tr th:only-of-type {\n",
       "        vertical-align: middle;\n",
       "    }\n",
       "\n",
       "    .dataframe tbody tr th {\n",
       "        vertical-align: top;\n",
       "    }\n",
       "\n",
       "    .dataframe thead th {\n",
       "        text-align: right;\n",
       "    }\n",
       "</style>\n",
       "<table border=\"1\" class=\"dataframe\">\n",
       "  <thead>\n",
       "    <tr style=\"text-align: right;\">\n",
       "      <th></th>\n",
       "      <th>Predict No WNV</th>\n",
       "      <th>Predict WNV</th>\n",
       "    </tr>\n",
       "  </thead>\n",
       "  <tbody>\n",
       "    <tr>\n",
       "      <th>Actual No WNV</th>\n",
       "      <td>1754</td>\n",
       "      <td>692</td>\n",
       "    </tr>\n",
       "    <tr>\n",
       "      <th>Actual WNV</th>\n",
       "      <td>48</td>\n",
       "      <td>89</td>\n",
       "    </tr>\n",
       "  </tbody>\n",
       "</table>\n",
       "</div>"
      ],
      "text/plain": [
       "               Predict No WNV  Predict WNV\n",
       "Actual No WNV            1754          692\n",
       "Actual WNV                 48           89"
      ]
     },
     "execution_count": 42,
     "metadata": {},
     "output_type": "execute_result"
    }
   ],
   "source": [
    "#run gridsearchCV\n",
    "evaluate_model(pipe_lr,param_lr)"
   ]
  },
  {
   "cell_type": "code",
   "execution_count": 43,
   "metadata": {},
   "outputs": [],
   "source": [
    "#fit all of the training data (including validation)\n",
    "pipe_best_lr = Pipeline([('ss', StandardScaler()),\n",
    "                         ('lr', LogisticRegression(C =  1, penalty = 'l2', max_iter = 1000, random_state = 42))])\n",
    "\n",
    "model = pipe_best_lr.fit(X_train,y_train)\n",
    "\n",
    "# Gets predictions from test_weather_dummies\n",
    "predictions = model.predict(test_weather_dummies)\n",
    "\n",
    "# Assign predicted values back to the column\n",
    "submission['WnvPresent'] = predictions\n",
    "\n",
    "# export file\n",
    "submission.to_csv('../datasets/submission_lr_lbfgs.csv',index=False)"
   ]
  },
  {
   "cell_type": "markdown",
   "metadata": {},
   "source": [
    "**Kaggle**<br>\n",
    "Private Score: 0.50719 <br>\n",
    "Public Score: 0.50228"
   ]
  },
  {
   "cell_type": "markdown",
   "metadata": {},
   "source": [
    "**liblinear solver**"
   ]
  },
  {
   "cell_type": "code",
   "execution_count": 44,
   "metadata": {},
   "outputs": [],
   "source": [
    "# Instantiate a logistic regression pipeline\n",
    "pipe_lr = Pipeline([('ss', StandardScaler(with_mean=True)),\n",
    "                    ('lr', LogisticRegression(random_state = 42,solver='liblinear'))])\n",
    "\n",
    "param_lr = {'lr__penalty' : ['l1', 'l2'],\n",
    "            'lr__C' : [1,2],\n",
    "            'lr__max_iter' : [1000,1500,2000]\n",
    "            }   "
   ]
  },
  {
   "cell_type": "code",
   "execution_count": 45,
   "metadata": {
    "scrolled": true
   },
   "outputs": [
    {
     "name": "stdout",
     "output_type": "stream",
     "text": [
      "Best Score: 0.8354155351731534\n",
      "Best Params: {'lr__C': 2, 'lr__max_iter': 1000, 'lr__penalty': 'l2'}\n",
      "Score of training data: 0.7801822323462415\n",
      "Score of validation data: 0.713511420828494\n",
      "Precision score of the model: 0.11395646606914213\n",
      "Sensitivity score of the model: 0.6496350364963503\n",
      "              precision    recall  f1-score   support\n",
      "\n",
      "         0.0       0.97      0.72      0.83      2446\n",
      "         1.0       0.11      0.65      0.19       137\n",
      "\n",
      "    accuracy                           0.71      2583\n",
      "   macro avg       0.54      0.68      0.51      2583\n",
      "weighted avg       0.93      0.71      0.79      2583\n",
      "\n"
     ]
    },
    {
     "data": {
      "text/html": [
       "<div>\n",
       "<style scoped>\n",
       "    .dataframe tbody tr th:only-of-type {\n",
       "        vertical-align: middle;\n",
       "    }\n",
       "\n",
       "    .dataframe tbody tr th {\n",
       "        vertical-align: top;\n",
       "    }\n",
       "\n",
       "    .dataframe thead th {\n",
       "        text-align: right;\n",
       "    }\n",
       "</style>\n",
       "<table border=\"1\" class=\"dataframe\">\n",
       "  <thead>\n",
       "    <tr style=\"text-align: right;\">\n",
       "      <th></th>\n",
       "      <th>Predict No WNV</th>\n",
       "      <th>Predict WNV</th>\n",
       "    </tr>\n",
       "  </thead>\n",
       "  <tbody>\n",
       "    <tr>\n",
       "      <th>Actual No WNV</th>\n",
       "      <td>1754</td>\n",
       "      <td>692</td>\n",
       "    </tr>\n",
       "    <tr>\n",
       "      <th>Actual WNV</th>\n",
       "      <td>48</td>\n",
       "      <td>89</td>\n",
       "    </tr>\n",
       "  </tbody>\n",
       "</table>\n",
       "</div>"
      ],
      "text/plain": [
       "               Predict No WNV  Predict WNV\n",
       "Actual No WNV            1754          692\n",
       "Actual WNV                 48           89"
      ]
     },
     "execution_count": 45,
     "metadata": {},
     "output_type": "execute_result"
    }
   ],
   "source": [
    "#run gridsearchCV\n",
    "evaluate_model(pipe_lr,param_lr)"
   ]
  },
  {
   "cell_type": "code",
   "execution_count": 46,
   "metadata": {},
   "outputs": [],
   "source": [
    "#fit all of the training data (including validation)\n",
    "pipe_best_lr = Pipeline([('ss', StandardScaler()),\n",
    "                         ('lr', LogisticRegression(solver='liblinear',C = 1, penalty = 'l1', max_iter = 1000, random_state = 42))])\n",
    "\n",
    "model = pipe_best_lr.fit(X_train,y_train)\n",
    "\n",
    "# Gets predictions from test_weather_dummies\n",
    "predictions = model.predict(test_weather_dummies)\n",
    "\n",
    "# Assign predicted values back to the column\n",
    "submission['WnvPresent'] = predictions\n",
    "\n",
    "# export file\n",
    "submission.to_csv('../datasets/submission_lr_liblinear.csv',index=False)"
   ]
  },
  {
   "cell_type": "markdown",
   "metadata": {},
   "source": [
    "**Kaggle**<br>\n",
    "Private Score: 0.50735<br>\n",
    "Public Score: 0.50228"
   ]
  },
  {
   "cell_type": "markdown",
   "metadata": {},
   "source": [
    "##### 3.2 Decision Tree Classifier"
   ]
  },
  {
   "cell_type": "code",
   "execution_count": 47,
   "metadata": {},
   "outputs": [],
   "source": [
    "# Instantiate a decision tree pipeline\n",
    "pipe_dt = Pipeline([('ss', StandardScaler()),\n",
    "                    ('dt', DecisionTreeClassifier(random_state=42))])\n",
    "\n",
    "param_dt = {'dt__max_depth': [5, 7, 10],\n",
    "            'dt__min_samples_split': [5, 10, 15, 20],\n",
    "            'dt__min_samples_leaf': [2, 3, 4]}"
   ]
  },
  {
   "cell_type": "code",
   "execution_count": 48,
   "metadata": {},
   "outputs": [
    {
     "name": "stdout",
     "output_type": "stream",
     "text": [
      "Best Score: 0.921443700084172\n",
      "Best Params: {'dt__max_depth': 10, 'dt__min_samples_leaf': 4, 'dt__min_samples_split': 5}\n",
      "Score of training data: 0.8812861398282811\n",
      "Score of validation data: 0.8219125048393341\n",
      "Precision score of the model: 0.1750503018108652\n",
      "Sensitivity score of the model: 0.635036496350365\n",
      "              precision    recall  f1-score   support\n",
      "\n",
      "         0.0       0.98      0.83      0.90      2446\n",
      "         1.0       0.18      0.64      0.27       137\n",
      "\n",
      "    accuracy                           0.82      2583\n",
      "   macro avg       0.58      0.73      0.59      2583\n",
      "weighted avg       0.93      0.82      0.87      2583\n",
      "\n"
     ]
    },
    {
     "data": {
      "text/html": [
       "<div>\n",
       "<style scoped>\n",
       "    .dataframe tbody tr th:only-of-type {\n",
       "        vertical-align: middle;\n",
       "    }\n",
       "\n",
       "    .dataframe tbody tr th {\n",
       "        vertical-align: top;\n",
       "    }\n",
       "\n",
       "    .dataframe thead th {\n",
       "        text-align: right;\n",
       "    }\n",
       "</style>\n",
       "<table border=\"1\" class=\"dataframe\">\n",
       "  <thead>\n",
       "    <tr style=\"text-align: right;\">\n",
       "      <th></th>\n",
       "      <th>Predict No WNV</th>\n",
       "      <th>Predict WNV</th>\n",
       "    </tr>\n",
       "  </thead>\n",
       "  <tbody>\n",
       "    <tr>\n",
       "      <th>Actual No WNV</th>\n",
       "      <td>2036</td>\n",
       "      <td>410</td>\n",
       "    </tr>\n",
       "    <tr>\n",
       "      <th>Actual WNV</th>\n",
       "      <td>50</td>\n",
       "      <td>87</td>\n",
       "    </tr>\n",
       "  </tbody>\n",
       "</table>\n",
       "</div>"
      ],
      "text/plain": [
       "               Predict No WNV  Predict WNV\n",
       "Actual No WNV            2036          410\n",
       "Actual WNV                 50           87"
      ]
     },
     "execution_count": 48,
     "metadata": {},
     "output_type": "execute_result"
    }
   ],
   "source": [
    "evaluate_model(pipe_dt,param_dt)"
   ]
  },
  {
   "cell_type": "code",
   "execution_count": 49,
   "metadata": {},
   "outputs": [],
   "source": [
    "#fit training data\n",
    "pipe_best_dt = Pipeline([('ss', StandardScaler()),\n",
    "                    ('dt', DecisionTreeClassifier(max_depth = 10, min_samples_leaf =  4, min_samples_split = 5, random_state=42))])\n",
    "\n",
    "model = pipe_best_dt.fit(X_train,y_train)\n",
    "\n",
    "# Gets predictions from test_weather\n",
    "predictions = model.predict(test_weather_dummies)\n",
    "\n",
    "# Assign predicted values back to the column\n",
    "submission['WnvPresent'] = predictions\n",
    "\n",
    "# export file\n",
    "submission.to_csv('../datasets/submission_dt.csv',index=False)"
   ]
  },
  {
   "cell_type": "markdown",
   "metadata": {},
   "source": [
    "**Kaggle**<br>\n",
    "Private Score: 0.55050<br>\n",
    "Public Score: 0.58735"
   ]
  },
  {
   "cell_type": "markdown",
   "metadata": {},
   "source": [
    "##### 3.3 Random Forest Classifier"
   ]
  },
  {
   "cell_type": "code",
   "execution_count": 50,
   "metadata": {},
   "outputs": [],
   "source": [
    "# Instantiate a random forest pipeline\n",
    "pipe_rf = Pipeline([('ss', StandardScaler()),\n",
    "                    ('rf', RandomForestClassifier(random_state=42))])\n",
    "\n",
    "param_rf = {'rf__n_estimators': [30, 50, 100],\n",
    "            'rf__max_depth': [15, 20],\n",
    "            'rf__min_samples_leaf': [10, 15],\n",
    "            'rf__max_leaf_nodes': [15, 20]}"
   ]
  },
  {
   "cell_type": "code",
   "execution_count": 51,
   "metadata": {},
   "outputs": [
    {
     "name": "stdout",
     "output_type": "stream",
     "text": [
      "Best Score: 0.9241825404395236\n",
      "Best Params: {'rf__max_depth': 15, 'rf__max_leaf_nodes': 20, 'rf__min_samples_leaf': 15, 'rf__n_estimators': 100}\n",
      "Score of training data: 0.8466795163833888\n",
      "Score of validation data: 0.7882307394502517\n",
      "Precision score of the model: 0.17252396166134185\n",
      "Sensitivity score of the model: 0.7883211678832117\n",
      "              precision    recall  f1-score   support\n",
      "\n",
      "         0.0       0.99      0.79      0.88      2446\n",
      "         1.0       0.17      0.79      0.28       137\n",
      "\n",
      "    accuracy                           0.79      2583\n",
      "   macro avg       0.58      0.79      0.58      2583\n",
      "weighted avg       0.94      0.79      0.84      2583\n",
      "\n"
     ]
    },
    {
     "data": {
      "text/html": [
       "<div>\n",
       "<style scoped>\n",
       "    .dataframe tbody tr th:only-of-type {\n",
       "        vertical-align: middle;\n",
       "    }\n",
       "\n",
       "    .dataframe tbody tr th {\n",
       "        vertical-align: top;\n",
       "    }\n",
       "\n",
       "    .dataframe thead th {\n",
       "        text-align: right;\n",
       "    }\n",
       "</style>\n",
       "<table border=\"1\" class=\"dataframe\">\n",
       "  <thead>\n",
       "    <tr style=\"text-align: right;\">\n",
       "      <th></th>\n",
       "      <th>Predict No WNV</th>\n",
       "      <th>Predict WNV</th>\n",
       "    </tr>\n",
       "  </thead>\n",
       "  <tbody>\n",
       "    <tr>\n",
       "      <th>Actual No WNV</th>\n",
       "      <td>1928</td>\n",
       "      <td>518</td>\n",
       "    </tr>\n",
       "    <tr>\n",
       "      <th>Actual WNV</th>\n",
       "      <td>29</td>\n",
       "      <td>108</td>\n",
       "    </tr>\n",
       "  </tbody>\n",
       "</table>\n",
       "</div>"
      ],
      "text/plain": [
       "               Predict No WNV  Predict WNV\n",
       "Actual No WNV            1928          518\n",
       "Actual WNV                 29          108"
      ]
     },
     "execution_count": 51,
     "metadata": {},
     "output_type": "execute_result"
    }
   ],
   "source": [
    "evaluate_model(pipe_rf,param_rf)"
   ]
  },
  {
   "cell_type": "code",
   "execution_count": 52,
   "metadata": {},
   "outputs": [],
   "source": [
    "#fit training data\n",
    "pipe_best_rf = Pipeline([('ss', StandardScaler()),\n",
    "                    ('rf', RandomForestClassifier(max_depth = 15, max_leaf_nodes = 20, min_samples_leaf = 15, n_estimators = 100, random_state=42))])\n",
    "\n",
    "model = pipe_best_rf.fit(X_train,y_train)\n",
    "\n",
    "# Gets predictions from test_weather\n",
    "predictions = model.predict(test_weather_dummies)\n",
    "\n",
    "# Assign predicted values back to the column\n",
    "submission['WnvPresent'] = predictions\n",
    "\n",
    "# export file\n",
    "submission.to_csv('../datasets/submission_rf.csv',index=False)"
   ]
  },
  {
   "cell_type": "markdown",
   "metadata": {},
   "source": [
    "**Kaggle**<br>\n",
    "Private Score: 0.57653<br>\n",
    "Public Score: 0.58826"
   ]
  },
  {
   "cell_type": "markdown",
   "metadata": {},
   "source": [
    "##### 3.4 AdaBoost"
   ]
  },
  {
   "cell_type": "code",
   "execution_count": 53,
   "metadata": {},
   "outputs": [],
   "source": [
    "#adaboost pipeline\n",
    "pipe_ab = Pipeline([('ss', StandardScaler()),\n",
    "                    ('ab', AdaBoostClassifier(random_state=42))])\n",
    "\n",
    "param_ab = {'ab__n_estimators': [50, 70, 100],\n",
    "           'ab__learning_rate': [0.7, 1.0]}"
   ]
  },
  {
   "cell_type": "code",
   "execution_count": 54,
   "metadata": {},
   "outputs": [
    {
     "name": "stdout",
     "output_type": "stream",
     "text": [
      "Best Score: 0.9682556967542038\n",
      "Best Params: {'ab__learning_rate': 1.0, 'ab__n_estimators': 100}\n",
      "Score of training data: 0.9106360609777466\n",
      "Score of validation data: 0.8741773132017034\n",
      "Precision score of the model: 0.2080745341614907\n",
      "Sensitivity score of the model: 0.48905109489051096\n",
      "              precision    recall  f1-score   support\n",
      "\n",
      "         0.0       0.97      0.90      0.93      2446\n",
      "         1.0       0.21      0.49      0.29       137\n",
      "\n",
      "    accuracy                           0.87      2583\n",
      "   macro avg       0.59      0.69      0.61      2583\n",
      "weighted avg       0.93      0.87      0.90      2583\n",
      "\n"
     ]
    },
    {
     "data": {
      "text/html": [
       "<div>\n",
       "<style scoped>\n",
       "    .dataframe tbody tr th:only-of-type {\n",
       "        vertical-align: middle;\n",
       "    }\n",
       "\n",
       "    .dataframe tbody tr th {\n",
       "        vertical-align: top;\n",
       "    }\n",
       "\n",
       "    .dataframe thead th {\n",
       "        text-align: right;\n",
       "    }\n",
       "</style>\n",
       "<table border=\"1\" class=\"dataframe\">\n",
       "  <thead>\n",
       "    <tr style=\"text-align: right;\">\n",
       "      <th></th>\n",
       "      <th>Predict No WNV</th>\n",
       "      <th>Predict WNV</th>\n",
       "    </tr>\n",
       "  </thead>\n",
       "  <tbody>\n",
       "    <tr>\n",
       "      <th>Actual No WNV</th>\n",
       "      <td>2191</td>\n",
       "      <td>255</td>\n",
       "    </tr>\n",
       "    <tr>\n",
       "      <th>Actual WNV</th>\n",
       "      <td>70</td>\n",
       "      <td>67</td>\n",
       "    </tr>\n",
       "  </tbody>\n",
       "</table>\n",
       "</div>"
      ],
      "text/plain": [
       "               Predict No WNV  Predict WNV\n",
       "Actual No WNV            2191          255\n",
       "Actual WNV                 70           67"
      ]
     },
     "execution_count": 54,
     "metadata": {},
     "output_type": "execute_result"
    }
   ],
   "source": [
    "evaluate_model(pipe_ab,param_ab)"
   ]
  },
  {
   "cell_type": "code",
   "execution_count": 55,
   "metadata": {},
   "outputs": [],
   "source": [
    "#fit training data \n",
    "pipe_best_ab = Pipeline([('ss', StandardScaler()),\n",
    "                    ('ab', AdaBoostClassifier(learning_rate = 1.0, n_estimators = 100, random_state=42))])\n",
    "\n",
    "model = pipe_best_ab.fit(X_train,y_train)\n",
    "\n",
    "# Gets predictions from test_weather\n",
    "predictions = model.predict(test_weather_dummies)\n",
    "\n",
    "# Assign predicted values back to the column\n",
    "submission['WnvPresent'] = predictions\n",
    "\n",
    "# export file\n",
    "submission.to_csv('../datasets/submission_ab.csv',index=False)"
   ]
  },
  {
   "cell_type": "markdown",
   "metadata": {},
   "source": [
    "**Kaggle**<br>\n",
    "Private Score: 0.54633<br>\n",
    "Public Score: 0.54817"
   ]
  },
  {
   "cell_type": "markdown",
   "metadata": {},
   "source": [
    "##### 3.5 XGBoost"
   ]
  },
  {
   "cell_type": "code",
   "execution_count": 56,
   "metadata": {},
   "outputs": [],
   "source": [
    "#xgboost pipeline\n",
    "pipe_xg = Pipeline([('ss', StandardScaler()),\n",
    "                    ('xg', XGBClassifier(random_state=42))])\n",
    "\n",
    "param_xg = {'xg__eval_metric' : ['auc'],\n",
    "            'xg__scale_pos_weight' : [18],\n",
    "            'xg__subsample' : [0.5, 0.8],\n",
    "            'xg__eta' : [0.05, 0.1, 0.2]}"
   ]
  },
  {
   "cell_type": "code",
   "execution_count": 57,
   "metadata": {
    "scrolled": false
   },
   "outputs": [
    {
     "name": "stdout",
     "output_type": "stream",
     "text": [
      "Best Score: 0.9890168225013817\n",
      "Best Params: {'xg__eta': 0.2, 'xg__eval_metric': 'auc', 'xg__scale_pos_weight': 18, 'xg__subsample': 0.8}\n",
      "Score of training data: 0.8966181881899422\n",
      "Score of validation data: 0.7642276422764228\n",
      "Precision score of the model: 0.15395894428152493\n",
      "Sensitivity score of the model: 0.7664233576642335\n",
      "              precision    recall  f1-score   support\n",
      "\n",
      "         0.0       0.98      0.76      0.86      2446\n",
      "         1.0       0.15      0.77      0.26       137\n",
      "\n",
      "    accuracy                           0.76      2583\n",
      "   macro avg       0.57      0.77      0.56      2583\n",
      "weighted avg       0.94      0.76      0.83      2583\n",
      "\n"
     ]
    },
    {
     "data": {
      "text/html": [
       "<div>\n",
       "<style scoped>\n",
       "    .dataframe tbody tr th:only-of-type {\n",
       "        vertical-align: middle;\n",
       "    }\n",
       "\n",
       "    .dataframe tbody tr th {\n",
       "        vertical-align: top;\n",
       "    }\n",
       "\n",
       "    .dataframe thead th {\n",
       "        text-align: right;\n",
       "    }\n",
       "</style>\n",
       "<table border=\"1\" class=\"dataframe\">\n",
       "  <thead>\n",
       "    <tr style=\"text-align: right;\">\n",
       "      <th></th>\n",
       "      <th>Predict No WNV</th>\n",
       "      <th>Predict WNV</th>\n",
       "    </tr>\n",
       "  </thead>\n",
       "  <tbody>\n",
       "    <tr>\n",
       "      <th>Actual No WNV</th>\n",
       "      <td>1869</td>\n",
       "      <td>577</td>\n",
       "    </tr>\n",
       "    <tr>\n",
       "      <th>Actual WNV</th>\n",
       "      <td>32</td>\n",
       "      <td>105</td>\n",
       "    </tr>\n",
       "  </tbody>\n",
       "</table>\n",
       "</div>"
      ],
      "text/plain": [
       "               Predict No WNV  Predict WNV\n",
       "Actual No WNV            1869          577\n",
       "Actual WNV                 32          105"
      ]
     },
     "execution_count": 57,
     "metadata": {},
     "output_type": "execute_result"
    }
   ],
   "source": [
    "evaluate_model(pipe_xg,param_xg)"
   ]
  },
  {
   "cell_type": "code",
   "execution_count": 58,
   "metadata": {},
   "outputs": [],
   "source": [
    "#fit training data\n",
    "pipe_best_xg = Pipeline([('ss', StandardScaler()),\n",
    "                         ('xg', XGBClassifier(eval_metric = 'auc', \n",
    "                                         scale_pos_weight = 18,\n",
    "                                         eta = 0.05,  \n",
    "                                         subsample = 0.8, \n",
    "                                         random_state=42))])\n",
    "\n",
    "model = pipe_best_xg.fit(X_train,y_train)\n",
    "\n",
    "# Gets predictions from test_weather\n",
    "predictions = model.predict(test_weather_dummies)\n",
    "\n",
    "# Assign predicted values back to the column\n",
    "submission['WnvPresent'] = predictions\n",
    "\n",
    "# export file\n",
    "submission.to_csv('../datasets/submission_xg.csv',index=False)"
   ]
  },
  {
   "cell_type": "markdown",
   "metadata": {},
   "source": [
    "**Kaggle**<br>\n",
    "Private Score: 0.68208<br>\n",
    "Public Score: 0.69746"
   ]
  },
  {
   "cell_type": "markdown",
   "metadata": {},
   "source": [
    "**Summary of Models with Best Parameters and Kaggle Scores**\n"
   ]
  },
  {
   "cell_type": "markdown",
   "metadata": {},
   "source": [
    "| Models | Best Params | Kaggle Prvate Score |  Kaggle Public Score |\n",
    "|--------|-------------|---------------------|----------------------| \n",
    "|  Logistic Regression (lbfgs) | C = 1, Penalty = l2, max_iter = 1000 | 0.57190 | 0.50228 |\n",
    "|  Logistic Regression (liblinear) | C = 1, Penalty = l1, max_iter = 1000 | 0.57190 | 0.50228 |\n",
    "|  Decision Tree Classifier | max_depth = 10, min_samples = 4, min_samples_split = 20 | 0.55050 | 0.58735 |\n",
    "|  Random Forest Classifier | max_depth = 20, max_leaf_nodes = 20, min_samples_leaf = 10, n_estimator = 100 | 0.57653 | 0.58826 |\n",
    "|  AdaBoost | learning_rate = 1.0, n_estimators = 100 | 0.54633 | 0.54817 |\n",
    "|  XGBoost | eval_metric = 'auc', scale_pos_weight = 18, subsample = 0.5, eta = 0.2 | 0.68208 | 0.69746 |"
   ]
  },
  {
   "cell_type": "markdown",
   "metadata": {},
   "source": [
    "### 4. Model Evaluation"
   ]
  },
  {
   "cell_type": "markdown",
   "metadata": {},
   "source": [
    "<font size = 3 color = \"crimson\"> \n",
    "* Consider using Column Transformer \n",
    "* You may check if re-fit= True for Grid search, hence you do not need to fit again after CV. you can use model.bestestimator_ to .predict</font>"
   ]
  },
  {
   "cell_type": "markdown",
   "metadata": {},
   "source": [
    "Summary of auc-roc and kaggle scores"
   ]
  },
  {
   "cell_type": "code",
   "execution_count": 59,
   "metadata": {},
   "outputs": [],
   "source": [
    "pipe_best_xg = Pipeline([('ss', StandardScaler()),\n",
    "                         ('xg', XGBClassifier(eval_metric = 'auc', \n",
    "                                         scale_pos_weight = 18,\n",
    "                                         eta = 0.05,  \n",
    "                                         subsample = 0.8, \n",
    "                                         random_state=42))])\n",
    "\n",
    "model = pipe_best_xg.fit(X_train,y_train)\n",
    "\n",
    "# Gets predictions from test_weather_dummies\n",
    "predictions = model.predict(test_weather_dummies)"
   ]
  },
  {
   "cell_type": "code",
   "execution_count": 60,
   "metadata": {},
   "outputs": [],
   "source": [
    "# feature names used in our model\n",
    "features = list(test_weather_dummies.columns)\n",
    "\n",
    "# feature importance from Logistic Regression\n",
    "importance = model['xg'].feature_importances_\n",
    "\n",
    "# Combining them into a pd.DataFrame\n",
    "features_imps = pd.DataFrame(importance, index = features).rename(columns = {0:'importance'})"
   ]
  },
  {
   "cell_type": "code",
   "execution_count": 61,
   "metadata": {
    "scrolled": false
   },
   "outputs": [
    {
     "data": {
      "text/html": [
       "<div>\n",
       "<style scoped>\n",
       "    .dataframe tbody tr th:only-of-type {\n",
       "        vertical-align: middle;\n",
       "    }\n",
       "\n",
       "    .dataframe tbody tr th {\n",
       "        vertical-align: top;\n",
       "    }\n",
       "\n",
       "    .dataframe thead th {\n",
       "        text-align: right;\n",
       "    }\n",
       "</style>\n",
       "<table border=\"1\" class=\"dataframe\">\n",
       "  <thead>\n",
       "    <tr style=\"text-align: right;\">\n",
       "      <th></th>\n",
       "      <th>importance</th>\n",
       "    </tr>\n",
       "  </thead>\n",
       "  <tbody>\n",
       "    <tr>\n",
       "      <th>Month</th>\n",
       "      <td>0.036464</td>\n",
       "    </tr>\n",
       "    <tr>\n",
       "      <th>Trap_T095</th>\n",
       "      <td>0.028762</td>\n",
       "    </tr>\n",
       "    <tr>\n",
       "      <th>Trap_T225</th>\n",
       "      <td>0.018460</td>\n",
       "    </tr>\n",
       "    <tr>\n",
       "      <th>Species_CULEX TERRITANS</th>\n",
       "      <td>0.017817</td>\n",
       "    </tr>\n",
       "    <tr>\n",
       "      <th>Date</th>\n",
       "      <td>0.017134</td>\n",
       "    </tr>\n",
       "    <tr>\n",
       "      <th>Trap_T094</th>\n",
       "      <td>0.016628</td>\n",
       "    </tr>\n",
       "    <tr>\n",
       "      <th>Trap_T158</th>\n",
       "      <td>0.015939</td>\n",
       "    </tr>\n",
       "    <tr>\n",
       "      <th>Trap_T080</th>\n",
       "      <td>0.015407</td>\n",
       "    </tr>\n",
       "    <tr>\n",
       "      <th>Trap_T063</th>\n",
       "      <td>0.015346</td>\n",
       "    </tr>\n",
       "    <tr>\n",
       "      <th>Trap_T102</th>\n",
       "      <td>0.015210</td>\n",
       "    </tr>\n",
       "    <tr>\n",
       "      <th>Trap_T151</th>\n",
       "      <td>0.015039</td>\n",
       "    </tr>\n",
       "    <tr>\n",
       "      <th>Trap_T152</th>\n",
       "      <td>0.015006</td>\n",
       "    </tr>\n",
       "    <tr>\n",
       "      <th>Trap_T209</th>\n",
       "      <td>0.014779</td>\n",
       "    </tr>\n",
       "    <tr>\n",
       "      <th>Trap_T128</th>\n",
       "      <td>0.014773</td>\n",
       "    </tr>\n",
       "    <tr>\n",
       "      <th>Species_CULEX PIPIENS</th>\n",
       "      <td>0.014514</td>\n",
       "    </tr>\n",
       "  </tbody>\n",
       "</table>\n",
       "</div>"
      ],
      "text/plain": [
       "                         importance\n",
       "Month                      0.036464\n",
       "Trap_T095                  0.028762\n",
       "Trap_T225                  0.018460\n",
       "Species_CULEX TERRITANS    0.017817\n",
       "Date                       0.017134\n",
       "Trap_T094                  0.016628\n",
       "Trap_T158                  0.015939\n",
       "Trap_T080                  0.015407\n",
       "Trap_T063                  0.015346\n",
       "Trap_T102                  0.015210\n",
       "Trap_T151                  0.015039\n",
       "Trap_T152                  0.015006\n",
       "Trap_T209                  0.014779\n",
       "Trap_T128                  0.014773\n",
       "Species_CULEX PIPIENS      0.014514"
      ]
     },
     "execution_count": 61,
     "metadata": {},
     "output_type": "execute_result"
    }
   ],
   "source": [
    "features_imps.sort_values(by='importance',ascending=False).head(15)"
   ]
  },
  {
   "cell_type": "code",
   "execution_count": 62,
   "metadata": {},
   "outputs": [],
   "source": [
    "ss = StandardScaler()\n",
    "xgb = XGBClassifier(eval_metric = 'auc', \n",
    "                    scale_pos_weight = 18,\n",
    "                    eta = 0.05,  \n",
    "                    subsample = 0.8, \n",
    "                    random_state=42)\n"
   ]
  },
  {
   "cell_type": "code",
   "execution_count": 63,
   "metadata": {},
   "outputs": [
    {
     "data": {
      "text/plain": [
       "XGBClassifier(base_score=0.5, booster='gbtree', colsample_bylevel=1,\n",
       "              colsample_bynode=1, colsample_bytree=1, eta=0.05,\n",
       "              eval_metric='auc', gamma=0, gpu_id=-1, importance_type='gain',\n",
       "              interaction_constraints='', learning_rate=0.0500000007,\n",
       "              max_delta_step=0, max_depth=6, min_child_weight=1, missing=nan,\n",
       "              monotone_constraints='()', n_estimators=100, n_jobs=0,\n",
       "              num_parallel_tree=1, objective='binary:logistic', random_state=42,\n",
       "              reg_alpha=0, reg_lambda=1, scale_pos_weight=18, subsample=0.8,\n",
       "              tree_method='exact', validate_parameters=1, verbosity=None)"
      ]
     },
     "execution_count": 63,
     "metadata": {},
     "output_type": "execute_result"
    }
   ],
   "source": [
    "X_train_sc = ss.fit_transform(X_train)\n",
    "X_test_sc = ss.transform(X_test)\n",
    "\n",
    "xgb.fit(X_train_sc,y_train)"
   ]
  },
  {
   "cell_type": "code",
   "execution_count": 64,
   "metadata": {},
   "outputs": [],
   "source": [
    "xgb.predict_proba(X_test_sc)[:5]\n",
    "pred_proba = [i[1] for i in xgb.predict_proba(X_test_sc)]\n",
    "\n",
    "pred_df = pd.DataFrame({'true_values': y_test,\n",
    "                        'pred_probs':pred_proba})"
   ]
  },
  {
   "cell_type": "code",
   "execution_count": 65,
   "metadata": {},
   "outputs": [
    {
     "data": {
      "text/html": [
       "<div>\n",
       "<style scoped>\n",
       "    .dataframe tbody tr th:only-of-type {\n",
       "        vertical-align: middle;\n",
       "    }\n",
       "\n",
       "    .dataframe tbody tr th {\n",
       "        vertical-align: top;\n",
       "    }\n",
       "\n",
       "    .dataframe thead th {\n",
       "        text-align: right;\n",
       "    }\n",
       "</style>\n",
       "<table border=\"1\" class=\"dataframe\">\n",
       "  <thead>\n",
       "    <tr style=\"text-align: right;\">\n",
       "      <th></th>\n",
       "      <th>true_values</th>\n",
       "      <th>pred_probs</th>\n",
       "    </tr>\n",
       "  </thead>\n",
       "  <tbody>\n",
       "    <tr>\n",
       "      <th>5605</th>\n",
       "      <td>0.0</td>\n",
       "      <td>0.589957</td>\n",
       "    </tr>\n",
       "    <tr>\n",
       "      <th>1013</th>\n",
       "      <td>0.0</td>\n",
       "      <td>0.798054</td>\n",
       "    </tr>\n",
       "    <tr>\n",
       "      <th>7563</th>\n",
       "      <td>0.0</td>\n",
       "      <td>0.962583</td>\n",
       "    </tr>\n",
       "    <tr>\n",
       "      <th>7885</th>\n",
       "      <td>0.0</td>\n",
       "      <td>0.802086</td>\n",
       "    </tr>\n",
       "    <tr>\n",
       "      <th>4423</th>\n",
       "      <td>0.0</td>\n",
       "      <td>0.114359</td>\n",
       "    </tr>\n",
       "  </tbody>\n",
       "</table>\n",
       "</div>"
      ],
      "text/plain": [
       "      true_values  pred_probs\n",
       "5605          0.0    0.589957\n",
       "1013          0.0    0.798054\n",
       "7563          0.0    0.962583\n",
       "7885          0.0    0.802086\n",
       "4423          0.0    0.114359"
      ]
     },
     "execution_count": 65,
     "metadata": {},
     "output_type": "execute_result"
    }
   ],
   "source": [
    "pred_df.head()"
   ]
  },
  {
   "cell_type": "code",
   "execution_count": 66,
   "metadata": {},
   "outputs": [
    {
     "data": {
      "text/plain": [
       "0.8277"
      ]
     },
     "execution_count": 66,
     "metadata": {},
     "output_type": "execute_result"
    }
   ],
   "source": [
    "#get the roc_auc_score\n",
    "roc_auc= roc_auc_score(pred_df['true_values'], pred_df['pred_probs'])\n",
    "round(roc_auc,4)"
   ]
  },
  {
   "cell_type": "code",
   "execution_count": 67,
   "metadata": {
    "scrolled": false
   },
   "outputs": [
    {
     "data": {
      "image/png": "[encoded data removed]",
      "text/plain": [
       "<Figure size 720x504 with 1 Axes>"
      ]
     },
     "metadata": {
      "needs_background": "light"
     },
     "output_type": "display_data"
    }
   ],
   "source": [
    "# Create figure.\n",
    "plt.figure(figsize = (10,7))\n",
    "\n",
    "# Create threshold values. (Dashed red line in image.)\n",
    "thresholds = np.linspace(0, 1, 200)\n",
    "\n",
    "# Define function to calculate sensitivity. (True positive rate.)\n",
    "def TPR(df, true_col, pred_prob_col, threshold):\n",
    "    true_positive = df[(df[true_col] == 1) & (df[pred_prob_col] >= threshold)].shape[0]\n",
    "    false_negative = df[(df[true_col] == 1) & (df[pred_prob_col] < threshold)].shape[0]\n",
    "    return true_positive / (true_positive + false_negative)\n",
    "    \n",
    "\n",
    "# Define function to calculate 1 - specificity. (False positive rate.)\n",
    "def FPR(df, true_col, pred_prob_col, threshold):\n",
    "    true_negative = df[(df[true_col] == 0) & (df[pred_prob_col] <= threshold)].shape[0]\n",
    "    false_positive = df[(df[true_col] == 0) & (df[pred_prob_col] > threshold)].shape[0]\n",
    "    return 1 - (true_negative / (true_negative + false_positive))\n",
    "    \n",
    "# Calculate sensitivity & 1-specificity for each threshold between 0 and 1.\n",
    "tpr_values = [TPR(pred_df, 'true_values', 'pred_probs', prob) for prob in thresholds]\n",
    "fpr_values = [FPR(pred_df, 'true_values', 'pred_probs', prob) for prob in thresholds]\n",
    "\n",
    "# Plot ROC curve.\n",
    "plt.plot(fpr_values, # False Positive Rate on X-axis\n",
    "         tpr_values, # True Positive Rate on Y-axis\n",
    "         label='ROC Curve')\n",
    "\n",
    "# Plot baseline. (Perfect overlap between the two populations.)\n",
    "plt.plot(np.linspace(0, 1, 200),\n",
    "         np.linspace(0, 1, 200),\n",
    "         label='baseline',\n",
    "         linestyle='--')\n",
    "\n",
    "# Label axes.\n",
    "plt.title(f'ROC Curve with AUC = {round(roc_auc_score(pred_df[\"true_values\"], pred_df[\"pred_probs\"]),3)}', fontsize=22)\n",
    "plt.ylabel('Sensitivity', fontsize=18)\n",
    "plt.xlabel('1 - Specificity', fontsize=18)\n",
    "\n",
    "# Create legend.\n",
    "plt.legend(fontsize=16);"
   ]
  },
  {
   "cell_type": "markdown",
   "metadata": {},
   "source": [
    "### 5. Cost Benefit Analysis"
   ]
  },
  {
   "cell_type": "markdown",
   "metadata": {},
   "source": [
    "#### Medical Expenses & Lost Productivity:\n",
    "- Research has estimated that the total cumulative costs of reported WNV hospitalized cases (including healthcare and lost productivity) from 1999 through 2012 to be 778 million (95% confidence interval 673 million–1.01 billion) by extrapolating from a small cohort to national surveillance data.\n",
    "[Source](http://www.ajtmh.org/content/journals/10.4269/ajtmh.13-0206)\n",
    "\n",
    "\n",
    "- [Medical Costs for 163 cases of West Nile Virus in Sacramento County, California, USA, 2005](https://www.ncbi.nlm.nih.gov/pmc/articles/PMC3322011/):\n",
    "    * A total of 117 (71.8%) were diagnosed as WNF and 46 (28.2%) as WNND; 1 (0.6%) case was fatal. 46 (28.2%) patients were >60 years of age.\n",
    "\n",
    "    * Total Cost: 2.28 million for medical treatment and patients’ productivity loss for both West Nile fever and West Nile neuroinvasive disease.\n",
    "\n",
    "        * Treating West Nile fever patient (WNF)\n",
    "            * Diagnostic Cost \\\\$167 for physician visit and \\\\$135 for diagnostic test. \n",
    "            * Productivity loss cost \\\\$955 for each patient <60 years of age and \\\\$625 for each patient >60 years of age. \n",
    "\n",
    "        * Treating West Nile neuroinvasive disease (WNND):\n",
    "            * Treatment costs \\\\$33,143 per inpatient and \\\\$6,317 per outpatient. (Average \\\\$19,730)\n",
    "            * Nursing home cost \\\\$18,097. \n",
    "            * Productivity loss during symptomatic WNND cost $10,800 per patient <60 years of age and \\\\$7,500 per patient >60 years of age\n",
    "\n",
    "\n",
    "- From 2005 to 2016, [906 cases of West Nile Virus were reported from Chicago.](https://journals.plos.org/plosone/article?id=10.1371/journal.pone.0227160) \n",
    "    * Assuming a same proportion of WNF and WNND cases and medical costs to Sacramento:\n",
    "        * 650 cases would be WNF\n",
    "            * 467 cases < 60 years old = (\\\\$1257 * 467 = \\\\$587k)\n",
    "            * 183 cases > 60 years old = (\\\\$927 * 183 = \\\\$170k)\n",
    "        * 256 cases would be WNND.\n",
    "            * 185 cases < 60 years old = (\\\\$48627 * 185 = ~\\\\$9 million)  \n",
    "            * 71 cases > 60 years old = (\\\\$45327 * 71 = ~\\\\$3.22 million)\n",
    "    * Estimated medical cost from 2005 - 2016 = \\\\$12.977 million.\n",
    "\n",
    "##### Benefit: Medical Expenses & Lost Productivity\n",
    "- In Chicago, [there were 49 cases in 2016](https://www.chicago.gov/content/dam/city/depts/cdph/food_env/general/West_Nile_Virus/2016_CDPHArbovirusreport_Final_3162017.pdf), which would have cost **\\\\$702k** (49 / 906 * \\\\$12.977 million) in medical expenses and lost productivity. Should there be no spraying done, the number of cases may have been higher. \n",
    "\n",
    "\n",
    "##### Cost: Spraying\n",
    "- According to Chicago Department of Public Health, spraying is done using trucks that dispenses an ultra-low-volume spray. [The chemical used is Zenivex E4, applied at a rate of 1.5 fluid ounces per acre.](https://chicago.cbslocal.com/2017/08/30/spray-mosquitoes-far-south-side-west-nile-prevention/)\n",
    "\n",
    "\n",
    "- Zenivex E4 - [128 fluid ounces costs \\\\$78.85 (before rebates)](http://www.centralmosquitocontrol.com/-/media/files/centralmosquitocontrol-na/us/resources-lit%20files/2015%20zenivex%20pricing%20brochure.pdf). Costs \\\\$0.924 per acre if applied at 1.5 fluid ounces.\n",
    "\n",
    "\n",
    "- Chicago city: 606.1 km² or 148510 acres. \n",
    "    * Worst case scenario, cost of spraying the whole Chicago city (excluding costs such as manpower, overtime, etc.) = **\\\\$137k**\n",
    "    \n",
    "\n",
    "**Medical Expenses & Lost Productivity costs incurred is 5 times more expensive than spraying. There are also other costs such as quality of life, tourism and entertainment which have not been accounted for.**\n"
   ]
  },
  {
   "cell_type": "markdown",
   "metadata": {},
   "source": [
    "### 6. Conclusions & Recommendations"
   ]
  },
  {
   "cell_type": "markdown",
   "metadata": {},
   "source": [
    "Our final model, XGBoost (coupled with SMOTE) achieved a public Kaggle score of 0.697. \n",
    "\n",
    "#### Key Findings:\n",
    "\n",
    "1. Mosquito numbers follow the natural onset of the seasons and the data collection for mosquitoes in traps begin in May and stop around October. The presence of the WNV in mosquitoes in those traps usually peak in August and taper off, decreasing to zero as mosquitoes die off or go into hibernation. \n",
    "\n",
    "2. The spray operations conducted by the City of Chicago and the Chicago Department of Public Health (CDPH) in 2001 and 2013 did not have a noticeable effect on the number of mosquitoes after as the last sprays for 2011 and 2013 coincided with the end of the mosquito season and did not reduce the mosquitoes population significantly during the peak months of July and August.\n",
    "\n",
    "3. The spray operations in 2011 and 2013 also missed the trap locations where the most cases of WNV positive mosquitoes were found(the only exception being Trap 002). \n",
    "\n",
    "4. There is a strong correlation between temperature & precipitation and the number of WNV positive mosquitoes found in traps. Most WNV positive cases have been found when the average temperature was between 71F - 80F, and days where the total precipitation was zero or close to zero. This observation is also supported by this study that looked at the use of temperature to improve [West Nile virus forecasts](https://journals.plos.org/ploscompbiol/article?id=10.1371/journal.pcbi.1006047 \"West Nile virus forecasts\"). \n",
    "\n",
    "#### Recommendations\n",
    "1. Better spraying regime that is informed by the weather and trap data if CDPH decides to proceed with spraying operations. The CDPH should look into more granular block/street meteorological data to get more accurate locations to target their spraying operations. This should provide a more reliable feedback loop to assess if spraying operations in a particular neighborhood has been effective in addressing the area's adult mosquito population.\n",
    "\n",
    "\n",
    "2. Concentrate efforts to combat [WNV](https://ij-healthgeographics.biomedcentral.com/articles/10.1186/1476-072X-6-10 \"WNV\") prone areas in Chicago which tend to fall into the two categories outlined in the article above by educating the community on mosquito preventation measures (especially those who live in housing built before 1960s and are close to sea level) and empowering vector control Mosquito Abatement Districts. \n",
    "        Inner Suburbs, fairly high income, most housing built in 1940s and 1960s.\n",
    "        City, Low Income, young, some housing built in 1940s and 1960s\n",
    "        \n",
    "3. More public awareness campaigns: Urging people to minimize exposure by dumping any standing water outside every week, and wearing mosquito repellent and protective clothing. Other steps include changing bird baths weekly, stocking ponds with minnows or goldfish that eat mosquito larvae, and using Bti, a naturally occurring bacterium, sold in stores, that kills mosquito larvae in water.\n",
    "\n",
    "\n",
    "\n",
    "#### Limitations & Further Research\n",
    "1. The dataset was imbalanced and we had to generate synthetic samples to balance the dataset. \n",
    "\n",
    "2. Spraying data was limited to only 2 years with no indication of dosage or other information of the spraying regime. \n",
    "\n",
    "3. Due to computational power limitations, we had only tuned limited combinations of hyperparameters, and may have missed some other combinations. \n",
    "\n",
    "4. Other mosquito control efforts have not been accounted for in our model to determine the actual effectiveness of spraying. \n",
    "\n",
    "5. For a more complete analysis of economical costs, data in terms of healthcare expenses and mosquito control efforts related to WNV should be made publicly available."
   ]
  }
 ],
 "metadata": {
  "kernelspec": {
   "display_name": "Python 3",
   "language": "python",
   "name": "python3"
  },
  "language_info": {
   "codemirror_mode": {
    "name": "ipython",
    "version": 3
   },
   "file_extension": ".py",
   "mimetype": "text/x-python",
   "name": "python",
   "nbconvert_exporter": "python",
   "pygments_lexer": "ipython3",
   "version": "3.7.7"
  }
 },
 "nbformat": 4,
 "nbformat_minor": 2
}
