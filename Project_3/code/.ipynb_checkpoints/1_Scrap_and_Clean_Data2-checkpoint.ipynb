{
 "cells": [
  {
   "cell_type": "code",
   "execution_count": 1,
   "metadata": {},
   "outputs": [],
   "source": [
    "import time\n",
    "import pandas as pd\n",
    "import requests\n",
    "from numpy.random import randint\n",
    "import numpy as np\n",
    "#import emoji\n",
    "import re\n",
    "\n",
    "from bs4 import BeautifulSoup \n",
    "import nltk\n",
    "from nltk.corpus import stopwords\n",
    "from nltk.stem import WordNetLemmatizer"
   ]
  },
  {
   "cell_type": "markdown",
   "metadata": {},
   "source": []
  },
  {
   "cell_type": "code",
   "execution_count": 75,
   "metadata": {},
   "outputs": [],
   "source": [
    "# Declare urls and header variables\n",
    "url_gold = 'https://www.reddit.com/r/Gold.json'\n",
    "url_silver = 'https://www.reddit.com/r/Silverbugs.json'\n",
    "\n",
    "headers = {'User-agent':'my_agent007'}"
   ]
  },
  {
   "cell_type": "markdown",
   "metadata": {},
   "source": [
    "### Scraping from Subreddit:Gold"
   ]
  },
  {
   "cell_type": "code",
   "execution_count": 76,
   "metadata": {},
   "outputs": [],
   "source": [
    "# This cell is commented-out\n",
    "# Scraping takes time and the data is not the same when replicated\n",
    "# Intent here is to show the code in getting the data\n",
    "gld_posts = []\n",
    "after = t3_g5nzns\n",
    " \n",
    "for a in range(150):\n",
    "    if after == None:\n",
    "        current_url = url_gold\n",
    "    else:\n",
    "        current_url = url_gold + '?after=' + after\n",
    "    res = requests.get(current_url, headers=headers)\n",
    "    \n",
    "    if res.status_code != 200:\n",
    "        print('Status error', res.status_code)\n",
    "        break\n",
    "    \n",
    "    current_dict = res.json()\n",
    "    current_posts = [p['data'] for p in current_dict['data']['children']]\n",
    "    gld_posts.extend(current_posts)\n",
    "    after = current_dict['data']['after']\n",
    " \n",
    "    #  random sleep time\n",
    "    time.sleep(randint(1,3,1))"
   ]
  },
  {
   "cell_type": "markdown",
   "metadata": {},
   "source": [
    "### Scraping from Subreddit:Silverbugs"
   ]
  },
  {
   "cell_type": "code",
   "execution_count": 77,
   "metadata": {},
   "outputs": [],
   "source": [
    "# This cell is commented-out\n",
    "# Scraping takes time and the data is not the same when replicated\n",
    "# Intent here is to show the code in getting the data\n",
    "sil_posts = []\n",
    "after = t3_g7ohsu\n",
    " \n",
    "for a in range(100):\n",
    "    if after == None:\n",
    "        current_url = url_silver\n",
    "    else:\n",
    "        current_url = url_silver + '?after=' + after\n",
    "    res = requests.get(current_url, headers=headers)\n",
    "    \n",
    "    if res.status_code != 200:\n",
    "        print('Status error', res.status_code)\n",
    "        break\n",
    "    \n",
    "    current_dict = res.json()\n",
    "    current_posts = [p['data'] for p in current_dict['data']['children']]\n",
    "    sil_posts.extend(current_posts)\n",
    "    after = current_dict['data']['after']\n",
    " \n",
    "    #  random sleep time\n",
    "    time.sleep(randint(1,3,1))"
   ]
  },
  {
   "cell_type": "code",
   "execution_count": 78,
   "metadata": {},
   "outputs": [
    {
     "name": "stdout",
     "output_type": "stream",
     "text": [
      "3691\n",
      "3745\n"
     ]
    }
   ],
   "source": [
    "# Checking the length after scrapping\n",
    "print(len(gld_posts))\n",
    "print(len(sil_posts))"
   ]
  },
  {
   "cell_type": "code",
   "execution_count": 79,
   "metadata": {},
   "outputs": [],
   "source": [
    "# Convert scrapped data into dataframe\n",
    "gold = pd.DataFrame(gld_posts)\n",
    "silver = pd.DataFrame(sil_posts)"
   ]
  },
  {
   "cell_type": "code",
   "execution_count": 80,
   "metadata": {},
   "outputs": [
    {
     "name": "stdout",
     "output_type": "stream",
     "text": [
      "(3691, 110)\n",
      "(3745, 111)\n"
     ]
    }
   ],
   "source": [
    "print(gold.shape)\n",
    "print(silver.shape)"
   ]
  },
  {
   "cell_type": "code",
   "execution_count": 83,
   "metadata": {},
   "outputs": [],
   "source": [
    "# Export data to csv\n",
    "gold.to_csv('../data/gold2.csv', index = False)\n",
    "silver.to_csv('../data/silver2.csv', index = False)"
   ]
  },
  {
   "cell_type": "markdown",
   "metadata": {},
   "source": [
    "### Re-import and and check dataframes"
   ]
  },
  {
   "cell_type": "code",
   "execution_count": 2,
   "metadata": {},
   "outputs": [],
   "source": [
    "gold = pd.read_csv('../data/gold2.csv')\n",
    "silver = pd.read_csv('../data/silver2.csv')"
   ]
  },
  {
   "cell_type": "code",
   "execution_count": 3,
   "metadata": {},
   "outputs": [
    {
     "name": "stdout",
     "output_type": "stream",
     "text": [
      "(3691, 110)\n",
      "(3745, 111)\n"
     ]
    }
   ],
   "source": [
    "print(gold.shape)\n",
    "print(silver.shape)`"
   ]
  },
  {
   "cell_type": "code",
   "execution_count": 4,
   "metadata": {},
   "outputs": [
    {
     "data": {
      "text/html": [
       "<div>\n",
       "<style scoped>\n",
       "    .dataframe tbody tr th:only-of-type {\n",
       "        vertical-align: middle;\n",
       "    }\n",
       "\n",
       "    .dataframe tbody tr th {\n",
       "        vertical-align: top;\n",
       "    }\n",
       "\n",
       "    .dataframe thead th {\n",
       "        text-align: right;\n",
       "    }\n",
       "</style>\n",
       "<table border=\"1\" class=\"dataframe\">\n",
       "  <thead>\n",
       "    <tr style=\"text-align: right;\">\n",
       "      <th></th>\n",
       "      <th>approved_at_utc</th>\n",
       "      <th>subreddit</th>\n",
       "      <th>selftext</th>\n",
       "      <th>author_fullname</th>\n",
       "      <th>saved</th>\n",
       "      <th>mod_reason_title</th>\n",
       "      <th>gilded</th>\n",
       "      <th>clicked</th>\n",
       "      <th>title</th>\n",
       "      <th>link_flair_richtext</th>\n",
       "      <th>...</th>\n",
       "      <th>num_crossposts</th>\n",
       "      <th>media</th>\n",
       "      <th>is_video</th>\n",
       "      <th>post_hint</th>\n",
       "      <th>preview</th>\n",
       "      <th>media_metadata</th>\n",
       "      <th>crosspost_parent_list</th>\n",
       "      <th>crosspost_parent</th>\n",
       "      <th>author_cakeday</th>\n",
       "      <th>poll_data</th>\n",
       "    </tr>\n",
       "  </thead>\n",
       "  <tbody>\n",
       "    <tr>\n",
       "      <th>3686</th>\n",
       "      <td>NaN</td>\n",
       "      <td>Gold</td>\n",
       "      <td>whats the logic?</td>\n",
       "      <td>t2_5u6zke1c</td>\n",
       "      <td>False</td>\n",
       "      <td>NaN</td>\n",
       "      <td>0</td>\n",
       "      <td>False</td>\n",
       "      <td>Why does silver suck compared to gold? Silver ...</td>\n",
       "      <td>[]</td>\n",
       "      <td>...</td>\n",
       "      <td>0</td>\n",
       "      <td>NaN</td>\n",
       "      <td>False</td>\n",
       "      <td>NaN</td>\n",
       "      <td>NaN</td>\n",
       "      <td>NaN</td>\n",
       "      <td>NaN</td>\n",
       "      <td>NaN</td>\n",
       "      <td>NaN</td>\n",
       "      <td>NaN</td>\n",
       "    </tr>\n",
       "    <tr>\n",
       "      <th>3687</th>\n",
       "      <td>NaN</td>\n",
       "      <td>Gold</td>\n",
       "      <td>NaN</td>\n",
       "      <td>t2_6tuyd</td>\n",
       "      <td>False</td>\n",
       "      <td>NaN</td>\n",
       "      <td>0</td>\n",
       "      <td>False</td>\n",
       "      <td>My Ottoman Lira gold coins</td>\n",
       "      <td>[]</td>\n",
       "      <td>...</td>\n",
       "      <td>0</td>\n",
       "      <td>{'type': 'imgur.com', 'oembed': {'provider_url...</td>\n",
       "      <td>False</td>\n",
       "      <td>link</td>\n",
       "      <td>{'images': [{'source': {'url': 'https://extern...</td>\n",
       "      <td>NaN</td>\n",
       "      <td>NaN</td>\n",
       "      <td>NaN</td>\n",
       "      <td>NaN</td>\n",
       "      <td>NaN</td>\n",
       "    </tr>\n",
       "    <tr>\n",
       "      <th>3688</th>\n",
       "      <td>NaN</td>\n",
       "      <td>Gold</td>\n",
       "      <td>NaN</td>\n",
       "      <td>t2_xzjnw</td>\n",
       "      <td>False</td>\n",
       "      <td>NaN</td>\n",
       "      <td>0</td>\n",
       "      <td>False</td>\n",
       "      <td>\"Fed Can't Print Gold\": BofA Calls Gold \"Ultim...</td>\n",
       "      <td>[]</td>\n",
       "      <td>...</td>\n",
       "      <td>0</td>\n",
       "      <td>NaN</td>\n",
       "      <td>False</td>\n",
       "      <td>link</td>\n",
       "      <td>{'images': [{'source': {'url': 'https://extern...</td>\n",
       "      <td>NaN</td>\n",
       "      <td>NaN</td>\n",
       "      <td>NaN</td>\n",
       "      <td>NaN</td>\n",
       "      <td>NaN</td>\n",
       "    </tr>\n",
       "    <tr>\n",
       "      <th>3689</th>\n",
       "      <td>NaN</td>\n",
       "      <td>Gold</td>\n",
       "      <td>NaN</td>\n",
       "      <td>t2_59iiuts0</td>\n",
       "      <td>False</td>\n",
       "      <td>NaN</td>\n",
       "      <td>0</td>\n",
       "      <td>False</td>\n",
       "      <td>Rats are 100g, rest are 1oz</td>\n",
       "      <td>[]</td>\n",
       "      <td>...</td>\n",
       "      <td>0</td>\n",
       "      <td>NaN</td>\n",
       "      <td>False</td>\n",
       "      <td>image</td>\n",
       "      <td>{'images': [{'source': {'url': 'https://previe...</td>\n",
       "      <td>NaN</td>\n",
       "      <td>NaN</td>\n",
       "      <td>NaN</td>\n",
       "      <td>NaN</td>\n",
       "      <td>NaN</td>\n",
       "    </tr>\n",
       "    <tr>\n",
       "      <th>3690</th>\n",
       "      <td>NaN</td>\n",
       "      <td>Gold</td>\n",
       "      <td>NaN</td>\n",
       "      <td>t2_xzjnw</td>\n",
       "      <td>False</td>\n",
       "      <td>NaN</td>\n",
       "      <td>0</td>\n",
       "      <td>False</td>\n",
       "      <td>Peter Schiff: The Questions Nobody Is Asking</td>\n",
       "      <td>[]</td>\n",
       "      <td>...</td>\n",
       "      <td>0</td>\n",
       "      <td>NaN</td>\n",
       "      <td>False</td>\n",
       "      <td>link</td>\n",
       "      <td>{'images': [{'source': {'url': 'https://extern...</td>\n",
       "      <td>NaN</td>\n",
       "      <td>NaN</td>\n",
       "      <td>NaN</td>\n",
       "      <td>NaN</td>\n",
       "      <td>NaN</td>\n",
       "    </tr>\n",
       "  </tbody>\n",
       "</table>\n",
       "<p>5 rows × 110 columns</p>\n",
       "</div>"
      ],
      "text/plain": [
       "      approved_at_utc subreddit          selftext author_fullname  saved  \\\n",
       "3686              NaN      Gold  whats the logic?     t2_5u6zke1c  False   \n",
       "3687              NaN      Gold               NaN        t2_6tuyd  False   \n",
       "3688              NaN      Gold               NaN        t2_xzjnw  False   \n",
       "3689              NaN      Gold               NaN     t2_59iiuts0  False   \n",
       "3690              NaN      Gold               NaN        t2_xzjnw  False   \n",
       "\n",
       "      mod_reason_title  gilded  clicked  \\\n",
       "3686               NaN       0    False   \n",
       "3687               NaN       0    False   \n",
       "3688               NaN       0    False   \n",
       "3689               NaN       0    False   \n",
       "3690               NaN       0    False   \n",
       "\n",
       "                                                  title link_flair_richtext  \\\n",
       "3686  Why does silver suck compared to gold? Silver ...                  []   \n",
       "3687                         My Ottoman Lira gold coins                  []   \n",
       "3688  \"Fed Can't Print Gold\": BofA Calls Gold \"Ultim...                  []   \n",
       "3689                        Rats are 100g, rest are 1oz                  []   \n",
       "3690       Peter Schiff: The Questions Nobody Is Asking                  []   \n",
       "\n",
       "      ... num_crossposts                                              media  \\\n",
       "3686  ...              0                                                NaN   \n",
       "3687  ...              0  {'type': 'imgur.com', 'oembed': {'provider_url...   \n",
       "3688  ...              0                                                NaN   \n",
       "3689  ...              0                                                NaN   \n",
       "3690  ...              0                                                NaN   \n",
       "\n",
       "      is_video  post_hint                                            preview  \\\n",
       "3686     False        NaN                                                NaN   \n",
       "3687     False       link  {'images': [{'source': {'url': 'https://extern...   \n",
       "3688     False       link  {'images': [{'source': {'url': 'https://extern...   \n",
       "3689     False      image  {'images': [{'source': {'url': 'https://previe...   \n",
       "3690     False       link  {'images': [{'source': {'url': 'https://extern...   \n",
       "\n",
       "      media_metadata  crosspost_parent_list crosspost_parent  author_cakeday  \\\n",
       "3686             NaN                    NaN              NaN             NaN   \n",
       "3687             NaN                    NaN              NaN             NaN   \n",
       "3688             NaN                    NaN              NaN             NaN   \n",
       "3689             NaN                    NaN              NaN             NaN   \n",
       "3690             NaN                    NaN              NaN             NaN   \n",
       "\n",
       "     poll_data  \n",
       "3686       NaN  \n",
       "3687       NaN  \n",
       "3688       NaN  \n",
       "3689       NaN  \n",
       "3690       NaN  \n",
       "\n",
       "[5 rows x 110 columns]"
      ]
     },
     "execution_count": 4,
     "metadata": {},
     "output_type": "execute_result"
    }
   ],
   "source": [
    "gold.tail()"
   ]
  },
  {
   "cell_type": "markdown",
   "metadata": {},
   "source": [
    "### Removes duplicates\n",
    "\n",
    "Post are indexed via 'name' string variable<br>\n",
    "will need to remove duplicated ones"
   ]
  },
  {
   "cell_type": "code",
   "execution_count": 6,
   "metadata": {},
   "outputs": [
    {
     "data": {
      "text/plain": [
       "True     2831\n",
       "False     860\n",
       "Name: name, dtype: int64"
      ]
     },
     "execution_count": 6,
     "metadata": {},
     "output_type": "execute_result"
    }
   ],
   "source": [
    "gold_duplicates_by_name = gold['name'].duplicated().value_counts()\n",
    "gold_duplicates_by_name"
   ]
  },
  {
   "cell_type": "code",
   "execution_count": 7,
   "metadata": {},
   "outputs": [
    {
     "data": {
      "text/plain": [
       "True     2747\n",
       "False     998\n",
       "Name: name, dtype: int64"
      ]
     },
     "execution_count": 7,
     "metadata": {},
     "output_type": "execute_result"
    }
   ],
   "source": [
    "silver_duplicates_by_name = silver['name'].duplicated().value_counts()\n",
    "silver_duplicates_by_name"
   ]
  },
  {
   "cell_type": "code",
   "execution_count": 8,
   "metadata": {},
   "outputs": [],
   "source": [
    "gold = gold[~gold['name'].duplicated()]\n",
    "silver = silver[~silver['name'].duplicated()]"
   ]
  },
  {
   "cell_type": "code",
   "execution_count": 9,
   "metadata": {},
   "outputs": [
    {
     "name": "stdout",
     "output_type": "stream",
     "text": [
      "(860, 110)\n",
      "(998, 111)\n"
     ]
    }
   ],
   "source": [
    "print(gold.shape)\n",
    "print(silver.shape)"
   ]
  },
  {
   "cell_type": "code",
   "execution_count": 10,
   "metadata": {},
   "outputs": [
    {
     "name": "stdout",
     "output_type": "stream",
     "text": [
      "Gold    860\n",
      "Name: subreddit, dtype: int64\n",
      "Silverbugs    998\n",
      "Name: subreddit, dtype: int64\n"
     ]
    }
   ],
   "source": [
    "print(gold['subreddit'].value_counts())\n",
    "print(silver['subreddit'].value_counts())"
   ]
  },
  {
   "cell_type": "markdown",
   "metadata": {},
   "source": [
    "### Column filtering and renaming"
   ]
  },
  {
   "cell_type": "code",
   "execution_count": 5,
   "metadata": {},
   "outputs": [],
   "source": [
    "gold = gold[['name','author','title','selftext','permalink','num_comments','ups','subreddit']]"
   ]
  },
  {
   "cell_type": "code",
   "execution_count": 6,
   "metadata": {},
   "outputs": [],
   "source": [
    "silver = silver[['name','author','title','selftext','permalink','num_comments','ups','subreddit']]"
   ]
  },
  {
   "cell_type": "code",
   "execution_count": 7,
   "metadata": {},
   "outputs": [
    {
     "data": {
      "text/html": [
       "<div>\n",
       "<style scoped>\n",
       "    .dataframe tbody tr th:only-of-type {\n",
       "        vertical-align: middle;\n",
       "    }\n",
       "\n",
       "    .dataframe tbody tr th {\n",
       "        vertical-align: top;\n",
       "    }\n",
       "\n",
       "    .dataframe thead th {\n",
       "        text-align: right;\n",
       "    }\n",
       "</style>\n",
       "<table border=\"1\" class=\"dataframe\">\n",
       "  <thead>\n",
       "    <tr style=\"text-align: right;\">\n",
       "      <th></th>\n",
       "      <th>name</th>\n",
       "      <th>author</th>\n",
       "      <th>title</th>\n",
       "      <th>selftext</th>\n",
       "      <th>permalink</th>\n",
       "      <th>num_comments</th>\n",
       "      <th>ups</th>\n",
       "      <th>subreddit</th>\n",
       "    </tr>\n",
       "  </thead>\n",
       "  <tbody>\n",
       "    <tr>\n",
       "      <th>3689</th>\n",
       "      <td>t3_g5675f</td>\n",
       "      <td>Acceptable-Audience</td>\n",
       "      <td>Rats are 100g, rest are 1oz</td>\n",
       "      <td>NaN</td>\n",
       "      <td>/r/Gold/comments/g5675f/rats_are_100g_rest_are...</td>\n",
       "      <td>24</td>\n",
       "      <td>109</td>\n",
       "      <td>Gold</td>\n",
       "    </tr>\n",
       "    <tr>\n",
       "      <th>3690</th>\n",
       "      <td>t3_g5nzns</td>\n",
       "      <td>A_solo_tripper</td>\n",
       "      <td>Peter Schiff: The Questions Nobody Is Asking</td>\n",
       "      <td>NaN</td>\n",
       "      <td>/r/Gold/comments/g5nzns/peter_schiff_the_quest...</td>\n",
       "      <td>3</td>\n",
       "      <td>3</td>\n",
       "      <td>Gold</td>\n",
       "    </tr>\n",
       "  </tbody>\n",
       "</table>\n",
       "</div>"
      ],
      "text/plain": [
       "           name               author  \\\n",
       "3689  t3_g5675f  Acceptable-Audience   \n",
       "3690  t3_g5nzns       A_solo_tripper   \n",
       "\n",
       "                                             title selftext  \\\n",
       "3689                   Rats are 100g, rest are 1oz      NaN   \n",
       "3690  Peter Schiff: The Questions Nobody Is Asking      NaN   \n",
       "\n",
       "                                              permalink  num_comments  ups  \\\n",
       "3689  /r/Gold/comments/g5675f/rats_are_100g_rest_are...            24  109   \n",
       "3690  /r/Gold/comments/g5nzns/peter_schiff_the_quest...             3    3   \n",
       "\n",
       "     subreddit  \n",
       "3689      Gold  \n",
       "3690      Gold  "
      ]
     },
     "execution_count": 7,
     "metadata": {},
     "output_type": "execute_result"
    }
   ],
   "source": [
    "gold.tail(2)"
   ]
  },
  {
   "cell_type": "code",
   "execution_count": null,
   "metadata": {},
   "outputs": [],
   "source": []
  },
  {
   "cell_type": "code",
   "execution_count": null,
   "metadata": {},
   "outputs": [],
   "source": []
  },
  {
   "cell_type": "code",
   "execution_count": 13,
   "metadata": {},
   "outputs": [],
   "source": [
    "new_column_name = ['post_id','author','title','post_body','comments','num_comments','ups','subreddit']"
   ]
  },
  {
   "cell_type": "code",
   "execution_count": 14,
   "metadata": {},
   "outputs": [],
   "source": [
    "gold.columns = new_column_name\n",
    "silver.columns = new_column_name"
   ]
  },
  {
   "cell_type": "code",
   "execution_count": 15,
   "metadata": {},
   "outputs": [
    {
     "data": {
      "text/html": [
       "<div>\n",
       "<style scoped>\n",
       "    .dataframe tbody tr th:only-of-type {\n",
       "        vertical-align: middle;\n",
       "    }\n",
       "\n",
       "    .dataframe tbody tr th {\n",
       "        vertical-align: top;\n",
       "    }\n",
       "\n",
       "    .dataframe thead th {\n",
       "        text-align: right;\n",
       "    }\n",
       "</style>\n",
       "<table border=\"1\" class=\"dataframe\">\n",
       "  <thead>\n",
       "    <tr style=\"text-align: right;\">\n",
       "      <th></th>\n",
       "      <th>post_id</th>\n",
       "      <th>author</th>\n",
       "      <th>title</th>\n",
       "      <th>post_body</th>\n",
       "      <th>comments</th>\n",
       "      <th>num_comments</th>\n",
       "      <th>ups</th>\n",
       "      <th>subreddit</th>\n",
       "    </tr>\n",
       "  </thead>\n",
       "  <tbody>\n",
       "    <tr>\n",
       "      <th>0</th>\n",
       "      <td>t3_b187li</td>\n",
       "      <td>odenip33</td>\n",
       "      <td>Asking for reddit gold or actual gold is NOT A...</td>\n",
       "      <td>Since there have been multiple posts lately wi...</td>\n",
       "      <td>/r/Gold/comments/b187li/asking_for_reddit_gold...</td>\n",
       "      <td>30</td>\n",
       "      <td>59</td>\n",
       "      <td>Gold</td>\n",
       "    </tr>\n",
       "    <tr>\n",
       "      <th>1</th>\n",
       "      <td>t3_geulz3</td>\n",
       "      <td>PeraJ56</td>\n",
       "      <td>My first 1oz</td>\n",
       "      <td>NaN</td>\n",
       "      <td>/r/Gold/comments/geulz3/my_first_1oz/</td>\n",
       "      <td>9</td>\n",
       "      <td>58</td>\n",
       "      <td>Gold</td>\n",
       "    </tr>\n",
       "    <tr>\n",
       "      <th>2</th>\n",
       "      <td>t3_geprid</td>\n",
       "      <td>deweydecibels</td>\n",
       "      <td>my first physical investment (suisse 100g year...</td>\n",
       "      <td>NaN</td>\n",
       "      <td>/r/Gold/comments/geprid/my_first_physical_inve...</td>\n",
       "      <td>19</td>\n",
       "      <td>75</td>\n",
       "      <td>Gold</td>\n",
       "    </tr>\n",
       "    <tr>\n",
       "      <th>3</th>\n",
       "      <td>t3_gezf5u</td>\n",
       "      <td>Coinenthusiast1878</td>\n",
       "      <td>Gold “stamp” featuring Shah &amp;amp; Shahbanu of ...</td>\n",
       "      <td>NaN</td>\n",
       "      <td>/r/Gold/comments/gezf5u/gold_stamp_featuring_s...</td>\n",
       "      <td>2</td>\n",
       "      <td>9</td>\n",
       "      <td>Gold</td>\n",
       "    </tr>\n",
       "    <tr>\n",
       "      <th>4</th>\n",
       "      <td>t3_gepkgc</td>\n",
       "      <td>Gerety123</td>\n",
       "      <td>I’m a big fan of John Wick</td>\n",
       "      <td>NaN</td>\n",
       "      <td>/r/Gold/comments/gepkgc/im_a_big_fan_of_john_w...</td>\n",
       "      <td>21</td>\n",
       "      <td>31</td>\n",
       "      <td>Gold</td>\n",
       "    </tr>\n",
       "  </tbody>\n",
       "</table>\n",
       "</div>"
      ],
      "text/plain": [
       "     post_id              author  \\\n",
       "0  t3_b187li            odenip33   \n",
       "1  t3_geulz3             PeraJ56   \n",
       "2  t3_geprid       deweydecibels   \n",
       "3  t3_gezf5u  Coinenthusiast1878   \n",
       "4  t3_gepkgc           Gerety123   \n",
       "\n",
       "                                               title  \\\n",
       "0  Asking for reddit gold or actual gold is NOT A...   \n",
       "1                                       My first 1oz   \n",
       "2  my first physical investment (suisse 100g year...   \n",
       "3  Gold “stamp” featuring Shah &amp; Shahbanu of ...   \n",
       "4                         I’m a big fan of John Wick   \n",
       "\n",
       "                                           post_body  \\\n",
       "0  Since there have been multiple posts lately wi...   \n",
       "1                                                NaN   \n",
       "2                                                NaN   \n",
       "3                                                NaN   \n",
       "4                                                NaN   \n",
       "\n",
       "                                            comments  num_comments  ups  \\\n",
       "0  /r/Gold/comments/b187li/asking_for_reddit_gold...            30   59   \n",
       "1              /r/Gold/comments/geulz3/my_first_1oz/             9   58   \n",
       "2  /r/Gold/comments/geprid/my_first_physical_inve...            19   75   \n",
       "3  /r/Gold/comments/gezf5u/gold_stamp_featuring_s...             2    9   \n",
       "4  /r/Gold/comments/gepkgc/im_a_big_fan_of_john_w...            21   31   \n",
       "\n",
       "  subreddit  \n",
       "0      Gold  \n",
       "1      Gold  \n",
       "2      Gold  \n",
       "3      Gold  \n",
       "4      Gold  "
      ]
     },
     "execution_count": 15,
     "metadata": {},
     "output_type": "execute_result"
    }
   ],
   "source": [
    "gold.head()"
   ]
  },
  {
   "cell_type": "code",
   "execution_count": 140,
   "metadata": {},
   "outputs": [
    {
     "name": "stdout",
     "output_type": "stream",
     "text": [
      "(860, 8)\n",
      "(998, 8)\n"
     ]
    }
   ],
   "source": [
    "print(gold.shape)\n",
    "print(silver.shape)"
   ]
  },
  {
   "cell_type": "markdown",
   "metadata": {},
   "source": [
    "### Working on null/missing values"
   ]
  },
  {
   "cell_type": "code",
   "execution_count": 142,
   "metadata": {},
   "outputs": [
    {
     "name": "stdout",
     "output_type": "stream",
     "text": [
      "post_body    433\n",
      "subreddit      0\n",
      "dtype: int64\n",
      "post_body    705\n",
      "subreddit      0\n",
      "dtype: int64\n"
     ]
    }
   ],
   "source": [
    "gold_isnull_val = gold.isnull().sum().sort_values(ascending = False)\n",
    "silver_isnull_val = silver.isnull().sum().sort_values(ascending = False)\n",
    "print(gold_isnull_val.head(2))\n",
    "print(silver_isnull_val.head(2))"
   ]
  },
  {
   "cell_type": "code",
   "execution_count": 148,
   "metadata": {},
   "outputs": [],
   "source": [
    "gold.loc[gold['post_body'].isnull(), 'post_body'] = 'None'\n",
    "silver.loc[silver['post_body'].isnull(), 'post_body'] = 'None'"
   ]
  },
  {
   "cell_type": "code",
   "execution_count": 27,
   "metadata": {},
   "outputs": [],
   "source": [
    "def clean_data(raw_review):\n",
    "    # Function to convert a raw review to a string of words\n",
    "    # The input is a single string (a raw movie review), and \n",
    "    # the output is a single string (a preprocessed movie review)\n",
    "    \n",
    "    # - Remove HTML.\n",
    "    review_text = BeautifulSoup(raw_review).get_text()\n",
    "    \n",
    "    # - remove http\n",
    "    clean_http = re.sub(r\"http\\S+\", \"\",review_text)\n",
    "    \n",
    "    # - remove www\n",
    "    clean_www = re.sub(r\"www\\S+\", \"\",clean_http)       \n",
    "    \n",
    "    # - Remove non-letters.\n",
    "    letters_only = re.sub(\"[^a-zA-Z]\", \" \", clean_www)\n",
    "    \n",
    "    # - Remove whitespace (including new line characters)\n",
    "    text = re.sub(r'\\s\\s+', ' ', letters_only)\n",
    "   \n",
    "    # - Convert to lower case, split into individual words.\n",
    "    words = text.lower().split()\n",
    "    \n",
    "    # - In Python, searching a set is much faster than searching\n",
    "    # a list, so convert the stopwords to a set.\n",
    "    stops = set(stopwords.words('english'))\n",
    "    \n",
    "    # - Remove stopwords.\n",
    "    stop_words = [w for w in words if not w in stops]\n",
    "    \n",
    "    # - Remove emoji\n",
    "    #clean_emoji = [word for word in stop_words if word not in emoji.UNICODE_EMOJI]\n",
    "    \n",
    "    # - Lemmatizer\n",
    "    lemmatizer = WordNetLemmatizer()\n",
    "    meaningful_words = [lemmatizer.lemmatize(w) for w in stop_words] \n",
    "  \n",
    "    # - Join the words back into one string separated by space, \n",
    "    # and return the result.\n",
    "    return(\" \".join(meaningful_words))"
   ]
  },
  {
   "cell_type": "code",
   "execution_count": 34,
   "metadata": {},
   "outputs": [
    {
     "data": {
      "text/plain": [
       "post_id         object\n",
       "author          object\n",
       "title           object\n",
       "post_body       object\n",
       "comments        object\n",
       "num_comments     int64\n",
       "ups              int64\n",
       "subreddit       object\n",
       "dtype: object"
      ]
     },
     "execution_count": 34,
     "metadata": {},
     "output_type": "execute_result"
    }
   ],
   "source": [
    "gold.dtypes"
   ]
  },
  {
   "cell_type": "code",
   "execution_count": 32,
   "metadata": {},
   "outputs": [
    {
     "ename": "TypeError",
     "evalue": "object of type 'float' has no len()",
     "output_type": "error",
     "traceback": [
      "\u001b[1;31m---------------------------------------------------------------------------\u001b[0m",
      "\u001b[1;31mTypeError\u001b[0m                                 Traceback (most recent call last)",
      "\u001b[1;32m<ipython-input-32-f791d47afa2f>\u001b[0m in \u001b[0;36m<module>\u001b[1;34m\u001b[0m\n\u001b[0;32m      1\u001b[0m \u001b[0mgold\u001b[0m\u001b[1;33m[\u001b[0m\u001b[1;34m'title'\u001b[0m\u001b[1;33m]\u001b[0m \u001b[1;33m=\u001b[0m \u001b[0mgold\u001b[0m\u001b[1;33m[\u001b[0m\u001b[1;34m'title'\u001b[0m\u001b[1;33m]\u001b[0m\u001b[1;33m.\u001b[0m\u001b[0mapply\u001b[0m\u001b[1;33m(\u001b[0m\u001b[0mclean_data\u001b[0m\u001b[1;33m)\u001b[0m\u001b[1;33m\u001b[0m\u001b[1;33m\u001b[0m\u001b[0m\n\u001b[1;32m----> 2\u001b[1;33m \u001b[0mgold\u001b[0m\u001b[1;33m[\u001b[0m\u001b[1;34m'post_body'\u001b[0m\u001b[1;33m]\u001b[0m \u001b[1;33m=\u001b[0m \u001b[0mgold\u001b[0m\u001b[1;33m[\u001b[0m\u001b[1;34m'post_body'\u001b[0m\u001b[1;33m]\u001b[0m\u001b[1;33m.\u001b[0m\u001b[0mapply\u001b[0m\u001b[1;33m(\u001b[0m\u001b[0mclean_data\u001b[0m\u001b[1;33m)\u001b[0m\u001b[1;33m\u001b[0m\u001b[1;33m\u001b[0m\u001b[0m\n\u001b[0m\u001b[0;32m      3\u001b[0m \u001b[0mgold\u001b[0m\u001b[1;33m[\u001b[0m\u001b[1;34m'comments'\u001b[0m\u001b[1;33m]\u001b[0m \u001b[1;33m=\u001b[0m \u001b[0mgold\u001b[0m\u001b[1;33m[\u001b[0m\u001b[1;34m'comments'\u001b[0m\u001b[1;33m]\u001b[0m\u001b[1;33m.\u001b[0m\u001b[0mapply\u001b[0m\u001b[1;33m(\u001b[0m\u001b[0mclean_data\u001b[0m\u001b[1;33m)\u001b[0m\u001b[1;33m\u001b[0m\u001b[1;33m\u001b[0m\u001b[0m\n",
      "\u001b[1;32m~\\anaconda3\\lib\\site-packages\\pandas\\core\\series.py\u001b[0m in \u001b[0;36mapply\u001b[1;34m(self, func, convert_dtype, args, **kwds)\u001b[0m\n\u001b[0;32m   3846\u001b[0m             \u001b[1;32melse\u001b[0m\u001b[1;33m:\u001b[0m\u001b[1;33m\u001b[0m\u001b[1;33m\u001b[0m\u001b[0m\n\u001b[0;32m   3847\u001b[0m                 \u001b[0mvalues\u001b[0m \u001b[1;33m=\u001b[0m \u001b[0mself\u001b[0m\u001b[1;33m.\u001b[0m\u001b[0mastype\u001b[0m\u001b[1;33m(\u001b[0m\u001b[0mobject\u001b[0m\u001b[1;33m)\u001b[0m\u001b[1;33m.\u001b[0m\u001b[0mvalues\u001b[0m\u001b[1;33m\u001b[0m\u001b[1;33m\u001b[0m\u001b[0m\n\u001b[1;32m-> 3848\u001b[1;33m                 \u001b[0mmapped\u001b[0m \u001b[1;33m=\u001b[0m \u001b[0mlib\u001b[0m\u001b[1;33m.\u001b[0m\u001b[0mmap_infer\u001b[0m\u001b[1;33m(\u001b[0m\u001b[0mvalues\u001b[0m\u001b[1;33m,\u001b[0m \u001b[0mf\u001b[0m\u001b[1;33m,\u001b[0m \u001b[0mconvert\u001b[0m\u001b[1;33m=\u001b[0m\u001b[0mconvert_dtype\u001b[0m\u001b[1;33m)\u001b[0m\u001b[1;33m\u001b[0m\u001b[1;33m\u001b[0m\u001b[0m\n\u001b[0m\u001b[0;32m   3849\u001b[0m \u001b[1;33m\u001b[0m\u001b[0m\n\u001b[0;32m   3850\u001b[0m         \u001b[1;32mif\u001b[0m \u001b[0mlen\u001b[0m\u001b[1;33m(\u001b[0m\u001b[0mmapped\u001b[0m\u001b[1;33m)\u001b[0m \u001b[1;32mand\u001b[0m \u001b[0misinstance\u001b[0m\u001b[1;33m(\u001b[0m\u001b[0mmapped\u001b[0m\u001b[1;33m[\u001b[0m\u001b[1;36m0\u001b[0m\u001b[1;33m]\u001b[0m\u001b[1;33m,\u001b[0m \u001b[0mSeries\u001b[0m\u001b[1;33m)\u001b[0m\u001b[1;33m:\u001b[0m\u001b[1;33m\u001b[0m\u001b[1;33m\u001b[0m\u001b[0m\n",
      "\u001b[1;32mpandas\\_libs\\lib.pyx\u001b[0m in \u001b[0;36mpandas._libs.lib.map_infer\u001b[1;34m()\u001b[0m\n",
      "\u001b[1;32m<ipython-input-27-e2506dfbcfce>\u001b[0m in \u001b[0;36mclean_data\u001b[1;34m(raw_review)\u001b[0m\n\u001b[0;32m      5\u001b[0m \u001b[1;33m\u001b[0m\u001b[0m\n\u001b[0;32m      6\u001b[0m     \u001b[1;31m# - Remove HTML.\u001b[0m\u001b[1;33m\u001b[0m\u001b[1;33m\u001b[0m\u001b[1;33m\u001b[0m\u001b[0m\n\u001b[1;32m----> 7\u001b[1;33m     \u001b[0mreview_text\u001b[0m \u001b[1;33m=\u001b[0m \u001b[0mBeautifulSoup\u001b[0m\u001b[1;33m(\u001b[0m\u001b[0mraw_review\u001b[0m\u001b[1;33m)\u001b[0m\u001b[1;33m.\u001b[0m\u001b[0mget_text\u001b[0m\u001b[1;33m(\u001b[0m\u001b[1;33m)\u001b[0m\u001b[1;33m\u001b[0m\u001b[1;33m\u001b[0m\u001b[0m\n\u001b[0m\u001b[0;32m      8\u001b[0m \u001b[1;33m\u001b[0m\u001b[0m\n\u001b[0;32m      9\u001b[0m     \u001b[1;31m# - remove http\u001b[0m\u001b[1;33m\u001b[0m\u001b[1;33m\u001b[0m\u001b[1;33m\u001b[0m\u001b[0m\n",
      "\u001b[1;32m~\\anaconda3\\lib\\site-packages\\bs4\\__init__.py\u001b[0m in \u001b[0;36m__init__\u001b[1;34m(self, markup, features, builder, parse_only, from_encoding, exclude_encodings, element_classes, **kwargs)\u001b[0m\n\u001b[0;32m    285\u001b[0m         \u001b[1;32mif\u001b[0m \u001b[0mhasattr\u001b[0m\u001b[1;33m(\u001b[0m\u001b[0mmarkup\u001b[0m\u001b[1;33m,\u001b[0m \u001b[1;34m'read'\u001b[0m\u001b[1;33m)\u001b[0m\u001b[1;33m:\u001b[0m        \u001b[1;31m# It's a file-type object.\u001b[0m\u001b[1;33m\u001b[0m\u001b[1;33m\u001b[0m\u001b[0m\n\u001b[0;32m    286\u001b[0m             \u001b[0mmarkup\u001b[0m \u001b[1;33m=\u001b[0m \u001b[0mmarkup\u001b[0m\u001b[1;33m.\u001b[0m\u001b[0mread\u001b[0m\u001b[1;33m(\u001b[0m\u001b[1;33m)\u001b[0m\u001b[1;33m\u001b[0m\u001b[1;33m\u001b[0m\u001b[0m\n\u001b[1;32m--> 287\u001b[1;33m         elif len(markup) <= 256 and (\n\u001b[0m\u001b[0;32m    288\u001b[0m                 \u001b[1;33m(\u001b[0m\u001b[0misinstance\u001b[0m\u001b[1;33m(\u001b[0m\u001b[0mmarkup\u001b[0m\u001b[1;33m,\u001b[0m \u001b[0mbytes\u001b[0m\u001b[1;33m)\u001b[0m \u001b[1;32mand\u001b[0m \u001b[1;32mnot\u001b[0m \u001b[1;34mb'<'\u001b[0m \u001b[1;32min\u001b[0m \u001b[0mmarkup\u001b[0m\u001b[1;33m)\u001b[0m\u001b[1;33m\u001b[0m\u001b[1;33m\u001b[0m\u001b[0m\n\u001b[0;32m    289\u001b[0m                 \u001b[1;32mor\u001b[0m \u001b[1;33m(\u001b[0m\u001b[0misinstance\u001b[0m\u001b[1;33m(\u001b[0m\u001b[0mmarkup\u001b[0m\u001b[1;33m,\u001b[0m \u001b[0mstr\u001b[0m\u001b[1;33m)\u001b[0m \u001b[1;32mand\u001b[0m \u001b[1;32mnot\u001b[0m \u001b[1;34m'<'\u001b[0m \u001b[1;32min\u001b[0m \u001b[0mmarkup\u001b[0m\u001b[1;33m)\u001b[0m\u001b[1;33m\u001b[0m\u001b[1;33m\u001b[0m\u001b[0m\n",
      "\u001b[1;31mTypeError\u001b[0m: object of type 'float' has no len()"
     ]
    }
   ],
   "source": [
    "gold['title'] = gold['title'].apply(clean_data)\n",
    "gold['post_body'] = gold['post_body'].apply(clean_data)\n",
    "gold['comments'] = gold['comments'].apply(clean_data)"
   ]
  },
  {
   "cell_type": "code",
   "execution_count": 31,
   "metadata": {},
   "outputs": [
    {
     "data": {
      "text/plain": [
       "0      /r/Gold/comments/b187li/asking_for_reddit_gold...\n",
       "1                  /r/Gold/comments/geulz3/my_first_1oz/\n",
       "2      /r/Gold/comments/geprid/my_first_physical_inve...\n",
       "3      /r/Gold/comments/gezf5u/gold_stamp_featuring_s...\n",
       "4      /r/Gold/comments/gepkgc/im_a_big_fan_of_john_w...\n",
       "                             ...                        \n",
       "855    /r/Gold/comments/fe5fcs/how_profitable_is_scra...\n",
       "856    /r/Gold/comments/fdgbcr/top_10_gold_producing_...\n",
       "857          /r/Gold/comments/fdmw4k/muriatic_acid_bath/\n",
       "858    /r/Gold/comments/fdfzv2/where_does_golds_value...\n",
       "859    /r/Gold/comments/fdbalp/money_hasnt_come_into_...\n",
       "Name: comments, Length: 860, dtype: object"
      ]
     },
     "execution_count": 31,
     "metadata": {},
     "output_type": "execute_result"
    }
   ],
   "source": [
    "gold['comments']"
   ]
  },
  {
   "cell_type": "code",
   "execution_count": null,
   "metadata": {},
   "outputs": [],
   "source": []
  }
 ],
 "metadata": {
  "kernelspec": {
   "display_name": "Python 3",
   "language": "python",
   "name": "python3"
  },
  "language_info": {
   "codemirror_mode": {
    "name": "ipython",
    "version": 3
   },
   "file_extension": ".py",
   "mimetype": "text/x-python",
   "name": "python",
   "nbconvert_exporter": "python",
   "pygments_lexer": "ipython3",
   "version": "3.7.6"
  }
 },
 "nbformat": 4,
 "nbformat_minor": 4
}
