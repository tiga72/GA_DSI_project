{
 "cells": [
  {
   "cell_type": "markdown",
   "metadata": {},
   "source": [
    "## Project 3: Web APIs & Classification\n",
    "---\n",
    "Project notebook organisation:<br>\n",
    "<a href='./1_Get_and_Clean_Data.ipynb'>1_Get_and_Clean_Data</a><br>\n",
    "****2_EDA_and_Preprocessing** (current notebook)<br>\n",
    "<a href='./3_Models.ipynb'>3_Models</a><br>"
   ]
  },
  {
   "cell_type": "markdown",
   "metadata": {},
   "source": [
    "---\n",
    "### This notebook's layout\n",
    "<a href='#import'>Re-import and and check dataframes</a><br>\n",
    "<a href='#vector'>CountVectorizer</a><br>\n",
    "<a href='#cloud'>Word Cloud and Venn Diagram</a><br>\n",
    "<a href='#Phrases'>Top Phrases</a><br>\n",
    "<a href='#Posts'>Popular Posts</a><br>\n",
    "<a href='#blob'>Quick Sentiment Analysis with TextBlob</a><br>"
   ]
  },
  {
   "cell_type": "code",
   "execution_count": 22,
   "metadata": {},
   "outputs": [],
   "source": [
    "import time\n",
    "import pandas as pd\n",
    "import requests\n",
    "from numpy.random import randint\n",
    "import numpy as np\n",
    "import emoji\n",
    "import re\n",
    "from textblob import TextBlob\n",
    "\n",
    "import matplotlib.pyplot as plt\n",
    "from matplotlib_venn import venn2\n",
    "import seaborn as sns\n",
    "\n",
    "from bs4 import BeautifulSoup \n",
    "import nltk\n",
    "from nltk.corpus import stopwords\n",
    "from nltk.stem import WordNetLemmatizer\n",
    "from nltk.tokenize import RegexpTokenizer\n",
    "from sklearn.feature_extraction.text import CountVectorizer, ENGLISH_STOP_WORDS\n",
    "\n",
    "%matplotlib inline\n",
    "sns.set()"
   ]
  },
  {
   "cell_type": "markdown",
   "metadata": {},
   "source": [
    "<a id='import'></a>\n",
    "### <u>Re-import and and check dataframes</u>"
   ]
  },
  {
   "cell_type": "code",
   "execution_count": 23,
   "metadata": {},
   "outputs": [],
   "source": [
    "gold = pd.read_csv('../data/gold_clean.csv')\n",
    "silver = pd.read_csv('../data/silver_clean.csv')"
   ]
  },
  {
   "cell_type": "code",
   "execution_count": 24,
   "metadata": {},
   "outputs": [
    {
     "name": "stdout",
     "output_type": "stream",
     "text": [
      "post_body    13\n",
      "comments      3\n",
      "title         3\n",
      "subreddit     0\n",
      "ups           0\n",
      "dtype: int64\n",
      "comments     3\n",
      "post_body    3\n",
      "title        3\n",
      "subreddit    0\n",
      "ups          0\n",
      "dtype: int64\n"
     ]
    }
   ],
   "source": [
    "# Revisited and checked null values as i ecountered issues\n",
    "# It appears that null values re-appear in fewer counts after i cleaned it back in the first notebook\n",
    "# These null values have to been dealt with to proceed\n",
    "gold_isnull_val = gold.isnull().sum().sort_values(ascending = False)\n",
    "silver_isnull_val = silver.isnull().sum().sort_values(ascending = False)\n",
    "print(gold_isnull_val.head())\n",
    "print(silver_isnull_val.head())"
   ]
  },
  {
   "cell_type": "code",
   "execution_count": 25,
   "metadata": {},
   "outputs": [],
   "source": [
    "def rm_na(df):\n",
    "    \"\"\"Replaces all na with None\"\"\"\n",
    "    common_column_names = ['title','post_body','comments']\n",
    "    for col_name in common_column_names:\n",
    "        df[col_name].fillna(value = 'None', inplace=True)\n",
    "    print('NA removed') "
   ]
  },
  {
   "cell_type": "code",
   "execution_count": 26,
   "metadata": {},
   "outputs": [
    {
     "name": "stdout",
     "output_type": "stream",
     "text": [
      "NA removed\n",
      "NA removed\n"
     ]
    }
   ],
   "source": [
    "# Cleaing up remnants null values after cleaning\n",
    "rm_na(gold)\n",
    "rm_na(silver)"
   ]
  },
  {
   "cell_type": "code",
   "execution_count": 27,
   "metadata": {},
   "outputs": [
    {
     "name": "stdout",
     "output_type": "stream",
     "text": [
      "subreddit    0\n",
      "ups          0\n",
      "dtype: int64\n",
      "subreddit    0\n",
      "ups          0\n",
      "dtype: int64\n"
     ]
    }
   ],
   "source": [
    "# Checking no more null values\n",
    "gold_isnull_val = gold.isnull().sum().sort_values(ascending = False)\n",
    "silver_isnull_val = silver.isnull().sum().sort_values(ascending = False)\n",
    "print(gold_isnull_val.head(2))\n",
    "print(silver_isnull_val.head(2))"
   ]
  },
  {
   "cell_type": "code",
   "execution_count": 28,
   "metadata": {},
   "outputs": [],
   "source": [
    "# Changes made. Make checkpoint here and export files to csv\n",
    "gold.to_csv('../data/gold_clean.csv', index = False)\n",
    "silver.to_csv('../data/silver_clean.csv', index = False)"
   ]
  },
  {
   "cell_type": "markdown",
   "metadata": {},
   "source": [
    "<a id='vector'></a>\n",
    "### <u>CountVectorizer</u>"
   ]
  },
  {
   "cell_type": "code",
   "execution_count": 29,
   "metadata": {},
   "outputs": [],
   "source": [
    "# Instantiate vectoriser with only settings for extracting bi- and tri-grams\n",
    "vectorizer = CountVectorizer(stop_words = ENGLISH_STOP_WORDS, ngram_range=(2,3))"
   ]
  },
  {
   "cell_type": "code",
   "execution_count": 30,
   "metadata": {},
   "outputs": [],
   "source": [
    "def run_vector(df):\n",
    "    \"\"\"Vectorised text to 2-3 ngrams\"\"\"\n",
    "    common_column_names = ['title','post_body','comments']\n",
    "    appended_data = []\n",
    "    for col_name in common_column_names:\n",
    "        #  fit/transform vectoriser\n",
    "        vectorized_tmp = vectorizer.fit_transform(df[col_name])\n",
    "        vectorized_tmp = pd.DataFrame(vectorized_tmp.toarray(), columns = vectorizer.get_feature_names())\n",
    "        #get 50 phrases with highest count\n",
    "        vectorized_50 = vectorized_tmp.sum().sort_values(ascending=False).head(50)\n",
    "        appended_data.append(vectorized_50)\n",
    "    print('Vectorised')\n",
    "    return pd.concat(appended_data)    "
   ]
  },
  {
   "cell_type": "code",
   "execution_count": 31,
   "metadata": {},
   "outputs": [
    {
     "name": "stdout",
     "output_type": "stream",
     "text": [
      "Vectorised\n",
      "Vectorised\n"
     ]
    }
   ],
   "source": [
    "# Run the above function and saves to vairables\n",
    "gold_3columns_top50 = run_vector(gold)\n",
    "silver_3columns_top50 = run_vector(silver)"
   ]
  },
  {
   "cell_type": "code",
   "execution_count": 32,
   "metadata": {},
   "outputs": [],
   "source": [
    "# exporting files for the creation of visualization in Tableau\n",
    "gold_3columns_top50.to_csv('../data/gold_top50_tableau.csv')\n",
    "silver_3columns_top50.to_csv('../data/silver_top50_tableau.csv')"
   ]
  },
  {
   "cell_type": "markdown",
   "metadata": {},
   "source": [
    "<a id='cloud'></a>\n",
    "### <u>Word cloud and Venn diagram</u>"
   ]
  },
  {
   "cell_type": "markdown",
   "metadata": {},
   "source": [
    "#### Word cloud with phrases(Gold)\n",
    "Visualisation performed in Tableau<br>\n",
    "The word cloud is drawn from the gold subbreddit columns (title, post_body and comments)<br>\n",
    "Vectorising words into 2-3 ngrams(top 50)<br>\n",
    "The following words and phrases stands out from the rest:<br>\n",
    "'buy', 'buying', 'gold bars', 'physical gold', 'gold coin'<br>\n",
    "\n",
    "- A lot of discussion on buying gold. Seems to indicate strong sentiment to purchase gold<br>\n",
    "- Gold investment or speculation comes in many forms (physical, etfs, cfd, futures etc)<br>\n",
    "The trend observed is there is `physical holdings` of gold"
   ]
  },
  {
   "cell_type": "markdown",
   "metadata": {},
   "source": [
    "![title](../misc/gold_word_cloud.jpg)"
   ]
  },
  {
   "cell_type": "markdown",
   "metadata": {},
   "source": [
    "#### Word cloud with phrases(Silver)\n",
    "Visualisation performed in Tableau\n",
    "\n",
    "The word cloud is drawn from the silver subbreddit columns (title, post_body and comments)<br>\n",
    "Vectorising words into 2-3 ngrams(top 50)<br>\n",
    "The following words and phrases stands out:<br>\n",
    "'buy', 'silver bars', 'silver coin'<br>\n",
    "\n",
    "- A `slightly tone down` of discussion on buying silver as compared to gold<br>\n",
    "- Buying silver comes in many forms (physical, etfs, cfd, futures etc)<br>\n",
    "The trend observed is there is towards physical holdings of silver"
   ]
  },
  {
   "cell_type": "markdown",
   "metadata": {},
   "source": [
    "![title](../misc/silver_word_cloud.jpg)"
   ]
  },
  {
   "cell_type": "markdown",
   "metadata": {},
   "source": [
    "#### Venn Diagram\n",
    "For common phrases between the 2 subreddits<br>\n",
    "Exploring the common and differences between them<br>\n",
    "They will be discussed further in the next diagram"
   ]
  },
  {
   "cell_type": "code",
   "execution_count": 33,
   "metadata": {},
   "outputs": [
    {
     "data": {
      "image/png": "[encoded data removed]",
      "text/plain": [
       "<Figure size 432x288 with 1 Axes>"
      ]
     },
     "metadata": {},
     "output_type": "display_data"
    }
   ],
   "source": [
    "venn2([set(gold_3columns_top50.index), set(silver_3columns_top50.index)], set_labels = ('Gold','Silver'))\n",
    "plt.title('Phrases in common', fontsize=14)\n",
    "plt.tight_layout()"
   ]
  },
  {
   "cell_type": "markdown",
   "metadata": {},
   "source": [
    "#### Similar phrases between Gold and Silver\n",
    "Visualisation performed in Tableau<br>\n",
    "This 2-in-1 bar chart highlights the similar phrases between gold and silver subreddits<br>\n",
    "The words 'gold/silver coin, gold eagle' refers to physical gold or silver<br>\n",
    "(These have represented by orange bars)<br>\n",
    "<br>\n",
    "<u>Strong gold sentiment</u><br>\n",
    "Gold subreddit show strong interest in gold coins with counts at 92 vs Silver subreddit, <br>\n",
    "with a modest interest in silver coins at 34 counts<br>\n",
    "\n",
    "<u>Silverbugs also shows interest in gold</u><br>\n",
    " There are 3 orange bars on the gold side.<br> \n",
    " Silverbugs has 2 out of its 3 orange bars showing interest in gold coin and gold eagle<br>\n",
    "\n",
    "*The American Gold Eagle is an official gold bullion coin of the United States<br>"
   ]
  },
  {
   "cell_type": "markdown",
   "metadata": {},
   "source": [
    "<img src=\"../misc/top_similar_phrases.png\" width=\"300\">"
   ]
  },
  {
   "cell_type": "markdown",
   "metadata": {},
   "source": [
    "<a id='Phrases'></a>\n",
    "### <u>Top Phrases</u>"
   ]
  },
  {
   "cell_type": "markdown",
   "metadata": {},
   "source": [
    "#### Top 40 phrases in Gold and silver\n",
    "Visualisation performed in Tableau\n",
    "\n",
    "The top 30 phrases in gold and silver are put side by side<br>\n",
    "Both are based on subbreddit columns (title, post_body and comments)<br>\n",
    "<br>\n",
    "Again here, keywords that indicate holdings of the metals in physical forms are shown by orange bars<br>\n",
    "\n",
    "<u>Stronger sentiment on Gold</u><br>\n",
    " On gold, 14 orange bars vs 7 on Silver\n",
    "\n",
    "<u>“Buy/ Buying” phrases count</u><br>\n",
    " Gold phrases “buy/buying gold” - 135 counts(total)<br>\n",
    " Silverbug phrases  “buy silver” - 29 counts<br>\n",
    "\n",
    "<u>Preferred form of metals investment</u><br>\n",
    " Physical forms of metals preferred. <br>\n",
    " Only Gold stocks was mentioned in gold subreddit"
   ]
  },
  {
   "cell_type": "code",
   "execution_count": 34,
   "metadata": {},
   "outputs": [],
   "source": [
    "from IPython.display import HTML, display"
   ]
  },
  {
   "cell_type": "markdown",
   "metadata": {},
   "source": [
    "<table><tr><td><img src='../misc/gold_top40.png'></td><td><img src='../misc/sil_top40.png'></td></tr></table>"
   ]
  },
  {
   "cell_type": "markdown",
   "metadata": {},
   "source": [
    "<a id='Posts'></a>\n",
    "### <u>Popular posts</u>"
   ]
  },
  {
   "cell_type": "markdown",
   "metadata": {},
   "source": [
    "#### Popular post tiles in Gold\n",
    "Visualisation performed in Tableau\n",
    "\n",
    "This graph is based on gold subbreddit columns (title, num_comments and ups)<br>\n",
    "\n",
    "<u>Gold is ‘winning’</u><br>\n",
    "3 orange bars on Gold and none on Silverbugs. <br>\n",
    "In addition, these titles on physical gold have high engagement and popularity based on the comments and ups count. <br>\n",
    "\n",
    "<u>Trend observed</u><br>\n",
    "On Gold, the number of comments and up votes in the same upward trend. <br>\n",
    "The trend is reverse on Silverbugs<br>\n",
    "\n",
    "\n",
    "\n",
    "`Comments can be considered one way of measuring the degree of ‘meaningfulness’\n",
    "Stories and posts shared on social media that attract more comments are more likely to resonate with \n",
    "a wider audience, as the comments indicate a higher degree of engagement on the part of the audience.`<br>\n",
    "<br>\n",
    "\n",
    "Highlighted portion from:<br>\n",
    "Source: https://www.newswhip.com/2018/02/likes-comments-facebook/<br>"
   ]
  },
  {
   "cell_type": "markdown",
   "metadata": {},
   "source": [
    "<img src=\"../misc/Popular_post_Gold.png\" width=\"400\">"
   ]
  },
  {
   "cell_type": "markdown",
   "metadata": {},
   "source": [
    "#### Popular post tiles in Silver\n",
    "Visualisation performed in Tableau\n",
    "\n",
    "This graph is based on silver subbreddit columns (title, num_comments and ups)<br>\n",
    "\n",
    "<u>Relevant phrases</u><br>\n",
    "Silverbugs phrases are more sparse an random (convid bar, cash random etc),<br> \n",
    "seemingly, going off-topic. There us only 1 bar in Sliverbug that mentions ‘stack’<br>"
   ]
  },
  {
   "cell_type": "markdown",
   "metadata": {},
   "source": [
    "<img src=\"../misc/popular_sil_post.png\" width=\"400\">"
   ]
  },
  {
   "cell_type": "markdown",
   "metadata": {},
   "source": [
    "#### Trends on post body(selftext)\n",
    "\n",
    "Visualisation performed in Tableau\n",
    "\n",
    "I re-visited the numbers of null values found in previous notebook during data pre-processing<br>\n",
    "Generally, more than half of the post have empty content inside the post body<br>\n",
    "<br>\n",
    "It is by far very common for many social media site's users to share sharing videos and images<br>\n",
    "This is a prevalent form of 'passive interaction'"
   ]
  },
  {
   "cell_type": "code",
   "execution_count": 35,
   "metadata": {},
   "outputs": [
    {
     "name": "stdout",
     "output_type": "stream",
     "text": [
      "Ratio of null values in gold subreddit post_body: 0.51\n",
      "Ratio of null values in silver subreddit post_body: 0.71\n"
     ]
    }
   ],
   "source": [
    "#Info extracted from :\n",
    "#Null values in gold subreddit post_body:443\n",
    "#Null values in silver reddit post_body:737\n",
    "\n",
    "gold_ratio = round(443/gold.shape[0],2)\n",
    "sil_ratio = round(737/silver.shape[0],2)\n",
    "\n",
    "print(\"Ratio of null values in gold subreddit post_body: \" + str(gold_ratio))\n",
    "print(\"Ratio of null values in silver subreddit post_body: \" + str(sil_ratio))"
   ]
  },
  {
   "cell_type": "markdown",
   "metadata": {},
   "source": [
    "<img src=\"../misc/total_vs_null.jpg\" width=\"400\">"
   ]
  },
  {
   "cell_type": "markdown",
   "metadata": {},
   "source": [
    "<a id='blob'></a>\n",
    "### <u>Quick Sentiment Analysis with TextBlob</u>\n",
    "\n",
    "`Observation`: We can see the output is categorized between two — `Polarity` and `Subjectivity`.<br>\n",
    "\n",
    "`Polarity` is a float value within the range [-1.0 to 1.0] <br>\n",
    "where 0 indicates neutral, +1 indicates a very positive sentiment and -1 represents a very negative sentiment.<br>\n",
    "\n",
    "`Subjectivity` is a float value within the range [0.0 to 1.0] <br>\n",
    "where 0.0 is very objective and 1.0 is very subjective. <br>\n",
    "Subjective sentence expresses some personal feelings, views, beliefs, opinions, allegations, <br>\n",
    "desires, beliefs, suspicions, and speculations where as Objective sentences are factual.\n",
    "\n",
    "https://medium.com/@rahulvaish/textblob-and-sentiment-analysis-python-a687e9fabe96"
   ]
  },
  {
   "cell_type": "code",
   "execution_count": 36,
   "metadata": {},
   "outputs": [],
   "source": [
    "# Creating temp dataframes for conversion to strings\n",
    "gold_df_tmp = gold[['post_body','comments']]\n",
    "silver_df_tmp = silver[['post_body','comments']]"
   ]
  },
  {
   "cell_type": "code",
   "execution_count": 37,
   "metadata": {},
   "outputs": [],
   "source": [
    "# Dataframes to string\n",
    "gold_string = gold_df_tmp.to_string()\n",
    "silver_string = silver_df_tmp.to_string()"
   ]
  },
  {
   "cell_type": "code",
   "execution_count": 38,
   "metadata": {},
   "outputs": [],
   "source": [
    "# Tokenization, break TextBlobs into words or sentences\n",
    "blob_gold = TextBlob(gold_string)\n",
    "blob_silver = TextBlob(silver_string)"
   ]
  },
  {
   "cell_type": "code",
   "execution_count": 39,
   "metadata": {},
   "outputs": [
    {
     "data": {
      "text/plain": [
       "Sentiment(polarity=0.1421180268295645, subjectivity=0.43729097950251755)"
      ]
     },
     "execution_count": 39,
     "metadata": {},
     "output_type": "execute_result"
    }
   ],
   "source": [
    "# sentiment property returns a named tuple of the form Sentiment(polarity, subjectivity)\n",
    "gold_polarity = blob_gold.sentiment.polarity\n",
    "gold_subjectivity = blob_gold.sentiment.subjectivity\n",
    "blob_gold.sentiment"
   ]
  },
  {
   "cell_type": "code",
   "execution_count": 40,
   "metadata": {},
   "outputs": [
    {
     "data": {
      "text/plain": [
       "Sentiment(polarity=0.12255370618585883, subjectivity=0.4686013397654004)"
      ]
     },
     "execution_count": 40,
     "metadata": {},
     "output_type": "execute_result"
    }
   ],
   "source": [
    "# sentiment property returns a named tuple of the form Sentiment(polarity, subjectivity)\n",
    "silver_polarity = blob_silver.sentiment.polarity\n",
    "silver_subjectivity = blob_silver.sentiment.subjectivity\n",
    "blob_silver.sentiment"
   ]
  },
  {
   "cell_type": "code",
   "execution_count": 41,
   "metadata": {},
   "outputs": [
    {
     "data": {
      "text/html": [
       "<div>\n",
       "<style scoped>\n",
       "    .dataframe tbody tr th:only-of-type {\n",
       "        vertical-align: middle;\n",
       "    }\n",
       "\n",
       "    .dataframe tbody tr th {\n",
       "        vertical-align: top;\n",
       "    }\n",
       "\n",
       "    .dataframe thead th {\n",
       "        text-align: right;\n",
       "    }\n",
       "</style>\n",
       "<table border=\"1\" class=\"dataframe\">\n",
       "  <thead>\n",
       "    <tr style=\"text-align: right;\">\n",
       "      <th></th>\n",
       "      <th>Type</th>\n",
       "      <th>polarity</th>\n",
       "      <th>subjectivity</th>\n",
       "    </tr>\n",
       "  </thead>\n",
       "  <tbody>\n",
       "    <tr>\n",
       "      <th>0</th>\n",
       "      <td>Gold</td>\n",
       "      <td>0.142118</td>\n",
       "      <td>0.437291</td>\n",
       "    </tr>\n",
       "    <tr>\n",
       "      <th>1</th>\n",
       "      <td>Silver</td>\n",
       "      <td>0.122554</td>\n",
       "      <td>0.468601</td>\n",
       "    </tr>\n",
       "  </tbody>\n",
       "</table>\n",
       "</div>"
      ],
      "text/plain": [
       "     Type  polarity  subjectivity\n",
       "0    Gold  0.142118      0.437291\n",
       "1  Silver  0.122554      0.468601"
      ]
     },
     "execution_count": 41,
     "metadata": {},
     "output_type": "execute_result"
    }
   ],
   "source": [
    "data = [['Gold',gold_polarity,gold_subjectivity],['Silver',silver_polarity,silver_subjectivity]]\n",
    "df = pd.DataFrame(data,columns=['Type','polarity','subjectivity'])\n",
    "df.head()"
   ]
  },
  {
   "cell_type": "code",
   "execution_count": 42,
   "metadata": {},
   "outputs": [
    {
     "data": {
      "text/plain": [
       "<matplotlib.axes._subplots.AxesSubplot at 0x28614155e08>"
      ]
     },
     "execution_count": 42,
     "metadata": {},
     "output_type": "execute_result"
    },
    {
     "data": {
      "image/png": "[encoded data removed]",
      "text/plain": [
       "<Figure size 864x360 with 2 Axes>"
      ]
     },
     "metadata": {},
     "output_type": "display_data"
    }
   ],
   "source": [
    "fig, ax =plt.subplots(1,2, figsize=(12, 5))\n",
    "sns.barplot(x='Type', y='polarity', data=df, ax=ax[0])\n",
    "sns.barplot(x='Type', y='subjectivity', data=df, ax=ax[1])"
   ]
  }
 ],
 "metadata": {
  "kernelspec": {
   "display_name": "Python 3",
   "language": "python",
   "name": "python3"
  },
  "language_info": {
   "codemirror_mode": {
    "name": "ipython",
    "version": 3
   },
   "file_extension": ".py",
   "mimetype": "text/x-python",
   "name": "python",
   "nbconvert_exporter": "python",
   "pygments_lexer": "ipython3",
   "version": "3.7.6"
  }
 },
 "nbformat": 4,
 "nbformat_minor": 4
}
